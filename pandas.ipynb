{
 "cells": [
  {
   "cell_type": "code",
   "execution_count": 24,
   "metadata": {
    "collapsed": true
   },
   "outputs": [
    {
     "name": "stdout",
     "output_type": "stream",
     "text": [
      "Mean runtime with numpy: 0.0001078199999028584\n",
      "Mean runtime with allocation and iteratively: 0.22861124000010022\n",
      "Mean runtime iteratively: 0.21736440000004223\n"
     ]
    },
    {
     "data": {
      "text/plain": "2120.3045836214988"
     },
     "execution_count": 24,
     "metadata": {},
     "output_type": "execute_result"
    }
   ],
   "source": [
    "import numpy as np\n",
    "import timeit\n",
    "\n",
    "def double_mat():\n",
    "    global mat\n",
    "    return mat*2\n",
    "\n",
    "def double_df_mat_alloc():\n",
    "    global mat\n",
    "    (dimx, dimy) = mat.shape\n",
    "    new_mat = np.zeros([dimx,dimy])\n",
    "    for i in range(dimx):\n",
    "        for j in range(dimy):\n",
    "            new_mat[i][j] = mat[i][j]*2\n",
    "    return new_mat\n",
    "\n",
    "def double_df_mat():\n",
    "    global mat\n",
    "    (dimx, dimy) = mat.shape\n",
    "\n",
    "    for i in range(dimx):\n",
    "        for j in range(dimy):\n",
    "            mat[i][j] = mat[i][j]*2\n",
    "    return mat\n",
    "\n",
    "mat = np.random.rand(100,1000)\n",
    "runtime_np = timeit.repeat(double_mat, number=2, repeat=5)\n",
    "runtime_it_alloc = timeit.repeat(double_df_mat_alloc, number=2, repeat=5)\n",
    "runtime_it = timeit.repeat(double_df_mat, number=2, repeat=5)\n",
    "print(f'Mean runtime with numpy: {np.array(runtime_np).mean()}')\n",
    "print(f'Mean runtime with allocation and iteratively: {np.array(runtime_it_alloc).mean()}')\n",
    "print(f'Mean runtime iteratively: {np.array(runtime_it).mean()}')\n",
    "np.array(runtime_it_alloc).mean() / np.array(runtime_np).mean()"
   ]
  },
  {
   "cell_type": "code",
   "execution_count": 38,
   "outputs": [
    {
     "name": "stdout",
     "output_type": "stream",
     "text": [
      "   Fabian  Vivien  Mimi\n",
      "0     0.2     0.3   0.8\n",
      "1   100.0    80.0  85.0\n",
      "2    88.0    68.0   8.0\n"
     ]
    },
    {
     "data": {
      "text/plain": "Fabian    88.0\nVivien    68.0\nMimi       8.0\ndtype: float64"
     },
     "execution_count": 38,
     "metadata": {},
     "output_type": "execute_result"
    }
   ],
   "source": [
    "import pandas as pd\n",
    "\n",
    "df = pd.DataFrame({\n",
    "    'Fabian': [0.2, 100, 88],\n",
    "    'Vivien': [0.3, 80, 68],\n",
    "    'Mimi': [0.8, 85, 8]\n",
    "})\n",
    "print(df.head())\n",
    "rows = [0, 2]\n",
    "\n",
    "df.apply(lambda x: np.max(x[rows]), axis=0).head()"
   ],
   "metadata": {
    "collapsed": false,
    "pycharm": {
     "name": "#%%\n"
    }
   }
  },
  {
   "cell_type": "code",
   "execution_count": 39,
   "outputs": [
    {
     "name": "stdout",
     "output_type": "stream",
     "text": [
      "   Fabian  Vivien  Mimi\n",
      "0     0.2     0.3   0.8\n",
      "1   100.0    80.0  85.0\n",
      "2    88.0    68.0   8.0\n"
     ]
    },
    {
     "data": {
      "text/plain": "Fabian    100.0\nVivien     80.0\nMimi       85.0\ndtype: float64"
     },
     "execution_count": 39,
     "metadata": {},
     "output_type": "execute_result"
    }
   ],
   "source": [
    "import pandas as pd\n",
    "\n",
    "df = pd.DataFrame({\n",
    "    'Fabian': [0.2, 100, 88],\n",
    "    'Vivien': [0.3, 80, 68],\n",
    "    'Mimi': [0.8, 85, 8]\n",
    "})\n",
    "print(df.head())\n",
    "\n",
    "df.apply(lambda x: np.max(x), axis=0).head()\n"
   ],
   "metadata": {
    "collapsed": false,
    "pycharm": {
     "name": "#%%\n"
    }
   }
  },
  {
   "cell_type": "code",
   "execution_count": null,
   "outputs": [],
   "source": [],
   "metadata": {
    "collapsed": false,
    "pycharm": {
     "name": "#%%\n"
    }
   }
  },
  {
   "cell_type": "code",
   "execution_count": null,
   "outputs": [],
   "source": [],
   "metadata": {
    "collapsed": false,
    "pycharm": {
     "name": "#%%\n"
    }
   }
  },
  {
   "cell_type": "code",
   "execution_count": null,
   "outputs": [],
   "source": [],
   "metadata": {
    "collapsed": false,
    "pycharm": {
     "name": "#%%\n"
    }
   }
  },
  {
   "cell_type": "code",
   "execution_count": null,
   "outputs": [],
   "source": [],
   "metadata": {
    "collapsed": false,
    "pycharm": {
     "name": "#%%\n"
    }
   }
  }
 ],
 "metadata": {
  "kernelspec": {
   "display_name": "Python 3",
   "language": "python",
   "name": "python3"
  },
  "language_info": {
   "codemirror_mode": {
    "name": "ipython",
    "version": 2
   },
   "file_extension": ".py",
   "mimetype": "text/x-python",
   "name": "python",
   "nbconvert_exporter": "python",
   "pygments_lexer": "ipython2",
   "version": "2.7.6"
  }
 },
 "nbformat": 4,
 "nbformat_minor": 0
}