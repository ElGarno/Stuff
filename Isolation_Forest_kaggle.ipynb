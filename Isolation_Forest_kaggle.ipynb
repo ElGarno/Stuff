{
 "cells": [
  {
   "cell_type": "code",
   "execution_count": 1,
   "id": "3dc3b23d",
   "metadata": {
    "_cell_guid": "b1076dfc-b9ad-4769-8c92-a6c4dae69d19",
    "_uuid": "8f2839f25d086af736a60e9eeb907d3b93b6e0e5",
    "execution": {
     "iopub.execute_input": "2021-12-18T11:21:10.668735Z",
     "iopub.status.busy": "2021-12-18T11:21:10.668009Z",
     "iopub.status.idle": "2021-12-18T11:21:10.682610Z",
     "shell.execute_reply": "2021-12-18T11:21:10.683067Z",
     "shell.execute_reply.started": "2021-12-18T10:06:36.771915Z"
    },
    "papermill": {
     "duration": 0.062849,
     "end_time": "2021-12-18T11:21:10.683342",
     "exception": false,
     "start_time": "2021-12-18T11:21:10.620493",
     "status": "completed"
    },
    "tags": []
   },
   "outputs": [
    {
     "name": "stdout",
     "output_type": "stream",
     "text": [
      "/kaggle/input/fraud-detection/synth_composite.csv\n"
     ]
    }
   ],
   "source": [
    "# This Python 3 environment comes with many helpful analytics libraries installed\n",
    "# It is defined by the kaggle/python Docker image: https://github.com/kaggle/docker-python\n",
    "# For example, here's several helpful packages to load\n",
    "\n",
    "import numpy as np # linear algebra\n",
    "import pandas as pd # data processing, CSV file I/O (e.g. pd.read_csv)\n",
    "\n",
    "# Input data files are available in the read-only \"../input/\" directory\n",
    "# For example, running this (by clicking run or pressing Shift+Enter) will list all files under the input directory\n",
    "\n",
    "import os\n",
    "for dirname, _, filenames in os.walk('/kaggle/input'):\n",
    "    for filename in filenames:\n",
    "        print(os.path.join(dirname, filename))\n",
    "\n",
    "# You can write up to 20GB to the current directory (/kaggle/working/) that gets preserved as output when you create a version using \"Save & Run All\" \n",
    "# You can also write temporary files to /kaggle/temp/, but they won't be saved outside of the current session\n"
   ]
  },
  {
   "cell_type": "markdown",
   "id": "bf68a3c9",
   "metadata": {
    "papermill": {
     "duration": 0.024506,
     "end_time": "2021-12-18T11:21:10.737522",
     "exception": false,
     "start_time": "2021-12-18T11:21:10.713016",
     "status": "completed"
    },
    "tags": []
   },
   "source": [
    "## Import Libraries"
   ]
  },
  {
   "cell_type": "code",
   "execution_count": 2,
   "id": "def9ca92",
   "metadata": {
    "execution": {
     "iopub.execute_input": "2021-12-18T11:21:10.791887Z",
     "iopub.status.busy": "2021-12-18T11:21:10.791255Z",
     "iopub.status.idle": "2021-12-18T11:21:11.910548Z",
     "shell.execute_reply": "2021-12-18T11:21:11.909421Z",
     "shell.execute_reply.started": "2021-12-18T10:06:36.812769Z"
    },
    "papermill": {
     "duration": 1.148729,
     "end_time": "2021-12-18T11:21:11.910803",
     "exception": false,
     "start_time": "2021-12-18T11:21:10.762074",
     "status": "completed"
    },
    "tags": []
   },
   "outputs": [],
   "source": [
    "import matplotlib.pyplot as plt\n",
    "import seaborn as sns\n",
    "from sklearn.preprocessing import LabelEncoder\n",
    "\n",
    "sns.set_theme()\n",
    "sns.set_style(\"darkgrid\")"
   ]
  },
  {
   "cell_type": "markdown",
   "id": "a6cc3cae",
   "metadata": {
    "papermill": {
     "duration": 0.032462,
     "end_time": "2021-12-18T11:21:11.979556",
     "exception": false,
     "start_time": "2021-12-18T11:21:11.947094",
     "status": "completed"
    },
    "tags": []
   },
   "source": [
    "## Load dataset"
   ]
  },
  {
   "cell_type": "code",
   "execution_count": 3,
   "id": "55de3b9c",
   "metadata": {
    "execution": {
     "iopub.execute_input": "2021-12-18T11:21:12.044072Z",
     "iopub.status.busy": "2021-12-18T11:21:12.043473Z",
     "iopub.status.idle": "2021-12-18T11:21:35.833975Z",
     "shell.execute_reply": "2021-12-18T11:21:35.833061Z",
     "shell.execute_reply.started": "2021-12-18T10:06:37.967800Z"
    },
    "papermill": {
     "duration": 23.82541,
     "end_time": "2021-12-18T11:21:35.834116",
     "exception": false,
     "start_time": "2021-12-18T11:21:12.008706",
     "status": "completed"
    },
    "tags": []
   },
   "outputs": [],
   "source": [
    "df = pd.read_csv('../input/fraud-detection/synth_composite.csv')"
   ]
  },
  {
   "cell_type": "markdown",
   "id": "e4731729",
   "metadata": {
    "papermill": {
     "duration": 0.024044,
     "end_time": "2021-12-18T11:21:35.882828",
     "exception": false,
     "start_time": "2021-12-18T11:21:35.858784",
     "status": "completed"
    },
    "tags": []
   },
   "source": [
    "### Show some stats"
   ]
  },
  {
   "cell_type": "code",
   "execution_count": 4,
   "id": "5a93bfb2",
   "metadata": {
    "execution": {
     "iopub.execute_input": "2021-12-18T11:21:35.942414Z",
     "iopub.status.busy": "2021-12-18T11:21:35.941764Z",
     "iopub.status.idle": "2021-12-18T11:21:35.959044Z",
     "shell.execute_reply": "2021-12-18T11:21:35.959488Z",
     "shell.execute_reply.started": "2021-12-18T10:07:04.180849Z"
    },
    "papermill": {
     "duration": 0.050456,
     "end_time": "2021-12-18T11:21:35.959644",
     "exception": false,
     "start_time": "2021-12-18T11:21:35.909188",
     "status": "completed"
    },
    "tags": []
   },
   "outputs": [
    {
     "data": {
      "text/html": [
       "<div>\n",
       "<style scoped>\n",
       "    .dataframe tbody tr th:only-of-type {\n",
       "        vertical-align: middle;\n",
       "    }\n",
       "\n",
       "    .dataframe tbody tr th {\n",
       "        vertical-align: top;\n",
       "    }\n",
       "\n",
       "    .dataframe thead th {\n",
       "        text-align: right;\n",
       "    }\n",
       "</style>\n",
       "<table border=\"1\" class=\"dataframe\">\n",
       "  <thead>\n",
       "    <tr style=\"text-align: right;\">\n",
       "      <th></th>\n",
       "      <th>step</th>\n",
       "      <th>type</th>\n",
       "      <th>amount</th>\n",
       "      <th>nameOrig</th>\n",
       "      <th>oldbalanceOrg</th>\n",
       "      <th>newbalanceOrig</th>\n",
       "      <th>nameDest</th>\n",
       "      <th>oldbalanceDest</th>\n",
       "      <th>newbalanceDest</th>\n",
       "      <th>isFraud</th>\n",
       "      <th>isFlaggedFraud</th>\n",
       "    </tr>\n",
       "  </thead>\n",
       "  <tbody>\n",
       "    <tr>\n",
       "      <th>0</th>\n",
       "      <td>211</td>\n",
       "      <td>CASH_OUT</td>\n",
       "      <td>184185.755277</td>\n",
       "      <td>160_2696646_0</td>\n",
       "      <td>203108.476051</td>\n",
       "      <td>18922.720773</td>\n",
       "      <td>160_901564_0</td>\n",
       "      <td>1.019994e+06</td>\n",
       "      <td>1.204127e+06</td>\n",
       "      <td>0</td>\n",
       "      <td>0</td>\n",
       "    </tr>\n",
       "    <tr>\n",
       "      <th>1</th>\n",
       "      <td>394</td>\n",
       "      <td>CASH_OUT</td>\n",
       "      <td>237093.196009</td>\n",
       "      <td>160_5585569_0</td>\n",
       "      <td>382707.464238</td>\n",
       "      <td>145614.268230</td>\n",
       "      <td>160_1586945_0</td>\n",
       "      <td>5.870893e+05</td>\n",
       "      <td>8.243203e+05</td>\n",
       "      <td>0</td>\n",
       "      <td>0</td>\n",
       "    </tr>\n",
       "    <tr>\n",
       "      <th>2</th>\n",
       "      <td>306</td>\n",
       "      <td>CASH_IN</td>\n",
       "      <td>163600.518794</td>\n",
       "      <td>160_4221372_0</td>\n",
       "      <td>3093.431169</td>\n",
       "      <td>0.000000</td>\n",
       "      <td>160_1701821_0</td>\n",
       "      <td>6.534538e+05</td>\n",
       "      <td>4.901219e+05</td>\n",
       "      <td>0</td>\n",
       "      <td>0</td>\n",
       "    </tr>\n",
       "    <tr>\n",
       "      <th>3</th>\n",
       "      <td>235</td>\n",
       "      <td>PAYMENT</td>\n",
       "      <td>7625.866018</td>\n",
       "      <td>160_3064357_0</td>\n",
       "      <td>74630.853812</td>\n",
       "      <td>67004.987793</td>\n",
       "      <td>160_1304279_0</td>\n",
       "      <td>1.666019e+01</td>\n",
       "      <td>1.362096e+01</td>\n",
       "      <td>0</td>\n",
       "      <td>0</td>\n",
       "    </tr>\n",
       "    <tr>\n",
       "      <th>4</th>\n",
       "      <td>235</td>\n",
       "      <td>PAYMENT</td>\n",
       "      <td>7866.992466</td>\n",
       "      <td>160_5544127_0</td>\n",
       "      <td>74632.326454</td>\n",
       "      <td>66765.333988</td>\n",
       "      <td>160_2370260_0</td>\n",
       "      <td>5.390545e+00</td>\n",
       "      <td>9.820910e+00</td>\n",
       "      <td>0</td>\n",
       "      <td>0</td>\n",
       "    </tr>\n",
       "    <tr>\n",
       "      <th>5</th>\n",
       "      <td>493</td>\n",
       "      <td>CASH_OUT</td>\n",
       "      <td>281403.795998</td>\n",
       "      <td>160_6037426_0</td>\n",
       "      <td>42235.923347</td>\n",
       "      <td>0.000000</td>\n",
       "      <td>160_2092767_0</td>\n",
       "      <td>5.880235e+05</td>\n",
       "      <td>8.693219e+05</td>\n",
       "      <td>0</td>\n",
       "      <td>0</td>\n",
       "    </tr>\n",
       "    <tr>\n",
       "      <th>6</th>\n",
       "      <td>18</td>\n",
       "      <td>PAYMENT</td>\n",
       "      <td>4355.986182</td>\n",
       "      <td>160_400626_0</td>\n",
       "      <td>56160.034248</td>\n",
       "      <td>51804.048066</td>\n",
       "      <td>160_175474_0</td>\n",
       "      <td>8.496485e+00</td>\n",
       "      <td>1.078249e+01</td>\n",
       "      <td>0</td>\n",
       "      <td>0</td>\n",
       "    </tr>\n",
       "    <tr>\n",
       "      <th>7</th>\n",
       "      <td>550</td>\n",
       "      <td>CASH_IN</td>\n",
       "      <td>102079.164541</td>\n",
       "      <td>160_6146482_0</td>\n",
       "      <td>15781.717821</td>\n",
       "      <td>0.000000</td>\n",
       "      <td>160_354507_0</td>\n",
       "      <td>4.064748e+06</td>\n",
       "      <td>3.962757e+06</td>\n",
       "      <td>0</td>\n",
       "      <td>0</td>\n",
       "    </tr>\n",
       "    <tr>\n",
       "      <th>8</th>\n",
       "      <td>284</td>\n",
       "      <td>CASH_OUT</td>\n",
       "      <td>144074.648278</td>\n",
       "      <td>160_3889478_0</td>\n",
       "      <td>197270.864524</td>\n",
       "      <td>53196.216246</td>\n",
       "      <td>160_1089660_0</td>\n",
       "      <td>1.097389e+06</td>\n",
       "      <td>1.241346e+06</td>\n",
       "      <td>0</td>\n",
       "      <td>0</td>\n",
       "    </tr>\n",
       "    <tr>\n",
       "      <th>9</th>\n",
       "      <td>132</td>\n",
       "      <td>CASH_OUT</td>\n",
       "      <td>142367.900524</td>\n",
       "      <td>160_1163767_0</td>\n",
       "      <td>0.185064</td>\n",
       "      <td>0.000000</td>\n",
       "      <td>160_29365_0</td>\n",
       "      <td>2.424877e+06</td>\n",
       "      <td>2.567106e+06</td>\n",
       "      <td>0</td>\n",
       "      <td>0</td>\n",
       "    </tr>\n",
       "  </tbody>\n",
       "</table>\n",
       "</div>"
      ],
      "text/plain": [
       "   step      type         amount       nameOrig  oldbalanceOrg  \\\n",
       "0   211  CASH_OUT  184185.755277  160_2696646_0  203108.476051   \n",
       "1   394  CASH_OUT  237093.196009  160_5585569_0  382707.464238   \n",
       "2   306   CASH_IN  163600.518794  160_4221372_0    3093.431169   \n",
       "3   235   PAYMENT    7625.866018  160_3064357_0   74630.853812   \n",
       "4   235   PAYMENT    7866.992466  160_5544127_0   74632.326454   \n",
       "5   493  CASH_OUT  281403.795998  160_6037426_0   42235.923347   \n",
       "6    18   PAYMENT    4355.986182   160_400626_0   56160.034248   \n",
       "7   550   CASH_IN  102079.164541  160_6146482_0   15781.717821   \n",
       "8   284  CASH_OUT  144074.648278  160_3889478_0  197270.864524   \n",
       "9   132  CASH_OUT  142367.900524  160_1163767_0       0.185064   \n",
       "\n",
       "   newbalanceOrig       nameDest  oldbalanceDest  newbalanceDest  isFraud  \\\n",
       "0    18922.720773   160_901564_0    1.019994e+06    1.204127e+06        0   \n",
       "1   145614.268230  160_1586945_0    5.870893e+05    8.243203e+05        0   \n",
       "2        0.000000  160_1701821_0    6.534538e+05    4.901219e+05        0   \n",
       "3    67004.987793  160_1304279_0    1.666019e+01    1.362096e+01        0   \n",
       "4    66765.333988  160_2370260_0    5.390545e+00    9.820910e+00        0   \n",
       "5        0.000000  160_2092767_0    5.880235e+05    8.693219e+05        0   \n",
       "6    51804.048066   160_175474_0    8.496485e+00    1.078249e+01        0   \n",
       "7        0.000000   160_354507_0    4.064748e+06    3.962757e+06        0   \n",
       "8    53196.216246  160_1089660_0    1.097389e+06    1.241346e+06        0   \n",
       "9        0.000000    160_29365_0    2.424877e+06    2.567106e+06        0   \n",
       "\n",
       "   isFlaggedFraud  \n",
       "0               0  \n",
       "1               0  \n",
       "2               0  \n",
       "3               0  \n",
       "4               0  \n",
       "5               0  \n",
       "6               0  \n",
       "7               0  \n",
       "8               0  \n",
       "9               0  "
      ]
     },
     "execution_count": 4,
     "metadata": {},
     "output_type": "execute_result"
    }
   ],
   "source": [
    "df.head(10)"
   ]
  },
  {
   "cell_type": "code",
   "execution_count": 5,
   "id": "204d14a8",
   "metadata": {
    "execution": {
     "iopub.execute_input": "2021-12-18T11:21:36.012998Z",
     "iopub.status.busy": "2021-12-18T11:21:36.012432Z",
     "iopub.status.idle": "2021-12-18T11:21:36.016846Z",
     "shell.execute_reply": "2021-12-18T11:21:36.017317Z",
     "shell.execute_reply.started": "2021-12-18T10:07:04.211551Z"
    },
    "papermill": {
     "duration": 0.032746,
     "end_time": "2021-12-18T11:21:36.017486",
     "exception": false,
     "start_time": "2021-12-18T11:21:35.984740",
     "status": "completed"
    },
    "tags": []
   },
   "outputs": [
    {
     "data": {
      "text/plain": [
       "(6362620, 11)"
      ]
     },
     "execution_count": 5,
     "metadata": {},
     "output_type": "execute_result"
    }
   ],
   "source": [
    "df.shape"
   ]
  },
  {
   "cell_type": "code",
   "execution_count": 6,
   "id": "113fccdb",
   "metadata": {
    "execution": {
     "iopub.execute_input": "2021-12-18T11:21:36.071604Z",
     "iopub.status.busy": "2021-12-18T11:21:36.070998Z",
     "iopub.status.idle": "2021-12-18T11:21:36.115791Z",
     "shell.execute_reply": "2021-12-18T11:21:36.116264Z",
     "shell.execute_reply.started": "2021-12-18T10:07:04.220491Z"
    },
    "papermill": {
     "duration": 0.07396,
     "end_time": "2021-12-18T11:21:36.116441",
     "exception": false,
     "start_time": "2021-12-18T11:21:36.042481",
     "status": "completed"
    },
    "tags": []
   },
   "outputs": [
    {
     "data": {
      "text/plain": [
       "0    6354407\n",
       "1       8213\n",
       "Name: isFraud, dtype: int64"
      ]
     },
     "execution_count": 6,
     "metadata": {},
     "output_type": "execute_result"
    }
   ],
   "source": [
    "df['isFraud'].value_counts()"
   ]
  },
  {
   "cell_type": "code",
   "execution_count": 7,
   "id": "c67f5585",
   "metadata": {
    "execution": {
     "iopub.execute_input": "2021-12-18T11:21:36.171355Z",
     "iopub.status.busy": "2021-12-18T11:21:36.170453Z",
     "iopub.status.idle": "2021-12-18T11:21:36.210269Z",
     "shell.execute_reply": "2021-12-18T11:21:36.209823Z",
     "shell.execute_reply.started": "2021-12-18T10:07:04.277305Z"
    },
    "papermill": {
     "duration": 0.068515,
     "end_time": "2021-12-18T11:21:36.210434",
     "exception": false,
     "start_time": "2021-12-18T11:21:36.141919",
     "status": "completed"
    },
    "tags": []
   },
   "outputs": [
    {
     "data": {
      "text/plain": [
       "0    6362606\n",
       "1         14\n",
       "Name: isFlaggedFraud, dtype: int64"
      ]
     },
     "execution_count": 7,
     "metadata": {},
     "output_type": "execute_result"
    }
   ],
   "source": [
    "df['isFlaggedFraud'].value_counts()"
   ]
  },
  {
   "cell_type": "code",
   "execution_count": 8,
   "id": "ac1342e2",
   "metadata": {
    "execution": {
     "iopub.execute_input": "2021-12-18T11:21:36.265162Z",
     "iopub.status.busy": "2021-12-18T11:21:36.264256Z",
     "iopub.status.idle": "2021-12-18T11:21:36.311151Z",
     "shell.execute_reply": "2021-12-18T11:21:36.311668Z",
     "shell.execute_reply.started": "2021-12-18T10:07:04.321583Z"
    },
    "papermill": {
     "duration": 0.075764,
     "end_time": "2021-12-18T11:21:36.311841",
     "exception": false,
     "start_time": "2021-12-18T11:21:36.236077",
     "status": "completed"
    },
    "tags": []
   },
   "outputs": [
    {
     "data": {
      "text/html": [
       "<div>\n",
       "<style scoped>\n",
       "    .dataframe tbody tr th:only-of-type {\n",
       "        vertical-align: middle;\n",
       "    }\n",
       "\n",
       "    .dataframe tbody tr th {\n",
       "        vertical-align: top;\n",
       "    }\n",
       "\n",
       "    .dataframe thead th {\n",
       "        text-align: right;\n",
       "    }\n",
       "</style>\n",
       "<table border=\"1\" class=\"dataframe\">\n",
       "  <thead>\n",
       "    <tr style=\"text-align: right;\">\n",
       "      <th></th>\n",
       "      <th>step</th>\n",
       "      <th>type</th>\n",
       "      <th>amount</th>\n",
       "      <th>nameOrig</th>\n",
       "      <th>oldbalanceOrg</th>\n",
       "      <th>newbalanceOrig</th>\n",
       "      <th>nameDest</th>\n",
       "      <th>oldbalanceDest</th>\n",
       "      <th>newbalanceDest</th>\n",
       "      <th>isFraud</th>\n",
       "      <th>isFlaggedFraud</th>\n",
       "    </tr>\n",
       "  </thead>\n",
       "  <tbody>\n",
       "    <tr>\n",
       "      <th>6354407</th>\n",
       "      <td>741</td>\n",
       "      <td>CASH_OUT</td>\n",
       "      <td>2.00</td>\n",
       "      <td>161_8178_0</td>\n",
       "      <td>-71.00</td>\n",
       "      <td>-73.0</td>\n",
       "      <td>161_8134_0</td>\n",
       "      <td>2.700696e+05</td>\n",
       "      <td>2.702828e+05</td>\n",
       "      <td>1</td>\n",
       "      <td>0</td>\n",
       "    </tr>\n",
       "    <tr>\n",
       "      <th>6354408</th>\n",
       "      <td>212</td>\n",
       "      <td>CASH_OUT</td>\n",
       "      <td>362998.52</td>\n",
       "      <td>161_2386_0</td>\n",
       "      <td>363050.52</td>\n",
       "      <td>52.0</td>\n",
       "      <td>161_2374_0</td>\n",
       "      <td>2.159733e+06</td>\n",
       "      <td>2.523959e+06</td>\n",
       "      <td>1</td>\n",
       "      <td>0</td>\n",
       "    </tr>\n",
       "    <tr>\n",
       "      <th>6354409</th>\n",
       "      <td>568</td>\n",
       "      <td>CASH_OUT</td>\n",
       "      <td>66187.66</td>\n",
       "      <td>161_6282_0</td>\n",
       "      <td>66125.66</td>\n",
       "      <td>-62.0</td>\n",
       "      <td>161_6251_0</td>\n",
       "      <td>7.177089e+05</td>\n",
       "      <td>7.832872e+05</td>\n",
       "      <td>1</td>\n",
       "      <td>0</td>\n",
       "    </tr>\n",
       "    <tr>\n",
       "      <th>6354410</th>\n",
       "      <td>15</td>\n",
       "      <td>CASH_OUT</td>\n",
       "      <td>696771.08</td>\n",
       "      <td>161_168_0</td>\n",
       "      <td>696771.08</td>\n",
       "      <td>0.0</td>\n",
       "      <td>161_167_0</td>\n",
       "      <td>3.688858e+05</td>\n",
       "      <td>1.351356e+06</td>\n",
       "      <td>1</td>\n",
       "      <td>0</td>\n",
       "    </tr>\n",
       "    <tr>\n",
       "      <th>6354411</th>\n",
       "      <td>501</td>\n",
       "      <td>CASH_OUT</td>\n",
       "      <td>73332.47</td>\n",
       "      <td>161_5584_0</td>\n",
       "      <td>73285.47</td>\n",
       "      <td>-47.0</td>\n",
       "      <td>161_5556_0</td>\n",
       "      <td>1.253682e+05</td>\n",
       "      <td>1.923281e+05</td>\n",
       "      <td>1</td>\n",
       "      <td>0</td>\n",
       "    </tr>\n",
       "    <tr>\n",
       "      <th>...</th>\n",
       "      <td>...</td>\n",
       "      <td>...</td>\n",
       "      <td>...</td>\n",
       "      <td>...</td>\n",
       "      <td>...</td>\n",
       "      <td>...</td>\n",
       "      <td>...</td>\n",
       "      <td>...</td>\n",
       "      <td>...</td>\n",
       "      <td>...</td>\n",
       "      <td>...</td>\n",
       "    </tr>\n",
       "    <tr>\n",
       "      <th>6362615</th>\n",
       "      <td>483</td>\n",
       "      <td>CASH_OUT</td>\n",
       "      <td>22982.73</td>\n",
       "      <td>161_5384_0</td>\n",
       "      <td>22981.73</td>\n",
       "      <td>-1.0</td>\n",
       "      <td>161_5356_0</td>\n",
       "      <td>3.279893e+06</td>\n",
       "      <td>3.304007e+06</td>\n",
       "      <td>1</td>\n",
       "      <td>0</td>\n",
       "    </tr>\n",
       "    <tr>\n",
       "      <th>6362616</th>\n",
       "      <td>214</td>\n",
       "      <td>CASH_OUT</td>\n",
       "      <td>1368390.50</td>\n",
       "      <td>161_2420_0</td>\n",
       "      <td>1368453.50</td>\n",
       "      <td>63.0</td>\n",
       "      <td>161_2408_0</td>\n",
       "      <td>2.589394e+05</td>\n",
       "      <td>1.624944e+06</td>\n",
       "      <td>1</td>\n",
       "      <td>0</td>\n",
       "    </tr>\n",
       "    <tr>\n",
       "      <th>6362617</th>\n",
       "      <td>679</td>\n",
       "      <td>CASH_OUT</td>\n",
       "      <td>3150440.28</td>\n",
       "      <td>161_7476_0</td>\n",
       "      <td>3150454.28</td>\n",
       "      <td>14.0</td>\n",
       "      <td>161_7437_0</td>\n",
       "      <td>6.372507e+03</td>\n",
       "      <td>3.157667e+06</td>\n",
       "      <td>1</td>\n",
       "      <td>0</td>\n",
       "    </tr>\n",
       "    <tr>\n",
       "      <th>6362618</th>\n",
       "      <td>482</td>\n",
       "      <td>CASH_OUT</td>\n",
       "      <td>75655.33</td>\n",
       "      <td>161_5366_0</td>\n",
       "      <td>75647.33</td>\n",
       "      <td>-8.0</td>\n",
       "      <td>161_5338_0</td>\n",
       "      <td>8.529471e+05</td>\n",
       "      <td>9.285452e+05</td>\n",
       "      <td>1</td>\n",
       "      <td>0</td>\n",
       "    </tr>\n",
       "    <tr>\n",
       "      <th>6362619</th>\n",
       "      <td>685</td>\n",
       "      <td>CASH_OUT</td>\n",
       "      <td>4886421.05</td>\n",
       "      <td>161_7534_0</td>\n",
       "      <td>4886450.05</td>\n",
       "      <td>29.0</td>\n",
       "      <td>161_7495_0</td>\n",
       "      <td>3.186239e+03</td>\n",
       "      <td>4.886829e+06</td>\n",
       "      <td>1</td>\n",
       "      <td>0</td>\n",
       "    </tr>\n",
       "  </tbody>\n",
       "</table>\n",
       "<p>8213 rows × 11 columns</p>\n",
       "</div>"
      ],
      "text/plain": [
       "         step      type      amount    nameOrig  oldbalanceOrg  \\\n",
       "6354407   741  CASH_OUT        2.00  161_8178_0         -71.00   \n",
       "6354408   212  CASH_OUT   362998.52  161_2386_0      363050.52   \n",
       "6354409   568  CASH_OUT    66187.66  161_6282_0       66125.66   \n",
       "6354410    15  CASH_OUT   696771.08   161_168_0      696771.08   \n",
       "6354411   501  CASH_OUT    73332.47  161_5584_0       73285.47   \n",
       "...       ...       ...         ...         ...            ...   \n",
       "6362615   483  CASH_OUT    22982.73  161_5384_0       22981.73   \n",
       "6362616   214  CASH_OUT  1368390.50  161_2420_0     1368453.50   \n",
       "6362617   679  CASH_OUT  3150440.28  161_7476_0     3150454.28   \n",
       "6362618   482  CASH_OUT    75655.33  161_5366_0       75647.33   \n",
       "6362619   685  CASH_OUT  4886421.05  161_7534_0     4886450.05   \n",
       "\n",
       "         newbalanceOrig    nameDest  oldbalanceDest  newbalanceDest  isFraud  \\\n",
       "6354407           -73.0  161_8134_0    2.700696e+05    2.702828e+05        1   \n",
       "6354408            52.0  161_2374_0    2.159733e+06    2.523959e+06        1   \n",
       "6354409           -62.0  161_6251_0    7.177089e+05    7.832872e+05        1   \n",
       "6354410             0.0   161_167_0    3.688858e+05    1.351356e+06        1   \n",
       "6354411           -47.0  161_5556_0    1.253682e+05    1.923281e+05        1   \n",
       "...                 ...         ...             ...             ...      ...   \n",
       "6362615            -1.0  161_5356_0    3.279893e+06    3.304007e+06        1   \n",
       "6362616            63.0  161_2408_0    2.589394e+05    1.624944e+06        1   \n",
       "6362617            14.0  161_7437_0    6.372507e+03    3.157667e+06        1   \n",
       "6362618            -8.0  161_5338_0    8.529471e+05    9.285452e+05        1   \n",
       "6362619            29.0  161_7495_0    3.186239e+03    4.886829e+06        1   \n",
       "\n",
       "         isFlaggedFraud  \n",
       "6354407               0  \n",
       "6354408               0  \n",
       "6354409               0  \n",
       "6354410               0  \n",
       "6354411               0  \n",
       "...                 ...  \n",
       "6362615               0  \n",
       "6362616               0  \n",
       "6362617               0  \n",
       "6362618               0  \n",
       "6362619               0  \n",
       "\n",
       "[8213 rows x 11 columns]"
      ]
     },
     "execution_count": 8,
     "metadata": {},
     "output_type": "execute_result"
    }
   ],
   "source": [
    "df[df['isFraud']==1]"
   ]
  },
  {
   "cell_type": "code",
   "execution_count": 9,
   "id": "b7097f05",
   "metadata": {
    "execution": {
     "iopub.execute_input": "2021-12-18T11:21:36.367772Z",
     "iopub.status.busy": "2021-12-18T11:21:36.366883Z",
     "iopub.status.idle": "2021-12-18T11:21:36.386186Z",
     "shell.execute_reply": "2021-12-18T11:21:36.386681Z",
     "shell.execute_reply.started": "2021-12-18T10:07:04.379521Z"
    },
    "papermill": {
     "duration": 0.048797,
     "end_time": "2021-12-18T11:21:36.386844",
     "exception": false,
     "start_time": "2021-12-18T11:21:36.338047",
     "status": "completed"
    },
    "tags": []
   },
   "outputs": [
    {
     "data": {
      "text/plain": [
       "8212"
      ]
     },
     "execution_count": 9,
     "metadata": {},
     "output_type": "execute_result"
    }
   ],
   "source": [
    "df[df['isFraud']==1].index[-1] - df[df['isFraud']==1].index[0]"
   ]
  },
  {
   "cell_type": "markdown",
   "id": "6586f049",
   "metadata": {
    "papermill": {
     "duration": 0.026163,
     "end_time": "2021-12-18T11:21:36.439549",
     "exception": false,
     "start_time": "2021-12-18T11:21:36.413386",
     "status": "completed"
    },
    "tags": []
   },
   "source": [
    "--> The last rows in the df are labeled as fraud"
   ]
  },
  {
   "cell_type": "code",
   "execution_count": 10,
   "id": "c9727823",
   "metadata": {
    "execution": {
     "iopub.execute_input": "2021-12-18T11:21:36.496096Z",
     "iopub.status.busy": "2021-12-18T11:21:36.495170Z",
     "iopub.status.idle": "2021-12-18T11:21:37.278643Z",
     "shell.execute_reply": "2021-12-18T11:21:37.278119Z",
     "shell.execute_reply.started": "2021-12-18T10:07:04.401970Z"
    },
    "papermill": {
     "duration": 0.812844,
     "end_time": "2021-12-18T11:21:37.278797",
     "exception": false,
     "start_time": "2021-12-18T11:21:36.465953",
     "status": "completed"
    },
    "tags": []
   },
   "outputs": [],
   "source": [
    "df_10 = df.sample(frac=0.1)"
   ]
  },
  {
   "cell_type": "code",
   "execution_count": 11,
   "id": "dbbbd2b2",
   "metadata": {
    "execution": {
     "iopub.execute_input": "2021-12-18T11:21:37.342086Z",
     "iopub.status.busy": "2021-12-18T11:21:37.341474Z",
     "iopub.status.idle": "2021-12-18T11:21:37.343753Z",
     "shell.execute_reply": "2021-12-18T11:21:37.344164Z",
     "shell.execute_reply.started": "2021-12-18T10:07:05.239076Z"
    },
    "papermill": {
     "duration": 0.039058,
     "end_time": "2021-12-18T11:21:37.344313",
     "exception": false,
     "start_time": "2021-12-18T11:21:37.305255",
     "status": "completed"
    },
    "tags": []
   },
   "outputs": [
    {
     "data": {
      "text/plain": [
       "0    635442\n",
       "1       820\n",
       "Name: isFraud, dtype: int64"
      ]
     },
     "execution_count": 11,
     "metadata": {},
     "output_type": "execute_result"
    }
   ],
   "source": [
    "df_10['isFraud'].value_counts()"
   ]
  },
  {
   "cell_type": "code",
   "execution_count": 12,
   "id": "f6a284e4",
   "metadata": {
    "execution": {
     "iopub.execute_input": "2021-12-18T11:21:37.400544Z",
     "iopub.status.busy": "2021-12-18T11:21:37.399985Z",
     "iopub.status.idle": "2021-12-18T11:21:37.412492Z",
     "shell.execute_reply": "2021-12-18T11:21:37.412908Z",
     "shell.execute_reply.started": "2021-12-18T10:07:05.252932Z"
    },
    "papermill": {
     "duration": 0.042062,
     "end_time": "2021-12-18T11:21:37.413068",
     "exception": false,
     "start_time": "2021-12-18T11:21:37.371006",
     "status": "completed"
    },
    "tags": []
   },
   "outputs": [
    {
     "data": {
      "text/html": [
       "<div>\n",
       "<style scoped>\n",
       "    .dataframe tbody tr th:only-of-type {\n",
       "        vertical-align: middle;\n",
       "    }\n",
       "\n",
       "    .dataframe tbody tr th {\n",
       "        vertical-align: top;\n",
       "    }\n",
       "\n",
       "    .dataframe thead th {\n",
       "        text-align: right;\n",
       "    }\n",
       "</style>\n",
       "<table border=\"1\" class=\"dataframe\">\n",
       "  <thead>\n",
       "    <tr style=\"text-align: right;\">\n",
       "      <th></th>\n",
       "      <th>step</th>\n",
       "      <th>type</th>\n",
       "      <th>amount</th>\n",
       "      <th>nameOrig</th>\n",
       "      <th>oldbalanceOrg</th>\n",
       "      <th>newbalanceOrig</th>\n",
       "      <th>nameDest</th>\n",
       "      <th>oldbalanceDest</th>\n",
       "      <th>newbalanceDest</th>\n",
       "      <th>isFraud</th>\n",
       "      <th>isFlaggedFraud</th>\n",
       "    </tr>\n",
       "  </thead>\n",
       "  <tbody>\n",
       "    <tr>\n",
       "      <th>1006707</th>\n",
       "      <td>201</td>\n",
       "      <td>CASH_IN</td>\n",
       "      <td>1722.006152</td>\n",
       "      <td>160_2394725_0</td>\n",
       "      <td>26378.959266</td>\n",
       "      <td>24656.953113</td>\n",
       "      <td>160_490347_0</td>\n",
       "      <td>2.587370e+05</td>\n",
       "      <td>2.567854e+05</td>\n",
       "      <td>0</td>\n",
       "      <td>0</td>\n",
       "    </tr>\n",
       "    <tr>\n",
       "      <th>4718626</th>\n",
       "      <td>253</td>\n",
       "      <td>CASH_OUT</td>\n",
       "      <td>340927.247981</td>\n",
       "      <td>160_3327061_0</td>\n",
       "      <td>19167.545421</td>\n",
       "      <td>0.000000</td>\n",
       "      <td>160_1419030_0</td>\n",
       "      <td>3.890267e+02</td>\n",
       "      <td>5.214401e+05</td>\n",
       "      <td>0</td>\n",
       "      <td>0</td>\n",
       "    </tr>\n",
       "    <tr>\n",
       "      <th>5736454</th>\n",
       "      <td>209</td>\n",
       "      <td>CASH_OUT</td>\n",
       "      <td>44220.257787</td>\n",
       "      <td>160_2629034_0</td>\n",
       "      <td>13290.242657</td>\n",
       "      <td>0.000000</td>\n",
       "      <td>160_1069177_0</td>\n",
       "      <td>1.118046e+06</td>\n",
       "      <td>1.162319e+06</td>\n",
       "      <td>0</td>\n",
       "      <td>0</td>\n",
       "    </tr>\n",
       "    <tr>\n",
       "      <th>3725647</th>\n",
       "      <td>264</td>\n",
       "      <td>PAYMENT</td>\n",
       "      <td>2262.526287</td>\n",
       "      <td>160_3601396_0</td>\n",
       "      <td>153605.345905</td>\n",
       "      <td>151342.819618</td>\n",
       "      <td>160_1538449_0</td>\n",
       "      <td>1.475819e+01</td>\n",
       "      <td>1.277277e+01</td>\n",
       "      <td>0</td>\n",
       "      <td>0</td>\n",
       "    </tr>\n",
       "    <tr>\n",
       "      <th>3944516</th>\n",
       "      <td>132</td>\n",
       "      <td>PAYMENT</td>\n",
       "      <td>7470.535759</td>\n",
       "      <td>160_2055500_0</td>\n",
       "      <td>1.042629</td>\n",
       "      <td>0.000000</td>\n",
       "      <td>160_874246_0</td>\n",
       "      <td>3.646751e+00</td>\n",
       "      <td>6.474714e+00</td>\n",
       "      <td>0</td>\n",
       "      <td>0</td>\n",
       "    </tr>\n",
       "  </tbody>\n",
       "</table>\n",
       "</div>"
      ],
      "text/plain": [
       "         step      type         amount       nameOrig  oldbalanceOrg  \\\n",
       "1006707   201   CASH_IN    1722.006152  160_2394725_0   26378.959266   \n",
       "4718626   253  CASH_OUT  340927.247981  160_3327061_0   19167.545421   \n",
       "5736454   209  CASH_OUT   44220.257787  160_2629034_0   13290.242657   \n",
       "3725647   264   PAYMENT    2262.526287  160_3601396_0  153605.345905   \n",
       "3944516   132   PAYMENT    7470.535759  160_2055500_0       1.042629   \n",
       "\n",
       "         newbalanceOrig       nameDest  oldbalanceDest  newbalanceDest  \\\n",
       "1006707    24656.953113   160_490347_0    2.587370e+05    2.567854e+05   \n",
       "4718626        0.000000  160_1419030_0    3.890267e+02    5.214401e+05   \n",
       "5736454        0.000000  160_1069177_0    1.118046e+06    1.162319e+06   \n",
       "3725647   151342.819618  160_1538449_0    1.475819e+01    1.277277e+01   \n",
       "3944516        0.000000   160_874246_0    3.646751e+00    6.474714e+00   \n",
       "\n",
       "         isFraud  isFlaggedFraud  \n",
       "1006707        0               0  \n",
       "4718626        0               0  \n",
       "5736454        0               0  \n",
       "3725647        0               0  \n",
       "3944516        0               0  "
      ]
     },
     "execution_count": 12,
     "metadata": {},
     "output_type": "execute_result"
    }
   ],
   "source": [
    "df_10.head()"
   ]
  },
  {
   "cell_type": "code",
   "execution_count": 13,
   "id": "51eeeef3",
   "metadata": {
    "execution": {
     "iopub.execute_input": "2021-12-18T11:21:37.470445Z",
     "iopub.status.busy": "2021-12-18T11:21:37.469890Z",
     "iopub.status.idle": "2021-12-18T11:21:37.518301Z",
     "shell.execute_reply": "2021-12-18T11:21:37.517851Z",
     "shell.execute_reply.started": "2021-12-18T10:07:05.281272Z"
    },
    "papermill": {
     "duration": 0.078242,
     "end_time": "2021-12-18T11:21:37.518454",
     "exception": false,
     "start_time": "2021-12-18T11:21:37.440212",
     "status": "completed"
    },
    "tags": []
   },
   "outputs": [
    {
     "data": {
      "text/plain": [
       "CASH_OUT    224158\n",
       "PAYMENT     214959\n",
       "CASH_IN     139460\n",
       "TRANSFER     53538\n",
       "DEBIT         4147\n",
       "Name: type, dtype: int64"
      ]
     },
     "execution_count": 13,
     "metadata": {},
     "output_type": "execute_result"
    }
   ],
   "source": [
    "df_10['type'].value_counts()"
   ]
  },
  {
   "cell_type": "code",
   "execution_count": 14,
   "id": "23091f93",
   "metadata": {
    "execution": {
     "iopub.execute_input": "2021-12-18T11:21:37.622148Z",
     "iopub.status.busy": "2021-12-18T11:21:37.621160Z",
     "iopub.status.idle": "2021-12-18T11:21:37.626948Z",
     "shell.execute_reply": "2021-12-18T11:21:37.626494Z",
     "shell.execute_reply.started": "2021-12-18T10:07:05.393924Z"
    },
    "papermill": {
     "duration": 0.081213,
     "end_time": "2021-12-18T11:21:37.627073",
     "exception": false,
     "start_time": "2021-12-18T11:21:37.545860",
     "status": "completed"
    },
    "tags": []
   },
   "outputs": [
    {
     "data": {
      "text/plain": [
       "Index(['CASH_OUT', 'PAYMENT', 'CASH_IN', 'TRANSFER', 'DEBIT'], dtype='object')"
      ]
     },
     "execution_count": 14,
     "metadata": {},
     "output_type": "execute_result"
    }
   ],
   "source": [
    "df_10['type'].value_counts().index"
   ]
  },
  {
   "cell_type": "code",
   "execution_count": 15,
   "id": "66e1d25b",
   "metadata": {
    "execution": {
     "iopub.execute_input": "2021-12-18T11:21:37.731459Z",
     "iopub.status.busy": "2021-12-18T11:21:37.730805Z",
     "iopub.status.idle": "2021-12-18T11:21:38.012046Z",
     "shell.execute_reply": "2021-12-18T11:21:38.012462Z",
     "shell.execute_reply.started": "2021-12-18T10:07:05.514732Z"
    },
    "papermill": {
     "duration": 0.357241,
     "end_time": "2021-12-18T11:21:38.012623",
     "exception": false,
     "start_time": "2021-12-18T11:21:37.655382",
     "status": "completed"
    },
    "tags": []
   },
   "outputs": [
    {
     "data": {
      "text/plain": [
       "Text(0.5, 1.0, 'Type of transaction')"
      ]
     },
     "execution_count": 15,
     "metadata": {},
     "output_type": "execute_result"
    },
    {
     "data": {
      "image/png": "[encoded data removed]",
      "text/plain": [
       "<Figure size 720x432 with 1 Axes>"
      ]
     },
     "metadata": {},
     "output_type": "display_data"
    }
   ],
   "source": [
    "fig = plt.figure(figsize=(10,6))\n",
    "x = df_10['type'].value_counts().index\n",
    "y = df_10['type'].value_counts()\n",
    "plt.bar(x,y)\n",
    "plt.title('Type of transaction')"
   ]
  },
  {
   "cell_type": "code",
   "execution_count": 16,
   "id": "0111704c",
   "metadata": {
    "execution": {
     "iopub.execute_input": "2021-12-18T11:21:38.074534Z",
     "iopub.status.busy": "2021-12-18T11:21:38.073953Z",
     "iopub.status.idle": "2021-12-18T11:21:38.339976Z",
     "shell.execute_reply": "2021-12-18T11:21:38.339433Z",
     "shell.execute_reply.started": "2021-12-18T10:07:06.000666Z"
    },
    "papermill": {
     "duration": 0.297972,
     "end_time": "2021-12-18T11:21:38.340098",
     "exception": false,
     "start_time": "2021-12-18T11:21:38.042126",
     "status": "completed"
    },
    "tags": []
   },
   "outputs": [
    {
     "data": {
      "text/plain": [
       "step              0\n",
       "type              0\n",
       "amount            0\n",
       "nameOrig          0\n",
       "oldbalanceOrg     0\n",
       "newbalanceOrig    0\n",
       "nameDest          0\n",
       "oldbalanceDest    0\n",
       "newbalanceDest    0\n",
       "isFraud           0\n",
       "isFlaggedFraud    0\n",
       "dtype: int64"
      ]
     },
     "execution_count": 16,
     "metadata": {},
     "output_type": "execute_result"
    }
   ],
   "source": [
    "df_10.isna().sum()"
   ]
  },
  {
   "cell_type": "code",
   "execution_count": 17,
   "id": "a9c42b89",
   "metadata": {
    "execution": {
     "iopub.execute_input": "2021-12-18T11:21:38.405010Z",
     "iopub.status.busy": "2021-12-18T11:21:38.404296Z",
     "iopub.status.idle": "2021-12-18T11:21:38.406678Z",
     "shell.execute_reply": "2021-12-18T11:21:38.407116Z",
     "shell.execute_reply.started": "2021-12-18T10:07:06.352246Z"
    },
    "papermill": {
     "duration": 0.038279,
     "end_time": "2021-12-18T11:21:38.407283",
     "exception": false,
     "start_time": "2021-12-18T11:21:38.369004",
     "status": "completed"
    },
    "tags": []
   },
   "outputs": [
    {
     "data": {
      "text/plain": [
       "step                int64\n",
       "type               object\n",
       "amount            float64\n",
       "nameOrig           object\n",
       "oldbalanceOrg     float64\n",
       "newbalanceOrig    float64\n",
       "nameDest           object\n",
       "oldbalanceDest    float64\n",
       "newbalanceDest    float64\n",
       "isFraud             int64\n",
       "isFlaggedFraud      int64\n",
       "dtype: object"
      ]
     },
     "execution_count": 17,
     "metadata": {},
     "output_type": "execute_result"
    }
   ],
   "source": [
    "df_10.dtypes"
   ]
  },
  {
   "cell_type": "code",
   "execution_count": 18,
   "id": "bdeb332a",
   "metadata": {
    "execution": {
     "iopub.execute_input": "2021-12-18T11:21:38.468891Z",
     "iopub.status.busy": "2021-12-18T11:21:38.468192Z",
     "iopub.status.idle": "2021-12-18T11:21:39.404410Z",
     "shell.execute_reply": "2021-12-18T11:21:39.403819Z",
     "shell.execute_reply.started": "2021-12-18T10:07:06.362438Z"
    },
    "papermill": {
     "duration": 0.967899,
     "end_time": "2021-12-18T11:21:39.404539",
     "exception": false,
     "start_time": "2021-12-18T11:21:38.436640",
     "status": "completed"
    },
    "tags": []
   },
   "outputs": [
    {
     "data": {
      "text/plain": [
       "160_3618328_0    2\n",
       "160_4814797_0    2\n",
       "160_349343_0     2\n",
       "160_3815546_0    2\n",
       "160_1091137_0    2\n",
       "                ..\n",
       "160_1335388_0    1\n",
       "160_2608843_0    1\n",
       "160_5865084_0    1\n",
       "160_6219866_0    1\n",
       "160_3329508_0    1\n",
       "Name: nameOrig, Length: 636180, dtype: int64"
      ]
     },
     "execution_count": 18,
     "metadata": {},
     "output_type": "execute_result"
    }
   ],
   "source": [
    "df_10['nameOrig'].value_counts()"
   ]
  },
  {
   "cell_type": "markdown",
   "id": "1f51c500",
   "metadata": {
    "papermill": {
     "duration": 0.029114,
     "end_time": "2021-12-18T11:21:39.463393",
     "exception": false,
     "start_time": "2021-12-18T11:21:39.434279",
     "status": "completed"
    },
    "tags": []
   },
   "source": [
    "### LabelEncode object typed columns to get numeric data for them"
   ]
  },
  {
   "cell_type": "code",
   "execution_count": 19,
   "id": "49df5646",
   "metadata": {
    "execution": {
     "iopub.execute_input": "2021-12-18T11:21:39.529496Z",
     "iopub.status.busy": "2021-12-18T11:21:39.528814Z",
     "iopub.status.idle": "2021-12-18T11:21:43.327039Z",
     "shell.execute_reply": "2021-12-18T11:21:43.326405Z",
     "shell.execute_reply.started": "2021-12-18T10:07:07.365183Z"
    },
    "papermill": {
     "duration": 3.834525,
     "end_time": "2021-12-18T11:21:43.327171",
     "exception": false,
     "start_time": "2021-12-18T11:21:39.492646",
     "status": "completed"
    },
    "tags": []
   },
   "outputs": [],
   "source": [
    "le = LabelEncoder()\n",
    "df_10_le = df_10.copy()\n",
    "\n",
    "for i_col in df_10_le.columns:\n",
    "    if df_10_le[i_col].dtype == \"object\":\n",
    "        labels = df_10_le[i_col].astype(str).values\n",
    "        le.fit(labels)\n",
    "        df_10_le[i_col] = le.transform(df_10_le[i_col])"
   ]
  },
  {
   "cell_type": "code",
   "execution_count": 20,
   "id": "72bbd1e0",
   "metadata": {
    "execution": {
     "iopub.execute_input": "2021-12-18T11:21:43.399190Z",
     "iopub.status.busy": "2021-12-18T11:21:43.398379Z",
     "iopub.status.idle": "2021-12-18T11:21:43.401496Z",
     "shell.execute_reply": "2021-12-18T11:21:43.401921Z",
     "shell.execute_reply.started": "2021-12-18T10:07:11.643629Z"
    },
    "papermill": {
     "duration": 0.045195,
     "end_time": "2021-12-18T11:21:43.402072",
     "exception": false,
     "start_time": "2021-12-18T11:21:43.356877",
     "status": "completed"
    },
    "tags": []
   },
   "outputs": [
    {
     "data": {
      "text/html": [
       "<div>\n",
       "<style scoped>\n",
       "    .dataframe tbody tr th:only-of-type {\n",
       "        vertical-align: middle;\n",
       "    }\n",
       "\n",
       "    .dataframe tbody tr th {\n",
       "        vertical-align: top;\n",
       "    }\n",
       "\n",
       "    .dataframe thead th {\n",
       "        text-align: right;\n",
       "    }\n",
       "</style>\n",
       "<table border=\"1\" class=\"dataframe\">\n",
       "  <thead>\n",
       "    <tr style=\"text-align: right;\">\n",
       "      <th></th>\n",
       "      <th>step</th>\n",
       "      <th>type</th>\n",
       "      <th>amount</th>\n",
       "      <th>nameOrig</th>\n",
       "      <th>oldbalanceOrg</th>\n",
       "      <th>newbalanceOrig</th>\n",
       "      <th>nameDest</th>\n",
       "      <th>oldbalanceDest</th>\n",
       "      <th>newbalanceDest</th>\n",
       "      <th>isFraud</th>\n",
       "      <th>isFlaggedFraud</th>\n",
       "    </tr>\n",
       "  </thead>\n",
       "  <tbody>\n",
       "    <tr>\n",
       "      <th>1006707</th>\n",
       "      <td>201</td>\n",
       "      <td>0</td>\n",
       "      <td>1722.006152</td>\n",
       "      <td>154543</td>\n",
       "      <td>26378.959266</td>\n",
       "      <td>24656.953113</td>\n",
       "      <td>338065</td>\n",
       "      <td>2.587370e+05</td>\n",
       "      <td>2.567854e+05</td>\n",
       "      <td>0</td>\n",
       "      <td>0</td>\n",
       "    </tr>\n",
       "    <tr>\n",
       "      <th>4718626</th>\n",
       "      <td>253</td>\n",
       "      <td>1</td>\n",
       "      <td>340927.247981</td>\n",
       "      <td>258817</td>\n",
       "      <td>19167.545421</td>\n",
       "      <td>0.000000</td>\n",
       "      <td>82663</td>\n",
       "      <td>3.890267e+02</td>\n",
       "      <td>5.214401e+05</td>\n",
       "      <td>0</td>\n",
       "      <td>0</td>\n",
       "    </tr>\n",
       "    <tr>\n",
       "      <th>5736454</th>\n",
       "      <td>209</td>\n",
       "      <td>1</td>\n",
       "      <td>44220.257787</td>\n",
       "      <td>180791</td>\n",
       "      <td>13290.242657</td>\n",
       "      <td>0.000000</td>\n",
       "      <td>14296</td>\n",
       "      <td>1.118046e+06</td>\n",
       "      <td>1.162319e+06</td>\n",
       "      <td>0</td>\n",
       "      <td>0</td>\n",
       "    </tr>\n",
       "    <tr>\n",
       "      <th>3725647</th>\n",
       "      <td>264</td>\n",
       "      <td>3</td>\n",
       "      <td>2262.526287</td>\n",
       "      <td>289462</td>\n",
       "      <td>153605.345905</td>\n",
       "      <td>151342.819618</td>\n",
       "      <td>104517</td>\n",
       "      <td>1.475819e+01</td>\n",
       "      <td>1.277277e+01</td>\n",
       "      <td>0</td>\n",
       "      <td>0</td>\n",
       "    </tr>\n",
       "    <tr>\n",
       "      <th>3944516</th>\n",
       "      <td>132</td>\n",
       "      <td>3</td>\n",
       "      <td>7470.535759</td>\n",
       "      <td>116872</td>\n",
       "      <td>1.042629</td>\n",
       "      <td>0.000000</td>\n",
       "      <td>429413</td>\n",
       "      <td>3.646751e+00</td>\n",
       "      <td>6.474714e+00</td>\n",
       "      <td>0</td>\n",
       "      <td>0</td>\n",
       "    </tr>\n",
       "  </tbody>\n",
       "</table>\n",
       "</div>"
      ],
      "text/plain": [
       "         step  type         amount  nameOrig  oldbalanceOrg  newbalanceOrig  \\\n",
       "1006707   201     0    1722.006152    154543   26378.959266    24656.953113   \n",
       "4718626   253     1  340927.247981    258817   19167.545421        0.000000   \n",
       "5736454   209     1   44220.257787    180791   13290.242657        0.000000   \n",
       "3725647   264     3    2262.526287    289462  153605.345905   151342.819618   \n",
       "3944516   132     3    7470.535759    116872       1.042629        0.000000   \n",
       "\n",
       "         nameDest  oldbalanceDest  newbalanceDest  isFraud  isFlaggedFraud  \n",
       "1006707    338065    2.587370e+05    2.567854e+05        0               0  \n",
       "4718626     82663    3.890267e+02    5.214401e+05        0               0  \n",
       "5736454     14296    1.118046e+06    1.162319e+06        0               0  \n",
       "3725647    104517    1.475819e+01    1.277277e+01        0               0  \n",
       "3944516    429413    3.646751e+00    6.474714e+00        0               0  "
      ]
     },
     "execution_count": 20,
     "metadata": {},
     "output_type": "execute_result"
    }
   ],
   "source": [
    "df_10_le.head()"
   ]
  },
  {
   "cell_type": "markdown",
   "id": "97d9d8b7",
   "metadata": {
    "papermill": {
     "duration": 0.029547,
     "end_time": "2021-12-18T11:21:43.461158",
     "exception": false,
     "start_time": "2021-12-18T11:21:43.431611",
     "status": "completed"
    },
    "tags": []
   },
   "source": [
    "## Import isolation forest"
   ]
  },
  {
   "cell_type": "code",
   "execution_count": 21,
   "id": "ee59d5d5",
   "metadata": {
    "execution": {
     "iopub.execute_input": "2021-12-18T11:21:43.525214Z",
     "iopub.status.busy": "2021-12-18T11:21:43.524339Z",
     "iopub.status.idle": "2021-12-18T11:21:43.764626Z",
     "shell.execute_reply": "2021-12-18T11:21:43.764086Z",
     "shell.execute_reply.started": "2021-12-18T10:07:11.662516Z"
    },
    "papermill": {
     "duration": 0.273826,
     "end_time": "2021-12-18T11:21:43.764755",
     "exception": false,
     "start_time": "2021-12-18T11:21:43.490929",
     "status": "completed"
    },
    "tags": []
   },
   "outputs": [],
   "source": [
    "from sklearn.ensemble import IsolationForest"
   ]
  },
  {
   "cell_type": "code",
   "execution_count": 22,
   "id": "eec826b1",
   "metadata": {
    "execution": {
     "iopub.execute_input": "2021-12-18T11:21:43.834506Z",
     "iopub.status.busy": "2021-12-18T11:21:43.832633Z",
     "iopub.status.idle": "2021-12-18T11:25:21.192685Z",
     "shell.execute_reply": "2021-12-18T11:25:21.192185Z",
     "shell.execute_reply.started": "2021-12-18T10:07:11.924806Z"
    },
    "papermill": {
     "duration": 217.39792,
     "end_time": "2021-12-18T11:25:21.192821",
     "exception": false,
     "start_time": "2021-12-18T11:21:43.794901",
     "status": "completed"
    },
    "tags": []
   },
   "outputs": [
    {
     "name": "stdout",
     "output_type": "stream",
     "text": [
      "CPU times: user 3min 12s, sys: 24.6 s, total: 3min 37s\n",
      "Wall time: 3min 37s\n"
     ]
    },
    {
     "data": {
      "text/plain": [
       "IsolationForest(contamination=0.01, n_estimators=1000)"
      ]
     },
     "execution_count": 22,
     "metadata": {},
     "output_type": "execute_result"
    }
   ],
   "source": [
    "%%time\n",
    "model = IsolationForest(contamination=0.01, n_estimators=1000)\n",
    "model.fit(df_10_le)"
   ]
  },
  {
   "cell_type": "markdown",
   "id": "d05aa1d6",
   "metadata": {
    "papermill": {
     "duration": 0.029831,
     "end_time": "2021-12-18T11:25:21.254980",
     "exception": false,
     "start_time": "2021-12-18T11:25:21.225149",
     "status": "completed"
    },
    "tags": []
   },
   "source": [
    "### Predict Outliers for current dataset"
   ]
  },
  {
   "cell_type": "code",
   "execution_count": 23,
   "id": "b5a0c0ef",
   "metadata": {
    "execution": {
     "iopub.execute_input": "2021-12-18T11:25:21.319017Z",
     "iopub.status.busy": "2021-12-18T11:25:21.318481Z",
     "iopub.status.idle": "2021-12-18T11:25:21.323801Z",
     "shell.execute_reply": "2021-12-18T11:25:21.324258Z",
     "shell.execute_reply.started": "2021-12-18T10:10:52.090948Z"
    },
    "papermill": {
     "duration": 0.03937,
     "end_time": "2021-12-18T11:25:21.324426",
     "exception": false,
     "start_time": "2021-12-18T11:25:21.285056",
     "status": "completed"
    },
    "tags": []
   },
   "outputs": [],
   "source": [
    "df_10.reset_index(inplace=True)"
   ]
  },
  {
   "cell_type": "code",
   "execution_count": 24,
   "id": "91f6beb6",
   "metadata": {
    "execution": {
     "iopub.execute_input": "2021-12-18T11:25:21.387913Z",
     "iopub.status.busy": "2021-12-18T11:25:21.387384Z",
     "iopub.status.idle": "2021-12-18T11:28:29.060506Z",
     "shell.execute_reply": "2021-12-18T11:28:29.061044Z",
     "shell.execute_reply.started": "2021-12-18T10:10:52.099943Z"
    },
    "papermill": {
     "duration": 187.706614,
     "end_time": "2021-12-18T11:28:29.061410",
     "exception": false,
     "start_time": "2021-12-18T11:25:21.354796",
     "status": "completed"
    },
    "tags": []
   },
   "outputs": [
    {
     "data": {
      "text/plain": [
       " 1    629899\n",
       "-1      6363\n",
       "Name: iForest, dtype: int64"
      ]
     },
     "execution_count": 24,
     "metadata": {},
     "output_type": "execute_result"
    }
   ],
   "source": [
    "df_10['iForest'] = pd.Series(model.predict(df_10_le))\n",
    "df_10['iForest'].value_counts()"
   ]
  },
  {
   "cell_type": "code",
   "execution_count": 25,
   "id": "e2c75276",
   "metadata": {
    "execution": {
     "iopub.execute_input": "2021-12-18T11:28:29.129489Z",
     "iopub.status.busy": "2021-12-18T11:28:29.128836Z",
     "iopub.status.idle": "2021-12-18T11:28:29.181459Z",
     "shell.execute_reply": "2021-12-18T11:28:29.181948Z",
     "shell.execute_reply.started": "2021-12-18T10:13:57.088843Z"
    },
    "papermill": {
     "duration": 0.089723,
     "end_time": "2021-12-18T11:28:29.182119",
     "exception": false,
     "start_time": "2021-12-18T11:28:29.092396",
     "status": "completed"
    },
    "tags": []
   },
   "outputs": [
    {
     "data": {
      "text/html": [
       "<div>\n",
       "<style scoped>\n",
       "    .dataframe tbody tr th:only-of-type {\n",
       "        vertical-align: middle;\n",
       "    }\n",
       "\n",
       "    .dataframe tbody tr th {\n",
       "        vertical-align: top;\n",
       "    }\n",
       "\n",
       "    .dataframe thead th {\n",
       "        text-align: right;\n",
       "    }\n",
       "</style>\n",
       "<table border=\"1\" class=\"dataframe\">\n",
       "  <thead>\n",
       "    <tr style=\"text-align: right;\">\n",
       "      <th></th>\n",
       "      <th>index</th>\n",
       "      <th>step</th>\n",
       "      <th>type</th>\n",
       "      <th>amount</th>\n",
       "      <th>nameOrig</th>\n",
       "      <th>oldbalanceOrg</th>\n",
       "      <th>newbalanceOrig</th>\n",
       "      <th>nameDest</th>\n",
       "      <th>oldbalanceDest</th>\n",
       "      <th>newbalanceDest</th>\n",
       "      <th>isFraud</th>\n",
       "      <th>isFlaggedFraud</th>\n",
       "      <th>iForest</th>\n",
       "    </tr>\n",
       "  </thead>\n",
       "  <tbody>\n",
       "    <tr>\n",
       "      <th>1222</th>\n",
       "      <td>6357056</td>\n",
       "      <td>148</td>\n",
       "      <td>CASH_OUT</td>\n",
       "      <td>3733110.07</td>\n",
       "      <td>161_1663_0</td>\n",
       "      <td>3733169.07</td>\n",
       "      <td>59.0</td>\n",
       "      <td>161_1652_0</td>\n",
       "      <td>454628.584098</td>\n",
       "      <td>4.189711e+06</td>\n",
       "      <td>1</td>\n",
       "      <td>0</td>\n",
       "      <td>1</td>\n",
       "    </tr>\n",
       "    <tr>\n",
       "      <th>1254</th>\n",
       "      <td>6361742</td>\n",
       "      <td>261</td>\n",
       "      <td>TRANSFER</td>\n",
       "      <td>1685697.11</td>\n",
       "      <td>161_7475_0</td>\n",
       "      <td>1685643.11</td>\n",
       "      <td>-54.0</td>\n",
       "      <td>161_7436_0</td>\n",
       "      <td>534.097024</td>\n",
       "      <td>4.989733e+03</td>\n",
       "      <td>1</td>\n",
       "      <td>0</td>\n",
       "      <td>1</td>\n",
       "    </tr>\n",
       "    <tr>\n",
       "      <th>2774</th>\n",
       "      <td>6361040</td>\n",
       "      <td>307</td>\n",
       "      <td>TRANSFER</td>\n",
       "      <td>134854.82</td>\n",
       "      <td>161_6083_0</td>\n",
       "      <td>134817.82</td>\n",
       "      <td>-37.0</td>\n",
       "      <td>161_6054_0</td>\n",
       "      <td>1235.181878</td>\n",
       "      <td>5.306814e+03</td>\n",
       "      <td>1</td>\n",
       "      <td>0</td>\n",
       "      <td>1</td>\n",
       "    </tr>\n",
       "    <tr>\n",
       "      <th>5484</th>\n",
       "      <td>6356093</td>\n",
       "      <td>516</td>\n",
       "      <td>CASH_OUT</td>\n",
       "      <td>10000004.00</td>\n",
       "      <td>161_5740_0</td>\n",
       "      <td>9999981.00</td>\n",
       "      <td>-23.0</td>\n",
       "      <td>161_5712_0</td>\n",
       "      <td>193419.520176</td>\n",
       "      <td>1.019601e+07</td>\n",
       "      <td>1</td>\n",
       "      <td>0</td>\n",
       "      <td>-1</td>\n",
       "    </tr>\n",
       "    <tr>\n",
       "      <th>5486</th>\n",
       "      <td>6360449</td>\n",
       "      <td>331</td>\n",
       "      <td>TRANSFER</td>\n",
       "      <td>417224.89</td>\n",
       "      <td>161_4903_0</td>\n",
       "      <td>417180.89</td>\n",
       "      <td>-44.0</td>\n",
       "      <td>161_4875_0</td>\n",
       "      <td>941.277863</td>\n",
       "      <td>2.906349e+03</td>\n",
       "      <td>1</td>\n",
       "      <td>0</td>\n",
       "      <td>1</td>\n",
       "    </tr>\n",
       "    <tr>\n",
       "      <th>...</th>\n",
       "      <td>...</td>\n",
       "      <td>...</td>\n",
       "      <td>...</td>\n",
       "      <td>...</td>\n",
       "      <td>...</td>\n",
       "      <td>...</td>\n",
       "      <td>...</td>\n",
       "      <td>...</td>\n",
       "      <td>...</td>\n",
       "      <td>...</td>\n",
       "      <td>...</td>\n",
       "      <td>...</td>\n",
       "      <td>...</td>\n",
       "    </tr>\n",
       "    <tr>\n",
       "      <th>632284</th>\n",
       "      <td>6355367</td>\n",
       "      <td>663</td>\n",
       "      <td>CASH_OUT</td>\n",
       "      <td>28309.97</td>\n",
       "      <td>161_6124_0</td>\n",
       "      <td>28257.97</td>\n",
       "      <td>-52.0</td>\n",
       "      <td>161_6095_0</td>\n",
       "      <td>754.005508</td>\n",
       "      <td>2.503232e+04</td>\n",
       "      <td>1</td>\n",
       "      <td>0</td>\n",
       "      <td>1</td>\n",
       "    </tr>\n",
       "    <tr>\n",
       "      <th>632450</th>\n",
       "      <td>6356849</td>\n",
       "      <td>726</td>\n",
       "      <td>CASH_OUT</td>\n",
       "      <td>561450.32</td>\n",
       "      <td>161_8006_0</td>\n",
       "      <td>561517.32</td>\n",
       "      <td>67.0</td>\n",
       "      <td>161_7964_0</td>\n",
       "      <td>121622.352745</td>\n",
       "      <td>6.875408e+05</td>\n",
       "      <td>1</td>\n",
       "      <td>0</td>\n",
       "      <td>1</td>\n",
       "    </tr>\n",
       "    <tr>\n",
       "      <th>632725</th>\n",
       "      <td>6360074</td>\n",
       "      <td>686</td>\n",
       "      <td>TRANSFER</td>\n",
       "      <td>1530.84</td>\n",
       "      <td>161_4155_0</td>\n",
       "      <td>1575.84</td>\n",
       "      <td>45.0</td>\n",
       "      <td>161_4132_0</td>\n",
       "      <td>712.405612</td>\n",
       "      <td>4.973654e+03</td>\n",
       "      <td>1</td>\n",
       "      <td>0</td>\n",
       "      <td>1</td>\n",
       "    </tr>\n",
       "    <tr>\n",
       "      <th>634349</th>\n",
       "      <td>6359733</td>\n",
       "      <td>212</td>\n",
       "      <td>TRANSFER</td>\n",
       "      <td>1810052.85</td>\n",
       "      <td>161_3477_0</td>\n",
       "      <td>1810030.85</td>\n",
       "      <td>-22.0</td>\n",
       "      <td>161_3457_0</td>\n",
       "      <td>4641.349817</td>\n",
       "      <td>2.495399e+03</td>\n",
       "      <td>1</td>\n",
       "      <td>0</td>\n",
       "      <td>1</td>\n",
       "    </tr>\n",
       "    <tr>\n",
       "      <th>635432</th>\n",
       "      <td>6358844</td>\n",
       "      <td>89</td>\n",
       "      <td>TRANSFER</td>\n",
       "      <td>212096.74</td>\n",
       "      <td>161_1702_0</td>\n",
       "      <td>212185.74</td>\n",
       "      <td>89.0</td>\n",
       "      <td>161_1691_0</td>\n",
       "      <td>461.290627</td>\n",
       "      <td>4.164245e+03</td>\n",
       "      <td>1</td>\n",
       "      <td>0</td>\n",
       "      <td>1</td>\n",
       "    </tr>\n",
       "  </tbody>\n",
       "</table>\n",
       "<p>820 rows × 13 columns</p>\n",
       "</div>"
      ],
      "text/plain": [
       "          index  step      type       amount    nameOrig  oldbalanceOrg  \\\n",
       "1222    6357056   148  CASH_OUT   3733110.07  161_1663_0     3733169.07   \n",
       "1254    6361742   261  TRANSFER   1685697.11  161_7475_0     1685643.11   \n",
       "2774    6361040   307  TRANSFER    134854.82  161_6083_0      134817.82   \n",
       "5484    6356093   516  CASH_OUT  10000004.00  161_5740_0     9999981.00   \n",
       "5486    6360449   331  TRANSFER    417224.89  161_4903_0      417180.89   \n",
       "...         ...   ...       ...          ...         ...            ...   \n",
       "632284  6355367   663  CASH_OUT     28309.97  161_6124_0       28257.97   \n",
       "632450  6356849   726  CASH_OUT    561450.32  161_8006_0      561517.32   \n",
       "632725  6360074   686  TRANSFER      1530.84  161_4155_0        1575.84   \n",
       "634349  6359733   212  TRANSFER   1810052.85  161_3477_0     1810030.85   \n",
       "635432  6358844    89  TRANSFER    212096.74  161_1702_0      212185.74   \n",
       "\n",
       "        newbalanceOrig    nameDest  oldbalanceDest  newbalanceDest  isFraud  \\\n",
       "1222              59.0  161_1652_0   454628.584098    4.189711e+06        1   \n",
       "1254             -54.0  161_7436_0      534.097024    4.989733e+03        1   \n",
       "2774             -37.0  161_6054_0     1235.181878    5.306814e+03        1   \n",
       "5484             -23.0  161_5712_0   193419.520176    1.019601e+07        1   \n",
       "5486             -44.0  161_4875_0      941.277863    2.906349e+03        1   \n",
       "...                ...         ...             ...             ...      ...   \n",
       "632284           -52.0  161_6095_0      754.005508    2.503232e+04        1   \n",
       "632450            67.0  161_7964_0   121622.352745    6.875408e+05        1   \n",
       "632725            45.0  161_4132_0      712.405612    4.973654e+03        1   \n",
       "634349           -22.0  161_3457_0     4641.349817    2.495399e+03        1   \n",
       "635432            89.0  161_1691_0      461.290627    4.164245e+03        1   \n",
       "\n",
       "        isFlaggedFraud  iForest  \n",
       "1222                 0        1  \n",
       "1254                 0        1  \n",
       "2774                 0        1  \n",
       "5484                 0       -1  \n",
       "5486                 0        1  \n",
       "...                ...      ...  \n",
       "632284               0        1  \n",
       "632450               0        1  \n",
       "632725               0        1  \n",
       "634349               0        1  \n",
       "635432               0        1  \n",
       "\n",
       "[820 rows x 13 columns]"
      ]
     },
     "execution_count": 25,
     "metadata": {},
     "output_type": "execute_result"
    }
   ],
   "source": [
    "df_10[df_10['isFraud']==1]"
   ]
  },
  {
   "cell_type": "markdown",
   "id": "301cbaff",
   "metadata": {
    "papermill": {
     "duration": 0.031117,
     "end_time": "2021-12-18T11:28:29.245073",
     "exception": false,
     "start_time": "2021-12-18T11:28:29.213956",
     "status": "completed"
    },
    "tags": []
   },
   "source": [
    "### Portion of labeled Frauds which is detected as Fraud and vice versa"
   ]
  },
  {
   "cell_type": "code",
   "execution_count": 26,
   "id": "25137fa7",
   "metadata": {
    "execution": {
     "iopub.execute_input": "2021-12-18T11:28:29.313471Z",
     "iopub.status.busy": "2021-12-18T11:28:29.312850Z",
     "iopub.status.idle": "2021-12-18T11:28:29.316819Z",
     "shell.execute_reply": "2021-12-18T11:28:29.317265Z",
     "shell.execute_reply.started": "2021-12-18T10:25:51.927807Z"
    },
    "papermill": {
     "duration": 0.040841,
     "end_time": "2021-12-18T11:28:29.317453",
     "exception": false,
     "start_time": "2021-12-18T11:28:29.276612",
     "status": "completed"
    },
    "tags": []
   },
   "outputs": [],
   "source": [
    "frauds_detected = df_10['iForest'][df_10['isFraud']==1].value_counts()\n"
   ]
  },
  {
   "cell_type": "code",
   "execution_count": 27,
   "id": "99891735",
   "metadata": {
    "execution": {
     "iopub.execute_input": "2021-12-18T11:28:29.387636Z",
     "iopub.status.busy": "2021-12-18T11:28:29.386803Z",
     "iopub.status.idle": "2021-12-18T11:28:29.389609Z",
     "shell.execute_reply": "2021-12-18T11:28:29.390142Z",
     "shell.execute_reply.started": "2021-12-18T10:44:01.018437Z"
    },
    "papermill": {
     "duration": 0.04045,
     "end_time": "2021-12-18T11:28:29.390292",
     "exception": false,
     "start_time": "2021-12-18T11:28:29.349842",
     "status": "completed"
    },
    "tags": []
   },
   "outputs": [
    {
     "name": "stdout",
     "output_type": "stream",
     "text": [
      "22 % of frauds have been detected (True positive), so 78 % have not been detected (False negative)\n"
     ]
    }
   ],
   "source": [
    "part_detected_frauds = frauds_detected[-1] / frauds_detected[1]\n",
    "print(f\"{part_detected_frauds*100:.3g} % of frauds have been detected (True positive), so {(1-part_detected_frauds)*100:.3g} % have not been detected (False negative)\")"
   ]
  },
  {
   "cell_type": "code",
   "execution_count": 28,
   "id": "e08b6eda",
   "metadata": {
    "execution": {
     "iopub.execute_input": "2021-12-18T11:28:29.458859Z",
     "iopub.status.busy": "2021-12-18T11:28:29.456534Z",
     "iopub.status.idle": "2021-12-18T11:28:29.466434Z",
     "shell.execute_reply": "2021-12-18T11:28:29.465954Z",
     "shell.execute_reply.started": "2021-12-18T11:01:40.511088Z"
    },
    "papermill": {
     "duration": 0.044269,
     "end_time": "2021-12-18T11:28:29.466579",
     "exception": false,
     "start_time": "2021-12-18T11:28:29.422310",
     "status": "completed"
    },
    "tags": []
   },
   "outputs": [
    {
     "name": "stdout",
     "output_type": "stream",
     "text": [
      "97.7 % of the detected frauds are no outliers (False positive), and 2.33 % of detected outliers are real outliers (True negative)\n"
     ]
    }
   ],
   "source": [
    "part_frauds_in_frauDetected = df_10['isFraud'][df_10['iForest']==-1].value_counts(normalize=True)\n",
    "print(f\"{part_frauds_in_frauDetected[0]*100:.3g} % of the detected frauds are no outliers (False positive), and {part_frauds_in_frauDetected[1]*100:.3g} % of detected outliers are real outliers (True negative)\")"
   ]
  },
  {
   "cell_type": "code",
   "execution_count": 29,
   "id": "10b355e6",
   "metadata": {
    "execution": {
     "iopub.execute_input": "2021-12-18T11:28:29.534309Z",
     "iopub.status.busy": "2021-12-18T11:28:29.533392Z",
     "iopub.status.idle": "2021-12-18T11:28:29.544475Z",
     "shell.execute_reply": "2021-12-18T11:28:29.543968Z",
     "shell.execute_reply.started": "2021-12-18T10:47:27.914179Z"
    },
    "papermill": {
     "duration": 0.045899,
     "end_time": "2021-12-18T11:28:29.544607",
     "exception": false,
     "start_time": "2021-12-18T11:28:29.498708",
     "status": "completed"
    },
    "tags": []
   },
   "outputs": [
    {
     "data": {
      "text/plain": [
       "0    0.998711\n",
       "1    0.001289\n",
       "Name: isFraud, dtype: float64"
      ]
     },
     "execution_count": 29,
     "metadata": {},
     "output_type": "execute_result"
    }
   ],
   "source": [
    "part_frauds = df_10['isFraud'].value_counts(normalize=True)\n",
    "part_frauds"
   ]
  },
  {
   "cell_type": "code",
   "execution_count": 30,
   "id": "8365d8da",
   "metadata": {
    "execution": {
     "iopub.execute_input": "2021-12-18T11:28:29.613551Z",
     "iopub.status.busy": "2021-12-18T11:28:29.611291Z",
     "iopub.status.idle": "2021-12-18T11:28:29.616218Z",
     "shell.execute_reply": "2021-12-18T11:28:29.617000Z",
     "shell.execute_reply.started": "2021-12-18T10:48:04.746153Z"
    },
    "papermill": {
     "duration": 0.040565,
     "end_time": "2021-12-18T11:28:29.617214",
     "exception": false,
     "start_time": "2021-12-18T11:28:29.576649",
     "status": "completed"
    },
    "tags": []
   },
   "outputs": [
    {
     "name": "stdout",
     "output_type": "stream",
     "text": [
      "The part of frauds in the original dataset has been 0.129 %\n"
     ]
    }
   ],
   "source": [
    "print(f\"The part of frauds in the original dataset has been {part_frauds[1]*100:.3g} %\")"
   ]
  },
  {
   "cell_type": "markdown",
   "id": "dc53e684",
   "metadata": {
    "papermill": {
     "duration": 0.032279,
     "end_time": "2021-12-18T11:28:29.683319",
     "exception": false,
     "start_time": "2021-12-18T11:28:29.651040",
     "status": "completed"
    },
    "tags": []
   },
   "source": [
    "### Select another contamination as outlier part and run model again"
   ]
  },
  {
   "cell_type": "code",
   "execution_count": 31,
   "id": "c8d5ee18",
   "metadata": {
    "execution": {
     "iopub.execute_input": "2021-12-18T11:28:29.752236Z",
     "iopub.status.busy": "2021-12-18T11:28:29.751315Z",
     "iopub.status.idle": "2021-12-18T11:32:12.583187Z",
     "shell.execute_reply": "2021-12-18T11:32:12.582463Z",
     "shell.execute_reply.started": "2021-12-18T11:11:17.792243Z"
    },
    "papermill": {
     "duration": 222.866944,
     "end_time": "2021-12-18T11:32:12.583396",
     "exception": false,
     "start_time": "2021-12-18T11:28:29.716452",
     "status": "completed"
    },
    "tags": []
   },
   "outputs": [
    {
     "name": "stdout",
     "output_type": "stream",
     "text": [
      "CPU times: user 3min 16s, sys: 26.7 s, total: 3min 42s\n",
      "Wall time: 3min 42s\n"
     ]
    },
    {
     "data": {
      "text/plain": [
       "IsolationForest(contamination=0.0014, n_estimators=1000)"
      ]
     },
     "execution_count": 31,
     "metadata": {},
     "output_type": "execute_result"
    }
   ],
   "source": [
    "%%time\n",
    "model = IsolationForest(contamination=0.0014, n_estimators=1000)\n",
    "model.fit(df_10_le)"
   ]
  },
  {
   "cell_type": "code",
   "execution_count": 32,
   "id": "7203e123",
   "metadata": {
    "execution": {
     "iopub.execute_input": "2021-12-18T11:32:12.656425Z",
     "iopub.status.busy": "2021-12-18T11:32:12.655824Z",
     "iopub.status.idle": "2021-12-18T11:35:16.782965Z",
     "shell.execute_reply": "2021-12-18T11:35:16.783472Z",
     "shell.execute_reply.started": "2021-12-18T11:16:53.092533Z"
    },
    "papermill": {
     "duration": 184.164991,
     "end_time": "2021-12-18T11:35:16.783709",
     "exception": false,
     "start_time": "2021-12-18T11:32:12.618718",
     "status": "completed"
    },
    "tags": []
   },
   "outputs": [
    {
     "data": {
      "text/plain": [
       " 1    635371\n",
       "-1       891\n",
       "Name: iForest_new_contam, dtype: int64"
      ]
     },
     "execution_count": 32,
     "metadata": {},
     "output_type": "execute_result"
    }
   ],
   "source": [
    "df_10['iForest_new_contam'] = pd.Series(model.predict(df_10_le))\n",
    "df_10['iForest_new_contam'].value_counts()"
   ]
  },
  {
   "cell_type": "code",
   "execution_count": 33,
   "id": "ce0548f2",
   "metadata": {
    "execution": {
     "iopub.execute_input": "2021-12-18T11:35:16.855931Z",
     "iopub.status.busy": "2021-12-18T11:35:16.854960Z",
     "iopub.status.idle": "2021-12-18T11:35:16.861742Z",
     "shell.execute_reply": "2021-12-18T11:35:16.862132Z",
     "shell.execute_reply.started": "2021-12-18T11:20:01.083569Z"
    },
    "papermill": {
     "duration": 0.045231,
     "end_time": "2021-12-18T11:35:16.862305",
     "exception": false,
     "start_time": "2021-12-18T11:35:16.817074",
     "status": "completed"
    },
    "tags": []
   },
   "outputs": [
    {
     "name": "stdout",
     "output_type": "stream",
     "text": [
      "3.27 % of frauds have been detected (True positive), so 96.7 % have not been detected (False negative)\n"
     ]
    }
   ],
   "source": [
    "frauds_detected = df_10['iForest_new_contam'][df_10['isFraud']==1].value_counts()\n",
    "part_detected_frauds = frauds_detected[-1] / frauds_detected[1]\n",
    "print(f\"{part_detected_frauds*100:.3g} % of frauds have been detected (True positive), so {(1-part_detected_frauds)*100:.3g} % have not been detected (False negative)\")"
   ]
  },
  {
   "cell_type": "code",
   "execution_count": 34,
   "id": "0c360fbe",
   "metadata": {
    "execution": {
     "iopub.execute_input": "2021-12-18T11:35:16.933840Z",
     "iopub.status.busy": "2021-12-18T11:35:16.933201Z",
     "iopub.status.idle": "2021-12-18T11:35:16.941513Z",
     "shell.execute_reply": "2021-12-18T11:35:16.941973Z",
     "shell.execute_reply.started": "2021-12-18T11:20:01.096939Z"
    },
    "papermill": {
     "duration": 0.046257,
     "end_time": "2021-12-18T11:35:16.942129",
     "exception": false,
     "start_time": "2021-12-18T11:35:16.895872",
     "status": "completed"
    },
    "tags": []
   },
   "outputs": [
    {
     "name": "stdout",
     "output_type": "stream",
     "text": [
      "97.7 % of the detected frauds are no outliers (False positive), and 2.33 % of detected outliers are real outliers (True negative)\n"
     ]
    }
   ],
   "source": [
    "part_frauds_in_frauDetected = df_10['isFraud'][df_10['iForest']==-1].value_counts(normalize=True)\n",
    "print(f\"{part_frauds_in_frauDetected[0]*100:.3g} % of the detected frauds are no outliers (False positive), and {part_frauds_in_frauDetected[1]*100:.3g} % of detected outliers are real outliers (True negative)\")"
   ]
  },
  {
   "cell_type": "code",
   "execution_count": null,
   "id": "b2204011",
   "metadata": {
    "papermill": {
     "duration": 0.033981,
     "end_time": "2021-12-18T11:35:17.010678",
     "exception": false,
     "start_time": "2021-12-18T11:35:16.976697",
     "status": "completed"
    },
    "tags": []
   },
   "outputs": [],
   "source": []
  },
  {
   "cell_type": "markdown",
   "id": "aeca9b73",
   "metadata": {
    "papermill": {
     "duration": 0.033983,
     "end_time": "2021-12-18T11:35:17.078282",
     "exception": false,
     "start_time": "2021-12-18T11:35:17.044299",
     "status": "completed"
    },
    "tags": []
   },
   "source": [
    "### Delete the labeled Fraud column from dataset"
   ]
  },
  {
   "cell_type": "code",
   "execution_count": null,
   "id": "c8aaa69c",
   "metadata": {
    "papermill": {
     "duration": 0.03387,
     "end_time": "2021-12-18T11:35:17.145852",
     "exception": false,
     "start_time": "2021-12-18T11:35:17.111982",
     "status": "completed"
    },
    "tags": []
   },
   "outputs": [],
   "source": []
  }
 ],
 "metadata": {
  "kernelspec": {
   "display_name": "Python 3",
   "language": "python",
   "name": "python3"
  },
  "language_info": {
   "codemirror_mode": {
    "name": "ipython",
    "version": 3
   },
   "file_extension": ".py",
   "mimetype": "text/x-python",
   "name": "python",
   "nbconvert_exporter": "python",
   "pygments_lexer": "ipython3",
   "version": "3.7.12"
  },
  "papermill": {
   "default_parameters": {},
   "duration": 857.321751,
   "end_time": "2021-12-18T11:35:19.296839",
   "environment_variables": {},
   "exception": null,
   "input_path": "__notebook__.ipynb",
   "output_path": "__notebook__.ipynb",
   "parameters": {},
   "start_time": "2021-12-18T11:21:01.975088",
   "version": "2.3.3"
  }
 },
 "nbformat": 4,
 "nbformat_minor": 5
}
