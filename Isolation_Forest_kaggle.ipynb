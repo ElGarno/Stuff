{
 "cells": [
  {
   "cell_type": "code",
   "execution_count": 1,
   "id": "08782b07",
   "metadata": {
    "_cell_guid": "b1076dfc-b9ad-4769-8c92-a6c4dae69d19",
    "_uuid": "8f2839f25d086af736a60e9eeb907d3b93b6e0e5",
    "execution": {
     "iopub.execute_input": "2021-12-17T17:14:53.766529Z",
     "iopub.status.busy": "2021-12-17T17:14:53.765371Z",
     "iopub.status.idle": "2021-12-17T17:14:53.784416Z",
     "shell.execute_reply": "2021-12-17T17:14:53.784920Z",
     "shell.execute_reply.started": "2021-12-17T17:00:19.940640Z"
    },
    "papermill": {
     "duration": 0.033924,
     "end_time": "2021-12-17T17:14:53.785251",
     "exception": false,
     "start_time": "2021-12-17T17:14:53.751327",
     "status": "completed"
    },
    "tags": []
   },
   "outputs": [
    {
     "name": "stdout",
     "output_type": "stream",
     "text": [
      "/kaggle/input/fraud-detection/synth_composite.csv\n"
     ]
    }
   ],
   "source": [
    "# This Python 3 environment comes with many helpful analytics libraries installed\n",
    "# It is defined by the kaggle/python Docker image: https://github.com/kaggle/docker-python\n",
    "# For example, here's several helpful packages to load\n",
    "\n",
    "import numpy as np # linear algebra\n",
    "import pandas as pd # data processing, CSV file I/O (e.g. pd.read_csv)\n",
    "\n",
    "# Input data files are available in the read-only \"../input/\" directory\n",
    "# For example, running this (by clicking run or pressing Shift+Enter) will list all files under the input directory\n",
    "\n",
    "import os\n",
    "for dirname, _, filenames in os.walk('/kaggle/input'):\n",
    "    for filename in filenames:\n",
    "        print(os.path.join(dirname, filename))\n",
    "\n",
    "# You can write up to 20GB to the current directory (/kaggle/working/) that gets preserved as output when you create a version using \"Save & Run All\" \n",
    "# You can also write temporary files to /kaggle/temp/, but they won't be saved outside of the current session\n"
   ]
  },
  {
   "cell_type": "markdown",
   "id": "63e07937",
   "metadata": {
    "papermill": {
     "duration": 0.008985,
     "end_time": "2021-12-17T17:14:53.803820",
     "exception": false,
     "start_time": "2021-12-17T17:14:53.794835",
     "status": "completed"
    },
    "tags": []
   },
   "source": [
    "## Import Libraries"
   ]
  },
  {
   "cell_type": "code",
   "execution_count": 2,
   "id": "24edb3f7",
   "metadata": {
    "execution": {
     "iopub.execute_input": "2021-12-17T17:14:53.825267Z",
     "iopub.status.busy": "2021-12-17T17:14:53.824583Z",
     "iopub.status.idle": "2021-12-17T17:14:54.946017Z",
     "shell.execute_reply": "2021-12-17T17:14:54.945437Z"
    },
    "papermill": {
     "duration": 1.133428,
     "end_time": "2021-12-17T17:14:54.946268",
     "exception": false,
     "start_time": "2021-12-17T17:14:53.812840",
     "status": "completed"
    },
    "tags": []
   },
   "outputs": [],
   "source": [
    "import matplotlib.pyplot as plt\n",
    "import seaborn as sns\n",
    "from sklearn.preprocessing import LabelEncoder\n",
    "\n",
    "sns.set_theme()\n",
    "sns.set_style(\"darkgrid\")"
   ]
  },
  {
   "cell_type": "markdown",
   "id": "938cc8e0",
   "metadata": {
    "papermill": {
     "duration": 0.008975,
     "end_time": "2021-12-17T17:14:54.964736",
     "exception": false,
     "start_time": "2021-12-17T17:14:54.955761",
     "status": "completed"
    },
    "tags": []
   },
   "source": [
    "## Load dataset"
   ]
  },
  {
   "cell_type": "code",
   "execution_count": 3,
   "id": "8e4261d5",
   "metadata": {
    "execution": {
     "iopub.execute_input": "2021-12-17T17:14:54.986145Z",
     "iopub.status.busy": "2021-12-17T17:14:54.985506Z",
     "iopub.status.idle": "2021-12-17T17:15:19.049486Z",
     "shell.execute_reply": "2021-12-17T17:15:19.050034Z",
     "shell.execute_reply.started": "2021-12-17T17:00:57.806288Z"
    },
    "papermill": {
     "duration": 24.076374,
     "end_time": "2021-12-17T17:15:19.050241",
     "exception": false,
     "start_time": "2021-12-17T17:14:54.973867",
     "status": "completed"
    },
    "tags": []
   },
   "outputs": [],
   "source": [
    "df = pd.read_csv('../input/fraud-detection/synth_composite.csv')"
   ]
  },
  {
   "cell_type": "markdown",
   "id": "beb00635",
   "metadata": {
    "papermill": {
     "duration": 0.008925,
     "end_time": "2021-12-17T17:15:19.068799",
     "exception": false,
     "start_time": "2021-12-17T17:15:19.059874",
     "status": "completed"
    },
    "tags": []
   },
   "source": [
    "### Show some stats"
   ]
  },
  {
   "cell_type": "code",
   "execution_count": 4,
   "id": "47be9777",
   "metadata": {
    "execution": {
     "iopub.execute_input": "2021-12-17T17:15:19.090781Z",
     "iopub.status.busy": "2021-12-17T17:15:19.089834Z",
     "iopub.status.idle": "2021-12-17T17:15:19.115923Z",
     "shell.execute_reply": "2021-12-17T17:15:19.116436Z",
     "shell.execute_reply.started": "2021-12-17T17:09:06.453146Z"
    },
    "papermill": {
     "duration": 0.038579,
     "end_time": "2021-12-17T17:15:19.116601",
     "exception": false,
     "start_time": "2021-12-17T17:15:19.078022",
     "status": "completed"
    },
    "tags": []
   },
   "outputs": [
    {
     "data": {
      "text/html": [
       "<div>\n",
       "<style scoped>\n",
       "    .dataframe tbody tr th:only-of-type {\n",
       "        vertical-align: middle;\n",
       "    }\n",
       "\n",
       "    .dataframe tbody tr th {\n",
       "        vertical-align: top;\n",
       "    }\n",
       "\n",
       "    .dataframe thead th {\n",
       "        text-align: right;\n",
       "    }\n",
       "</style>\n",
       "<table border=\"1\" class=\"dataframe\">\n",
       "  <thead>\n",
       "    <tr style=\"text-align: right;\">\n",
       "      <th></th>\n",
       "      <th>step</th>\n",
       "      <th>type</th>\n",
       "      <th>amount</th>\n",
       "      <th>nameOrig</th>\n",
       "      <th>oldbalanceOrg</th>\n",
       "      <th>newbalanceOrig</th>\n",
       "      <th>nameDest</th>\n",
       "      <th>oldbalanceDest</th>\n",
       "      <th>newbalanceDest</th>\n",
       "      <th>isFraud</th>\n",
       "      <th>isFlaggedFraud</th>\n",
       "    </tr>\n",
       "  </thead>\n",
       "  <tbody>\n",
       "    <tr>\n",
       "      <th>0</th>\n",
       "      <td>211</td>\n",
       "      <td>CASH_OUT</td>\n",
       "      <td>184185.755277</td>\n",
       "      <td>160_2696646_0</td>\n",
       "      <td>203108.476051</td>\n",
       "      <td>18922.720773</td>\n",
       "      <td>160_901564_0</td>\n",
       "      <td>1.019994e+06</td>\n",
       "      <td>1.204127e+06</td>\n",
       "      <td>0</td>\n",
       "      <td>0</td>\n",
       "    </tr>\n",
       "    <tr>\n",
       "      <th>1</th>\n",
       "      <td>394</td>\n",
       "      <td>CASH_OUT</td>\n",
       "      <td>237093.196009</td>\n",
       "      <td>160_5585569_0</td>\n",
       "      <td>382707.464238</td>\n",
       "      <td>145614.268230</td>\n",
       "      <td>160_1586945_0</td>\n",
       "      <td>5.870893e+05</td>\n",
       "      <td>8.243203e+05</td>\n",
       "      <td>0</td>\n",
       "      <td>0</td>\n",
       "    </tr>\n",
       "    <tr>\n",
       "      <th>2</th>\n",
       "      <td>306</td>\n",
       "      <td>CASH_IN</td>\n",
       "      <td>163600.518794</td>\n",
       "      <td>160_4221372_0</td>\n",
       "      <td>3093.431169</td>\n",
       "      <td>0.000000</td>\n",
       "      <td>160_1701821_0</td>\n",
       "      <td>6.534538e+05</td>\n",
       "      <td>4.901219e+05</td>\n",
       "      <td>0</td>\n",
       "      <td>0</td>\n",
       "    </tr>\n",
       "    <tr>\n",
       "      <th>3</th>\n",
       "      <td>235</td>\n",
       "      <td>PAYMENT</td>\n",
       "      <td>7625.866018</td>\n",
       "      <td>160_3064357_0</td>\n",
       "      <td>74630.853812</td>\n",
       "      <td>67004.987793</td>\n",
       "      <td>160_1304279_0</td>\n",
       "      <td>1.666019e+01</td>\n",
       "      <td>1.362096e+01</td>\n",
       "      <td>0</td>\n",
       "      <td>0</td>\n",
       "    </tr>\n",
       "    <tr>\n",
       "      <th>4</th>\n",
       "      <td>235</td>\n",
       "      <td>PAYMENT</td>\n",
       "      <td>7866.992466</td>\n",
       "      <td>160_5544127_0</td>\n",
       "      <td>74632.326454</td>\n",
       "      <td>66765.333988</td>\n",
       "      <td>160_2370260_0</td>\n",
       "      <td>5.390545e+00</td>\n",
       "      <td>9.820910e+00</td>\n",
       "      <td>0</td>\n",
       "      <td>0</td>\n",
       "    </tr>\n",
       "    <tr>\n",
       "      <th>5</th>\n",
       "      <td>493</td>\n",
       "      <td>CASH_OUT</td>\n",
       "      <td>281403.795998</td>\n",
       "      <td>160_6037426_0</td>\n",
       "      <td>42235.923347</td>\n",
       "      <td>0.000000</td>\n",
       "      <td>160_2092767_0</td>\n",
       "      <td>5.880235e+05</td>\n",
       "      <td>8.693219e+05</td>\n",
       "      <td>0</td>\n",
       "      <td>0</td>\n",
       "    </tr>\n",
       "    <tr>\n",
       "      <th>6</th>\n",
       "      <td>18</td>\n",
       "      <td>PAYMENT</td>\n",
       "      <td>4355.986182</td>\n",
       "      <td>160_400626_0</td>\n",
       "      <td>56160.034248</td>\n",
       "      <td>51804.048066</td>\n",
       "      <td>160_175474_0</td>\n",
       "      <td>8.496485e+00</td>\n",
       "      <td>1.078249e+01</td>\n",
       "      <td>0</td>\n",
       "      <td>0</td>\n",
       "    </tr>\n",
       "    <tr>\n",
       "      <th>7</th>\n",
       "      <td>550</td>\n",
       "      <td>CASH_IN</td>\n",
       "      <td>102079.164541</td>\n",
       "      <td>160_6146482_0</td>\n",
       "      <td>15781.717821</td>\n",
       "      <td>0.000000</td>\n",
       "      <td>160_354507_0</td>\n",
       "      <td>4.064748e+06</td>\n",
       "      <td>3.962757e+06</td>\n",
       "      <td>0</td>\n",
       "      <td>0</td>\n",
       "    </tr>\n",
       "    <tr>\n",
       "      <th>8</th>\n",
       "      <td>284</td>\n",
       "      <td>CASH_OUT</td>\n",
       "      <td>144074.648278</td>\n",
       "      <td>160_3889478_0</td>\n",
       "      <td>197270.864524</td>\n",
       "      <td>53196.216246</td>\n",
       "      <td>160_1089660_0</td>\n",
       "      <td>1.097389e+06</td>\n",
       "      <td>1.241346e+06</td>\n",
       "      <td>0</td>\n",
       "      <td>0</td>\n",
       "    </tr>\n",
       "    <tr>\n",
       "      <th>9</th>\n",
       "      <td>132</td>\n",
       "      <td>CASH_OUT</td>\n",
       "      <td>142367.900524</td>\n",
       "      <td>160_1163767_0</td>\n",
       "      <td>0.185064</td>\n",
       "      <td>0.000000</td>\n",
       "      <td>160_29365_0</td>\n",
       "      <td>2.424877e+06</td>\n",
       "      <td>2.567106e+06</td>\n",
       "      <td>0</td>\n",
       "      <td>0</td>\n",
       "    </tr>\n",
       "  </tbody>\n",
       "</table>\n",
       "</div>"
      ],
      "text/plain": [
       "   step      type         amount       nameOrig  oldbalanceOrg  \\\n",
       "0   211  CASH_OUT  184185.755277  160_2696646_0  203108.476051   \n",
       "1   394  CASH_OUT  237093.196009  160_5585569_0  382707.464238   \n",
       "2   306   CASH_IN  163600.518794  160_4221372_0    3093.431169   \n",
       "3   235   PAYMENT    7625.866018  160_3064357_0   74630.853812   \n",
       "4   235   PAYMENT    7866.992466  160_5544127_0   74632.326454   \n",
       "5   493  CASH_OUT  281403.795998  160_6037426_0   42235.923347   \n",
       "6    18   PAYMENT    4355.986182   160_400626_0   56160.034248   \n",
       "7   550   CASH_IN  102079.164541  160_6146482_0   15781.717821   \n",
       "8   284  CASH_OUT  144074.648278  160_3889478_0  197270.864524   \n",
       "9   132  CASH_OUT  142367.900524  160_1163767_0       0.185064   \n",
       "\n",
       "   newbalanceOrig       nameDest  oldbalanceDest  newbalanceDest  isFraud  \\\n",
       "0    18922.720773   160_901564_0    1.019994e+06    1.204127e+06        0   \n",
       "1   145614.268230  160_1586945_0    5.870893e+05    8.243203e+05        0   \n",
       "2        0.000000  160_1701821_0    6.534538e+05    4.901219e+05        0   \n",
       "3    67004.987793  160_1304279_0    1.666019e+01    1.362096e+01        0   \n",
       "4    66765.333988  160_2370260_0    5.390545e+00    9.820910e+00        0   \n",
       "5        0.000000  160_2092767_0    5.880235e+05    8.693219e+05        0   \n",
       "6    51804.048066   160_175474_0    8.496485e+00    1.078249e+01        0   \n",
       "7        0.000000   160_354507_0    4.064748e+06    3.962757e+06        0   \n",
       "8    53196.216246  160_1089660_0    1.097389e+06    1.241346e+06        0   \n",
       "9        0.000000    160_29365_0    2.424877e+06    2.567106e+06        0   \n",
       "\n",
       "   isFlaggedFraud  \n",
       "0               0  \n",
       "1               0  \n",
       "2               0  \n",
       "3               0  \n",
       "4               0  \n",
       "5               0  \n",
       "6               0  \n",
       "7               0  \n",
       "8               0  \n",
       "9               0  "
      ]
     },
     "execution_count": 4,
     "metadata": {},
     "output_type": "execute_result"
    }
   ],
   "source": [
    "df.head(10)"
   ]
  },
  {
   "cell_type": "code",
   "execution_count": 5,
   "id": "84292788",
   "metadata": {
    "execution": {
     "iopub.execute_input": "2021-12-17T17:15:19.142056Z",
     "iopub.status.busy": "2021-12-17T17:15:19.141167Z",
     "iopub.status.idle": "2021-12-17T17:15:19.144500Z",
     "shell.execute_reply": "2021-12-17T17:15:19.144982Z",
     "shell.execute_reply.started": "2021-12-17T17:09:38.068477Z"
    },
    "papermill": {
     "duration": 0.018719,
     "end_time": "2021-12-17T17:15:19.145142",
     "exception": false,
     "start_time": "2021-12-17T17:15:19.126423",
     "status": "completed"
    },
    "tags": []
   },
   "outputs": [
    {
     "data": {
      "text/plain": [
       "(6362620, 11)"
      ]
     },
     "execution_count": 5,
     "metadata": {},
     "output_type": "execute_result"
    }
   ],
   "source": [
    "df.shape"
   ]
  },
  {
   "cell_type": "code",
   "execution_count": 6,
   "id": "6fbb1da5",
   "metadata": {
    "execution": {
     "iopub.execute_input": "2021-12-17T17:15:19.170935Z",
     "iopub.status.busy": "2021-12-17T17:15:19.167698Z",
     "iopub.status.idle": "2021-12-17T17:15:21.207747Z",
     "shell.execute_reply": "2021-12-17T17:15:21.205711Z",
     "shell.execute_reply.started": "2021-12-17T17:11:53.618814Z"
    },
    "papermill": {
     "duration": 2.053036,
     "end_time": "2021-12-17T17:15:21.208365",
     "exception": false,
     "start_time": "2021-12-17T17:15:19.155329",
     "status": "completed"
    },
    "tags": []
   },
   "outputs": [
    {
     "data": {
      "text/plain": [
       "(636262, 11)"
      ]
     },
     "execution_count": 6,
     "metadata": {},
     "output_type": "execute_result"
    }
   ],
   "source": [
    "df.sample(frac=0.1).shape"
   ]
  },
  {
   "cell_type": "code",
   "execution_count": 7,
   "id": "926c8e8e",
   "metadata": {
    "execution": {
     "iopub.execute_input": "2021-12-17T17:15:21.252360Z",
     "iopub.status.busy": "2021-12-17T17:15:21.250673Z",
     "iopub.status.idle": "2021-12-17T17:15:21.255430Z",
     "shell.execute_reply": "2021-12-17T17:15:21.256078Z",
     "shell.execute_reply.started": "2021-12-17T17:12:08.540895Z"
    },
    "papermill": {
     "duration": 0.024476,
     "end_time": "2021-12-17T17:15:21.256253",
     "exception": false,
     "start_time": "2021-12-17T17:15:21.231777",
     "status": "completed"
    },
    "tags": []
   },
   "outputs": [
    {
     "data": {
      "text/plain": [
       "(6362620, 11)"
      ]
     },
     "execution_count": 7,
     "metadata": {},
     "output_type": "execute_result"
    }
   ],
   "source": [
    "df.shape"
   ]
  },
  {
   "cell_type": "code",
   "execution_count": null,
   "id": "9caf32ce",
   "metadata": {
    "papermill": {
     "duration": 0.010642,
     "end_time": "2021-12-17T17:15:21.278019",
     "exception": false,
     "start_time": "2021-12-17T17:15:21.267377",
     "status": "completed"
    },
    "tags": []
   },
   "outputs": [],
   "source": []
  }
 ],
 "metadata": {
  "kernelspec": {
   "display_name": "Python 3",
   "language": "python",
   "name": "python3"
  },
  "language_info": {
   "codemirror_mode": {
    "name": "ipython",
    "version": 3
   },
   "file_extension": ".py",
   "mimetype": "text/x-python",
   "name": "python",
   "nbconvert_exporter": "python",
   "pygments_lexer": "ipython3",
   "version": "3.7.12"
  },
  "papermill": {
   "default_parameters": {},
   "duration": 39.617539,
   "end_time": "2021-12-17T17:15:23.521197",
   "environment_variables": {},
   "exception": null,
   "input_path": "__notebook__.ipynb",
   "output_path": "__notebook__.ipynb",
   "parameters": {},
   "start_time": "2021-12-17T17:14:43.903658",
   "version": "2.3.3"
  }
 },
 "nbformat": 4,
 "nbformat_minor": 5
}
