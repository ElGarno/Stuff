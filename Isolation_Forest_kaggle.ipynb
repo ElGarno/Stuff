{
 "cells": [
  {
   "cell_type": "code",
   "execution_count": 1,
   "id": "ef8d310e",
   "metadata": {
    "_cell_guid": "b1076dfc-b9ad-4769-8c92-a6c4dae69d19",
    "_uuid": "8f2839f25d086af736a60e9eeb907d3b93b6e0e5",
    "execution": {
     "iopub.execute_input": "2021-12-18T11:02:21.861001Z",
     "iopub.status.busy": "2021-12-18T11:02:21.860360Z",
     "iopub.status.idle": "2021-12-18T11:02:21.873412Z",
     "shell.execute_reply": "2021-12-18T11:02:21.873863Z",
     "shell.execute_reply.started": "2021-12-18T10:06:36.771915Z"
    },
    "papermill": {
     "duration": 0.055191,
     "end_time": "2021-12-18T11:02:21.874178",
     "exception": false,
     "start_time": "2021-12-18T11:02:21.818987",
     "status": "completed"
    },
    "tags": []
   },
   "outputs": [
    {
     "name": "stdout",
     "output_type": "stream",
     "text": [
      "/kaggle/input/fraud-detection/synth_composite.csv\n"
     ]
    }
   ],
   "source": [
    "# This Python 3 environment comes with many helpful analytics libraries installed\n",
    "# It is defined by the kaggle/python Docker image: https://github.com/kaggle/docker-python\n",
    "# For example, here's several helpful packages to load\n",
    "\n",
    "import numpy as np # linear algebra\n",
    "import pandas as pd # data processing, CSV file I/O (e.g. pd.read_csv)\n",
    "\n",
    "# Input data files are available in the read-only \"../input/\" directory\n",
    "# For example, running this (by clicking run or pressing Shift+Enter) will list all files under the input directory\n",
    "\n",
    "import os\n",
    "for dirname, _, filenames in os.walk('/kaggle/input'):\n",
    "    for filename in filenames:\n",
    "        print(os.path.join(dirname, filename))\n",
    "\n",
    "# You can write up to 20GB to the current directory (/kaggle/working/) that gets preserved as output when you create a version using \"Save & Run All\" \n",
    "# You can also write temporary files to /kaggle/temp/, but they won't be saved outside of the current session\n"
   ]
  },
  {
   "cell_type": "markdown",
   "id": "4c79b8d6",
   "metadata": {
    "papermill": {
     "duration": 0.028278,
     "end_time": "2021-12-18T11:02:21.931977",
     "exception": false,
     "start_time": "2021-12-18T11:02:21.903699",
     "status": "completed"
    },
    "tags": []
   },
   "source": [
    "## Import Libraries"
   ]
  },
  {
   "cell_type": "code",
   "execution_count": 2,
   "id": "be6c8757",
   "metadata": {
    "execution": {
     "iopub.execute_input": "2021-12-18T11:02:21.996395Z",
     "iopub.status.busy": "2021-12-18T11:02:21.995407Z",
     "iopub.status.idle": "2021-12-18T11:02:23.117548Z",
     "shell.execute_reply": "2021-12-18T11:02:23.116966Z",
     "shell.execute_reply.started": "2021-12-18T10:06:36.812769Z"
    },
    "papermill": {
     "duration": 1.155382,
     "end_time": "2021-12-18T11:02:23.117715",
     "exception": false,
     "start_time": "2021-12-18T11:02:21.962333",
     "status": "completed"
    },
    "tags": []
   },
   "outputs": [],
   "source": [
    "import matplotlib.pyplot as plt\n",
    "import seaborn as sns\n",
    "from sklearn.preprocessing import LabelEncoder\n",
    "\n",
    "sns.set_theme()\n",
    "sns.set_style(\"darkgrid\")"
   ]
  },
  {
   "cell_type": "markdown",
   "id": "d9bcae11",
   "metadata": {
    "papermill": {
     "duration": 0.028817,
     "end_time": "2021-12-18T11:02:23.175868",
     "exception": false,
     "start_time": "2021-12-18T11:02:23.147051",
     "status": "completed"
    },
    "tags": []
   },
   "source": [
    "## Load dataset"
   ]
  },
  {
   "cell_type": "code",
   "execution_count": 3,
   "id": "0eb8ab91",
   "metadata": {
    "execution": {
     "iopub.execute_input": "2021-12-18T11:02:23.238114Z",
     "iopub.status.busy": "2021-12-18T11:02:23.237102Z",
     "iopub.status.idle": "2021-12-18T11:02:47.780462Z",
     "shell.execute_reply": "2021-12-18T11:02:47.780959Z",
     "shell.execute_reply.started": "2021-12-18T10:06:37.967800Z"
    },
    "papermill": {
     "duration": 24.575935,
     "end_time": "2021-12-18T11:02:47.781151",
     "exception": false,
     "start_time": "2021-12-18T11:02:23.205216",
     "status": "completed"
    },
    "tags": []
   },
   "outputs": [],
   "source": [
    "df = pd.read_csv('../input/fraud-detection/synth_composite.csv')"
   ]
  },
  {
   "cell_type": "markdown",
   "id": "bed88028",
   "metadata": {
    "papermill": {
     "duration": 0.02833,
     "end_time": "2021-12-18T11:02:47.838519",
     "exception": false,
     "start_time": "2021-12-18T11:02:47.810189",
     "status": "completed"
    },
    "tags": []
   },
   "source": [
    "### Show some stats"
   ]
  },
  {
   "cell_type": "code",
   "execution_count": 4,
   "id": "7d16b219",
   "metadata": {
    "execution": {
     "iopub.execute_input": "2021-12-18T11:02:47.899988Z",
     "iopub.status.busy": "2021-12-18T11:02:47.899389Z",
     "iopub.status.idle": "2021-12-18T11:02:47.924146Z",
     "shell.execute_reply": "2021-12-18T11:02:47.924636Z",
     "shell.execute_reply.started": "2021-12-18T10:07:04.180849Z"
    },
    "papermill": {
     "duration": 0.056307,
     "end_time": "2021-12-18T11:02:47.924828",
     "exception": false,
     "start_time": "2021-12-18T11:02:47.868521",
     "status": "completed"
    },
    "tags": []
   },
   "outputs": [
    {
     "data": {
      "text/html": [
       "<div>\n",
       "<style scoped>\n",
       "    .dataframe tbody tr th:only-of-type {\n",
       "        vertical-align: middle;\n",
       "    }\n",
       "\n",
       "    .dataframe tbody tr th {\n",
       "        vertical-align: top;\n",
       "    }\n",
       "\n",
       "    .dataframe thead th {\n",
       "        text-align: right;\n",
       "    }\n",
       "</style>\n",
       "<table border=\"1\" class=\"dataframe\">\n",
       "  <thead>\n",
       "    <tr style=\"text-align: right;\">\n",
       "      <th></th>\n",
       "      <th>step</th>\n",
       "      <th>type</th>\n",
       "      <th>amount</th>\n",
       "      <th>nameOrig</th>\n",
       "      <th>oldbalanceOrg</th>\n",
       "      <th>newbalanceOrig</th>\n",
       "      <th>nameDest</th>\n",
       "      <th>oldbalanceDest</th>\n",
       "      <th>newbalanceDest</th>\n",
       "      <th>isFraud</th>\n",
       "      <th>isFlaggedFraud</th>\n",
       "    </tr>\n",
       "  </thead>\n",
       "  <tbody>\n",
       "    <tr>\n",
       "      <th>0</th>\n",
       "      <td>211</td>\n",
       "      <td>CASH_OUT</td>\n",
       "      <td>184185.755277</td>\n",
       "      <td>160_2696646_0</td>\n",
       "      <td>203108.476051</td>\n",
       "      <td>18922.720773</td>\n",
       "      <td>160_901564_0</td>\n",
       "      <td>1.019994e+06</td>\n",
       "      <td>1.204127e+06</td>\n",
       "      <td>0</td>\n",
       "      <td>0</td>\n",
       "    </tr>\n",
       "    <tr>\n",
       "      <th>1</th>\n",
       "      <td>394</td>\n",
       "      <td>CASH_OUT</td>\n",
       "      <td>237093.196009</td>\n",
       "      <td>160_5585569_0</td>\n",
       "      <td>382707.464238</td>\n",
       "      <td>145614.268230</td>\n",
       "      <td>160_1586945_0</td>\n",
       "      <td>5.870893e+05</td>\n",
       "      <td>8.243203e+05</td>\n",
       "      <td>0</td>\n",
       "      <td>0</td>\n",
       "    </tr>\n",
       "    <tr>\n",
       "      <th>2</th>\n",
       "      <td>306</td>\n",
       "      <td>CASH_IN</td>\n",
       "      <td>163600.518794</td>\n",
       "      <td>160_4221372_0</td>\n",
       "      <td>3093.431169</td>\n",
       "      <td>0.000000</td>\n",
       "      <td>160_1701821_0</td>\n",
       "      <td>6.534538e+05</td>\n",
       "      <td>4.901219e+05</td>\n",
       "      <td>0</td>\n",
       "      <td>0</td>\n",
       "    </tr>\n",
       "    <tr>\n",
       "      <th>3</th>\n",
       "      <td>235</td>\n",
       "      <td>PAYMENT</td>\n",
       "      <td>7625.866018</td>\n",
       "      <td>160_3064357_0</td>\n",
       "      <td>74630.853812</td>\n",
       "      <td>67004.987793</td>\n",
       "      <td>160_1304279_0</td>\n",
       "      <td>1.666019e+01</td>\n",
       "      <td>1.362096e+01</td>\n",
       "      <td>0</td>\n",
       "      <td>0</td>\n",
       "    </tr>\n",
       "    <tr>\n",
       "      <th>4</th>\n",
       "      <td>235</td>\n",
       "      <td>PAYMENT</td>\n",
       "      <td>7866.992466</td>\n",
       "      <td>160_5544127_0</td>\n",
       "      <td>74632.326454</td>\n",
       "      <td>66765.333988</td>\n",
       "      <td>160_2370260_0</td>\n",
       "      <td>5.390545e+00</td>\n",
       "      <td>9.820910e+00</td>\n",
       "      <td>0</td>\n",
       "      <td>0</td>\n",
       "    </tr>\n",
       "    <tr>\n",
       "      <th>5</th>\n",
       "      <td>493</td>\n",
       "      <td>CASH_OUT</td>\n",
       "      <td>281403.795998</td>\n",
       "      <td>160_6037426_0</td>\n",
       "      <td>42235.923347</td>\n",
       "      <td>0.000000</td>\n",
       "      <td>160_2092767_0</td>\n",
       "      <td>5.880235e+05</td>\n",
       "      <td>8.693219e+05</td>\n",
       "      <td>0</td>\n",
       "      <td>0</td>\n",
       "    </tr>\n",
       "    <tr>\n",
       "      <th>6</th>\n",
       "      <td>18</td>\n",
       "      <td>PAYMENT</td>\n",
       "      <td>4355.986182</td>\n",
       "      <td>160_400626_0</td>\n",
       "      <td>56160.034248</td>\n",
       "      <td>51804.048066</td>\n",
       "      <td>160_175474_0</td>\n",
       "      <td>8.496485e+00</td>\n",
       "      <td>1.078249e+01</td>\n",
       "      <td>0</td>\n",
       "      <td>0</td>\n",
       "    </tr>\n",
       "    <tr>\n",
       "      <th>7</th>\n",
       "      <td>550</td>\n",
       "      <td>CASH_IN</td>\n",
       "      <td>102079.164541</td>\n",
       "      <td>160_6146482_0</td>\n",
       "      <td>15781.717821</td>\n",
       "      <td>0.000000</td>\n",
       "      <td>160_354507_0</td>\n",
       "      <td>4.064748e+06</td>\n",
       "      <td>3.962757e+06</td>\n",
       "      <td>0</td>\n",
       "      <td>0</td>\n",
       "    </tr>\n",
       "    <tr>\n",
       "      <th>8</th>\n",
       "      <td>284</td>\n",
       "      <td>CASH_OUT</td>\n",
       "      <td>144074.648278</td>\n",
       "      <td>160_3889478_0</td>\n",
       "      <td>197270.864524</td>\n",
       "      <td>53196.216246</td>\n",
       "      <td>160_1089660_0</td>\n",
       "      <td>1.097389e+06</td>\n",
       "      <td>1.241346e+06</td>\n",
       "      <td>0</td>\n",
       "      <td>0</td>\n",
       "    </tr>\n",
       "    <tr>\n",
       "      <th>9</th>\n",
       "      <td>132</td>\n",
       "      <td>CASH_OUT</td>\n",
       "      <td>142367.900524</td>\n",
       "      <td>160_1163767_0</td>\n",
       "      <td>0.185064</td>\n",
       "      <td>0.000000</td>\n",
       "      <td>160_29365_0</td>\n",
       "      <td>2.424877e+06</td>\n",
       "      <td>2.567106e+06</td>\n",
       "      <td>0</td>\n",
       "      <td>0</td>\n",
       "    </tr>\n",
       "  </tbody>\n",
       "</table>\n",
       "</div>"
      ],
      "text/plain": [
       "   step      type         amount       nameOrig  oldbalanceOrg  \\\n",
       "0   211  CASH_OUT  184185.755277  160_2696646_0  203108.476051   \n",
       "1   394  CASH_OUT  237093.196009  160_5585569_0  382707.464238   \n",
       "2   306   CASH_IN  163600.518794  160_4221372_0    3093.431169   \n",
       "3   235   PAYMENT    7625.866018  160_3064357_0   74630.853812   \n",
       "4   235   PAYMENT    7866.992466  160_5544127_0   74632.326454   \n",
       "5   493  CASH_OUT  281403.795998  160_6037426_0   42235.923347   \n",
       "6    18   PAYMENT    4355.986182   160_400626_0   56160.034248   \n",
       "7   550   CASH_IN  102079.164541  160_6146482_0   15781.717821   \n",
       "8   284  CASH_OUT  144074.648278  160_3889478_0  197270.864524   \n",
       "9   132  CASH_OUT  142367.900524  160_1163767_0       0.185064   \n",
       "\n",
       "   newbalanceOrig       nameDest  oldbalanceDest  newbalanceDest  isFraud  \\\n",
       "0    18922.720773   160_901564_0    1.019994e+06    1.204127e+06        0   \n",
       "1   145614.268230  160_1586945_0    5.870893e+05    8.243203e+05        0   \n",
       "2        0.000000  160_1701821_0    6.534538e+05    4.901219e+05        0   \n",
       "3    67004.987793  160_1304279_0    1.666019e+01    1.362096e+01        0   \n",
       "4    66765.333988  160_2370260_0    5.390545e+00    9.820910e+00        0   \n",
       "5        0.000000  160_2092767_0    5.880235e+05    8.693219e+05        0   \n",
       "6    51804.048066   160_175474_0    8.496485e+00    1.078249e+01        0   \n",
       "7        0.000000   160_354507_0    4.064748e+06    3.962757e+06        0   \n",
       "8    53196.216246  160_1089660_0    1.097389e+06    1.241346e+06        0   \n",
       "9        0.000000    160_29365_0    2.424877e+06    2.567106e+06        0   \n",
       "\n",
       "   isFlaggedFraud  \n",
       "0               0  \n",
       "1               0  \n",
       "2               0  \n",
       "3               0  \n",
       "4               0  \n",
       "5               0  \n",
       "6               0  \n",
       "7               0  \n",
       "8               0  \n",
       "9               0  "
      ]
     },
     "execution_count": 4,
     "metadata": {},
     "output_type": "execute_result"
    }
   ],
   "source": [
    "df.head(10)"
   ]
  },
  {
   "cell_type": "code",
   "execution_count": 5,
   "id": "fa807edd",
   "metadata": {
    "execution": {
     "iopub.execute_input": "2021-12-18T11:02:47.986750Z",
     "iopub.status.busy": "2021-12-18T11:02:47.986144Z",
     "iopub.status.idle": "2021-12-18T11:02:47.990507Z",
     "shell.execute_reply": "2021-12-18T11:02:47.991036Z",
     "shell.execute_reply.started": "2021-12-18T10:07:04.211551Z"
    },
    "papermill": {
     "duration": 0.037301,
     "end_time": "2021-12-18T11:02:47.991216",
     "exception": false,
     "start_time": "2021-12-18T11:02:47.953915",
     "status": "completed"
    },
    "tags": []
   },
   "outputs": [
    {
     "data": {
      "text/plain": [
       "(6362620, 11)"
      ]
     },
     "execution_count": 5,
     "metadata": {},
     "output_type": "execute_result"
    }
   ],
   "source": [
    "df.shape"
   ]
  },
  {
   "cell_type": "code",
   "execution_count": 6,
   "id": "97fee74d",
   "metadata": {
    "execution": {
     "iopub.execute_input": "2021-12-18T11:02:48.053485Z",
     "iopub.status.busy": "2021-12-18T11:02:48.052807Z",
     "iopub.status.idle": "2021-12-18T11:02:48.098165Z",
     "shell.execute_reply": "2021-12-18T11:02:48.097577Z",
     "shell.execute_reply.started": "2021-12-18T10:07:04.220491Z"
    },
    "papermill": {
     "duration": 0.07744,
     "end_time": "2021-12-18T11:02:48.098310",
     "exception": false,
     "start_time": "2021-12-18T11:02:48.020870",
     "status": "completed"
    },
    "tags": []
   },
   "outputs": [
    {
     "data": {
      "text/plain": [
       "0    6354407\n",
       "1       8213\n",
       "Name: isFraud, dtype: int64"
      ]
     },
     "execution_count": 6,
     "metadata": {},
     "output_type": "execute_result"
    }
   ],
   "source": [
    "df['isFraud'].value_counts()"
   ]
  },
  {
   "cell_type": "code",
   "execution_count": 7,
   "id": "a4423941",
   "metadata": {
    "execution": {
     "iopub.execute_input": "2021-12-18T11:02:48.198567Z",
     "iopub.status.busy": "2021-12-18T11:02:48.197616Z",
     "iopub.status.idle": "2021-12-18T11:02:48.201214Z",
     "shell.execute_reply": "2021-12-18T11:02:48.201652Z",
     "shell.execute_reply.started": "2021-12-18T10:07:04.277305Z"
    },
    "papermill": {
     "duration": 0.072769,
     "end_time": "2021-12-18T11:02:48.201820",
     "exception": false,
     "start_time": "2021-12-18T11:02:48.129051",
     "status": "completed"
    },
    "tags": []
   },
   "outputs": [
    {
     "data": {
      "text/plain": [
       "0    6362606\n",
       "1         14\n",
       "Name: isFlaggedFraud, dtype: int64"
      ]
     },
     "execution_count": 7,
     "metadata": {},
     "output_type": "execute_result"
    }
   ],
   "source": [
    "df['isFlaggedFraud'].value_counts()"
   ]
  },
  {
   "cell_type": "code",
   "execution_count": 8,
   "id": "914c268b",
   "metadata": {
    "execution": {
     "iopub.execute_input": "2021-12-18T11:02:48.269304Z",
     "iopub.status.busy": "2021-12-18T11:02:48.268191Z",
     "iopub.status.idle": "2021-12-18T11:02:48.314291Z",
     "shell.execute_reply": "2021-12-18T11:02:48.313777Z",
     "shell.execute_reply.started": "2021-12-18T10:07:04.321583Z"
    },
    "papermill": {
     "duration": 0.082428,
     "end_time": "2021-12-18T11:02:48.314430",
     "exception": false,
     "start_time": "2021-12-18T11:02:48.232002",
     "status": "completed"
    },
    "tags": []
   },
   "outputs": [
    {
     "data": {
      "text/html": [
       "<div>\n",
       "<style scoped>\n",
       "    .dataframe tbody tr th:only-of-type {\n",
       "        vertical-align: middle;\n",
       "    }\n",
       "\n",
       "    .dataframe tbody tr th {\n",
       "        vertical-align: top;\n",
       "    }\n",
       "\n",
       "    .dataframe thead th {\n",
       "        text-align: right;\n",
       "    }\n",
       "</style>\n",
       "<table border=\"1\" class=\"dataframe\">\n",
       "  <thead>\n",
       "    <tr style=\"text-align: right;\">\n",
       "      <th></th>\n",
       "      <th>step</th>\n",
       "      <th>type</th>\n",
       "      <th>amount</th>\n",
       "      <th>nameOrig</th>\n",
       "      <th>oldbalanceOrg</th>\n",
       "      <th>newbalanceOrig</th>\n",
       "      <th>nameDest</th>\n",
       "      <th>oldbalanceDest</th>\n",
       "      <th>newbalanceDest</th>\n",
       "      <th>isFraud</th>\n",
       "      <th>isFlaggedFraud</th>\n",
       "    </tr>\n",
       "  </thead>\n",
       "  <tbody>\n",
       "    <tr>\n",
       "      <th>6354407</th>\n",
       "      <td>741</td>\n",
       "      <td>CASH_OUT</td>\n",
       "      <td>2.00</td>\n",
       "      <td>161_8178_0</td>\n",
       "      <td>-71.00</td>\n",
       "      <td>-73.0</td>\n",
       "      <td>161_8134_0</td>\n",
       "      <td>2.700696e+05</td>\n",
       "      <td>2.702828e+05</td>\n",
       "      <td>1</td>\n",
       "      <td>0</td>\n",
       "    </tr>\n",
       "    <tr>\n",
       "      <th>6354408</th>\n",
       "      <td>212</td>\n",
       "      <td>CASH_OUT</td>\n",
       "      <td>362998.52</td>\n",
       "      <td>161_2386_0</td>\n",
       "      <td>363050.52</td>\n",
       "      <td>52.0</td>\n",
       "      <td>161_2374_0</td>\n",
       "      <td>2.159733e+06</td>\n",
       "      <td>2.523959e+06</td>\n",
       "      <td>1</td>\n",
       "      <td>0</td>\n",
       "    </tr>\n",
       "    <tr>\n",
       "      <th>6354409</th>\n",
       "      <td>568</td>\n",
       "      <td>CASH_OUT</td>\n",
       "      <td>66187.66</td>\n",
       "      <td>161_6282_0</td>\n",
       "      <td>66125.66</td>\n",
       "      <td>-62.0</td>\n",
       "      <td>161_6251_0</td>\n",
       "      <td>7.177089e+05</td>\n",
       "      <td>7.832872e+05</td>\n",
       "      <td>1</td>\n",
       "      <td>0</td>\n",
       "    </tr>\n",
       "    <tr>\n",
       "      <th>6354410</th>\n",
       "      <td>15</td>\n",
       "      <td>CASH_OUT</td>\n",
       "      <td>696771.08</td>\n",
       "      <td>161_168_0</td>\n",
       "      <td>696771.08</td>\n",
       "      <td>0.0</td>\n",
       "      <td>161_167_0</td>\n",
       "      <td>3.688858e+05</td>\n",
       "      <td>1.351356e+06</td>\n",
       "      <td>1</td>\n",
       "      <td>0</td>\n",
       "    </tr>\n",
       "    <tr>\n",
       "      <th>6354411</th>\n",
       "      <td>501</td>\n",
       "      <td>CASH_OUT</td>\n",
       "      <td>73332.47</td>\n",
       "      <td>161_5584_0</td>\n",
       "      <td>73285.47</td>\n",
       "      <td>-47.0</td>\n",
       "      <td>161_5556_0</td>\n",
       "      <td>1.253682e+05</td>\n",
       "      <td>1.923281e+05</td>\n",
       "      <td>1</td>\n",
       "      <td>0</td>\n",
       "    </tr>\n",
       "    <tr>\n",
       "      <th>...</th>\n",
       "      <td>...</td>\n",
       "      <td>...</td>\n",
       "      <td>...</td>\n",
       "      <td>...</td>\n",
       "      <td>...</td>\n",
       "      <td>...</td>\n",
       "      <td>...</td>\n",
       "      <td>...</td>\n",
       "      <td>...</td>\n",
       "      <td>...</td>\n",
       "      <td>...</td>\n",
       "    </tr>\n",
       "    <tr>\n",
       "      <th>6362615</th>\n",
       "      <td>483</td>\n",
       "      <td>CASH_OUT</td>\n",
       "      <td>22982.73</td>\n",
       "      <td>161_5384_0</td>\n",
       "      <td>22981.73</td>\n",
       "      <td>-1.0</td>\n",
       "      <td>161_5356_0</td>\n",
       "      <td>3.279893e+06</td>\n",
       "      <td>3.304007e+06</td>\n",
       "      <td>1</td>\n",
       "      <td>0</td>\n",
       "    </tr>\n",
       "    <tr>\n",
       "      <th>6362616</th>\n",
       "      <td>214</td>\n",
       "      <td>CASH_OUT</td>\n",
       "      <td>1368390.50</td>\n",
       "      <td>161_2420_0</td>\n",
       "      <td>1368453.50</td>\n",
       "      <td>63.0</td>\n",
       "      <td>161_2408_0</td>\n",
       "      <td>2.589394e+05</td>\n",
       "      <td>1.624944e+06</td>\n",
       "      <td>1</td>\n",
       "      <td>0</td>\n",
       "    </tr>\n",
       "    <tr>\n",
       "      <th>6362617</th>\n",
       "      <td>679</td>\n",
       "      <td>CASH_OUT</td>\n",
       "      <td>3150440.28</td>\n",
       "      <td>161_7476_0</td>\n",
       "      <td>3150454.28</td>\n",
       "      <td>14.0</td>\n",
       "      <td>161_7437_0</td>\n",
       "      <td>6.372507e+03</td>\n",
       "      <td>3.157667e+06</td>\n",
       "      <td>1</td>\n",
       "      <td>0</td>\n",
       "    </tr>\n",
       "    <tr>\n",
       "      <th>6362618</th>\n",
       "      <td>482</td>\n",
       "      <td>CASH_OUT</td>\n",
       "      <td>75655.33</td>\n",
       "      <td>161_5366_0</td>\n",
       "      <td>75647.33</td>\n",
       "      <td>-8.0</td>\n",
       "      <td>161_5338_0</td>\n",
       "      <td>8.529471e+05</td>\n",
       "      <td>9.285452e+05</td>\n",
       "      <td>1</td>\n",
       "      <td>0</td>\n",
       "    </tr>\n",
       "    <tr>\n",
       "      <th>6362619</th>\n",
       "      <td>685</td>\n",
       "      <td>CASH_OUT</td>\n",
       "      <td>4886421.05</td>\n",
       "      <td>161_7534_0</td>\n",
       "      <td>4886450.05</td>\n",
       "      <td>29.0</td>\n",
       "      <td>161_7495_0</td>\n",
       "      <td>3.186239e+03</td>\n",
       "      <td>4.886829e+06</td>\n",
       "      <td>1</td>\n",
       "      <td>0</td>\n",
       "    </tr>\n",
       "  </tbody>\n",
       "</table>\n",
       "<p>8213 rows × 11 columns</p>\n",
       "</div>"
      ],
      "text/plain": [
       "         step      type      amount    nameOrig  oldbalanceOrg  \\\n",
       "6354407   741  CASH_OUT        2.00  161_8178_0         -71.00   \n",
       "6354408   212  CASH_OUT   362998.52  161_2386_0      363050.52   \n",
       "6354409   568  CASH_OUT    66187.66  161_6282_0       66125.66   \n",
       "6354410    15  CASH_OUT   696771.08   161_168_0      696771.08   \n",
       "6354411   501  CASH_OUT    73332.47  161_5584_0       73285.47   \n",
       "...       ...       ...         ...         ...            ...   \n",
       "6362615   483  CASH_OUT    22982.73  161_5384_0       22981.73   \n",
       "6362616   214  CASH_OUT  1368390.50  161_2420_0     1368453.50   \n",
       "6362617   679  CASH_OUT  3150440.28  161_7476_0     3150454.28   \n",
       "6362618   482  CASH_OUT    75655.33  161_5366_0       75647.33   \n",
       "6362619   685  CASH_OUT  4886421.05  161_7534_0     4886450.05   \n",
       "\n",
       "         newbalanceOrig    nameDest  oldbalanceDest  newbalanceDest  isFraud  \\\n",
       "6354407           -73.0  161_8134_0    2.700696e+05    2.702828e+05        1   \n",
       "6354408            52.0  161_2374_0    2.159733e+06    2.523959e+06        1   \n",
       "6354409           -62.0  161_6251_0    7.177089e+05    7.832872e+05        1   \n",
       "6354410             0.0   161_167_0    3.688858e+05    1.351356e+06        1   \n",
       "6354411           -47.0  161_5556_0    1.253682e+05    1.923281e+05        1   \n",
       "...                 ...         ...             ...             ...      ...   \n",
       "6362615            -1.0  161_5356_0    3.279893e+06    3.304007e+06        1   \n",
       "6362616            63.0  161_2408_0    2.589394e+05    1.624944e+06        1   \n",
       "6362617            14.0  161_7437_0    6.372507e+03    3.157667e+06        1   \n",
       "6362618            -8.0  161_5338_0    8.529471e+05    9.285452e+05        1   \n",
       "6362619            29.0  161_7495_0    3.186239e+03    4.886829e+06        1   \n",
       "\n",
       "         isFlaggedFraud  \n",
       "6354407               0  \n",
       "6354408               0  \n",
       "6354409               0  \n",
       "6354410               0  \n",
       "6354411               0  \n",
       "...                 ...  \n",
       "6362615               0  \n",
       "6362616               0  \n",
       "6362617               0  \n",
       "6362618               0  \n",
       "6362619               0  \n",
       "\n",
       "[8213 rows x 11 columns]"
      ]
     },
     "execution_count": 8,
     "metadata": {},
     "output_type": "execute_result"
    }
   ],
   "source": [
    "df[df['isFraud']==1]"
   ]
  },
  {
   "cell_type": "code",
   "execution_count": 9,
   "id": "8b57234c",
   "metadata": {
    "execution": {
     "iopub.execute_input": "2021-12-18T11:02:48.385329Z",
     "iopub.status.busy": "2021-12-18T11:02:48.384625Z",
     "iopub.status.idle": "2021-12-18T11:02:48.398671Z",
     "shell.execute_reply": "2021-12-18T11:02:48.398116Z",
     "shell.execute_reply.started": "2021-12-18T10:07:04.379521Z"
    },
    "papermill": {
     "duration": 0.053508,
     "end_time": "2021-12-18T11:02:48.398806",
     "exception": false,
     "start_time": "2021-12-18T11:02:48.345298",
     "status": "completed"
    },
    "tags": []
   },
   "outputs": [
    {
     "data": {
      "text/plain": [
       "8212"
      ]
     },
     "execution_count": 9,
     "metadata": {},
     "output_type": "execute_result"
    }
   ],
   "source": [
    "df[df['isFraud']==1].index[-1] - df[df['isFraud']==1].index[0]"
   ]
  },
  {
   "cell_type": "markdown",
   "id": "fb2f0a7b",
   "metadata": {
    "papermill": {
     "duration": 0.031795,
     "end_time": "2021-12-18T11:02:48.462906",
     "exception": false,
     "start_time": "2021-12-18T11:02:48.431111",
     "status": "completed"
    },
    "tags": []
   },
   "source": [
    "--> The last rows in the df are labeled as fraud"
   ]
  },
  {
   "cell_type": "code",
   "execution_count": 10,
   "id": "b6e69e0d",
   "metadata": {
    "execution": {
     "iopub.execute_input": "2021-12-18T11:02:48.531427Z",
     "iopub.status.busy": "2021-12-18T11:02:48.530752Z",
     "iopub.status.idle": "2021-12-18T11:02:49.331787Z",
     "shell.execute_reply": "2021-12-18T11:02:49.331161Z",
     "shell.execute_reply.started": "2021-12-18T10:07:04.401970Z"
    },
    "papermill": {
     "duration": 0.837594,
     "end_time": "2021-12-18T11:02:49.331927",
     "exception": false,
     "start_time": "2021-12-18T11:02:48.494333",
     "status": "completed"
    },
    "tags": []
   },
   "outputs": [],
   "source": [
    "df_10 = df.sample(frac=0.1)"
   ]
  },
  {
   "cell_type": "code",
   "execution_count": 11,
   "id": "47173dda",
   "metadata": {
    "execution": {
     "iopub.execute_input": "2021-12-18T11:02:49.398258Z",
     "iopub.status.busy": "2021-12-18T11:02:49.397563Z",
     "iopub.status.idle": "2021-12-18T11:02:49.407699Z",
     "shell.execute_reply": "2021-12-18T11:02:49.408306Z",
     "shell.execute_reply.started": "2021-12-18T10:07:05.239076Z"
    },
    "papermill": {
     "duration": 0.045253,
     "end_time": "2021-12-18T11:02:49.408472",
     "exception": false,
     "start_time": "2021-12-18T11:02:49.363219",
     "status": "completed"
    },
    "tags": []
   },
   "outputs": [
    {
     "data": {
      "text/plain": [
       "0    635402\n",
       "1       860\n",
       "Name: isFraud, dtype: int64"
      ]
     },
     "execution_count": 11,
     "metadata": {},
     "output_type": "execute_result"
    }
   ],
   "source": [
    "df_10['isFraud'].value_counts()"
   ]
  },
  {
   "cell_type": "code",
   "execution_count": 12,
   "id": "7a61d8d0",
   "metadata": {
    "execution": {
     "iopub.execute_input": "2021-12-18T11:02:49.487324Z",
     "iopub.status.busy": "2021-12-18T11:02:49.486661Z",
     "iopub.status.idle": "2021-12-18T11:02:49.489246Z",
     "shell.execute_reply": "2021-12-18T11:02:49.489701Z",
     "shell.execute_reply.started": "2021-12-18T10:07:05.252932Z"
    },
    "papermill": {
     "duration": 0.049619,
     "end_time": "2021-12-18T11:02:49.489855",
     "exception": false,
     "start_time": "2021-12-18T11:02:49.440236",
     "status": "completed"
    },
    "tags": []
   },
   "outputs": [
    {
     "data": {
      "text/html": [
       "<div>\n",
       "<style scoped>\n",
       "    .dataframe tbody tr th:only-of-type {\n",
       "        vertical-align: middle;\n",
       "    }\n",
       "\n",
       "    .dataframe tbody tr th {\n",
       "        vertical-align: top;\n",
       "    }\n",
       "\n",
       "    .dataframe thead th {\n",
       "        text-align: right;\n",
       "    }\n",
       "</style>\n",
       "<table border=\"1\" class=\"dataframe\">\n",
       "  <thead>\n",
       "    <tr style=\"text-align: right;\">\n",
       "      <th></th>\n",
       "      <th>step</th>\n",
       "      <th>type</th>\n",
       "      <th>amount</th>\n",
       "      <th>nameOrig</th>\n",
       "      <th>oldbalanceOrg</th>\n",
       "      <th>newbalanceOrig</th>\n",
       "      <th>nameDest</th>\n",
       "      <th>oldbalanceDest</th>\n",
       "      <th>newbalanceDest</th>\n",
       "      <th>isFraud</th>\n",
       "      <th>isFlaggedFraud</th>\n",
       "    </tr>\n",
       "  </thead>\n",
       "  <tbody>\n",
       "    <tr>\n",
       "      <th>24246</th>\n",
       "      <td>323</td>\n",
       "      <td>CASH_OUT</td>\n",
       "      <td>66563.911400</td>\n",
       "      <td>160_4431166_0</td>\n",
       "      <td>11471.891106</td>\n",
       "      <td>0.000000</td>\n",
       "      <td>160_328493_0</td>\n",
       "      <td>153225.255118</td>\n",
       "      <td>219605.492869</td>\n",
       "      <td>0</td>\n",
       "      <td>0</td>\n",
       "    </tr>\n",
       "    <tr>\n",
       "      <th>656669</th>\n",
       "      <td>130</td>\n",
       "      <td>PAYMENT</td>\n",
       "      <td>8830.998618</td>\n",
       "      <td>160_2113249_0</td>\n",
       "      <td>271608.038045</td>\n",
       "      <td>262777.039427</td>\n",
       "      <td>160_898104_0</td>\n",
       "      <td>4.202699</td>\n",
       "      <td>2.815006</td>\n",
       "      <td>0</td>\n",
       "      <td>0</td>\n",
       "    </tr>\n",
       "    <tr>\n",
       "      <th>5510321</th>\n",
       "      <td>37</td>\n",
       "      <td>PAYMENT</td>\n",
       "      <td>6680.315764</td>\n",
       "      <td>160_730633_0</td>\n",
       "      <td>288867.126745</td>\n",
       "      <td>282186.810981</td>\n",
       "      <td>160_313681_0</td>\n",
       "      <td>9.730429</td>\n",
       "      <td>3.066732</td>\n",
       "      <td>0</td>\n",
       "      <td>0</td>\n",
       "    </tr>\n",
       "    <tr>\n",
       "      <th>2937945</th>\n",
       "      <td>298</td>\n",
       "      <td>TRANSFER</td>\n",
       "      <td>21630.320145</td>\n",
       "      <td>160_3994973_0</td>\n",
       "      <td>0.777719</td>\n",
       "      <td>0.000000</td>\n",
       "      <td>160_1710939_0</td>\n",
       "      <td>93811.915522</td>\n",
       "      <td>115314.530441</td>\n",
       "      <td>0</td>\n",
       "      <td>0</td>\n",
       "    </tr>\n",
       "    <tr>\n",
       "      <th>525380</th>\n",
       "      <td>283</td>\n",
       "      <td>CASH_IN</td>\n",
       "      <td>46917.306127</td>\n",
       "      <td>160_3854713_0</td>\n",
       "      <td>10892.743449</td>\n",
       "      <td>0.000000</td>\n",
       "      <td>160_202627_0</td>\n",
       "      <td>61017.799257</td>\n",
       "      <td>14115.185345</td>\n",
       "      <td>0</td>\n",
       "      <td>0</td>\n",
       "    </tr>\n",
       "  </tbody>\n",
       "</table>\n",
       "</div>"
      ],
      "text/plain": [
       "         step      type        amount       nameOrig  oldbalanceOrg  \\\n",
       "24246     323  CASH_OUT  66563.911400  160_4431166_0   11471.891106   \n",
       "656669    130   PAYMENT   8830.998618  160_2113249_0  271608.038045   \n",
       "5510321    37   PAYMENT   6680.315764   160_730633_0  288867.126745   \n",
       "2937945   298  TRANSFER  21630.320145  160_3994973_0       0.777719   \n",
       "525380    283   CASH_IN  46917.306127  160_3854713_0   10892.743449   \n",
       "\n",
       "         newbalanceOrig       nameDest  oldbalanceDest  newbalanceDest  \\\n",
       "24246          0.000000   160_328493_0   153225.255118   219605.492869   \n",
       "656669    262777.039427   160_898104_0        4.202699        2.815006   \n",
       "5510321   282186.810981   160_313681_0        9.730429        3.066732   \n",
       "2937945        0.000000  160_1710939_0    93811.915522   115314.530441   \n",
       "525380         0.000000   160_202627_0    61017.799257    14115.185345   \n",
       "\n",
       "         isFraud  isFlaggedFraud  \n",
       "24246          0               0  \n",
       "656669         0               0  \n",
       "5510321        0               0  \n",
       "2937945        0               0  \n",
       "525380         0               0  "
      ]
     },
     "execution_count": 12,
     "metadata": {},
     "output_type": "execute_result"
    }
   ],
   "source": [
    "df_10.head()"
   ]
  },
  {
   "cell_type": "code",
   "execution_count": 13,
   "id": "9a181f88",
   "metadata": {
    "execution": {
     "iopub.execute_input": "2021-12-18T11:02:49.558278Z",
     "iopub.status.busy": "2021-12-18T11:02:49.557607Z",
     "iopub.status.idle": "2021-12-18T11:02:49.665593Z",
     "shell.execute_reply": "2021-12-18T11:02:49.664991Z",
     "shell.execute_reply.started": "2021-12-18T10:07:05.281272Z"
    },
    "papermill": {
     "duration": 0.143497,
     "end_time": "2021-12-18T11:02:49.665741",
     "exception": false,
     "start_time": "2021-12-18T11:02:49.522244",
     "status": "completed"
    },
    "tags": []
   },
   "outputs": [
    {
     "data": {
      "text/plain": [
       "CASH_OUT    224460\n",
       "PAYMENT     214928\n",
       "CASH_IN     139117\n",
       "TRANSFER     53583\n",
       "DEBIT         4174\n",
       "Name: type, dtype: int64"
      ]
     },
     "execution_count": 13,
     "metadata": {},
     "output_type": "execute_result"
    }
   ],
   "source": [
    "df_10['type'].value_counts()"
   ]
  },
  {
   "cell_type": "code",
   "execution_count": 14,
   "id": "00ebc10c",
   "metadata": {
    "execution": {
     "iopub.execute_input": "2021-12-18T11:02:49.837045Z",
     "iopub.status.busy": "2021-12-18T11:02:49.836216Z",
     "iopub.status.idle": "2021-12-18T11:02:49.841600Z",
     "shell.execute_reply": "2021-12-18T11:02:49.841064Z",
     "shell.execute_reply.started": "2021-12-18T10:07:05.393924Z"
    },
    "papermill": {
     "duration": 0.144069,
     "end_time": "2021-12-18T11:02:49.841736",
     "exception": false,
     "start_time": "2021-12-18T11:02:49.697667",
     "status": "completed"
    },
    "tags": []
   },
   "outputs": [
    {
     "data": {
      "text/plain": [
       "Index(['CASH_OUT', 'PAYMENT', 'CASH_IN', 'TRANSFER', 'DEBIT'], dtype='object')"
      ]
     },
     "execution_count": 14,
     "metadata": {},
     "output_type": "execute_result"
    }
   ],
   "source": [
    "df_10['type'].value_counts().index"
   ]
  },
  {
   "cell_type": "code",
   "execution_count": 15,
   "id": "754b7640",
   "metadata": {
    "execution": {
     "iopub.execute_input": "2021-12-18T11:02:50.120024Z",
     "iopub.status.busy": "2021-12-18T11:02:50.014667Z",
     "iopub.status.idle": "2021-12-18T11:02:50.366881Z",
     "shell.execute_reply": "2021-12-18T11:02:50.366208Z",
     "shell.execute_reply.started": "2021-12-18T10:07:05.514732Z"
    },
    "papermill": {
     "duration": 0.492868,
     "end_time": "2021-12-18T11:02:50.367029",
     "exception": false,
     "start_time": "2021-12-18T11:02:49.874161",
     "status": "completed"
    },
    "tags": []
   },
   "outputs": [
    {
     "data": {
      "text/plain": [
       "Text(0.5, 1.0, 'Type of transaction')"
      ]
     },
     "execution_count": 15,
     "metadata": {},
     "output_type": "execute_result"
    },
    {
     "data": {
      "image/png": "[encoded data removed]",
      "text/plain": [
       "<Figure size 720x432 with 1 Axes>"
      ]
     },
     "metadata": {},
     "output_type": "display_data"
    }
   ],
   "source": [
    "fig = plt.figure(figsize=(10,6))\n",
    "x = df_10['type'].value_counts().index\n",
    "y = df_10['type'].value_counts()\n",
    "plt.bar(x,y)\n",
    "plt.title('Type of transaction')"
   ]
  },
  {
   "cell_type": "code",
   "execution_count": 16,
   "id": "ecf3de2d",
   "metadata": {
    "execution": {
     "iopub.execute_input": "2021-12-18T11:02:50.438708Z",
     "iopub.status.busy": "2021-12-18T11:02:50.438098Z",
     "iopub.status.idle": "2021-12-18T11:02:50.774461Z",
     "shell.execute_reply": "2021-12-18T11:02:50.774930Z",
     "shell.execute_reply.started": "2021-12-18T10:07:06.000666Z"
    },
    "papermill": {
     "duration": 0.374367,
     "end_time": "2021-12-18T11:02:50.775131",
     "exception": false,
     "start_time": "2021-12-18T11:02:50.400764",
     "status": "completed"
    },
    "tags": []
   },
   "outputs": [
    {
     "data": {
      "text/plain": [
       "step              0\n",
       "type              0\n",
       "amount            0\n",
       "nameOrig          0\n",
       "oldbalanceOrg     0\n",
       "newbalanceOrig    0\n",
       "nameDest          0\n",
       "oldbalanceDest    0\n",
       "newbalanceDest    0\n",
       "isFraud           0\n",
       "isFlaggedFraud    0\n",
       "dtype: int64"
      ]
     },
     "execution_count": 16,
     "metadata": {},
     "output_type": "execute_result"
    }
   ],
   "source": [
    "df_10.isna().sum()"
   ]
  },
  {
   "cell_type": "code",
   "execution_count": 17,
   "id": "4318f292",
   "metadata": {
    "execution": {
     "iopub.execute_input": "2021-12-18T11:02:50.860634Z",
     "iopub.status.busy": "2021-12-18T11:02:50.859811Z",
     "iopub.status.idle": "2021-12-18T11:02:50.863584Z",
     "shell.execute_reply": "2021-12-18T11:02:50.862997Z",
     "shell.execute_reply.started": "2021-12-18T10:07:06.352246Z"
    },
    "papermill": {
     "duration": 0.046024,
     "end_time": "2021-12-18T11:02:50.863719",
     "exception": false,
     "start_time": "2021-12-18T11:02:50.817695",
     "status": "completed"
    },
    "tags": []
   },
   "outputs": [
    {
     "data": {
      "text/plain": [
       "step                int64\n",
       "type               object\n",
       "amount            float64\n",
       "nameOrig           object\n",
       "oldbalanceOrg     float64\n",
       "newbalanceOrig    float64\n",
       "nameDest           object\n",
       "oldbalanceDest    float64\n",
       "newbalanceDest    float64\n",
       "isFraud             int64\n",
       "isFlaggedFraud      int64\n",
       "dtype: object"
      ]
     },
     "execution_count": 17,
     "metadata": {},
     "output_type": "execute_result"
    }
   ],
   "source": [
    "df_10.dtypes"
   ]
  },
  {
   "cell_type": "code",
   "execution_count": 18,
   "id": "ffcf767d",
   "metadata": {
    "execution": {
     "iopub.execute_input": "2021-12-18T11:02:51.659240Z",
     "iopub.status.busy": "2021-12-18T11:02:51.657903Z",
     "iopub.status.idle": "2021-12-18T11:02:51.927299Z",
     "shell.execute_reply": "2021-12-18T11:02:51.926716Z",
     "shell.execute_reply.started": "2021-12-18T10:07:06.362438Z"
    },
    "papermill": {
     "duration": 1.029524,
     "end_time": "2021-12-18T11:02:51.927439",
     "exception": false,
     "start_time": "2021-12-18T11:02:50.897915",
     "status": "completed"
    },
    "tags": []
   },
   "outputs": [
    {
     "data": {
      "text/plain": [
       "160_1449445_0    2\n",
       "160_1771492_0    2\n",
       "160_1244287_0    2\n",
       "160_498558_0     2\n",
       "160_2106405_0    2\n",
       "                ..\n",
       "160_4523822_0    1\n",
       "160_1682368_0    1\n",
       "160_2104631_0    1\n",
       "160_1120642_0    1\n",
       "160_4224798_0    1\n",
       "Name: nameOrig, Length: 636160, dtype: int64"
      ]
     },
     "execution_count": 18,
     "metadata": {},
     "output_type": "execute_result"
    }
   ],
   "source": [
    "df_10['nameOrig'].value_counts()"
   ]
  },
  {
   "cell_type": "markdown",
   "id": "f0ad8d4a",
   "metadata": {
    "papermill": {
     "duration": 0.03549,
     "end_time": "2021-12-18T11:02:51.998906",
     "exception": false,
     "start_time": "2021-12-18T11:02:51.963416",
     "status": "completed"
    },
    "tags": []
   },
   "source": [
    "### LabelEncode object typed columns to get numeric data for them"
   ]
  },
  {
   "cell_type": "code",
   "execution_count": 19,
   "id": "2cf02be8",
   "metadata": {
    "execution": {
     "iopub.execute_input": "2021-12-18T11:02:52.074370Z",
     "iopub.status.busy": "2021-12-18T11:02:52.073376Z",
     "iopub.status.idle": "2021-12-18T11:02:56.311509Z",
     "shell.execute_reply": "2021-12-18T11:02:56.312095Z",
     "shell.execute_reply.started": "2021-12-18T10:07:07.365183Z"
    },
    "papermill": {
     "duration": 4.277955,
     "end_time": "2021-12-18T11:02:56.312300",
     "exception": false,
     "start_time": "2021-12-18T11:02:52.034345",
     "status": "completed"
    },
    "tags": []
   },
   "outputs": [],
   "source": [
    "le = LabelEncoder()\n",
    "df_10_le = df_10.copy()\n",
    "\n",
    "for i_col in df_10_le.columns:\n",
    "    if df_10_le[i_col].dtype == \"object\":\n",
    "        labels = df_10_le[i_col].astype(str).values\n",
    "        le.fit(labels)\n",
    "        df_10_le[i_col] = le.transform(df_10_le[i_col])"
   ]
  },
  {
   "cell_type": "code",
   "execution_count": 20,
   "id": "1871f50d",
   "metadata": {
    "execution": {
     "iopub.execute_input": "2021-12-18T11:02:56.387784Z",
     "iopub.status.busy": "2021-12-18T11:02:56.386840Z",
     "iopub.status.idle": "2021-12-18T11:02:56.400557Z",
     "shell.execute_reply": "2021-12-18T11:02:56.401032Z",
     "shell.execute_reply.started": "2021-12-18T10:07:11.643629Z"
    },
    "papermill": {
     "duration": 0.053417,
     "end_time": "2021-12-18T11:02:56.401223",
     "exception": false,
     "start_time": "2021-12-18T11:02:56.347806",
     "status": "completed"
    },
    "tags": []
   },
   "outputs": [
    {
     "data": {
      "text/html": [
       "<div>\n",
       "<style scoped>\n",
       "    .dataframe tbody tr th:only-of-type {\n",
       "        vertical-align: middle;\n",
       "    }\n",
       "\n",
       "    .dataframe tbody tr th {\n",
       "        vertical-align: top;\n",
       "    }\n",
       "\n",
       "    .dataframe thead th {\n",
       "        text-align: right;\n",
       "    }\n",
       "</style>\n",
       "<table border=\"1\" class=\"dataframe\">\n",
       "  <thead>\n",
       "    <tr style=\"text-align: right;\">\n",
       "      <th></th>\n",
       "      <th>step</th>\n",
       "      <th>type</th>\n",
       "      <th>amount</th>\n",
       "      <th>nameOrig</th>\n",
       "      <th>oldbalanceOrg</th>\n",
       "      <th>newbalanceOrig</th>\n",
       "      <th>nameDest</th>\n",
       "      <th>oldbalanceDest</th>\n",
       "      <th>newbalanceDest</th>\n",
       "      <th>isFraud</th>\n",
       "      <th>isFlaggedFraud</th>\n",
       "    </tr>\n",
       "  </thead>\n",
       "  <tbody>\n",
       "    <tr>\n",
       "      <th>24246</th>\n",
       "      <td>323</td>\n",
       "      <td>1</td>\n",
       "      <td>66563.911400</td>\n",
       "      <td>382166</td>\n",
       "      <td>11471.891106</td>\n",
       "      <td>0.000000</td>\n",
       "      <td>298411</td>\n",
       "      <td>153225.255118</td>\n",
       "      <td>219605.492869</td>\n",
       "      <td>0</td>\n",
       "      <td>0</td>\n",
       "    </tr>\n",
       "    <tr>\n",
       "      <th>656669</th>\n",
       "      <td>130</td>\n",
       "      <td>3</td>\n",
       "      <td>8830.998618</td>\n",
       "      <td>124173</td>\n",
       "      <td>271608.038045</td>\n",
       "      <td>262777.039427</td>\n",
       "      <td>435048</td>\n",
       "      <td>4.202699</td>\n",
       "      <td>2.815006</td>\n",
       "      <td>0</td>\n",
       "      <td>0</td>\n",
       "    </tr>\n",
       "    <tr>\n",
       "      <th>5510321</th>\n",
       "      <td>37</td>\n",
       "      <td>3</td>\n",
       "      <td>6680.315764</td>\n",
       "      <td>605347</td>\n",
       "      <td>288867.126745</td>\n",
       "      <td>282186.810981</td>\n",
       "      <td>294063</td>\n",
       "      <td>9.730429</td>\n",
       "      <td>3.066732</td>\n",
       "      <td>0</td>\n",
       "      <td>0</td>\n",
       "    </tr>\n",
       "    <tr>\n",
       "      <th>2937945</th>\n",
       "      <td>298</td>\n",
       "      <td>4</td>\n",
       "      <td>21630.320145</td>\n",
       "      <td>333807</td>\n",
       "      <td>0.777719</td>\n",
       "      <td>0.000000</td>\n",
       "      <td>134165</td>\n",
       "      <td>93811.915522</td>\n",
       "      <td>115314.530441</td>\n",
       "      <td>0</td>\n",
       "      <td>0</td>\n",
       "    </tr>\n",
       "    <tr>\n",
       "      <th>525380</th>\n",
       "      <td>283</td>\n",
       "      <td>0</td>\n",
       "      <td>46917.306127</td>\n",
       "      <td>318175</td>\n",
       "      <td>10892.743449</td>\n",
       "      <td>0.000000</td>\n",
       "      <td>186722</td>\n",
       "      <td>61017.799257</td>\n",
       "      <td>14115.185345</td>\n",
       "      <td>0</td>\n",
       "      <td>0</td>\n",
       "    </tr>\n",
       "  </tbody>\n",
       "</table>\n",
       "</div>"
      ],
      "text/plain": [
       "         step  type        amount  nameOrig  oldbalanceOrg  newbalanceOrig  \\\n",
       "24246     323     1  66563.911400    382166   11471.891106        0.000000   \n",
       "656669    130     3   8830.998618    124173  271608.038045   262777.039427   \n",
       "5510321    37     3   6680.315764    605347  288867.126745   282186.810981   \n",
       "2937945   298     4  21630.320145    333807       0.777719        0.000000   \n",
       "525380    283     0  46917.306127    318175   10892.743449        0.000000   \n",
       "\n",
       "         nameDest  oldbalanceDest  newbalanceDest  isFraud  isFlaggedFraud  \n",
       "24246      298411   153225.255118   219605.492869        0               0  \n",
       "656669     435048        4.202699        2.815006        0               0  \n",
       "5510321    294063        9.730429        3.066732        0               0  \n",
       "2937945    134165    93811.915522   115314.530441        0               0  \n",
       "525380     186722    61017.799257    14115.185345        0               0  "
      ]
     },
     "execution_count": 20,
     "metadata": {},
     "output_type": "execute_result"
    }
   ],
   "source": [
    "df_10_le.head()"
   ]
  },
  {
   "cell_type": "markdown",
   "id": "860c74a4",
   "metadata": {
    "papermill": {
     "duration": 0.03553,
     "end_time": "2021-12-18T11:02:56.472415",
     "exception": false,
     "start_time": "2021-12-18T11:02:56.436885",
     "status": "completed"
    },
    "tags": []
   },
   "source": [
    "## Import isolation forest"
   ]
  },
  {
   "cell_type": "code",
   "execution_count": 21,
   "id": "01943632",
   "metadata": {
    "execution": {
     "iopub.execute_input": "2021-12-18T11:02:56.548622Z",
     "iopub.status.busy": "2021-12-18T11:02:56.547688Z",
     "iopub.status.idle": "2021-12-18T11:02:56.781023Z",
     "shell.execute_reply": "2021-12-18T11:02:56.780471Z",
     "shell.execute_reply.started": "2021-12-18T10:07:11.662516Z"
    },
    "papermill": {
     "duration": 0.272627,
     "end_time": "2021-12-18T11:02:56.781203",
     "exception": false,
     "start_time": "2021-12-18T11:02:56.508576",
     "status": "completed"
    },
    "tags": []
   },
   "outputs": [],
   "source": [
    "from sklearn.ensemble import IsolationForest"
   ]
  },
  {
   "cell_type": "code",
   "execution_count": 22,
   "id": "15d1b871",
   "metadata": {
    "execution": {
     "iopub.execute_input": "2021-12-18T11:02:56.862166Z",
     "iopub.status.busy": "2021-12-18T11:02:56.860152Z",
     "iopub.status.idle": "2021-12-18T11:06:40.636534Z",
     "shell.execute_reply": "2021-12-18T11:06:40.635950Z",
     "shell.execute_reply.started": "2021-12-18T10:07:11.924806Z"
    },
    "papermill": {
     "duration": 223.819747,
     "end_time": "2021-12-18T11:06:40.636695",
     "exception": false,
     "start_time": "2021-12-18T11:02:56.816948",
     "status": "completed"
    },
    "tags": []
   },
   "outputs": [
    {
     "name": "stdout",
     "output_type": "stream",
     "text": [
      "CPU times: user 3min 15s, sys: 28.2 s, total: 3min 43s\n",
      "Wall time: 3min 43s\n"
     ]
    },
    {
     "data": {
      "text/plain": [
       "IsolationForest(contamination=0.01, n_estimators=1000)"
      ]
     },
     "execution_count": 22,
     "metadata": {},
     "output_type": "execute_result"
    }
   ],
   "source": [
    "%%time\n",
    "model = IsolationForest(contamination=0.01, n_estimators=1000)\n",
    "model.fit(df_10_le)"
   ]
  },
  {
   "cell_type": "markdown",
   "id": "03706d46",
   "metadata": {
    "papermill": {
     "duration": 0.037129,
     "end_time": "2021-12-18T11:06:40.710100",
     "exception": false,
     "start_time": "2021-12-18T11:06:40.672971",
     "status": "completed"
    },
    "tags": []
   },
   "source": [
    "### Predict Outliers for current dataset"
   ]
  },
  {
   "cell_type": "code",
   "execution_count": 23,
   "id": "4916fa0c",
   "metadata": {
    "execution": {
     "iopub.execute_input": "2021-12-18T11:06:40.789179Z",
     "iopub.status.busy": "2021-12-18T11:06:40.788207Z",
     "iopub.status.idle": "2021-12-18T11:06:40.791700Z",
     "shell.execute_reply": "2021-12-18T11:06:40.792165Z",
     "shell.execute_reply.started": "2021-12-18T10:10:52.090948Z"
    },
    "papermill": {
     "duration": 0.045666,
     "end_time": "2021-12-18T11:06:40.792341",
     "exception": false,
     "start_time": "2021-12-18T11:06:40.746675",
     "status": "completed"
    },
    "tags": []
   },
   "outputs": [],
   "source": [
    "df_10.reset_index(inplace=True)"
   ]
  },
  {
   "cell_type": "code",
   "execution_count": 24,
   "id": "f152484f",
   "metadata": {
    "execution": {
     "iopub.execute_input": "2021-12-18T11:06:40.873690Z",
     "iopub.status.busy": "2021-12-18T11:06:40.872236Z",
     "iopub.status.idle": "2021-12-18T11:09:45.500239Z",
     "shell.execute_reply": "2021-12-18T11:09:45.500750Z",
     "shell.execute_reply.started": "2021-12-18T10:10:52.099943Z"
    },
    "papermill": {
     "duration": 184.671873,
     "end_time": "2021-12-18T11:09:45.500931",
     "exception": false,
     "start_time": "2021-12-18T11:06:40.829058",
     "status": "completed"
    },
    "tags": []
   },
   "outputs": [
    {
     "data": {
      "text/plain": [
       " 1    629899\n",
       "-1      6363\n",
       "Name: iForest, dtype: int64"
      ]
     },
     "execution_count": 24,
     "metadata": {},
     "output_type": "execute_result"
    }
   ],
   "source": [
    "df_10['iForest'] = pd.Series(model.predict(df_10_le))\n",
    "df_10['iForest'].value_counts()"
   ]
  },
  {
   "cell_type": "code",
   "execution_count": 25,
   "id": "2f3853f1",
   "metadata": {
    "execution": {
     "iopub.execute_input": "2021-12-18T11:09:45.578979Z",
     "iopub.status.busy": "2021-12-18T11:09:45.578354Z",
     "iopub.status.idle": "2021-12-18T11:09:45.622329Z",
     "shell.execute_reply": "2021-12-18T11:09:45.622820Z",
     "shell.execute_reply.started": "2021-12-18T10:13:57.088843Z"
    },
    "papermill": {
     "duration": 0.085238,
     "end_time": "2021-12-18T11:09:45.622980",
     "exception": false,
     "start_time": "2021-12-18T11:09:45.537742",
     "status": "completed"
    },
    "tags": []
   },
   "outputs": [
    {
     "data": {
      "text/html": [
       "<div>\n",
       "<style scoped>\n",
       "    .dataframe tbody tr th:only-of-type {\n",
       "        vertical-align: middle;\n",
       "    }\n",
       "\n",
       "    .dataframe tbody tr th {\n",
       "        vertical-align: top;\n",
       "    }\n",
       "\n",
       "    .dataframe thead th {\n",
       "        text-align: right;\n",
       "    }\n",
       "</style>\n",
       "<table border=\"1\" class=\"dataframe\">\n",
       "  <thead>\n",
       "    <tr style=\"text-align: right;\">\n",
       "      <th></th>\n",
       "      <th>index</th>\n",
       "      <th>step</th>\n",
       "      <th>type</th>\n",
       "      <th>amount</th>\n",
       "      <th>nameOrig</th>\n",
       "      <th>oldbalanceOrg</th>\n",
       "      <th>newbalanceOrig</th>\n",
       "      <th>nameDest</th>\n",
       "      <th>oldbalanceDest</th>\n",
       "      <th>newbalanceDest</th>\n",
       "      <th>isFraud</th>\n",
       "      <th>isFlaggedFraud</th>\n",
       "      <th>iForest</th>\n",
       "    </tr>\n",
       "  </thead>\n",
       "  <tbody>\n",
       "    <tr>\n",
       "      <th>361</th>\n",
       "      <td>6361306</td>\n",
       "      <td>225</td>\n",
       "      <td>TRANSFER</td>\n",
       "      <td>232575.37</td>\n",
       "      <td>161_6613_0</td>\n",
       "      <td>232618.37</td>\n",
       "      <td>43.0</td>\n",
       "      <td>161_6579_0</td>\n",
       "      <td>3.532442e+03</td>\n",
       "      <td>1.685606e+02</td>\n",
       "      <td>1</td>\n",
       "      <td>0</td>\n",
       "      <td>1</td>\n",
       "    </tr>\n",
       "    <tr>\n",
       "      <th>945</th>\n",
       "      <td>6359164</td>\n",
       "      <td>636</td>\n",
       "      <td>TRANSFER</td>\n",
       "      <td>38140.22</td>\n",
       "      <td>161_2345_0</td>\n",
       "      <td>38140.22</td>\n",
       "      <td>0.0</td>\n",
       "      <td>161_2333_0</td>\n",
       "      <td>1.518564e+03</td>\n",
       "      <td>1.977196e+01</td>\n",
       "      <td>1</td>\n",
       "      <td>0</td>\n",
       "      <td>1</td>\n",
       "    </tr>\n",
       "    <tr>\n",
       "      <th>1322</th>\n",
       "      <td>6359393</td>\n",
       "      <td>385</td>\n",
       "      <td>TRANSFER</td>\n",
       "      <td>2291497.65</td>\n",
       "      <td>161_2803_0</td>\n",
       "      <td>2291425.65</td>\n",
       "      <td>-72.0</td>\n",
       "      <td>161_2791_0</td>\n",
       "      <td>5.126491e+03</td>\n",
       "      <td>6.056990e+02</td>\n",
       "      <td>1</td>\n",
       "      <td>0</td>\n",
       "      <td>1</td>\n",
       "    </tr>\n",
       "    <tr>\n",
       "      <th>6729</th>\n",
       "      <td>6360391</td>\n",
       "      <td>247</td>\n",
       "      <td>TRANSFER</td>\n",
       "      <td>209821.57</td>\n",
       "      <td>161_4787_0</td>\n",
       "      <td>209911.57</td>\n",
       "      <td>90.0</td>\n",
       "      <td>161_4761_0</td>\n",
       "      <td>4.829518e+03</td>\n",
       "      <td>1.528516e+03</td>\n",
       "      <td>1</td>\n",
       "      <td>0</td>\n",
       "      <td>1</td>\n",
       "    </tr>\n",
       "    <tr>\n",
       "      <th>6864</th>\n",
       "      <td>6355063</td>\n",
       "      <td>563</td>\n",
       "      <td>CASH_OUT</td>\n",
       "      <td>96996.06</td>\n",
       "      <td>161_6218_0</td>\n",
       "      <td>96933.06</td>\n",
       "      <td>-63.0</td>\n",
       "      <td>161_6188_0</td>\n",
       "      <td>1.110682e+06</td>\n",
       "      <td>1.211398e+06</td>\n",
       "      <td>1</td>\n",
       "      <td>0</td>\n",
       "      <td>1</td>\n",
       "    </tr>\n",
       "    <tr>\n",
       "      <th>...</th>\n",
       "      <td>...</td>\n",
       "      <td>...</td>\n",
       "      <td>...</td>\n",
       "      <td>...</td>\n",
       "      <td>...</td>\n",
       "      <td>...</td>\n",
       "      <td>...</td>\n",
       "      <td>...</td>\n",
       "      <td>...</td>\n",
       "      <td>...</td>\n",
       "      <td>...</td>\n",
       "      <td>...</td>\n",
       "      <td>...</td>\n",
       "    </tr>\n",
       "    <tr>\n",
       "      <th>632728</th>\n",
       "      <td>6362334</td>\n",
       "      <td>228</td>\n",
       "      <td>CASH_OUT</td>\n",
       "      <td>4526739.52</td>\n",
       "      <td>161_2570_0</td>\n",
       "      <td>4526827.52</td>\n",
       "      <td>88.0</td>\n",
       "      <td>161_2558_0</td>\n",
       "      <td>4.162533e+05</td>\n",
       "      <td>4.941481e+06</td>\n",
       "      <td>1</td>\n",
       "      <td>0</td>\n",
       "      <td>-1</td>\n",
       "    </tr>\n",
       "    <tr>\n",
       "      <th>633542</th>\n",
       "      <td>6357278</td>\n",
       "      <td>250</td>\n",
       "      <td>CASH_OUT</td>\n",
       "      <td>52787.24</td>\n",
       "      <td>161_2826_0</td>\n",
       "      <td>52709.24</td>\n",
       "      <td>-78.0</td>\n",
       "      <td>161_2813_0</td>\n",
       "      <td>6.034581e+04</td>\n",
       "      <td>1.109794e+05</td>\n",
       "      <td>1</td>\n",
       "      <td>0</td>\n",
       "      <td>1</td>\n",
       "    </tr>\n",
       "    <tr>\n",
       "      <th>634238</th>\n",
       "      <td>6358944</td>\n",
       "      <td>281</td>\n",
       "      <td>TRANSFER</td>\n",
       "      <td>46071.33</td>\n",
       "      <td>161_1904_0</td>\n",
       "      <td>46140.33</td>\n",
       "      <td>69.0</td>\n",
       "      <td>161_1892_0</td>\n",
       "      <td>1.221340e+03</td>\n",
       "      <td>9.092134e+02</td>\n",
       "      <td>1</td>\n",
       "      <td>0</td>\n",
       "      <td>1</td>\n",
       "    </tr>\n",
       "    <tr>\n",
       "      <th>635142</th>\n",
       "      <td>6361875</td>\n",
       "      <td>216</td>\n",
       "      <td>TRANSFER</td>\n",
       "      <td>342678.47</td>\n",
       "      <td>161_7741_0</td>\n",
       "      <td>342638.47</td>\n",
       "      <td>-40.0</td>\n",
       "      <td>161_7701_0</td>\n",
       "      <td>1.295741e+03</td>\n",
       "      <td>3.830435e+03</td>\n",
       "      <td>1</td>\n",
       "      <td>0</td>\n",
       "      <td>1</td>\n",
       "    </tr>\n",
       "    <tr>\n",
       "      <th>635795</th>\n",
       "      <td>6355606</td>\n",
       "      <td>530</td>\n",
       "      <td>CASH_OUT</td>\n",
       "      <td>398705.68</td>\n",
       "      <td>161_5884_0</td>\n",
       "      <td>398667.68</td>\n",
       "      <td>-38.0</td>\n",
       "      <td>161_5856_0</td>\n",
       "      <td>6.536537e+05</td>\n",
       "      <td>1.051836e+06</td>\n",
       "      <td>1</td>\n",
       "      <td>0</td>\n",
       "      <td>1</td>\n",
       "    </tr>\n",
       "  </tbody>\n",
       "</table>\n",
       "<p>860 rows × 13 columns</p>\n",
       "</div>"
      ],
      "text/plain": [
       "          index  step      type      amount    nameOrig  oldbalanceOrg  \\\n",
       "361     6361306   225  TRANSFER   232575.37  161_6613_0      232618.37   \n",
       "945     6359164   636  TRANSFER    38140.22  161_2345_0       38140.22   \n",
       "1322    6359393   385  TRANSFER  2291497.65  161_2803_0     2291425.65   \n",
       "6729    6360391   247  TRANSFER   209821.57  161_4787_0      209911.57   \n",
       "6864    6355063   563  CASH_OUT    96996.06  161_6218_0       96933.06   \n",
       "...         ...   ...       ...         ...         ...            ...   \n",
       "632728  6362334   228  CASH_OUT  4526739.52  161_2570_0     4526827.52   \n",
       "633542  6357278   250  CASH_OUT    52787.24  161_2826_0       52709.24   \n",
       "634238  6358944   281  TRANSFER    46071.33  161_1904_0       46140.33   \n",
       "635142  6361875   216  TRANSFER   342678.47  161_7741_0      342638.47   \n",
       "635795  6355606   530  CASH_OUT   398705.68  161_5884_0      398667.68   \n",
       "\n",
       "        newbalanceOrig    nameDest  oldbalanceDest  newbalanceDest  isFraud  \\\n",
       "361               43.0  161_6579_0    3.532442e+03    1.685606e+02        1   \n",
       "945                0.0  161_2333_0    1.518564e+03    1.977196e+01        1   \n",
       "1322             -72.0  161_2791_0    5.126491e+03    6.056990e+02        1   \n",
       "6729              90.0  161_4761_0    4.829518e+03    1.528516e+03        1   \n",
       "6864             -63.0  161_6188_0    1.110682e+06    1.211398e+06        1   \n",
       "...                ...         ...             ...             ...      ...   \n",
       "632728            88.0  161_2558_0    4.162533e+05    4.941481e+06        1   \n",
       "633542           -78.0  161_2813_0    6.034581e+04    1.109794e+05        1   \n",
       "634238            69.0  161_1892_0    1.221340e+03    9.092134e+02        1   \n",
       "635142           -40.0  161_7701_0    1.295741e+03    3.830435e+03        1   \n",
       "635795           -38.0  161_5856_0    6.536537e+05    1.051836e+06        1   \n",
       "\n",
       "        isFlaggedFraud  iForest  \n",
       "361                  0        1  \n",
       "945                  0        1  \n",
       "1322                 0        1  \n",
       "6729                 0        1  \n",
       "6864                 0        1  \n",
       "...                ...      ...  \n",
       "632728               0       -1  \n",
       "633542               0        1  \n",
       "634238               0        1  \n",
       "635142               0        1  \n",
       "635795               0        1  \n",
       "\n",
       "[860 rows x 13 columns]"
      ]
     },
     "execution_count": 25,
     "metadata": {},
     "output_type": "execute_result"
    }
   ],
   "source": [
    "df_10[df_10['isFraud']==1]"
   ]
  },
  {
   "cell_type": "markdown",
   "id": "49e8fc9e",
   "metadata": {
    "papermill": {
     "duration": 0.037141,
     "end_time": "2021-12-18T11:09:45.698893",
     "exception": false,
     "start_time": "2021-12-18T11:09:45.661752",
     "status": "completed"
    },
    "tags": []
   },
   "source": [
    "### Portion of labeled Frauds which is detected as Fraud and vice versa"
   ]
  },
  {
   "cell_type": "code",
   "execution_count": 26,
   "id": "cdc1b451",
   "metadata": {
    "execution": {
     "iopub.execute_input": "2021-12-18T11:09:45.776961Z",
     "iopub.status.busy": "2021-12-18T11:09:45.776375Z",
     "iopub.status.idle": "2021-12-18T11:09:45.782126Z",
     "shell.execute_reply": "2021-12-18T11:09:45.782625Z",
     "shell.execute_reply.started": "2021-12-18T10:25:51.927807Z"
    },
    "papermill": {
     "duration": 0.046279,
     "end_time": "2021-12-18T11:09:45.782787",
     "exception": false,
     "start_time": "2021-12-18T11:09:45.736508",
     "status": "completed"
    },
    "tags": []
   },
   "outputs": [],
   "source": [
    "frauds_detected = df_10['iForest'][df_10['isFraud']==1].value_counts()\n"
   ]
  },
  {
   "cell_type": "code",
   "execution_count": 27,
   "id": "1498e897",
   "metadata": {
    "execution": {
     "iopub.execute_input": "2021-12-18T11:09:45.861949Z",
     "iopub.status.busy": "2021-12-18T11:09:45.861290Z",
     "iopub.status.idle": "2021-12-18T11:09:45.866680Z",
     "shell.execute_reply": "2021-12-18T11:09:45.867218Z",
     "shell.execute_reply.started": "2021-12-18T10:44:01.018437Z"
    },
    "papermill": {
     "duration": 0.046108,
     "end_time": "2021-12-18T11:09:45.867384",
     "exception": false,
     "start_time": "2021-12-18T11:09:45.821276",
     "status": "completed"
    },
    "tags": []
   },
   "outputs": [
    {
     "name": "stdout",
     "output_type": "stream",
     "text": [
      "20.3 % of frauds have been detected (True positive), so 79.7 % have not been detected (False negative)\n"
     ]
    }
   ],
   "source": [
    "part_detected_frauds = frauds_detected[-1] / frauds_detected[1]\n",
    "print(f\"{part_detected_frauds*100:.3g} % of frauds have been detected (True positive), so {(1-part_detected_frauds)*100:.3g} % have not been detected (False negative)\")"
   ]
  },
  {
   "cell_type": "code",
   "execution_count": 28,
   "id": "6d072a4d",
   "metadata": {
    "execution": {
     "iopub.execute_input": "2021-12-18T11:09:45.947108Z",
     "iopub.status.busy": "2021-12-18T11:09:45.946102Z",
     "iopub.status.idle": "2021-12-18T11:09:45.955710Z",
     "shell.execute_reply": "2021-12-18T11:09:45.955159Z",
     "shell.execute_reply.started": "2021-12-18T11:01:40.511088Z"
    },
    "papermill": {
     "duration": 0.050529,
     "end_time": "2021-12-18T11:09:45.955967",
     "exception": false,
     "start_time": "2021-12-18T11:09:45.905438",
     "status": "completed"
    },
    "tags": []
   },
   "outputs": [
    {
     "name": "stdout",
     "output_type": "stream",
     "text": [
      "97.7 % of the detected frauds are no outliers (False positive), and 2.28 % of detected outliers are real outliers (True negative)\n"
     ]
    }
   ],
   "source": [
    "part_frauds_in_frauDetected = df_10['isFraud'][df_10['iForest']==-1].value_counts(normalize=True)\n",
    "print(f\"{part_frauds_in_frauDetected[0]*100:.3g} % of the detected frauds are no outliers (False positive), and {part_frauds_in_frauDetected[1]*100:.3g} % of detected outliers are real outliers (True negative)\")"
   ]
  },
  {
   "cell_type": "code",
   "execution_count": 29,
   "id": "8c4178a3",
   "metadata": {
    "execution": {
     "iopub.execute_input": "2021-12-18T11:09:46.043259Z",
     "iopub.status.busy": "2021-12-18T11:09:46.042402Z",
     "iopub.status.idle": "2021-12-18T11:09:46.045558Z",
     "shell.execute_reply": "2021-12-18T11:09:46.046037Z",
     "shell.execute_reply.started": "2021-12-18T10:47:27.914179Z"
    },
    "papermill": {
     "duration": 0.052004,
     "end_time": "2021-12-18T11:09:46.046243",
     "exception": false,
     "start_time": "2021-12-18T11:09:45.994239",
     "status": "completed"
    },
    "tags": []
   },
   "outputs": [
    {
     "data": {
      "text/plain": [
       "0    0.998648\n",
       "1    0.001352\n",
       "Name: isFraud, dtype: float64"
      ]
     },
     "execution_count": 29,
     "metadata": {},
     "output_type": "execute_result"
    }
   ],
   "source": [
    "part_frauds = df_10['isFraud'].value_counts(normalize=True)\n",
    "part_frauds"
   ]
  },
  {
   "cell_type": "code",
   "execution_count": 30,
   "id": "a7df3b98",
   "metadata": {
    "execution": {
     "iopub.execute_input": "2021-12-18T11:09:46.128358Z",
     "iopub.status.busy": "2021-12-18T11:09:46.127493Z",
     "iopub.status.idle": "2021-12-18T11:09:46.130588Z",
     "shell.execute_reply": "2021-12-18T11:09:46.131065Z",
     "shell.execute_reply.started": "2021-12-18T10:48:04.746153Z"
    },
    "papermill": {
     "duration": 0.046329,
     "end_time": "2021-12-18T11:09:46.131260",
     "exception": false,
     "start_time": "2021-12-18T11:09:46.084931",
     "status": "completed"
    },
    "tags": []
   },
   "outputs": [
    {
     "name": "stdout",
     "output_type": "stream",
     "text": [
      "The part of frauds in the original dataset has been 0.135 %\n"
     ]
    }
   ],
   "source": [
    "print(f\"The part of frauds in the original dataset has been {part_frauds[1]*100:.3g} %\")"
   ]
  },
  {
   "cell_type": "code",
   "execution_count": null,
   "id": "da35d1b2",
   "metadata": {
    "papermill": {
     "duration": 0.038169,
     "end_time": "2021-12-18T11:09:46.207917",
     "exception": false,
     "start_time": "2021-12-18T11:09:46.169748",
     "status": "completed"
    },
    "tags": []
   },
   "outputs": [],
   "source": []
  }
 ],
 "metadata": {
  "kernelspec": {
   "display_name": "Python 3",
   "language": "python",
   "name": "python3"
  },
  "language_info": {
   "codemirror_mode": {
    "name": "ipython",
    "version": 3
   },
   "file_extension": ".py",
   "mimetype": "text/x-python",
   "name": "python",
   "nbconvert_exporter": "python",
   "pygments_lexer": "ipython3",
   "version": "3.7.12"
  },
  "papermill": {
   "default_parameters": {},
   "duration": 455.780591,
   "end_time": "2021-12-18T11:09:47.660802",
   "environment_variables": {},
   "exception": null,
   "input_path": "__notebook__.ipynb",
   "output_path": "__notebook__.ipynb",
   "parameters": {},
   "start_time": "2021-12-18T11:02:11.880211",
   "version": "2.3.3"
  }
 },
 "nbformat": 4,
 "nbformat_minor": 5
}
