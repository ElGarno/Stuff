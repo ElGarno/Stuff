{
 "cells": [
  {
   "cell_type": "code",
   "execution_count": 1,
   "id": "a2151e1b",
   "metadata": {
    "_cell_guid": "b1076dfc-b9ad-4769-8c92-a6c4dae69d19",
    "_uuid": "8f2839f25d086af736a60e9eeb907d3b93b6e0e5",
    "execution": {
     "iopub.execute_input": "2021-12-17T21:10:08.786919Z",
     "iopub.status.busy": "2021-12-17T21:10:08.785568Z",
     "iopub.status.idle": "2021-12-17T21:10:08.809172Z",
     "shell.execute_reply": "2021-12-17T21:10:08.809931Z",
     "shell.execute_reply.started": "2021-12-17T21:00:46.295917Z"
    },
    "papermill": {
     "duration": 0.05456,
     "end_time": "2021-12-17T21:10:08.810308",
     "exception": false,
     "start_time": "2021-12-17T21:10:08.755748",
     "status": "completed"
    },
    "tags": []
   },
   "outputs": [
    {
     "name": "stdout",
     "output_type": "stream",
     "text": [
      "/kaggle/input/fraud-detection/synth_composite.csv\n"
     ]
    }
   ],
   "source": [
    "# This Python 3 environment comes with many helpful analytics libraries installed\n",
    "# It is defined by the kaggle/python Docker image: https://github.com/kaggle/docker-python\n",
    "# For example, here's several helpful packages to load\n",
    "\n",
    "import numpy as np # linear algebra\n",
    "import pandas as pd # data processing, CSV file I/O (e.g. pd.read_csv)\n",
    "\n",
    "# Input data files are available in the read-only \"../input/\" directory\n",
    "# For example, running this (by clicking run or pressing Shift+Enter) will list all files under the input directory\n",
    "\n",
    "import os\n",
    "for dirname, _, filenames in os.walk('/kaggle/input'):\n",
    "    for filename in filenames:\n",
    "        print(os.path.join(dirname, filename))\n",
    "\n",
    "# You can write up to 20GB to the current directory (/kaggle/working/) that gets preserved as output when you create a version using \"Save & Run All\" \n",
    "# You can also write temporary files to /kaggle/temp/, but they won't be saved outside of the current session\n"
   ]
  },
  {
   "cell_type": "markdown",
   "id": "0e155b3e",
   "metadata": {
    "papermill": {
     "duration": 0.024954,
     "end_time": "2021-12-17T21:10:08.866490",
     "exception": false,
     "start_time": "2021-12-17T21:10:08.841536",
     "status": "completed"
    },
    "tags": []
   },
   "source": [
    "## Import Libraries"
   ]
  },
  {
   "cell_type": "code",
   "execution_count": 2,
   "id": "aec58f20",
   "metadata": {
    "execution": {
     "iopub.execute_input": "2021-12-17T21:10:08.920088Z",
     "iopub.status.busy": "2021-12-17T21:10:08.919403Z",
     "iopub.status.idle": "2021-12-17T21:10:10.005165Z",
     "shell.execute_reply": "2021-12-17T21:10:10.004488Z",
     "shell.execute_reply.started": "2021-12-17T21:00:54.182631Z"
    },
    "papermill": {
     "duration": 1.114042,
     "end_time": "2021-12-17T21:10:10.005301",
     "exception": false,
     "start_time": "2021-12-17T21:10:08.891259",
     "status": "completed"
    },
    "tags": []
   },
   "outputs": [],
   "source": [
    "import matplotlib.pyplot as plt\n",
    "import seaborn as sns\n",
    "from sklearn.preprocessing import LabelEncoder\n",
    "\n",
    "sns.set_theme()\n",
    "sns.set_style(\"darkgrid\")"
   ]
  },
  {
   "cell_type": "markdown",
   "id": "8c1b7297",
   "metadata": {
    "papermill": {
     "duration": 0.024643,
     "end_time": "2021-12-17T21:10:10.054946",
     "exception": false,
     "start_time": "2021-12-17T21:10:10.030303",
     "status": "completed"
    },
    "tags": []
   },
   "source": [
    "## Load dataset"
   ]
  },
  {
   "cell_type": "code",
   "execution_count": 3,
   "id": "8be9c477",
   "metadata": {
    "execution": {
     "iopub.execute_input": "2021-12-17T21:10:10.108076Z",
     "iopub.status.busy": "2021-12-17T21:10:10.107055Z",
     "iopub.status.idle": "2021-12-17T21:10:33.239207Z",
     "shell.execute_reply": "2021-12-17T21:10:33.238498Z",
     "shell.execute_reply.started": "2021-12-17T21:00:54.610544Z"
    },
    "papermill": {
     "duration": 23.159914,
     "end_time": "2021-12-17T21:10:33.239356",
     "exception": false,
     "start_time": "2021-12-17T21:10:10.079442",
     "status": "completed"
    },
    "tags": []
   },
   "outputs": [],
   "source": [
    "df = pd.read_csv('../input/fraud-detection/synth_composite.csv')"
   ]
  },
  {
   "cell_type": "markdown",
   "id": "54769028",
   "metadata": {
    "papermill": {
     "duration": 0.024185,
     "end_time": "2021-12-17T21:10:33.288277",
     "exception": false,
     "start_time": "2021-12-17T21:10:33.264092",
     "status": "completed"
    },
    "tags": []
   },
   "source": [
    "### Show some stats"
   ]
  },
  {
   "cell_type": "code",
   "execution_count": 4,
   "id": "651771c8",
   "metadata": {
    "execution": {
     "iopub.execute_input": "2021-12-17T21:10:33.340395Z",
     "iopub.status.busy": "2021-12-17T21:10:33.339782Z",
     "iopub.status.idle": "2021-12-17T21:10:33.364909Z",
     "shell.execute_reply": "2021-12-17T21:10:33.364293Z",
     "shell.execute_reply.started": "2021-12-17T21:01:12.237090Z"
    },
    "papermill": {
     "duration": 0.052324,
     "end_time": "2021-12-17T21:10:33.365043",
     "exception": false,
     "start_time": "2021-12-17T21:10:33.312719",
     "status": "completed"
    },
    "tags": []
   },
   "outputs": [
    {
     "data": {
      "text/html": [
       "<div>\n",
       "<style scoped>\n",
       "    .dataframe tbody tr th:only-of-type {\n",
       "        vertical-align: middle;\n",
       "    }\n",
       "\n",
       "    .dataframe tbody tr th {\n",
       "        vertical-align: top;\n",
       "    }\n",
       "\n",
       "    .dataframe thead th {\n",
       "        text-align: right;\n",
       "    }\n",
       "</style>\n",
       "<table border=\"1\" class=\"dataframe\">\n",
       "  <thead>\n",
       "    <tr style=\"text-align: right;\">\n",
       "      <th></th>\n",
       "      <th>step</th>\n",
       "      <th>type</th>\n",
       "      <th>amount</th>\n",
       "      <th>nameOrig</th>\n",
       "      <th>oldbalanceOrg</th>\n",
       "      <th>newbalanceOrig</th>\n",
       "      <th>nameDest</th>\n",
       "      <th>oldbalanceDest</th>\n",
       "      <th>newbalanceDest</th>\n",
       "      <th>isFraud</th>\n",
       "      <th>isFlaggedFraud</th>\n",
       "    </tr>\n",
       "  </thead>\n",
       "  <tbody>\n",
       "    <tr>\n",
       "      <th>0</th>\n",
       "      <td>211</td>\n",
       "      <td>CASH_OUT</td>\n",
       "      <td>184185.755277</td>\n",
       "      <td>160_2696646_0</td>\n",
       "      <td>203108.476051</td>\n",
       "      <td>18922.720773</td>\n",
       "      <td>160_901564_0</td>\n",
       "      <td>1.019994e+06</td>\n",
       "      <td>1.204127e+06</td>\n",
       "      <td>0</td>\n",
       "      <td>0</td>\n",
       "    </tr>\n",
       "    <tr>\n",
       "      <th>1</th>\n",
       "      <td>394</td>\n",
       "      <td>CASH_OUT</td>\n",
       "      <td>237093.196009</td>\n",
       "      <td>160_5585569_0</td>\n",
       "      <td>382707.464238</td>\n",
       "      <td>145614.268230</td>\n",
       "      <td>160_1586945_0</td>\n",
       "      <td>5.870893e+05</td>\n",
       "      <td>8.243203e+05</td>\n",
       "      <td>0</td>\n",
       "      <td>0</td>\n",
       "    </tr>\n",
       "    <tr>\n",
       "      <th>2</th>\n",
       "      <td>306</td>\n",
       "      <td>CASH_IN</td>\n",
       "      <td>163600.518794</td>\n",
       "      <td>160_4221372_0</td>\n",
       "      <td>3093.431169</td>\n",
       "      <td>0.000000</td>\n",
       "      <td>160_1701821_0</td>\n",
       "      <td>6.534538e+05</td>\n",
       "      <td>4.901219e+05</td>\n",
       "      <td>0</td>\n",
       "      <td>0</td>\n",
       "    </tr>\n",
       "    <tr>\n",
       "      <th>3</th>\n",
       "      <td>235</td>\n",
       "      <td>PAYMENT</td>\n",
       "      <td>7625.866018</td>\n",
       "      <td>160_3064357_0</td>\n",
       "      <td>74630.853812</td>\n",
       "      <td>67004.987793</td>\n",
       "      <td>160_1304279_0</td>\n",
       "      <td>1.666019e+01</td>\n",
       "      <td>1.362096e+01</td>\n",
       "      <td>0</td>\n",
       "      <td>0</td>\n",
       "    </tr>\n",
       "    <tr>\n",
       "      <th>4</th>\n",
       "      <td>235</td>\n",
       "      <td>PAYMENT</td>\n",
       "      <td>7866.992466</td>\n",
       "      <td>160_5544127_0</td>\n",
       "      <td>74632.326454</td>\n",
       "      <td>66765.333988</td>\n",
       "      <td>160_2370260_0</td>\n",
       "      <td>5.390545e+00</td>\n",
       "      <td>9.820910e+00</td>\n",
       "      <td>0</td>\n",
       "      <td>0</td>\n",
       "    </tr>\n",
       "    <tr>\n",
       "      <th>5</th>\n",
       "      <td>493</td>\n",
       "      <td>CASH_OUT</td>\n",
       "      <td>281403.795998</td>\n",
       "      <td>160_6037426_0</td>\n",
       "      <td>42235.923347</td>\n",
       "      <td>0.000000</td>\n",
       "      <td>160_2092767_0</td>\n",
       "      <td>5.880235e+05</td>\n",
       "      <td>8.693219e+05</td>\n",
       "      <td>0</td>\n",
       "      <td>0</td>\n",
       "    </tr>\n",
       "    <tr>\n",
       "      <th>6</th>\n",
       "      <td>18</td>\n",
       "      <td>PAYMENT</td>\n",
       "      <td>4355.986182</td>\n",
       "      <td>160_400626_0</td>\n",
       "      <td>56160.034248</td>\n",
       "      <td>51804.048066</td>\n",
       "      <td>160_175474_0</td>\n",
       "      <td>8.496485e+00</td>\n",
       "      <td>1.078249e+01</td>\n",
       "      <td>0</td>\n",
       "      <td>0</td>\n",
       "    </tr>\n",
       "    <tr>\n",
       "      <th>7</th>\n",
       "      <td>550</td>\n",
       "      <td>CASH_IN</td>\n",
       "      <td>102079.164541</td>\n",
       "      <td>160_6146482_0</td>\n",
       "      <td>15781.717821</td>\n",
       "      <td>0.000000</td>\n",
       "      <td>160_354507_0</td>\n",
       "      <td>4.064748e+06</td>\n",
       "      <td>3.962757e+06</td>\n",
       "      <td>0</td>\n",
       "      <td>0</td>\n",
       "    </tr>\n",
       "    <tr>\n",
       "      <th>8</th>\n",
       "      <td>284</td>\n",
       "      <td>CASH_OUT</td>\n",
       "      <td>144074.648278</td>\n",
       "      <td>160_3889478_0</td>\n",
       "      <td>197270.864524</td>\n",
       "      <td>53196.216246</td>\n",
       "      <td>160_1089660_0</td>\n",
       "      <td>1.097389e+06</td>\n",
       "      <td>1.241346e+06</td>\n",
       "      <td>0</td>\n",
       "      <td>0</td>\n",
       "    </tr>\n",
       "    <tr>\n",
       "      <th>9</th>\n",
       "      <td>132</td>\n",
       "      <td>CASH_OUT</td>\n",
       "      <td>142367.900524</td>\n",
       "      <td>160_1163767_0</td>\n",
       "      <td>0.185064</td>\n",
       "      <td>0.000000</td>\n",
       "      <td>160_29365_0</td>\n",
       "      <td>2.424877e+06</td>\n",
       "      <td>2.567106e+06</td>\n",
       "      <td>0</td>\n",
       "      <td>0</td>\n",
       "    </tr>\n",
       "  </tbody>\n",
       "</table>\n",
       "</div>"
      ],
      "text/plain": [
       "   step      type         amount       nameOrig  oldbalanceOrg  \\\n",
       "0   211  CASH_OUT  184185.755277  160_2696646_0  203108.476051   \n",
       "1   394  CASH_OUT  237093.196009  160_5585569_0  382707.464238   \n",
       "2   306   CASH_IN  163600.518794  160_4221372_0    3093.431169   \n",
       "3   235   PAYMENT    7625.866018  160_3064357_0   74630.853812   \n",
       "4   235   PAYMENT    7866.992466  160_5544127_0   74632.326454   \n",
       "5   493  CASH_OUT  281403.795998  160_6037426_0   42235.923347   \n",
       "6    18   PAYMENT    4355.986182   160_400626_0   56160.034248   \n",
       "7   550   CASH_IN  102079.164541  160_6146482_0   15781.717821   \n",
       "8   284  CASH_OUT  144074.648278  160_3889478_0  197270.864524   \n",
       "9   132  CASH_OUT  142367.900524  160_1163767_0       0.185064   \n",
       "\n",
       "   newbalanceOrig       nameDest  oldbalanceDest  newbalanceDest  isFraud  \\\n",
       "0    18922.720773   160_901564_0    1.019994e+06    1.204127e+06        0   \n",
       "1   145614.268230  160_1586945_0    5.870893e+05    8.243203e+05        0   \n",
       "2        0.000000  160_1701821_0    6.534538e+05    4.901219e+05        0   \n",
       "3    67004.987793  160_1304279_0    1.666019e+01    1.362096e+01        0   \n",
       "4    66765.333988  160_2370260_0    5.390545e+00    9.820910e+00        0   \n",
       "5        0.000000  160_2092767_0    5.880235e+05    8.693219e+05        0   \n",
       "6    51804.048066   160_175474_0    8.496485e+00    1.078249e+01        0   \n",
       "7        0.000000   160_354507_0    4.064748e+06    3.962757e+06        0   \n",
       "8    53196.216246  160_1089660_0    1.097389e+06    1.241346e+06        0   \n",
       "9        0.000000    160_29365_0    2.424877e+06    2.567106e+06        0   \n",
       "\n",
       "   isFlaggedFraud  \n",
       "0               0  \n",
       "1               0  \n",
       "2               0  \n",
       "3               0  \n",
       "4               0  \n",
       "5               0  \n",
       "6               0  \n",
       "7               0  \n",
       "8               0  \n",
       "9               0  "
      ]
     },
     "execution_count": 4,
     "metadata": {},
     "output_type": "execute_result"
    }
   ],
   "source": [
    "df.head(10)"
   ]
  },
  {
   "cell_type": "code",
   "execution_count": 5,
   "id": "c9ca1e36",
   "metadata": {
    "execution": {
     "iopub.execute_input": "2021-12-17T21:10:33.418530Z",
     "iopub.status.busy": "2021-12-17T21:10:33.417892Z",
     "iopub.status.idle": "2021-12-17T21:10:33.422514Z",
     "shell.execute_reply": "2021-12-17T21:10:33.423042Z",
     "shell.execute_reply.started": "2021-12-17T21:01:12.257794Z"
    },
    "papermill": {
     "duration": 0.033087,
     "end_time": "2021-12-17T21:10:33.423207",
     "exception": false,
     "start_time": "2021-12-17T21:10:33.390120",
     "status": "completed"
    },
    "tags": []
   },
   "outputs": [
    {
     "data": {
      "text/plain": [
       "(6362620, 11)"
      ]
     },
     "execution_count": 5,
     "metadata": {},
     "output_type": "execute_result"
    }
   ],
   "source": [
    "df.shape"
   ]
  },
  {
   "cell_type": "code",
   "execution_count": 6,
   "id": "3a052303",
   "metadata": {
    "execution": {
     "iopub.execute_input": "2021-12-17T21:10:33.476859Z",
     "iopub.status.busy": "2021-12-17T21:10:33.476187Z",
     "iopub.status.idle": "2021-12-17T21:10:33.521386Z",
     "shell.execute_reply": "2021-12-17T21:10:33.520894Z",
     "shell.execute_reply.started": "2021-12-17T21:01:12.264865Z"
    },
    "papermill": {
     "duration": 0.07309,
     "end_time": "2021-12-17T21:10:33.521522",
     "exception": false,
     "start_time": "2021-12-17T21:10:33.448432",
     "status": "completed"
    },
    "tags": []
   },
   "outputs": [
    {
     "data": {
      "text/plain": [
       "0    6354407\n",
       "1       8213\n",
       "Name: isFraud, dtype: int64"
      ]
     },
     "execution_count": 6,
     "metadata": {},
     "output_type": "execute_result"
    }
   ],
   "source": [
    "df['isFraud'].value_counts()"
   ]
  },
  {
   "cell_type": "code",
   "execution_count": 7,
   "id": "7d0dd740",
   "metadata": {
    "execution": {
     "iopub.execute_input": "2021-12-17T21:10:33.612654Z",
     "iopub.status.busy": "2021-12-17T21:10:33.610062Z",
     "iopub.status.idle": "2021-12-17T21:10:33.616358Z",
     "shell.execute_reply": "2021-12-17T21:10:33.615843Z",
     "shell.execute_reply.started": "2021-12-17T21:01:12.313257Z"
    },
    "papermill": {
     "duration": 0.069025,
     "end_time": "2021-12-17T21:10:33.616501",
     "exception": false,
     "start_time": "2021-12-17T21:10:33.547476",
     "status": "completed"
    },
    "tags": []
   },
   "outputs": [
    {
     "data": {
      "text/plain": [
       "0    6362606\n",
       "1         14\n",
       "Name: isFlaggedFraud, dtype: int64"
      ]
     },
     "execution_count": 7,
     "metadata": {},
     "output_type": "execute_result"
    }
   ],
   "source": [
    "df['isFlaggedFraud'].value_counts()"
   ]
  },
  {
   "cell_type": "code",
   "execution_count": 8,
   "id": "02ddc2cd",
   "metadata": {
    "execution": {
     "iopub.execute_input": "2021-12-17T21:10:33.672544Z",
     "iopub.status.busy": "2021-12-17T21:10:33.671950Z",
     "iopub.status.idle": "2021-12-17T21:10:33.723254Z",
     "shell.execute_reply": "2021-12-17T21:10:33.722689Z",
     "shell.execute_reply.started": "2021-12-17T21:01:12.359314Z"
    },
    "papermill": {
     "duration": 0.079845,
     "end_time": "2021-12-17T21:10:33.723389",
     "exception": false,
     "start_time": "2021-12-17T21:10:33.643544",
     "status": "completed"
    },
    "tags": []
   },
   "outputs": [
    {
     "data": {
      "text/html": [
       "<div>\n",
       "<style scoped>\n",
       "    .dataframe tbody tr th:only-of-type {\n",
       "        vertical-align: middle;\n",
       "    }\n",
       "\n",
       "    .dataframe tbody tr th {\n",
       "        vertical-align: top;\n",
       "    }\n",
       "\n",
       "    .dataframe thead th {\n",
       "        text-align: right;\n",
       "    }\n",
       "</style>\n",
       "<table border=\"1\" class=\"dataframe\">\n",
       "  <thead>\n",
       "    <tr style=\"text-align: right;\">\n",
       "      <th></th>\n",
       "      <th>step</th>\n",
       "      <th>type</th>\n",
       "      <th>amount</th>\n",
       "      <th>nameOrig</th>\n",
       "      <th>oldbalanceOrg</th>\n",
       "      <th>newbalanceOrig</th>\n",
       "      <th>nameDest</th>\n",
       "      <th>oldbalanceDest</th>\n",
       "      <th>newbalanceDest</th>\n",
       "      <th>isFraud</th>\n",
       "      <th>isFlaggedFraud</th>\n",
       "    </tr>\n",
       "  </thead>\n",
       "  <tbody>\n",
       "    <tr>\n",
       "      <th>6354407</th>\n",
       "      <td>741</td>\n",
       "      <td>CASH_OUT</td>\n",
       "      <td>2.00</td>\n",
       "      <td>161_8178_0</td>\n",
       "      <td>-71.00</td>\n",
       "      <td>-73.0</td>\n",
       "      <td>161_8134_0</td>\n",
       "      <td>2.700696e+05</td>\n",
       "      <td>2.702828e+05</td>\n",
       "      <td>1</td>\n",
       "      <td>0</td>\n",
       "    </tr>\n",
       "    <tr>\n",
       "      <th>6354408</th>\n",
       "      <td>212</td>\n",
       "      <td>CASH_OUT</td>\n",
       "      <td>362998.52</td>\n",
       "      <td>161_2386_0</td>\n",
       "      <td>363050.52</td>\n",
       "      <td>52.0</td>\n",
       "      <td>161_2374_0</td>\n",
       "      <td>2.159733e+06</td>\n",
       "      <td>2.523959e+06</td>\n",
       "      <td>1</td>\n",
       "      <td>0</td>\n",
       "    </tr>\n",
       "    <tr>\n",
       "      <th>6354409</th>\n",
       "      <td>568</td>\n",
       "      <td>CASH_OUT</td>\n",
       "      <td>66187.66</td>\n",
       "      <td>161_6282_0</td>\n",
       "      <td>66125.66</td>\n",
       "      <td>-62.0</td>\n",
       "      <td>161_6251_0</td>\n",
       "      <td>7.177089e+05</td>\n",
       "      <td>7.832872e+05</td>\n",
       "      <td>1</td>\n",
       "      <td>0</td>\n",
       "    </tr>\n",
       "    <tr>\n",
       "      <th>6354410</th>\n",
       "      <td>15</td>\n",
       "      <td>CASH_OUT</td>\n",
       "      <td>696771.08</td>\n",
       "      <td>161_168_0</td>\n",
       "      <td>696771.08</td>\n",
       "      <td>0.0</td>\n",
       "      <td>161_167_0</td>\n",
       "      <td>3.688858e+05</td>\n",
       "      <td>1.351356e+06</td>\n",
       "      <td>1</td>\n",
       "      <td>0</td>\n",
       "    </tr>\n",
       "    <tr>\n",
       "      <th>6354411</th>\n",
       "      <td>501</td>\n",
       "      <td>CASH_OUT</td>\n",
       "      <td>73332.47</td>\n",
       "      <td>161_5584_0</td>\n",
       "      <td>73285.47</td>\n",
       "      <td>-47.0</td>\n",
       "      <td>161_5556_0</td>\n",
       "      <td>1.253682e+05</td>\n",
       "      <td>1.923281e+05</td>\n",
       "      <td>1</td>\n",
       "      <td>0</td>\n",
       "    </tr>\n",
       "    <tr>\n",
       "      <th>...</th>\n",
       "      <td>...</td>\n",
       "      <td>...</td>\n",
       "      <td>...</td>\n",
       "      <td>...</td>\n",
       "      <td>...</td>\n",
       "      <td>...</td>\n",
       "      <td>...</td>\n",
       "      <td>...</td>\n",
       "      <td>...</td>\n",
       "      <td>...</td>\n",
       "      <td>...</td>\n",
       "    </tr>\n",
       "    <tr>\n",
       "      <th>6362615</th>\n",
       "      <td>483</td>\n",
       "      <td>CASH_OUT</td>\n",
       "      <td>22982.73</td>\n",
       "      <td>161_5384_0</td>\n",
       "      <td>22981.73</td>\n",
       "      <td>-1.0</td>\n",
       "      <td>161_5356_0</td>\n",
       "      <td>3.279893e+06</td>\n",
       "      <td>3.304007e+06</td>\n",
       "      <td>1</td>\n",
       "      <td>0</td>\n",
       "    </tr>\n",
       "    <tr>\n",
       "      <th>6362616</th>\n",
       "      <td>214</td>\n",
       "      <td>CASH_OUT</td>\n",
       "      <td>1368390.50</td>\n",
       "      <td>161_2420_0</td>\n",
       "      <td>1368453.50</td>\n",
       "      <td>63.0</td>\n",
       "      <td>161_2408_0</td>\n",
       "      <td>2.589394e+05</td>\n",
       "      <td>1.624944e+06</td>\n",
       "      <td>1</td>\n",
       "      <td>0</td>\n",
       "    </tr>\n",
       "    <tr>\n",
       "      <th>6362617</th>\n",
       "      <td>679</td>\n",
       "      <td>CASH_OUT</td>\n",
       "      <td>3150440.28</td>\n",
       "      <td>161_7476_0</td>\n",
       "      <td>3150454.28</td>\n",
       "      <td>14.0</td>\n",
       "      <td>161_7437_0</td>\n",
       "      <td>6.372507e+03</td>\n",
       "      <td>3.157667e+06</td>\n",
       "      <td>1</td>\n",
       "      <td>0</td>\n",
       "    </tr>\n",
       "    <tr>\n",
       "      <th>6362618</th>\n",
       "      <td>482</td>\n",
       "      <td>CASH_OUT</td>\n",
       "      <td>75655.33</td>\n",
       "      <td>161_5366_0</td>\n",
       "      <td>75647.33</td>\n",
       "      <td>-8.0</td>\n",
       "      <td>161_5338_0</td>\n",
       "      <td>8.529471e+05</td>\n",
       "      <td>9.285452e+05</td>\n",
       "      <td>1</td>\n",
       "      <td>0</td>\n",
       "    </tr>\n",
       "    <tr>\n",
       "      <th>6362619</th>\n",
       "      <td>685</td>\n",
       "      <td>CASH_OUT</td>\n",
       "      <td>4886421.05</td>\n",
       "      <td>161_7534_0</td>\n",
       "      <td>4886450.05</td>\n",
       "      <td>29.0</td>\n",
       "      <td>161_7495_0</td>\n",
       "      <td>3.186239e+03</td>\n",
       "      <td>4.886829e+06</td>\n",
       "      <td>1</td>\n",
       "      <td>0</td>\n",
       "    </tr>\n",
       "  </tbody>\n",
       "</table>\n",
       "<p>8213 rows × 11 columns</p>\n",
       "</div>"
      ],
      "text/plain": [
       "         step      type      amount    nameOrig  oldbalanceOrg  \\\n",
       "6354407   741  CASH_OUT        2.00  161_8178_0         -71.00   \n",
       "6354408   212  CASH_OUT   362998.52  161_2386_0      363050.52   \n",
       "6354409   568  CASH_OUT    66187.66  161_6282_0       66125.66   \n",
       "6354410    15  CASH_OUT   696771.08   161_168_0      696771.08   \n",
       "6354411   501  CASH_OUT    73332.47  161_5584_0       73285.47   \n",
       "...       ...       ...         ...         ...            ...   \n",
       "6362615   483  CASH_OUT    22982.73  161_5384_0       22981.73   \n",
       "6362616   214  CASH_OUT  1368390.50  161_2420_0     1368453.50   \n",
       "6362617   679  CASH_OUT  3150440.28  161_7476_0     3150454.28   \n",
       "6362618   482  CASH_OUT    75655.33  161_5366_0       75647.33   \n",
       "6362619   685  CASH_OUT  4886421.05  161_7534_0     4886450.05   \n",
       "\n",
       "         newbalanceOrig    nameDest  oldbalanceDest  newbalanceDest  isFraud  \\\n",
       "6354407           -73.0  161_8134_0    2.700696e+05    2.702828e+05        1   \n",
       "6354408            52.0  161_2374_0    2.159733e+06    2.523959e+06        1   \n",
       "6354409           -62.0  161_6251_0    7.177089e+05    7.832872e+05        1   \n",
       "6354410             0.0   161_167_0    3.688858e+05    1.351356e+06        1   \n",
       "6354411           -47.0  161_5556_0    1.253682e+05    1.923281e+05        1   \n",
       "...                 ...         ...             ...             ...      ...   \n",
       "6362615            -1.0  161_5356_0    3.279893e+06    3.304007e+06        1   \n",
       "6362616            63.0  161_2408_0    2.589394e+05    1.624944e+06        1   \n",
       "6362617            14.0  161_7437_0    6.372507e+03    3.157667e+06        1   \n",
       "6362618            -8.0  161_5338_0    8.529471e+05    9.285452e+05        1   \n",
       "6362619            29.0  161_7495_0    3.186239e+03    4.886829e+06        1   \n",
       "\n",
       "         isFlaggedFraud  \n",
       "6354407               0  \n",
       "6354408               0  \n",
       "6354409               0  \n",
       "6354410               0  \n",
       "6354411               0  \n",
       "...                 ...  \n",
       "6362615               0  \n",
       "6362616               0  \n",
       "6362617               0  \n",
       "6362618               0  \n",
       "6362619               0  \n",
       "\n",
       "[8213 rows x 11 columns]"
      ]
     },
     "execution_count": 8,
     "metadata": {},
     "output_type": "execute_result"
    }
   ],
   "source": [
    "df[df['isFraud']==1]"
   ]
  },
  {
   "cell_type": "code",
   "execution_count": 9,
   "id": "8679d6f6",
   "metadata": {
    "execution": {
     "iopub.execute_input": "2021-12-17T21:10:33.780665Z",
     "iopub.status.busy": "2021-12-17T21:10:33.780013Z",
     "iopub.status.idle": "2021-12-17T21:10:33.799133Z",
     "shell.execute_reply": "2021-12-17T21:10:33.799641Z",
     "shell.execute_reply.started": "2021-12-17T21:01:12.406638Z"
    },
    "papermill": {
     "duration": 0.049188,
     "end_time": "2021-12-17T21:10:33.799809",
     "exception": false,
     "start_time": "2021-12-17T21:10:33.750621",
     "status": "completed"
    },
    "tags": []
   },
   "outputs": [
    {
     "data": {
      "text/plain": [
       "8212"
      ]
     },
     "execution_count": 9,
     "metadata": {},
     "output_type": "execute_result"
    }
   ],
   "source": [
    "df[df['isFraud']==1].index[-1] - df[df['isFraud']==1].index[0]"
   ]
  },
  {
   "cell_type": "markdown",
   "id": "4973c3b6",
   "metadata": {
    "papermill": {
     "duration": 0.026511,
     "end_time": "2021-12-17T21:10:33.853239",
     "exception": false,
     "start_time": "2021-12-17T21:10:33.826728",
     "status": "completed"
    },
    "tags": []
   },
   "source": [
    "--> The last rows in the df are labeled as fraud"
   ]
  },
  {
   "cell_type": "code",
   "execution_count": 10,
   "id": "fd3a90ee",
   "metadata": {
    "execution": {
     "iopub.execute_input": "2021-12-17T21:10:33.909809Z",
     "iopub.status.busy": "2021-12-17T21:10:33.909207Z",
     "iopub.status.idle": "2021-12-17T21:10:34.704684Z",
     "shell.execute_reply": "2021-12-17T21:10:34.703949Z",
     "shell.execute_reply.started": "2021-12-17T21:01:12.427083Z"
    },
    "papermill": {
     "duration": 0.824723,
     "end_time": "2021-12-17T21:10:34.704827",
     "exception": false,
     "start_time": "2021-12-17T21:10:33.880104",
     "status": "completed"
    },
    "tags": []
   },
   "outputs": [],
   "source": [
    "df_10 = df.sample(frac=0.1)"
   ]
  },
  {
   "cell_type": "code",
   "execution_count": 11,
   "id": "4fc5fa31",
   "metadata": {
    "execution": {
     "iopub.execute_input": "2021-12-17T21:10:34.770253Z",
     "iopub.status.busy": "2021-12-17T21:10:34.769589Z",
     "iopub.status.idle": "2021-12-17T21:10:34.773705Z",
     "shell.execute_reply": "2021-12-17T21:10:34.774231Z",
     "shell.execute_reply.started": "2021-12-17T21:01:13.241318Z"
    },
    "papermill": {
     "duration": 0.042088,
     "end_time": "2021-12-17T21:10:34.774400",
     "exception": false,
     "start_time": "2021-12-17T21:10:34.732312",
     "status": "completed"
    },
    "tags": []
   },
   "outputs": [
    {
     "data": {
      "text/plain": [
       "0    635468\n",
       "1       794\n",
       "Name: isFraud, dtype: int64"
      ]
     },
     "execution_count": 11,
     "metadata": {},
     "output_type": "execute_result"
    }
   ],
   "source": [
    "df_10['isFraud'].value_counts()"
   ]
  },
  {
   "cell_type": "code",
   "execution_count": 12,
   "id": "5ecbcb38",
   "metadata": {
    "execution": {
     "iopub.execute_input": "2021-12-17T21:10:34.832749Z",
     "iopub.status.busy": "2021-12-17T21:10:34.832119Z",
     "iopub.status.idle": "2021-12-17T21:10:34.846138Z",
     "shell.execute_reply": "2021-12-17T21:10:34.846727Z",
     "shell.execute_reply.started": "2021-12-17T21:01:13.255998Z"
    },
    "papermill": {
     "duration": 0.044575,
     "end_time": "2021-12-17T21:10:34.846912",
     "exception": false,
     "start_time": "2021-12-17T21:10:34.802337",
     "status": "completed"
    },
    "tags": []
   },
   "outputs": [
    {
     "data": {
      "text/html": [
       "<div>\n",
       "<style scoped>\n",
       "    .dataframe tbody tr th:only-of-type {\n",
       "        vertical-align: middle;\n",
       "    }\n",
       "\n",
       "    .dataframe tbody tr th {\n",
       "        vertical-align: top;\n",
       "    }\n",
       "\n",
       "    .dataframe thead th {\n",
       "        text-align: right;\n",
       "    }\n",
       "</style>\n",
       "<table border=\"1\" class=\"dataframe\">\n",
       "  <thead>\n",
       "    <tr style=\"text-align: right;\">\n",
       "      <th></th>\n",
       "      <th>step</th>\n",
       "      <th>type</th>\n",
       "      <th>amount</th>\n",
       "      <th>nameOrig</th>\n",
       "      <th>oldbalanceOrg</th>\n",
       "      <th>newbalanceOrig</th>\n",
       "      <th>nameDest</th>\n",
       "      <th>oldbalanceDest</th>\n",
       "      <th>newbalanceDest</th>\n",
       "      <th>isFraud</th>\n",
       "      <th>isFlaggedFraud</th>\n",
       "    </tr>\n",
       "  </thead>\n",
       "  <tbody>\n",
       "    <tr>\n",
       "      <th>582907</th>\n",
       "      <td>229</td>\n",
       "      <td>CASH_OUT</td>\n",
       "      <td>77466.275555</td>\n",
       "      <td>160_2927364_0</td>\n",
       "      <td>1.858489</td>\n",
       "      <td>0.000000</td>\n",
       "      <td>160_518486_0</td>\n",
       "      <td>339529.191298</td>\n",
       "      <td>416899.035095</td>\n",
       "      <td>0</td>\n",
       "      <td>0</td>\n",
       "    </tr>\n",
       "    <tr>\n",
       "      <th>3327797</th>\n",
       "      <td>258</td>\n",
       "      <td>CASH_IN</td>\n",
       "      <td>405543.087524</td>\n",
       "      <td>160_3473127_0</td>\n",
       "      <td>20602.334126</td>\n",
       "      <td>0.000000</td>\n",
       "      <td>160_560876_0</td>\n",
       "      <td>666604.258697</td>\n",
       "      <td>261040.055414</td>\n",
       "      <td>0</td>\n",
       "      <td>0</td>\n",
       "    </tr>\n",
       "    <tr>\n",
       "      <th>165292</th>\n",
       "      <td>185</td>\n",
       "      <td>PAYMENT</td>\n",
       "      <td>18833.544093</td>\n",
       "      <td>160_4877443_0</td>\n",
       "      <td>1.543369</td>\n",
       "      <td>0.000000</td>\n",
       "      <td>160_2085436_0</td>\n",
       "      <td>2.507262</td>\n",
       "      <td>13.302932</td>\n",
       "      <td>0</td>\n",
       "      <td>0</td>\n",
       "    </tr>\n",
       "    <tr>\n",
       "      <th>3503363</th>\n",
       "      <td>298</td>\n",
       "      <td>CASH_OUT</td>\n",
       "      <td>22984.863413</td>\n",
       "      <td>160_3974121_0</td>\n",
       "      <td>1.969605</td>\n",
       "      <td>0.000000</td>\n",
       "      <td>160_995724_0</td>\n",
       "      <td>78191.285956</td>\n",
       "      <td>101137.977303</td>\n",
       "      <td>0</td>\n",
       "      <td>0</td>\n",
       "    </tr>\n",
       "    <tr>\n",
       "      <th>4951239</th>\n",
       "      <td>177</td>\n",
       "      <td>PAYMENT</td>\n",
       "      <td>37.734571</td>\n",
       "      <td>160_1940240_0</td>\n",
       "      <td>204125.287678</td>\n",
       "      <td>204087.553107</td>\n",
       "      <td>160_826969_0</td>\n",
       "      <td>8.719550</td>\n",
       "      <td>12.230823</td>\n",
       "      <td>0</td>\n",
       "      <td>0</td>\n",
       "    </tr>\n",
       "  </tbody>\n",
       "</table>\n",
       "</div>"
      ],
      "text/plain": [
       "         step      type         amount       nameOrig  oldbalanceOrg  \\\n",
       "582907    229  CASH_OUT   77466.275555  160_2927364_0       1.858489   \n",
       "3327797   258   CASH_IN  405543.087524  160_3473127_0   20602.334126   \n",
       "165292    185   PAYMENT   18833.544093  160_4877443_0       1.543369   \n",
       "3503363   298  CASH_OUT   22984.863413  160_3974121_0       1.969605   \n",
       "4951239   177   PAYMENT      37.734571  160_1940240_0  204125.287678   \n",
       "\n",
       "         newbalanceOrig       nameDest  oldbalanceDest  newbalanceDest  \\\n",
       "582907         0.000000   160_518486_0   339529.191298   416899.035095   \n",
       "3327797        0.000000   160_560876_0   666604.258697   261040.055414   \n",
       "165292         0.000000  160_2085436_0        2.507262       13.302932   \n",
       "3503363        0.000000   160_995724_0    78191.285956   101137.977303   \n",
       "4951239   204087.553107   160_826969_0        8.719550       12.230823   \n",
       "\n",
       "         isFraud  isFlaggedFraud  \n",
       "582907         0               0  \n",
       "3327797        0               0  \n",
       "165292         0               0  \n",
       "3503363        0               0  \n",
       "4951239        0               0  "
      ]
     },
     "execution_count": 12,
     "metadata": {},
     "output_type": "execute_result"
    }
   ],
   "source": [
    "df_10.head()"
   ]
  },
  {
   "cell_type": "code",
   "execution_count": 13,
   "id": "bd3a16da",
   "metadata": {
    "execution": {
     "iopub.execute_input": "2021-12-17T21:10:34.906435Z",
     "iopub.status.busy": "2021-12-17T21:10:34.905767Z",
     "iopub.status.idle": "2021-12-17T21:10:35.013423Z",
     "shell.execute_reply": "2021-12-17T21:10:35.012879Z",
     "shell.execute_reply.started": "2021-12-17T21:01:13.280899Z"
    },
    "papermill": {
     "duration": 0.138213,
     "end_time": "2021-12-17T21:10:35.013559",
     "exception": false,
     "start_time": "2021-12-17T21:10:34.875346",
     "status": "completed"
    },
    "tags": []
   },
   "outputs": [
    {
     "data": {
      "text/plain": [
       "CASH_OUT    223283\n",
       "PAYMENT     215320\n",
       "CASH_IN     140180\n",
       "TRANSFER     53261\n",
       "DEBIT         4218\n",
       "Name: type, dtype: int64"
      ]
     },
     "execution_count": 13,
     "metadata": {},
     "output_type": "execute_result"
    }
   ],
   "source": [
    "df_10['type'].value_counts()"
   ]
  },
  {
   "cell_type": "code",
   "execution_count": 14,
   "id": "e539acf7",
   "metadata": {
    "execution": {
     "iopub.execute_input": "2021-12-17T21:10:35.074109Z",
     "iopub.status.busy": "2021-12-17T21:10:35.073365Z",
     "iopub.status.idle": "2021-12-17T21:10:35.181029Z",
     "shell.execute_reply": "2021-12-17T21:10:35.180412Z",
     "shell.execute_reply.started": "2021-12-17T21:01:13.395060Z"
    },
    "papermill": {
     "duration": 0.13864,
     "end_time": "2021-12-17T21:10:35.181166",
     "exception": false,
     "start_time": "2021-12-17T21:10:35.042526",
     "status": "completed"
    },
    "tags": []
   },
   "outputs": [
    {
     "data": {
      "text/plain": [
       "Index(['CASH_OUT', 'PAYMENT', 'CASH_IN', 'TRANSFER', 'DEBIT'], dtype='object')"
      ]
     },
     "execution_count": 14,
     "metadata": {},
     "output_type": "execute_result"
    }
   ],
   "source": [
    "df_10['type'].value_counts().index"
   ]
  },
  {
   "cell_type": "code",
   "execution_count": 15,
   "id": "02bdb728",
   "metadata": {
    "execution": {
     "iopub.execute_input": "2021-12-17T21:10:35.451705Z",
     "iopub.status.busy": "2021-12-17T21:10:35.450943Z",
     "iopub.status.idle": "2021-12-17T21:10:35.711467Z",
     "shell.execute_reply": "2021-12-17T21:10:35.712001Z",
     "shell.execute_reply.started": "2021-12-17T21:01:13.502679Z"
    },
    "papermill": {
     "duration": 0.5011,
     "end_time": "2021-12-17T21:10:35.712178",
     "exception": false,
     "start_time": "2021-12-17T21:10:35.211078",
     "status": "completed"
    },
    "tags": []
   },
   "outputs": [
    {
     "data": {
      "text/plain": [
       "Text(0.5, 1.0, 'Type of transaction')"
      ]
     },
     "execution_count": 15,
     "metadata": {},
     "output_type": "execute_result"
    },
    {
     "data": {
      "image/png": "[encoded data removed]",
      "text/plain": [
       "<Figure size 720x432 with 1 Axes>"
      ]
     },
     "metadata": {},
     "output_type": "display_data"
    }
   ],
   "source": [
    "fig = plt.figure(figsize=(10,6))\n",
    "x = df_10['type'].value_counts().index\n",
    "y = df_10['type'].value_counts()\n",
    "plt.bar(x,y)\n",
    "plt.title('Type of transaction')"
   ]
  },
  {
   "cell_type": "code",
   "execution_count": 16,
   "id": "62f25a7b",
   "metadata": {
    "execution": {
     "iopub.execute_input": "2021-12-17T21:10:35.778100Z",
     "iopub.status.busy": "2021-12-17T21:10:35.777358Z",
     "iopub.status.idle": "2021-12-17T21:10:36.128251Z",
     "shell.execute_reply": "2021-12-17T21:10:36.127688Z",
     "shell.execute_reply.started": "2021-12-17T21:01:13.935441Z"
    },
    "papermill": {
     "duration": 0.385703,
     "end_time": "2021-12-17T21:10:36.128388",
     "exception": false,
     "start_time": "2021-12-17T21:10:35.742685",
     "status": "completed"
    },
    "tags": []
   },
   "outputs": [
    {
     "data": {
      "text/plain": [
       "step              0\n",
       "type              0\n",
       "amount            0\n",
       "nameOrig          0\n",
       "oldbalanceOrg     0\n",
       "newbalanceOrig    0\n",
       "nameDest          0\n",
       "oldbalanceDest    0\n",
       "newbalanceDest    0\n",
       "isFraud           0\n",
       "isFlaggedFraud    0\n",
       "dtype: int64"
      ]
     },
     "execution_count": 16,
     "metadata": {},
     "output_type": "execute_result"
    }
   ],
   "source": [
    "df_10.isna().sum()"
   ]
  },
  {
   "cell_type": "code",
   "execution_count": 17,
   "id": "3cf8cda7",
   "metadata": {
    "execution": {
     "iopub.execute_input": "2021-12-17T21:10:36.197056Z",
     "iopub.status.busy": "2021-12-17T21:10:36.196037Z",
     "iopub.status.idle": "2021-12-17T21:10:36.200443Z",
     "shell.execute_reply": "2021-12-17T21:10:36.199818Z",
     "shell.execute_reply.started": "2021-12-17T21:01:14.279144Z"
    },
    "papermill": {
     "duration": 0.040953,
     "end_time": "2021-12-17T21:10:36.200580",
     "exception": false,
     "start_time": "2021-12-17T21:10:36.159627",
     "status": "completed"
    },
    "tags": []
   },
   "outputs": [
    {
     "data": {
      "text/plain": [
       "step                int64\n",
       "type               object\n",
       "amount            float64\n",
       "nameOrig           object\n",
       "oldbalanceOrg     float64\n",
       "newbalanceOrig    float64\n",
       "nameDest           object\n",
       "oldbalanceDest    float64\n",
       "newbalanceDest    float64\n",
       "isFraud             int64\n",
       "isFlaggedFraud      int64\n",
       "dtype: object"
      ]
     },
     "execution_count": 17,
     "metadata": {},
     "output_type": "execute_result"
    }
   ],
   "source": [
    "df_10.dtypes"
   ]
  },
  {
   "cell_type": "code",
   "execution_count": 18,
   "id": "76193249",
   "metadata": {
    "execution": {
     "iopub.execute_input": "2021-12-17T21:10:37.028529Z",
     "iopub.status.busy": "2021-12-17T21:10:37.027843Z",
     "iopub.status.idle": "2021-12-17T21:10:37.303054Z",
     "shell.execute_reply": "2021-12-17T21:10:37.302495Z",
     "shell.execute_reply.started": "2021-12-17T21:01:14.288454Z"
    },
    "papermill": {
     "duration": 1.072264,
     "end_time": "2021-12-17T21:10:37.303197",
     "exception": false,
     "start_time": "2021-12-17T21:10:36.230933",
     "status": "completed"
    },
    "tags": []
   },
   "outputs": [
    {
     "data": {
      "text/plain": [
       "160_3953196_0    2\n",
       "160_1892165_0    2\n",
       "160_3886534_0    2\n",
       "160_5713844_0    2\n",
       "160_606158_0     2\n",
       "                ..\n",
       "160_6101059_0    1\n",
       "160_1531181_0    1\n",
       "160_2679356_0    1\n",
       "160_310505_0     1\n",
       "160_3022498_0    1\n",
       "Name: nameOrig, Length: 636185, dtype: int64"
      ]
     },
     "execution_count": 18,
     "metadata": {},
     "output_type": "execute_result"
    }
   ],
   "source": [
    "df_10['nameOrig'].value_counts()"
   ]
  },
  {
   "cell_type": "markdown",
   "id": "a687e211",
   "metadata": {
    "papermill": {
     "duration": 0.030348,
     "end_time": "2021-12-17T21:10:37.364279",
     "exception": false,
     "start_time": "2021-12-17T21:10:37.333931",
     "status": "completed"
    },
    "tags": []
   },
   "source": [
    "### LabelEncode object typed columns to get numeric data for them"
   ]
  },
  {
   "cell_type": "code",
   "execution_count": 19,
   "id": "860bdddb",
   "metadata": {
    "execution": {
     "iopub.execute_input": "2021-12-17T21:10:37.431621Z",
     "iopub.status.busy": "2021-12-17T21:10:37.430963Z",
     "iopub.status.idle": "2021-12-17T21:10:41.661713Z",
     "shell.execute_reply": "2021-12-17T21:10:41.661120Z",
     "shell.execute_reply.started": "2021-12-17T21:01:15.263312Z"
    },
    "papermill": {
     "duration": 4.266799,
     "end_time": "2021-12-17T21:10:41.661858",
     "exception": false,
     "start_time": "2021-12-17T21:10:37.395059",
     "status": "completed"
    },
    "tags": []
   },
   "outputs": [],
   "source": [
    "le = LabelEncoder()\n",
    "df_10_le = df_10.copy()\n",
    "\n",
    "for i_col in df_10_le.columns:\n",
    "    if df_10_le[i_col].dtype == \"object\":\n",
    "        labels = df_10_le[i_col].astype(str).values\n",
    "        le.fit(labels)\n",
    "        df_10_le[i_col] = le.transform(df_10_le[i_col])"
   ]
  },
  {
   "cell_type": "code",
   "execution_count": 20,
   "id": "0f00b4bd",
   "metadata": {
    "execution": {
     "iopub.execute_input": "2021-12-17T21:10:41.740269Z",
     "iopub.status.busy": "2021-12-17T21:10:41.739293Z",
     "iopub.status.idle": "2021-12-17T21:10:41.743423Z",
     "shell.execute_reply": "2021-12-17T21:10:41.742922Z",
     "shell.execute_reply.started": "2021-12-17T21:01:19.417323Z"
    },
    "papermill": {
     "duration": 0.050492,
     "end_time": "2021-12-17T21:10:41.743552",
     "exception": false,
     "start_time": "2021-12-17T21:10:41.693060",
     "status": "completed"
    },
    "tags": []
   },
   "outputs": [
    {
     "data": {
      "text/html": [
       "<div>\n",
       "<style scoped>\n",
       "    .dataframe tbody tr th:only-of-type {\n",
       "        vertical-align: middle;\n",
       "    }\n",
       "\n",
       "    .dataframe tbody tr th {\n",
       "        vertical-align: top;\n",
       "    }\n",
       "\n",
       "    .dataframe thead th {\n",
       "        text-align: right;\n",
       "    }\n",
       "</style>\n",
       "<table border=\"1\" class=\"dataframe\">\n",
       "  <thead>\n",
       "    <tr style=\"text-align: right;\">\n",
       "      <th></th>\n",
       "      <th>step</th>\n",
       "      <th>type</th>\n",
       "      <th>amount</th>\n",
       "      <th>nameOrig</th>\n",
       "      <th>oldbalanceOrg</th>\n",
       "      <th>newbalanceOrig</th>\n",
       "      <th>nameDest</th>\n",
       "      <th>oldbalanceDest</th>\n",
       "      <th>newbalanceDest</th>\n",
       "      <th>isFraud</th>\n",
       "      <th>isFlaggedFraud</th>\n",
       "    </tr>\n",
       "  </thead>\n",
       "  <tbody>\n",
       "    <tr>\n",
       "      <th>582907</th>\n",
       "      <td>229</td>\n",
       "      <td>1</td>\n",
       "      <td>77466.275555</td>\n",
       "      <td>214254</td>\n",
       "      <td>1.858489</td>\n",
       "      <td>0.000000</td>\n",
       "      <td>346174</td>\n",
       "      <td>339529.191298</td>\n",
       "      <td>416899.035095</td>\n",
       "      <td>0</td>\n",
       "      <td>0</td>\n",
       "    </tr>\n",
       "    <tr>\n",
       "      <th>3327797</th>\n",
       "      <td>258</td>\n",
       "      <td>0</td>\n",
       "      <td>405543.087524</td>\n",
       "      <td>274946</td>\n",
       "      <td>20602.334126</td>\n",
       "      <td>0.000000</td>\n",
       "      <td>357274</td>\n",
       "      <td>666604.258697</td>\n",
       "      <td>261040.055414</td>\n",
       "      <td>0</td>\n",
       "      <td>0</td>\n",
       "    </tr>\n",
       "    <tr>\n",
       "      <th>165292</th>\n",
       "      <td>185</td>\n",
       "      <td>3</td>\n",
       "      <td>18833.544093</td>\n",
       "      <td>430941</td>\n",
       "      <td>1.543369</td>\n",
       "      <td>0.000000</td>\n",
       "      <td>195508</td>\n",
       "      <td>2.507262</td>\n",
       "      <td>13.302932</td>\n",
       "      <td>0</td>\n",
       "      <td>0</td>\n",
       "    </tr>\n",
       "    <tr>\n",
       "      <th>3503363</th>\n",
       "      <td>298</td>\n",
       "      <td>1</td>\n",
       "      <td>22984.863413</td>\n",
       "      <td>330856</td>\n",
       "      <td>1.969605</td>\n",
       "      <td>0.000000</td>\n",
       "      <td>456214</td>\n",
       "      <td>78191.285956</td>\n",
       "      <td>101137.977303</td>\n",
       "      <td>0</td>\n",
       "      <td>0</td>\n",
       "    </tr>\n",
       "    <tr>\n",
       "      <th>4951239</th>\n",
       "      <td>177</td>\n",
       "      <td>3</td>\n",
       "      <td>37.734571</td>\n",
       "      <td>104462</td>\n",
       "      <td>204125.287678</td>\n",
       "      <td>204087.553107</td>\n",
       "      <td>419081</td>\n",
       "      <td>8.719550</td>\n",
       "      <td>12.230823</td>\n",
       "      <td>0</td>\n",
       "      <td>0</td>\n",
       "    </tr>\n",
       "  </tbody>\n",
       "</table>\n",
       "</div>"
      ],
      "text/plain": [
       "         step  type         amount  nameOrig  oldbalanceOrg  newbalanceOrig  \\\n",
       "582907    229     1   77466.275555    214254       1.858489        0.000000   \n",
       "3327797   258     0  405543.087524    274946   20602.334126        0.000000   \n",
       "165292    185     3   18833.544093    430941       1.543369        0.000000   \n",
       "3503363   298     1   22984.863413    330856       1.969605        0.000000   \n",
       "4951239   177     3      37.734571    104462  204125.287678   204087.553107   \n",
       "\n",
       "         nameDest  oldbalanceDest  newbalanceDest  isFraud  isFlaggedFraud  \n",
       "582907     346174   339529.191298   416899.035095        0               0  \n",
       "3327797    357274   666604.258697   261040.055414        0               0  \n",
       "165292     195508        2.507262       13.302932        0               0  \n",
       "3503363    456214    78191.285956   101137.977303        0               0  \n",
       "4951239    419081        8.719550       12.230823        0               0  "
      ]
     },
     "execution_count": 20,
     "metadata": {},
     "output_type": "execute_result"
    }
   ],
   "source": [
    "df_10_le.head()"
   ]
  },
  {
   "cell_type": "markdown",
   "id": "e3c1f79f",
   "metadata": {
    "papermill": {
     "duration": 0.031921,
     "end_time": "2021-12-17T21:10:41.806815",
     "exception": false,
     "start_time": "2021-12-17T21:10:41.774894",
     "status": "completed"
    },
    "tags": []
   },
   "source": [
    "## Import isolation forest"
   ]
  },
  {
   "cell_type": "code",
   "execution_count": 21,
   "id": "7b9b6d7c",
   "metadata": {
    "execution": {
     "iopub.execute_input": "2021-12-17T21:10:41.875063Z",
     "iopub.status.busy": "2021-12-17T21:10:41.874361Z",
     "iopub.status.idle": "2021-12-17T21:10:42.105183Z",
     "shell.execute_reply": "2021-12-17T21:10:42.104530Z",
     "shell.execute_reply.started": "2021-12-17T21:01:19.434119Z"
    },
    "papermill": {
     "duration": 0.266373,
     "end_time": "2021-12-17T21:10:42.105320",
     "exception": false,
     "start_time": "2021-12-17T21:10:41.838947",
     "status": "completed"
    },
    "tags": []
   },
   "outputs": [],
   "source": [
    "from sklearn.ensemble import IsolationForest"
   ]
  },
  {
   "cell_type": "code",
   "execution_count": 22,
   "id": "93fdae8b",
   "metadata": {
    "execution": {
     "iopub.execute_input": "2021-12-17T21:10:42.186232Z",
     "iopub.status.busy": "2021-12-17T21:10:42.185272Z",
     "iopub.status.idle": "2021-12-17T21:14:25.525472Z",
     "shell.execute_reply": "2021-12-17T21:14:25.524716Z",
     "shell.execute_reply.started": "2021-12-17T21:01:19.446659Z"
    },
    "papermill": {
     "duration": 223.382604,
     "end_time": "2021-12-17T21:14:25.525650",
     "exception": false,
     "start_time": "2021-12-17T21:10:42.143046",
     "status": "completed"
    },
    "tags": []
   },
   "outputs": [
    {
     "name": "stdout",
     "output_type": "stream",
     "text": [
      "CPU times: user 3min 17s, sys: 25.3 s, total: 3min 43s\n",
      "Wall time: 3min 43s\n"
     ]
    },
    {
     "data": {
      "text/plain": [
       "IsolationForest(contamination=0.01, n_estimators=1000)"
      ]
     },
     "execution_count": 22,
     "metadata": {},
     "output_type": "execute_result"
    }
   ],
   "source": [
    "%%time\n",
    "model = IsolationForest(contamination=0.01, n_estimators=1000)\n",
    "model.fit(df_10_le)"
   ]
  },
  {
   "cell_type": "markdown",
   "id": "d3a432e9",
   "metadata": {
    "papermill": {
     "duration": 0.034332,
     "end_time": "2021-12-17T21:14:25.592953",
     "exception": false,
     "start_time": "2021-12-17T21:14:25.558621",
     "status": "completed"
    },
    "tags": []
   },
   "source": [
    "### Predict Outliers for current dataset"
   ]
  },
  {
   "cell_type": "code",
   "execution_count": 23,
   "id": "b54cbbbe",
   "metadata": {
    "execution": {
     "iopub.execute_input": "2021-12-17T21:14:25.666739Z",
     "iopub.status.busy": "2021-12-17T21:14:25.666000Z",
     "iopub.status.idle": "2021-12-17T21:14:25.669992Z",
     "shell.execute_reply": "2021-12-17T21:14:25.670581Z",
     "shell.execute_reply.started": "2021-12-17T21:05:20.114414Z"
    },
    "papermill": {
     "duration": 0.044305,
     "end_time": "2021-12-17T21:14:25.670780",
     "exception": false,
     "start_time": "2021-12-17T21:14:25.626475",
     "status": "completed"
    },
    "tags": []
   },
   "outputs": [],
   "source": [
    "df_10.reset_index(inplace=True)"
   ]
  },
  {
   "cell_type": "code",
   "execution_count": 24,
   "id": "35817f5a",
   "metadata": {
    "execution": {
     "iopub.execute_input": "2021-12-17T21:14:25.742517Z",
     "iopub.status.busy": "2021-12-17T21:14:25.741856Z",
     "iopub.status.idle": "2021-12-17T21:17:44.823252Z",
     "shell.execute_reply": "2021-12-17T21:17:44.823828Z",
     "shell.execute_reply.started": "2021-12-17T21:05:20.122463Z"
    },
    "papermill": {
     "duration": 199.118093,
     "end_time": "2021-12-17T21:17:44.824178",
     "exception": false,
     "start_time": "2021-12-17T21:14:25.706085",
     "status": "completed"
    },
    "tags": []
   },
   "outputs": [
    {
     "data": {
      "text/plain": [
       " 1    629899\n",
       "-1      6363\n",
       "Name: iForest, dtype: int64"
      ]
     },
     "execution_count": 24,
     "metadata": {},
     "output_type": "execute_result"
    }
   ],
   "source": [
    "df_10['iForest'] = pd.Series(model.predict(df_10_le))\n",
    "df_10['iForest'].value_counts()"
   ]
  },
  {
   "cell_type": "code",
   "execution_count": 25,
   "id": "4c928356",
   "metadata": {
    "execution": {
     "iopub.execute_input": "2021-12-17T21:17:44.895484Z",
     "iopub.status.busy": "2021-12-17T21:17:44.894474Z",
     "iopub.status.idle": "2021-12-17T21:17:44.953379Z",
     "shell.execute_reply": "2021-12-17T21:17:44.952665Z",
     "shell.execute_reply.started": "2021-12-17T21:08:16.929933Z"
    },
    "papermill": {
     "duration": 0.096423,
     "end_time": "2021-12-17T21:17:44.953530",
     "exception": false,
     "start_time": "2021-12-17T21:17:44.857107",
     "status": "completed"
    },
    "tags": []
   },
   "outputs": [
    {
     "data": {
      "text/html": [
       "<div>\n",
       "<style scoped>\n",
       "    .dataframe tbody tr th:only-of-type {\n",
       "        vertical-align: middle;\n",
       "    }\n",
       "\n",
       "    .dataframe tbody tr th {\n",
       "        vertical-align: top;\n",
       "    }\n",
       "\n",
       "    .dataframe thead th {\n",
       "        text-align: right;\n",
       "    }\n",
       "</style>\n",
       "<table border=\"1\" class=\"dataframe\">\n",
       "  <thead>\n",
       "    <tr style=\"text-align: right;\">\n",
       "      <th></th>\n",
       "      <th>index</th>\n",
       "      <th>step</th>\n",
       "      <th>type</th>\n",
       "      <th>amount</th>\n",
       "      <th>nameOrig</th>\n",
       "      <th>oldbalanceOrg</th>\n",
       "      <th>newbalanceOrig</th>\n",
       "      <th>nameDest</th>\n",
       "      <th>oldbalanceDest</th>\n",
       "      <th>newbalanceDest</th>\n",
       "      <th>isFraud</th>\n",
       "      <th>isFlaggedFraud</th>\n",
       "      <th>iForest</th>\n",
       "    </tr>\n",
       "  </thead>\n",
       "  <tbody>\n",
       "    <tr>\n",
       "      <th>116</th>\n",
       "      <td>6355015</td>\n",
       "      <td>672</td>\n",
       "      <td>CASH_OUT</td>\n",
       "      <td>330758.72</td>\n",
       "      <td>161_7410_0</td>\n",
       "      <td>330833.72</td>\n",
       "      <td>75.0</td>\n",
       "      <td>161_7371_0</td>\n",
       "      <td>2.536604e+05</td>\n",
       "      <td>5.806425e+05</td>\n",
       "      <td>1</td>\n",
       "      <td>0</td>\n",
       "      <td>1</td>\n",
       "    </tr>\n",
       "    <tr>\n",
       "      <th>1717</th>\n",
       "      <td>6355539</td>\n",
       "      <td>537</td>\n",
       "      <td>CASH_OUT</td>\n",
       "      <td>81275.73</td>\n",
       "      <td>161_5962_0</td>\n",
       "      <td>81181.73</td>\n",
       "      <td>-94.0</td>\n",
       "      <td>161_1735_0</td>\n",
       "      <td>2.085464e+06</td>\n",
       "      <td>2.168033e+06</td>\n",
       "      <td>1</td>\n",
       "      <td>0</td>\n",
       "      <td>1</td>\n",
       "    </tr>\n",
       "    <tr>\n",
       "      <th>2088</th>\n",
       "      <td>6357073</td>\n",
       "      <td>611</td>\n",
       "      <td>CASH_OUT</td>\n",
       "      <td>582724.12</td>\n",
       "      <td>161_6732_0</td>\n",
       "      <td>582730.12</td>\n",
       "      <td>6.0</td>\n",
       "      <td>161_6697_0</td>\n",
       "      <td>1.063621e+06</td>\n",
       "      <td>1.648991e+06</td>\n",
       "      <td>1</td>\n",
       "      <td>0</td>\n",
       "      <td>1</td>\n",
       "    </tr>\n",
       "    <tr>\n",
       "      <th>2150</th>\n",
       "      <td>6362495</td>\n",
       "      <td>674</td>\n",
       "      <td>CASH_OUT</td>\n",
       "      <td>3288372.47</td>\n",
       "      <td>161_7430_0</td>\n",
       "      <td>3288410.47</td>\n",
       "      <td>38.0</td>\n",
       "      <td>161_7391_0</td>\n",
       "      <td>1.585870e+05</td>\n",
       "      <td>3.449706e+06</td>\n",
       "      <td>1</td>\n",
       "      <td>0</td>\n",
       "      <td>-1</td>\n",
       "    </tr>\n",
       "    <tr>\n",
       "      <th>4855</th>\n",
       "      <td>6354538</td>\n",
       "      <td>51</td>\n",
       "      <td>CASH_OUT</td>\n",
       "      <td>207526.20</td>\n",
       "      <td>161_4812_0</td>\n",
       "      <td>207585.20</td>\n",
       "      <td>59.0</td>\n",
       "      <td>161_4786_0</td>\n",
       "      <td>5.412671e+03</td>\n",
       "      <td>2.032842e+05</td>\n",
       "      <td>1</td>\n",
       "      <td>0</td>\n",
       "      <td>1</td>\n",
       "    </tr>\n",
       "    <tr>\n",
       "      <th>...</th>\n",
       "      <td>...</td>\n",
       "      <td>...</td>\n",
       "      <td>...</td>\n",
       "      <td>...</td>\n",
       "      <td>...</td>\n",
       "      <td>...</td>\n",
       "      <td>...</td>\n",
       "      <td>...</td>\n",
       "      <td>...</td>\n",
       "      <td>...</td>\n",
       "      <td>...</td>\n",
       "      <td>...</td>\n",
       "      <td>...</td>\n",
       "    </tr>\n",
       "    <tr>\n",
       "      <th>632781</th>\n",
       "      <td>6354806</td>\n",
       "      <td>47</td>\n",
       "      <td>CASH_OUT</td>\n",
       "      <td>243021.65</td>\n",
       "      <td>161_552_0</td>\n",
       "      <td>242934.65</td>\n",
       "      <td>-87.0</td>\n",
       "      <td>161_547_0</td>\n",
       "      <td>4.419171e+05</td>\n",
       "      <td>6.851670e+05</td>\n",
       "      <td>1</td>\n",
       "      <td>0</td>\n",
       "      <td>1</td>\n",
       "    </tr>\n",
       "    <tr>\n",
       "      <th>633137</th>\n",
       "      <td>6355327</td>\n",
       "      <td>714</td>\n",
       "      <td>CASH_OUT</td>\n",
       "      <td>9999995.00</td>\n",
       "      <td>161_7864_0</td>\n",
       "      <td>9999978.00</td>\n",
       "      <td>-17.0</td>\n",
       "      <td>161_7824_0</td>\n",
       "      <td>3.779759e+05</td>\n",
       "      <td>1.037576e+07</td>\n",
       "      <td>1</td>\n",
       "      <td>0</td>\n",
       "      <td>-1</td>\n",
       "    </tr>\n",
       "    <tr>\n",
       "      <th>634460</th>\n",
       "      <td>6356750</td>\n",
       "      <td>730</td>\n",
       "      <td>CASH_OUT</td>\n",
       "      <td>7.00</td>\n",
       "      <td>161_8054_0</td>\n",
       "      <td>52.00</td>\n",
       "      <td>45.0</td>\n",
       "      <td>161_8011_0</td>\n",
       "      <td>1.008208e+06</td>\n",
       "      <td>1.006959e+06</td>\n",
       "      <td>1</td>\n",
       "      <td>0</td>\n",
       "      <td>1</td>\n",
       "    </tr>\n",
       "    <tr>\n",
       "      <th>634965</th>\n",
       "      <td>6362307</td>\n",
       "      <td>123</td>\n",
       "      <td>CASH_OUT</td>\n",
       "      <td>6351925.74</td>\n",
       "      <td>161_1433_0</td>\n",
       "      <td>6351868.74</td>\n",
       "      <td>-57.0</td>\n",
       "      <td>161_1422_0</td>\n",
       "      <td>4.739800e+05</td>\n",
       "      <td>6.831308e+06</td>\n",
       "      <td>1</td>\n",
       "      <td>0</td>\n",
       "      <td>-1</td>\n",
       "    </tr>\n",
       "    <tr>\n",
       "      <th>635423</th>\n",
       "      <td>6362276</td>\n",
       "      <td>264</td>\n",
       "      <td>CASH_OUT</td>\n",
       "      <td>627581.04</td>\n",
       "      <td>161_2976_0</td>\n",
       "      <td>627536.04</td>\n",
       "      <td>-45.0</td>\n",
       "      <td>161_2961_0</td>\n",
       "      <td>1.229863e+05</td>\n",
       "      <td>7.522966e+05</td>\n",
       "      <td>1</td>\n",
       "      <td>0</td>\n",
       "      <td>1</td>\n",
       "    </tr>\n",
       "  </tbody>\n",
       "</table>\n",
       "<p>794 rows × 13 columns</p>\n",
       "</div>"
      ],
      "text/plain": [
       "          index  step      type      amount    nameOrig  oldbalanceOrg  \\\n",
       "116     6355015   672  CASH_OUT   330758.72  161_7410_0      330833.72   \n",
       "1717    6355539   537  CASH_OUT    81275.73  161_5962_0       81181.73   \n",
       "2088    6357073   611  CASH_OUT   582724.12  161_6732_0      582730.12   \n",
       "2150    6362495   674  CASH_OUT  3288372.47  161_7430_0     3288410.47   \n",
       "4855    6354538    51  CASH_OUT   207526.20  161_4812_0      207585.20   \n",
       "...         ...   ...       ...         ...         ...            ...   \n",
       "632781  6354806    47  CASH_OUT   243021.65   161_552_0      242934.65   \n",
       "633137  6355327   714  CASH_OUT  9999995.00  161_7864_0     9999978.00   \n",
       "634460  6356750   730  CASH_OUT        7.00  161_8054_0          52.00   \n",
       "634965  6362307   123  CASH_OUT  6351925.74  161_1433_0     6351868.74   \n",
       "635423  6362276   264  CASH_OUT   627581.04  161_2976_0      627536.04   \n",
       "\n",
       "        newbalanceOrig    nameDest  oldbalanceDest  newbalanceDest  isFraud  \\\n",
       "116               75.0  161_7371_0    2.536604e+05    5.806425e+05        1   \n",
       "1717             -94.0  161_1735_0    2.085464e+06    2.168033e+06        1   \n",
       "2088               6.0  161_6697_0    1.063621e+06    1.648991e+06        1   \n",
       "2150              38.0  161_7391_0    1.585870e+05    3.449706e+06        1   \n",
       "4855              59.0  161_4786_0    5.412671e+03    2.032842e+05        1   \n",
       "...                ...         ...             ...             ...      ...   \n",
       "632781           -87.0   161_547_0    4.419171e+05    6.851670e+05        1   \n",
       "633137           -17.0  161_7824_0    3.779759e+05    1.037576e+07        1   \n",
       "634460            45.0  161_8011_0    1.008208e+06    1.006959e+06        1   \n",
       "634965           -57.0  161_1422_0    4.739800e+05    6.831308e+06        1   \n",
       "635423           -45.0  161_2961_0    1.229863e+05    7.522966e+05        1   \n",
       "\n",
       "        isFlaggedFraud  iForest  \n",
       "116                  0        1  \n",
       "1717                 0        1  \n",
       "2088                 0        1  \n",
       "2150                 0       -1  \n",
       "4855                 0        1  \n",
       "...                ...      ...  \n",
       "632781               0        1  \n",
       "633137               0       -1  \n",
       "634460               0        1  \n",
       "634965               0       -1  \n",
       "635423               0        1  \n",
       "\n",
       "[794 rows x 13 columns]"
      ]
     },
     "execution_count": 25,
     "metadata": {},
     "output_type": "execute_result"
    }
   ],
   "source": [
    "df_10[df_10['isFraud']==1]"
   ]
  },
  {
   "cell_type": "code",
   "execution_count": null,
   "id": "080e3e91",
   "metadata": {
    "papermill": {
     "duration": 0.035239,
     "end_time": "2021-12-17T21:17:45.023067",
     "exception": false,
     "start_time": "2021-12-17T21:17:44.987828",
     "status": "completed"
    },
    "tags": []
   },
   "outputs": [],
   "source": []
  }
 ],
 "metadata": {
  "kernelspec": {
   "display_name": "Python 3",
   "language": "python",
   "name": "python3"
  },
  "language_info": {
   "codemirror_mode": {
    "name": "ipython",
    "version": 3
   },
   "file_extension": ".py",
   "mimetype": "text/x-python",
   "name": "python",
   "nbconvert_exporter": "python",
   "pygments_lexer": "ipython3",
   "version": "3.7.12"
  },
  "papermill": {
   "default_parameters": {},
   "duration": 468.191142,
   "end_time": "2021-12-17T21:17:47.176422",
   "environment_variables": {},
   "exception": null,
   "input_path": "__notebook__.ipynb",
   "output_path": "__notebook__.ipynb",
   "parameters": {},
   "start_time": "2021-12-17T21:09:58.985280",
   "version": "2.3.3"
  }
 },
 "nbformat": 4,
 "nbformat_minor": 5
}
