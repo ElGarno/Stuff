{
 "cells": [
  {
   "cell_type": "code",
   "execution_count": 1,
   "id": "c403e047",
   "metadata": {
    "_cell_guid": "b1076dfc-b9ad-4769-8c92-a6c4dae69d19",
    "_uuid": "8f2839f25d086af736a60e9eeb907d3b93b6e0e5",
    "execution": {
     "iopub.execute_input": "2021-12-17T21:00:07.046927Z",
     "iopub.status.busy": "2021-12-17T21:00:07.045680Z",
     "iopub.status.idle": "2021-12-17T21:00:07.063032Z",
     "shell.execute_reply": "2021-12-17T21:00:07.064411Z",
     "shell.execute_reply.started": "2021-12-17T20:39:12.27562Z"
    },
    "papermill": {
     "duration": 0.055976,
     "end_time": "2021-12-17T21:00:07.064836",
     "exception": false,
     "start_time": "2021-12-17T21:00:07.008860",
     "status": "completed"
    },
    "tags": []
   },
   "outputs": [
    {
     "name": "stdout",
     "output_type": "stream",
     "text": [
      "/kaggle/input/fraud-detection/synth_composite.csv\n"
     ]
    }
   ],
   "source": [
    "# This Python 3 environment comes with many helpful analytics libraries installed\n",
    "# It is defined by the kaggle/python Docker image: https://github.com/kaggle/docker-python\n",
    "# For example, here's several helpful packages to load\n",
    "\n",
    "import numpy as np # linear algebra\n",
    "import pandas as pd # data processing, CSV file I/O (e.g. pd.read_csv)\n",
    "\n",
    "# Input data files are available in the read-only \"../input/\" directory\n",
    "# For example, running this (by clicking run or pressing Shift+Enter) will list all files under the input directory\n",
    "\n",
    "import os\n",
    "for dirname, _, filenames in os.walk('/kaggle/input'):\n",
    "    for filename in filenames:\n",
    "        print(os.path.join(dirname, filename))\n",
    "\n",
    "# You can write up to 20GB to the current directory (/kaggle/working/) that gets preserved as output when you create a version using \"Save & Run All\" \n",
    "# You can also write temporary files to /kaggle/temp/, but they won't be saved outside of the current session\n"
   ]
  },
  {
   "cell_type": "markdown",
   "id": "8c7e08e2",
   "metadata": {
    "papermill": {
     "duration": 0.031997,
     "end_time": "2021-12-17T21:00:07.131526",
     "exception": false,
     "start_time": "2021-12-17T21:00:07.099529",
     "status": "completed"
    },
    "tags": []
   },
   "source": [
    "## Import Libraries"
   ]
  },
  {
   "cell_type": "code",
   "execution_count": 2,
   "id": "fbc6692b",
   "metadata": {
    "execution": {
     "iopub.execute_input": "2021-12-17T21:00:07.199377Z",
     "iopub.status.busy": "2021-12-17T21:00:07.198543Z",
     "iopub.status.idle": "2021-12-17T21:00:08.713987Z",
     "shell.execute_reply": "2021-12-17T21:00:08.713382Z",
     "shell.execute_reply.started": "2021-12-17T20:39:13.701962Z"
    },
    "papermill": {
     "duration": 1.550414,
     "end_time": "2021-12-17T21:00:08.714122",
     "exception": false,
     "start_time": "2021-12-17T21:00:07.163708",
     "status": "completed"
    },
    "tags": []
   },
   "outputs": [],
   "source": [
    "import matplotlib.pyplot as plt\n",
    "import seaborn as sns\n",
    "from sklearn.preprocessing import LabelEncoder\n",
    "\n",
    "sns.set_theme()\n",
    "sns.set_style(\"darkgrid\")"
   ]
  },
  {
   "cell_type": "markdown",
   "id": "cf8fab78",
   "metadata": {
    "papermill": {
     "duration": 0.031341,
     "end_time": "2021-12-17T21:00:08.777668",
     "exception": false,
     "start_time": "2021-12-17T21:00:08.746327",
     "status": "completed"
    },
    "tags": []
   },
   "source": [
    "## Load dataset"
   ]
  },
  {
   "cell_type": "code",
   "execution_count": 3,
   "id": "2202285e",
   "metadata": {
    "execution": {
     "iopub.execute_input": "2021-12-17T21:00:08.846951Z",
     "iopub.status.busy": "2021-12-17T21:00:08.846295Z",
     "iopub.status.idle": "2021-12-17T21:00:33.459885Z",
     "shell.execute_reply": "2021-12-17T21:00:33.460425Z",
     "shell.execute_reply.started": "2021-12-17T20:39:14.363771Z"
    },
    "papermill": {
     "duration": 24.651604,
     "end_time": "2021-12-17T21:00:33.460624",
     "exception": false,
     "start_time": "2021-12-17T21:00:08.809020",
     "status": "completed"
    },
    "tags": []
   },
   "outputs": [],
   "source": [
    "df = pd.read_csv('../input/fraud-detection/synth_composite.csv')"
   ]
  },
  {
   "cell_type": "markdown",
   "id": "ebbd8b48",
   "metadata": {
    "papermill": {
     "duration": 0.030718,
     "end_time": "2021-12-17T21:00:33.523362",
     "exception": false,
     "start_time": "2021-12-17T21:00:33.492644",
     "status": "completed"
    },
    "tags": []
   },
   "source": [
    "### Show some stats"
   ]
  },
  {
   "cell_type": "code",
   "execution_count": 4,
   "id": "a7572ee8",
   "metadata": {
    "execution": {
     "iopub.execute_input": "2021-12-17T21:00:33.595314Z",
     "iopub.status.busy": "2021-12-17T21:00:33.594619Z",
     "iopub.status.idle": "2021-12-17T21:00:33.617713Z",
     "shell.execute_reply": "2021-12-17T21:00:33.617058Z",
     "shell.execute_reply.started": "2021-12-17T20:39:31.941386Z"
    },
    "papermill": {
     "duration": 0.06309,
     "end_time": "2021-12-17T21:00:33.617853",
     "exception": false,
     "start_time": "2021-12-17T21:00:33.554763",
     "status": "completed"
    },
    "tags": []
   },
   "outputs": [
    {
     "data": {
      "text/html": [
       "<div>\n",
       "<style scoped>\n",
       "    .dataframe tbody tr th:only-of-type {\n",
       "        vertical-align: middle;\n",
       "    }\n",
       "\n",
       "    .dataframe tbody tr th {\n",
       "        vertical-align: top;\n",
       "    }\n",
       "\n",
       "    .dataframe thead th {\n",
       "        text-align: right;\n",
       "    }\n",
       "</style>\n",
       "<table border=\"1\" class=\"dataframe\">\n",
       "  <thead>\n",
       "    <tr style=\"text-align: right;\">\n",
       "      <th></th>\n",
       "      <th>step</th>\n",
       "      <th>type</th>\n",
       "      <th>amount</th>\n",
       "      <th>nameOrig</th>\n",
       "      <th>oldbalanceOrg</th>\n",
       "      <th>newbalanceOrig</th>\n",
       "      <th>nameDest</th>\n",
       "      <th>oldbalanceDest</th>\n",
       "      <th>newbalanceDest</th>\n",
       "      <th>isFraud</th>\n",
       "      <th>isFlaggedFraud</th>\n",
       "    </tr>\n",
       "  </thead>\n",
       "  <tbody>\n",
       "    <tr>\n",
       "      <th>0</th>\n",
       "      <td>211</td>\n",
       "      <td>CASH_OUT</td>\n",
       "      <td>184185.755277</td>\n",
       "      <td>160_2696646_0</td>\n",
       "      <td>203108.476051</td>\n",
       "      <td>18922.720773</td>\n",
       "      <td>160_901564_0</td>\n",
       "      <td>1.019994e+06</td>\n",
       "      <td>1.204127e+06</td>\n",
       "      <td>0</td>\n",
       "      <td>0</td>\n",
       "    </tr>\n",
       "    <tr>\n",
       "      <th>1</th>\n",
       "      <td>394</td>\n",
       "      <td>CASH_OUT</td>\n",
       "      <td>237093.196009</td>\n",
       "      <td>160_5585569_0</td>\n",
       "      <td>382707.464238</td>\n",
       "      <td>145614.268230</td>\n",
       "      <td>160_1586945_0</td>\n",
       "      <td>5.870893e+05</td>\n",
       "      <td>8.243203e+05</td>\n",
       "      <td>0</td>\n",
       "      <td>0</td>\n",
       "    </tr>\n",
       "    <tr>\n",
       "      <th>2</th>\n",
       "      <td>306</td>\n",
       "      <td>CASH_IN</td>\n",
       "      <td>163600.518794</td>\n",
       "      <td>160_4221372_0</td>\n",
       "      <td>3093.431169</td>\n",
       "      <td>0.000000</td>\n",
       "      <td>160_1701821_0</td>\n",
       "      <td>6.534538e+05</td>\n",
       "      <td>4.901219e+05</td>\n",
       "      <td>0</td>\n",
       "      <td>0</td>\n",
       "    </tr>\n",
       "    <tr>\n",
       "      <th>3</th>\n",
       "      <td>235</td>\n",
       "      <td>PAYMENT</td>\n",
       "      <td>7625.866018</td>\n",
       "      <td>160_3064357_0</td>\n",
       "      <td>74630.853812</td>\n",
       "      <td>67004.987793</td>\n",
       "      <td>160_1304279_0</td>\n",
       "      <td>1.666019e+01</td>\n",
       "      <td>1.362096e+01</td>\n",
       "      <td>0</td>\n",
       "      <td>0</td>\n",
       "    </tr>\n",
       "    <tr>\n",
       "      <th>4</th>\n",
       "      <td>235</td>\n",
       "      <td>PAYMENT</td>\n",
       "      <td>7866.992466</td>\n",
       "      <td>160_5544127_0</td>\n",
       "      <td>74632.326454</td>\n",
       "      <td>66765.333988</td>\n",
       "      <td>160_2370260_0</td>\n",
       "      <td>5.390545e+00</td>\n",
       "      <td>9.820910e+00</td>\n",
       "      <td>0</td>\n",
       "      <td>0</td>\n",
       "    </tr>\n",
       "    <tr>\n",
       "      <th>5</th>\n",
       "      <td>493</td>\n",
       "      <td>CASH_OUT</td>\n",
       "      <td>281403.795998</td>\n",
       "      <td>160_6037426_0</td>\n",
       "      <td>42235.923347</td>\n",
       "      <td>0.000000</td>\n",
       "      <td>160_2092767_0</td>\n",
       "      <td>5.880235e+05</td>\n",
       "      <td>8.693219e+05</td>\n",
       "      <td>0</td>\n",
       "      <td>0</td>\n",
       "    </tr>\n",
       "    <tr>\n",
       "      <th>6</th>\n",
       "      <td>18</td>\n",
       "      <td>PAYMENT</td>\n",
       "      <td>4355.986182</td>\n",
       "      <td>160_400626_0</td>\n",
       "      <td>56160.034248</td>\n",
       "      <td>51804.048066</td>\n",
       "      <td>160_175474_0</td>\n",
       "      <td>8.496485e+00</td>\n",
       "      <td>1.078249e+01</td>\n",
       "      <td>0</td>\n",
       "      <td>0</td>\n",
       "    </tr>\n",
       "    <tr>\n",
       "      <th>7</th>\n",
       "      <td>550</td>\n",
       "      <td>CASH_IN</td>\n",
       "      <td>102079.164541</td>\n",
       "      <td>160_6146482_0</td>\n",
       "      <td>15781.717821</td>\n",
       "      <td>0.000000</td>\n",
       "      <td>160_354507_0</td>\n",
       "      <td>4.064748e+06</td>\n",
       "      <td>3.962757e+06</td>\n",
       "      <td>0</td>\n",
       "      <td>0</td>\n",
       "    </tr>\n",
       "    <tr>\n",
       "      <th>8</th>\n",
       "      <td>284</td>\n",
       "      <td>CASH_OUT</td>\n",
       "      <td>144074.648278</td>\n",
       "      <td>160_3889478_0</td>\n",
       "      <td>197270.864524</td>\n",
       "      <td>53196.216246</td>\n",
       "      <td>160_1089660_0</td>\n",
       "      <td>1.097389e+06</td>\n",
       "      <td>1.241346e+06</td>\n",
       "      <td>0</td>\n",
       "      <td>0</td>\n",
       "    </tr>\n",
       "    <tr>\n",
       "      <th>9</th>\n",
       "      <td>132</td>\n",
       "      <td>CASH_OUT</td>\n",
       "      <td>142367.900524</td>\n",
       "      <td>160_1163767_0</td>\n",
       "      <td>0.185064</td>\n",
       "      <td>0.000000</td>\n",
       "      <td>160_29365_0</td>\n",
       "      <td>2.424877e+06</td>\n",
       "      <td>2.567106e+06</td>\n",
       "      <td>0</td>\n",
       "      <td>0</td>\n",
       "    </tr>\n",
       "  </tbody>\n",
       "</table>\n",
       "</div>"
      ],
      "text/plain": [
       "   step      type         amount       nameOrig  oldbalanceOrg  \\\n",
       "0   211  CASH_OUT  184185.755277  160_2696646_0  203108.476051   \n",
       "1   394  CASH_OUT  237093.196009  160_5585569_0  382707.464238   \n",
       "2   306   CASH_IN  163600.518794  160_4221372_0    3093.431169   \n",
       "3   235   PAYMENT    7625.866018  160_3064357_0   74630.853812   \n",
       "4   235   PAYMENT    7866.992466  160_5544127_0   74632.326454   \n",
       "5   493  CASH_OUT  281403.795998  160_6037426_0   42235.923347   \n",
       "6    18   PAYMENT    4355.986182   160_400626_0   56160.034248   \n",
       "7   550   CASH_IN  102079.164541  160_6146482_0   15781.717821   \n",
       "8   284  CASH_OUT  144074.648278  160_3889478_0  197270.864524   \n",
       "9   132  CASH_OUT  142367.900524  160_1163767_0       0.185064   \n",
       "\n",
       "   newbalanceOrig       nameDest  oldbalanceDest  newbalanceDest  isFraud  \\\n",
       "0    18922.720773   160_901564_0    1.019994e+06    1.204127e+06        0   \n",
       "1   145614.268230  160_1586945_0    5.870893e+05    8.243203e+05        0   \n",
       "2        0.000000  160_1701821_0    6.534538e+05    4.901219e+05        0   \n",
       "3    67004.987793  160_1304279_0    1.666019e+01    1.362096e+01        0   \n",
       "4    66765.333988  160_2370260_0    5.390545e+00    9.820910e+00        0   \n",
       "5        0.000000  160_2092767_0    5.880235e+05    8.693219e+05        0   \n",
       "6    51804.048066   160_175474_0    8.496485e+00    1.078249e+01        0   \n",
       "7        0.000000   160_354507_0    4.064748e+06    3.962757e+06        0   \n",
       "8    53196.216246  160_1089660_0    1.097389e+06    1.241346e+06        0   \n",
       "9        0.000000    160_29365_0    2.424877e+06    2.567106e+06        0   \n",
       "\n",
       "   isFlaggedFraud  \n",
       "0               0  \n",
       "1               0  \n",
       "2               0  \n",
       "3               0  \n",
       "4               0  \n",
       "5               0  \n",
       "6               0  \n",
       "7               0  \n",
       "8               0  \n",
       "9               0  "
      ]
     },
     "execution_count": 4,
     "metadata": {},
     "output_type": "execute_result"
    }
   ],
   "source": [
    "df.head(10)"
   ]
  },
  {
   "cell_type": "code",
   "execution_count": 5,
   "id": "8280efae",
   "metadata": {
    "execution": {
     "iopub.execute_input": "2021-12-17T21:00:33.687652Z",
     "iopub.status.busy": "2021-12-17T21:00:33.686926Z",
     "iopub.status.idle": "2021-12-17T21:00:33.689491Z",
     "shell.execute_reply": "2021-12-17T21:00:33.689990Z",
     "shell.execute_reply.started": "2021-12-17T20:39:31.962666Z"
    },
    "papermill": {
     "duration": 0.040031,
     "end_time": "2021-12-17T21:00:33.690163",
     "exception": false,
     "start_time": "2021-12-17T21:00:33.650132",
     "status": "completed"
    },
    "tags": []
   },
   "outputs": [
    {
     "data": {
      "text/plain": [
       "(6362620, 11)"
      ]
     },
     "execution_count": 5,
     "metadata": {},
     "output_type": "execute_result"
    }
   ],
   "source": [
    "df.shape"
   ]
  },
  {
   "cell_type": "code",
   "execution_count": 6,
   "id": "6263d2a9",
   "metadata": {
    "execution": {
     "iopub.execute_input": "2021-12-17T21:00:33.811810Z",
     "iopub.status.busy": "2021-12-17T21:00:33.811105Z",
     "iopub.status.idle": "2021-12-17T21:00:33.814921Z",
     "shell.execute_reply": "2021-12-17T21:00:33.814344Z",
     "shell.execute_reply.started": "2021-12-17T20:39:31.976776Z"
    },
    "papermill": {
     "duration": 0.092852,
     "end_time": "2021-12-17T21:00:33.815069",
     "exception": false,
     "start_time": "2021-12-17T21:00:33.722217",
     "status": "completed"
    },
    "tags": []
   },
   "outputs": [
    {
     "data": {
      "text/plain": [
       "0    6354407\n",
       "1       8213\n",
       "Name: isFraud, dtype: int64"
      ]
     },
     "execution_count": 6,
     "metadata": {},
     "output_type": "execute_result"
    }
   ],
   "source": [
    "df['isFraud'].value_counts()"
   ]
  },
  {
   "cell_type": "code",
   "execution_count": 7,
   "id": "49791fbe",
   "metadata": {
    "execution": {
     "iopub.execute_input": "2021-12-17T21:00:33.932576Z",
     "iopub.status.busy": "2021-12-17T21:00:33.930046Z",
     "iopub.status.idle": "2021-12-17T21:00:33.934959Z",
     "shell.execute_reply": "2021-12-17T21:00:33.935483Z",
     "shell.execute_reply.started": "2021-12-17T20:39:32.023454Z"
    },
    "papermill": {
     "duration": 0.087468,
     "end_time": "2021-12-17T21:00:33.935647",
     "exception": false,
     "start_time": "2021-12-17T21:00:33.848179",
     "status": "completed"
    },
    "tags": []
   },
   "outputs": [
    {
     "data": {
      "text/plain": [
       "0    6362606\n",
       "1         14\n",
       "Name: isFlaggedFraud, dtype: int64"
      ]
     },
     "execution_count": 7,
     "metadata": {},
     "output_type": "execute_result"
    }
   ],
   "source": [
    "df['isFlaggedFraud'].value_counts()"
   ]
  },
  {
   "cell_type": "code",
   "execution_count": 8,
   "id": "85db3039",
   "metadata": {
    "execution": {
     "iopub.execute_input": "2021-12-17T21:00:34.013028Z",
     "iopub.status.busy": "2021-12-17T21:00:34.012131Z",
     "iopub.status.idle": "2021-12-17T21:00:34.074621Z",
     "shell.execute_reply": "2021-12-17T21:00:34.073798Z",
     "shell.execute_reply.started": "2021-12-17T20:39:32.073581Z"
    },
    "papermill": {
     "duration": 0.105465,
     "end_time": "2021-12-17T21:00:34.074789",
     "exception": false,
     "start_time": "2021-12-17T21:00:33.969324",
     "status": "completed"
    },
    "tags": []
   },
   "outputs": [
    {
     "data": {
      "text/html": [
       "<div>\n",
       "<style scoped>\n",
       "    .dataframe tbody tr th:only-of-type {\n",
       "        vertical-align: middle;\n",
       "    }\n",
       "\n",
       "    .dataframe tbody tr th {\n",
       "        vertical-align: top;\n",
       "    }\n",
       "\n",
       "    .dataframe thead th {\n",
       "        text-align: right;\n",
       "    }\n",
       "</style>\n",
       "<table border=\"1\" class=\"dataframe\">\n",
       "  <thead>\n",
       "    <tr style=\"text-align: right;\">\n",
       "      <th></th>\n",
       "      <th>step</th>\n",
       "      <th>type</th>\n",
       "      <th>amount</th>\n",
       "      <th>nameOrig</th>\n",
       "      <th>oldbalanceOrg</th>\n",
       "      <th>newbalanceOrig</th>\n",
       "      <th>nameDest</th>\n",
       "      <th>oldbalanceDest</th>\n",
       "      <th>newbalanceDest</th>\n",
       "      <th>isFraud</th>\n",
       "      <th>isFlaggedFraud</th>\n",
       "    </tr>\n",
       "  </thead>\n",
       "  <tbody>\n",
       "    <tr>\n",
       "      <th>6354407</th>\n",
       "      <td>741</td>\n",
       "      <td>CASH_OUT</td>\n",
       "      <td>2.00</td>\n",
       "      <td>161_8178_0</td>\n",
       "      <td>-71.00</td>\n",
       "      <td>-73.0</td>\n",
       "      <td>161_8134_0</td>\n",
       "      <td>2.700696e+05</td>\n",
       "      <td>2.702828e+05</td>\n",
       "      <td>1</td>\n",
       "      <td>0</td>\n",
       "    </tr>\n",
       "    <tr>\n",
       "      <th>6354408</th>\n",
       "      <td>212</td>\n",
       "      <td>CASH_OUT</td>\n",
       "      <td>362998.52</td>\n",
       "      <td>161_2386_0</td>\n",
       "      <td>363050.52</td>\n",
       "      <td>52.0</td>\n",
       "      <td>161_2374_0</td>\n",
       "      <td>2.159733e+06</td>\n",
       "      <td>2.523959e+06</td>\n",
       "      <td>1</td>\n",
       "      <td>0</td>\n",
       "    </tr>\n",
       "    <tr>\n",
       "      <th>6354409</th>\n",
       "      <td>568</td>\n",
       "      <td>CASH_OUT</td>\n",
       "      <td>66187.66</td>\n",
       "      <td>161_6282_0</td>\n",
       "      <td>66125.66</td>\n",
       "      <td>-62.0</td>\n",
       "      <td>161_6251_0</td>\n",
       "      <td>7.177089e+05</td>\n",
       "      <td>7.832872e+05</td>\n",
       "      <td>1</td>\n",
       "      <td>0</td>\n",
       "    </tr>\n",
       "    <tr>\n",
       "      <th>6354410</th>\n",
       "      <td>15</td>\n",
       "      <td>CASH_OUT</td>\n",
       "      <td>696771.08</td>\n",
       "      <td>161_168_0</td>\n",
       "      <td>696771.08</td>\n",
       "      <td>0.0</td>\n",
       "      <td>161_167_0</td>\n",
       "      <td>3.688858e+05</td>\n",
       "      <td>1.351356e+06</td>\n",
       "      <td>1</td>\n",
       "      <td>0</td>\n",
       "    </tr>\n",
       "    <tr>\n",
       "      <th>6354411</th>\n",
       "      <td>501</td>\n",
       "      <td>CASH_OUT</td>\n",
       "      <td>73332.47</td>\n",
       "      <td>161_5584_0</td>\n",
       "      <td>73285.47</td>\n",
       "      <td>-47.0</td>\n",
       "      <td>161_5556_0</td>\n",
       "      <td>1.253682e+05</td>\n",
       "      <td>1.923281e+05</td>\n",
       "      <td>1</td>\n",
       "      <td>0</td>\n",
       "    </tr>\n",
       "    <tr>\n",
       "      <th>...</th>\n",
       "      <td>...</td>\n",
       "      <td>...</td>\n",
       "      <td>...</td>\n",
       "      <td>...</td>\n",
       "      <td>...</td>\n",
       "      <td>...</td>\n",
       "      <td>...</td>\n",
       "      <td>...</td>\n",
       "      <td>...</td>\n",
       "      <td>...</td>\n",
       "      <td>...</td>\n",
       "    </tr>\n",
       "    <tr>\n",
       "      <th>6362615</th>\n",
       "      <td>483</td>\n",
       "      <td>CASH_OUT</td>\n",
       "      <td>22982.73</td>\n",
       "      <td>161_5384_0</td>\n",
       "      <td>22981.73</td>\n",
       "      <td>-1.0</td>\n",
       "      <td>161_5356_0</td>\n",
       "      <td>3.279893e+06</td>\n",
       "      <td>3.304007e+06</td>\n",
       "      <td>1</td>\n",
       "      <td>0</td>\n",
       "    </tr>\n",
       "    <tr>\n",
       "      <th>6362616</th>\n",
       "      <td>214</td>\n",
       "      <td>CASH_OUT</td>\n",
       "      <td>1368390.50</td>\n",
       "      <td>161_2420_0</td>\n",
       "      <td>1368453.50</td>\n",
       "      <td>63.0</td>\n",
       "      <td>161_2408_0</td>\n",
       "      <td>2.589394e+05</td>\n",
       "      <td>1.624944e+06</td>\n",
       "      <td>1</td>\n",
       "      <td>0</td>\n",
       "    </tr>\n",
       "    <tr>\n",
       "      <th>6362617</th>\n",
       "      <td>679</td>\n",
       "      <td>CASH_OUT</td>\n",
       "      <td>3150440.28</td>\n",
       "      <td>161_7476_0</td>\n",
       "      <td>3150454.28</td>\n",
       "      <td>14.0</td>\n",
       "      <td>161_7437_0</td>\n",
       "      <td>6.372507e+03</td>\n",
       "      <td>3.157667e+06</td>\n",
       "      <td>1</td>\n",
       "      <td>0</td>\n",
       "    </tr>\n",
       "    <tr>\n",
       "      <th>6362618</th>\n",
       "      <td>482</td>\n",
       "      <td>CASH_OUT</td>\n",
       "      <td>75655.33</td>\n",
       "      <td>161_5366_0</td>\n",
       "      <td>75647.33</td>\n",
       "      <td>-8.0</td>\n",
       "      <td>161_5338_0</td>\n",
       "      <td>8.529471e+05</td>\n",
       "      <td>9.285452e+05</td>\n",
       "      <td>1</td>\n",
       "      <td>0</td>\n",
       "    </tr>\n",
       "    <tr>\n",
       "      <th>6362619</th>\n",
       "      <td>685</td>\n",
       "      <td>CASH_OUT</td>\n",
       "      <td>4886421.05</td>\n",
       "      <td>161_7534_0</td>\n",
       "      <td>4886450.05</td>\n",
       "      <td>29.0</td>\n",
       "      <td>161_7495_0</td>\n",
       "      <td>3.186239e+03</td>\n",
       "      <td>4.886829e+06</td>\n",
       "      <td>1</td>\n",
       "      <td>0</td>\n",
       "    </tr>\n",
       "  </tbody>\n",
       "</table>\n",
       "<p>8213 rows × 11 columns</p>\n",
       "</div>"
      ],
      "text/plain": [
       "         step      type      amount    nameOrig  oldbalanceOrg  \\\n",
       "6354407   741  CASH_OUT        2.00  161_8178_0         -71.00   \n",
       "6354408   212  CASH_OUT   362998.52  161_2386_0      363050.52   \n",
       "6354409   568  CASH_OUT    66187.66  161_6282_0       66125.66   \n",
       "6354410    15  CASH_OUT   696771.08   161_168_0      696771.08   \n",
       "6354411   501  CASH_OUT    73332.47  161_5584_0       73285.47   \n",
       "...       ...       ...         ...         ...            ...   \n",
       "6362615   483  CASH_OUT    22982.73  161_5384_0       22981.73   \n",
       "6362616   214  CASH_OUT  1368390.50  161_2420_0     1368453.50   \n",
       "6362617   679  CASH_OUT  3150440.28  161_7476_0     3150454.28   \n",
       "6362618   482  CASH_OUT    75655.33  161_5366_0       75647.33   \n",
       "6362619   685  CASH_OUT  4886421.05  161_7534_0     4886450.05   \n",
       "\n",
       "         newbalanceOrig    nameDest  oldbalanceDest  newbalanceDest  isFraud  \\\n",
       "6354407           -73.0  161_8134_0    2.700696e+05    2.702828e+05        1   \n",
       "6354408            52.0  161_2374_0    2.159733e+06    2.523959e+06        1   \n",
       "6354409           -62.0  161_6251_0    7.177089e+05    7.832872e+05        1   \n",
       "6354410             0.0   161_167_0    3.688858e+05    1.351356e+06        1   \n",
       "6354411           -47.0  161_5556_0    1.253682e+05    1.923281e+05        1   \n",
       "...                 ...         ...             ...             ...      ...   \n",
       "6362615            -1.0  161_5356_0    3.279893e+06    3.304007e+06        1   \n",
       "6362616            63.0  161_2408_0    2.589394e+05    1.624944e+06        1   \n",
       "6362617            14.0  161_7437_0    6.372507e+03    3.157667e+06        1   \n",
       "6362618            -8.0  161_5338_0    8.529471e+05    9.285452e+05        1   \n",
       "6362619            29.0  161_7495_0    3.186239e+03    4.886829e+06        1   \n",
       "\n",
       "         isFlaggedFraud  \n",
       "6354407               0  \n",
       "6354408               0  \n",
       "6354409               0  \n",
       "6354410               0  \n",
       "6354411               0  \n",
       "...                 ...  \n",
       "6362615               0  \n",
       "6362616               0  \n",
       "6362617               0  \n",
       "6362618               0  \n",
       "6362619               0  \n",
       "\n",
       "[8213 rows x 11 columns]"
      ]
     },
     "execution_count": 8,
     "metadata": {},
     "output_type": "execute_result"
    }
   ],
   "source": [
    "df[df['isFraud']==1]"
   ]
  },
  {
   "cell_type": "code",
   "execution_count": 9,
   "id": "a93e5667",
   "metadata": {
    "execution": {
     "iopub.execute_input": "2021-12-17T21:00:34.160390Z",
     "iopub.status.busy": "2021-12-17T21:00:34.159687Z",
     "iopub.status.idle": "2021-12-17T21:00:34.178577Z",
     "shell.execute_reply": "2021-12-17T21:00:34.177927Z",
     "shell.execute_reply.started": "2021-12-17T20:39:32.126864Z"
    },
    "papermill": {
     "duration": 0.065057,
     "end_time": "2021-12-17T21:00:34.178761",
     "exception": false,
     "start_time": "2021-12-17T21:00:34.113704",
     "status": "completed"
    },
    "tags": []
   },
   "outputs": [
    {
     "data": {
      "text/plain": [
       "8212"
      ]
     },
     "execution_count": 9,
     "metadata": {},
     "output_type": "execute_result"
    }
   ],
   "source": [
    "df[df['isFraud']==1].index[-1] - df[df['isFraud']==1].index[0]"
   ]
  },
  {
   "cell_type": "markdown",
   "id": "04a29d73",
   "metadata": {
    "papermill": {
     "duration": 0.037615,
     "end_time": "2021-12-17T21:00:34.254257",
     "exception": false,
     "start_time": "2021-12-17T21:00:34.216642",
     "status": "completed"
    },
    "tags": []
   },
   "source": [
    "--> The last rows in the df are labeled as fraud"
   ]
  },
  {
   "cell_type": "code",
   "execution_count": 10,
   "id": "45e778a3",
   "metadata": {
    "execution": {
     "iopub.execute_input": "2021-12-17T21:00:34.336821Z",
     "iopub.status.busy": "2021-12-17T21:00:34.336262Z",
     "iopub.status.idle": "2021-12-17T21:00:36.859375Z",
     "shell.execute_reply": "2021-12-17T21:00:36.858704Z",
     "shell.execute_reply.started": "2021-12-17T20:39:32.147716Z"
    },
    "papermill": {
     "duration": 2.567516,
     "end_time": "2021-12-17T21:00:36.859490",
     "exception": false,
     "start_time": "2021-12-17T21:00:34.291974",
     "status": "completed"
    },
    "tags": []
   },
   "outputs": [],
   "source": [
    "df_10 = df.sample(frac=0.1)"
   ]
  },
  {
   "cell_type": "code",
   "execution_count": 11,
   "id": "cfd302eb",
   "metadata": {
    "execution": {
     "iopub.execute_input": "2021-12-17T21:00:36.917588Z",
     "iopub.status.busy": "2021-12-17T21:00:36.915293Z",
     "iopub.status.idle": "2021-12-17T21:00:36.923310Z",
     "shell.execute_reply": "2021-12-17T21:00:36.922637Z",
     "shell.execute_reply.started": "2021-12-17T20:39:32.973087Z"
    },
    "papermill": {
     "duration": 0.041428,
     "end_time": "2021-12-17T21:00:36.923452",
     "exception": false,
     "start_time": "2021-12-17T21:00:36.882024",
     "status": "completed"
    },
    "tags": []
   },
   "outputs": [
    {
     "data": {
      "text/plain": [
       "0    635481\n",
       "1       781\n",
       "Name: isFraud, dtype: int64"
      ]
     },
     "execution_count": 11,
     "metadata": {},
     "output_type": "execute_result"
    }
   ],
   "source": [
    "df_10['isFraud'].value_counts()"
   ]
  },
  {
   "cell_type": "code",
   "execution_count": 12,
   "id": "a7d4a34f",
   "metadata": {
    "execution": {
     "iopub.execute_input": "2021-12-17T21:00:37.010749Z",
     "iopub.status.busy": "2021-12-17T21:00:37.005246Z",
     "iopub.status.idle": "2021-12-17T21:00:37.014478Z",
     "shell.execute_reply": "2021-12-17T21:00:37.013821Z",
     "shell.execute_reply.started": "2021-12-17T20:39:32.988164Z"
    },
    "papermill": {
     "duration": 0.055635,
     "end_time": "2021-12-17T21:00:37.014613",
     "exception": false,
     "start_time": "2021-12-17T21:00:36.958978",
     "status": "completed"
    },
    "tags": []
   },
   "outputs": [
    {
     "data": {
      "text/html": [
       "<div>\n",
       "<style scoped>\n",
       "    .dataframe tbody tr th:only-of-type {\n",
       "        vertical-align: middle;\n",
       "    }\n",
       "\n",
       "    .dataframe tbody tr th {\n",
       "        vertical-align: top;\n",
       "    }\n",
       "\n",
       "    .dataframe thead th {\n",
       "        text-align: right;\n",
       "    }\n",
       "</style>\n",
       "<table border=\"1\" class=\"dataframe\">\n",
       "  <thead>\n",
       "    <tr style=\"text-align: right;\">\n",
       "      <th></th>\n",
       "      <th>step</th>\n",
       "      <th>type</th>\n",
       "      <th>amount</th>\n",
       "      <th>nameOrig</th>\n",
       "      <th>oldbalanceOrg</th>\n",
       "      <th>newbalanceOrig</th>\n",
       "      <th>nameDest</th>\n",
       "      <th>oldbalanceDest</th>\n",
       "      <th>newbalanceDest</th>\n",
       "      <th>isFraud</th>\n",
       "      <th>isFlaggedFraud</th>\n",
       "    </tr>\n",
       "  </thead>\n",
       "  <tbody>\n",
       "    <tr>\n",
       "      <th>4647954</th>\n",
       "      <td>182</td>\n",
       "      <td>CASH_OUT</td>\n",
       "      <td>3.144734e+04</td>\n",
       "      <td>160_2075356_0</td>\n",
       "      <td>1.850099</td>\n",
       "      <td>0.0</td>\n",
       "      <td>160_464097_0</td>\n",
       "      <td>1.687454e+06</td>\n",
       "      <td>1.718858e+06</td>\n",
       "      <td>0</td>\n",
       "      <td>0</td>\n",
       "    </tr>\n",
       "    <tr>\n",
       "      <th>4363898</th>\n",
       "      <td>9</td>\n",
       "      <td>TRANSFER</td>\n",
       "      <td>2.596976e+06</td>\n",
       "      <td>160_35503_0</td>\n",
       "      <td>7660.255851</td>\n",
       "      <td>0.0</td>\n",
       "      <td>160_9610_0</td>\n",
       "      <td>1.736982e+06</td>\n",
       "      <td>4.923373e+06</td>\n",
       "      <td>0</td>\n",
       "      <td>0</td>\n",
       "    </tr>\n",
       "    <tr>\n",
       "      <th>5501455</th>\n",
       "      <td>17</td>\n",
       "      <td>CASH_OUT</td>\n",
       "      <td>4.562243e+05</td>\n",
       "      <td>160_368082_0</td>\n",
       "      <td>0.632839</td>\n",
       "      <td>0.0</td>\n",
       "      <td>160_136927_0</td>\n",
       "      <td>2.172228e+06</td>\n",
       "      <td>2.628624e+06</td>\n",
       "      <td>0</td>\n",
       "      <td>0</td>\n",
       "    </tr>\n",
       "    <tr>\n",
       "      <th>1927590</th>\n",
       "      <td>323</td>\n",
       "      <td>CASH_OUT</td>\n",
       "      <td>2.694951e+05</td>\n",
       "      <td>160_4436306_0</td>\n",
       "      <td>1.212568</td>\n",
       "      <td>0.0</td>\n",
       "      <td>160_1681768_0</td>\n",
       "      <td>4.502429e+07</td>\n",
       "      <td>4.529381e+07</td>\n",
       "      <td>0</td>\n",
       "      <td>0</td>\n",
       "    </tr>\n",
       "    <tr>\n",
       "      <th>1318353</th>\n",
       "      <td>397</td>\n",
       "      <td>CASH_OUT</td>\n",
       "      <td>9.179606e+04</td>\n",
       "      <td>160_5672453_0</td>\n",
       "      <td>0.553520</td>\n",
       "      <td>0.0</td>\n",
       "      <td>160_400070_0</td>\n",
       "      <td>2.126825e+06</td>\n",
       "      <td>2.218717e+06</td>\n",
       "      <td>0</td>\n",
       "      <td>0</td>\n",
       "    </tr>\n",
       "  </tbody>\n",
       "</table>\n",
       "</div>"
      ],
      "text/plain": [
       "         step      type        amount       nameOrig  oldbalanceOrg  \\\n",
       "4647954   182  CASH_OUT  3.144734e+04  160_2075356_0       1.850099   \n",
       "4363898     9  TRANSFER  2.596976e+06    160_35503_0    7660.255851   \n",
       "5501455    17  CASH_OUT  4.562243e+05   160_368082_0       0.632839   \n",
       "1927590   323  CASH_OUT  2.694951e+05  160_4436306_0       1.212568   \n",
       "1318353   397  CASH_OUT  9.179606e+04  160_5672453_0       0.553520   \n",
       "\n",
       "         newbalanceOrig       nameDest  oldbalanceDest  newbalanceDest  \\\n",
       "4647954             0.0   160_464097_0    1.687454e+06    1.718858e+06   \n",
       "4363898             0.0     160_9610_0    1.736982e+06    4.923373e+06   \n",
       "5501455             0.0   160_136927_0    2.172228e+06    2.628624e+06   \n",
       "1927590             0.0  160_1681768_0    4.502429e+07    4.529381e+07   \n",
       "1318353             0.0   160_400070_0    2.126825e+06    2.218717e+06   \n",
       "\n",
       "         isFraud  isFlaggedFraud  \n",
       "4647954        0               0  \n",
       "4363898        0               0  \n",
       "5501455        0               0  \n",
       "1927590        0               0  \n",
       "1318353        0               0  "
      ]
     },
     "execution_count": 12,
     "metadata": {},
     "output_type": "execute_result"
    }
   ],
   "source": [
    "df_10.head()"
   ]
  },
  {
   "cell_type": "code",
   "execution_count": 13,
   "id": "efaf041d",
   "metadata": {
    "execution": {
     "iopub.execute_input": "2021-12-17T21:00:37.128379Z",
     "iopub.status.busy": "2021-12-17T21:00:37.126336Z",
     "iopub.status.idle": "2021-12-17T21:00:37.134337Z",
     "shell.execute_reply": "2021-12-17T21:00:37.133669Z",
     "shell.execute_reply.started": "2021-12-17T20:39:33.013246Z"
    },
    "papermill": {
     "duration": 0.084637,
     "end_time": "2021-12-17T21:00:37.134488",
     "exception": false,
     "start_time": "2021-12-17T21:00:37.049851",
     "status": "completed"
    },
    "tags": []
   },
   "outputs": [
    {
     "data": {
      "text/plain": [
       "CASH_OUT    223957\n",
       "PAYMENT     214740\n",
       "CASH_IN     140354\n",
       "TRANSFER     53140\n",
       "DEBIT         4071\n",
       "Name: type, dtype: int64"
      ]
     },
     "execution_count": 13,
     "metadata": {},
     "output_type": "execute_result"
    }
   ],
   "source": [
    "df_10['type'].value_counts()"
   ]
  },
  {
   "cell_type": "code",
   "execution_count": 14,
   "id": "ce0bd1fc",
   "metadata": {
    "execution": {
     "iopub.execute_input": "2021-12-17T21:00:37.249655Z",
     "iopub.status.busy": "2021-12-17T21:00:37.248862Z",
     "iopub.status.idle": "2021-12-17T21:00:37.252769Z",
     "shell.execute_reply": "2021-12-17T21:00:37.252139Z",
     "shell.execute_reply.started": "2021-12-17T20:39:37.366523Z"
    },
    "papermill": {
     "duration": 0.081998,
     "end_time": "2021-12-17T21:00:37.252913",
     "exception": false,
     "start_time": "2021-12-17T21:00:37.170915",
     "status": "completed"
    },
    "tags": []
   },
   "outputs": [
    {
     "data": {
      "text/plain": [
       "Index(['CASH_OUT', 'PAYMENT', 'CASH_IN', 'TRANSFER', 'DEBIT'], dtype='object')"
      ]
     },
     "execution_count": 14,
     "metadata": {},
     "output_type": "execute_result"
    }
   ],
   "source": [
    "df_10['type'].value_counts().index"
   ]
  },
  {
   "cell_type": "code",
   "execution_count": 15,
   "id": "b815a2ac",
   "metadata": {
    "execution": {
     "iopub.execute_input": "2021-12-17T21:00:37.416481Z",
     "iopub.status.busy": "2021-12-17T21:00:37.367934Z",
     "iopub.status.idle": "2021-12-17T21:00:37.681087Z",
     "shell.execute_reply": "2021-12-17T21:00:37.681650Z",
     "shell.execute_reply.started": "2021-12-17T20:39:38.088352Z"
    },
    "papermill": {
     "duration": 0.392797,
     "end_time": "2021-12-17T21:00:37.681845",
     "exception": false,
     "start_time": "2021-12-17T21:00:37.289048",
     "status": "completed"
    },
    "tags": []
   },
   "outputs": [
    {
     "data": {
      "text/plain": [
       "Text(0.5, 1.0, 'Type of transaction')"
      ]
     },
     "execution_count": 15,
     "metadata": {},
     "output_type": "execute_result"
    },
    {
     "data": {
      "image/png": "[encoded data removed]",
      "text/plain": [
       "<Figure size 720x432 with 1 Axes>"
      ]
     },
     "metadata": {},
     "output_type": "display_data"
    }
   ],
   "source": [
    "fig = plt.figure(figsize=(10,6))\n",
    "x = df_10['type'].value_counts().index\n",
    "y = df_10['type'].value_counts()\n",
    "plt.bar(x,y)\n",
    "plt.title('Type of transaction')"
   ]
  },
  {
   "cell_type": "code",
   "execution_count": 16,
   "id": "58e1fdb9",
   "metadata": {
    "execution": {
     "iopub.execute_input": "2021-12-17T21:00:37.769882Z",
     "iopub.status.busy": "2021-12-17T21:00:37.769105Z",
     "iopub.status.idle": "2021-12-17T21:00:38.251238Z",
     "shell.execute_reply": "2021-12-17T21:00:38.251716Z",
     "shell.execute_reply.started": "2021-12-17T20:39:38.702716Z"
    },
    "papermill": {
     "duration": 0.528867,
     "end_time": "2021-12-17T21:00:38.251891",
     "exception": false,
     "start_time": "2021-12-17T21:00:37.723024",
     "status": "completed"
    },
    "tags": []
   },
   "outputs": [
    {
     "data": {
      "text/plain": [
       "step              0\n",
       "type              0\n",
       "amount            0\n",
       "nameOrig          0\n",
       "oldbalanceOrg     0\n",
       "newbalanceOrig    0\n",
       "nameDest          0\n",
       "oldbalanceDest    0\n",
       "newbalanceDest    0\n",
       "isFraud           0\n",
       "isFlaggedFraud    0\n",
       "dtype: int64"
      ]
     },
     "execution_count": 16,
     "metadata": {},
     "output_type": "execute_result"
    }
   ],
   "source": [
    "df_10.isna().sum()"
   ]
  },
  {
   "cell_type": "code",
   "execution_count": 17,
   "id": "f986c5b8",
   "metadata": {
    "execution": {
     "iopub.execute_input": "2021-12-17T21:00:38.344247Z",
     "iopub.status.busy": "2021-12-17T21:00:38.343542Z",
     "iopub.status.idle": "2021-12-17T21:00:38.346796Z",
     "shell.execute_reply": "2021-12-17T21:00:38.346241Z",
     "shell.execute_reply.started": "2021-12-17T20:39:39.059689Z"
    },
    "papermill": {
     "duration": 0.051117,
     "end_time": "2021-12-17T21:00:38.346930",
     "exception": false,
     "start_time": "2021-12-17T21:00:38.295813",
     "status": "completed"
    },
    "tags": []
   },
   "outputs": [
    {
     "data": {
      "text/plain": [
       "step                int64\n",
       "type               object\n",
       "amount            float64\n",
       "nameOrig           object\n",
       "oldbalanceOrg     float64\n",
       "newbalanceOrig    float64\n",
       "nameDest           object\n",
       "oldbalanceDest    float64\n",
       "newbalanceDest    float64\n",
       "isFraud             int64\n",
       "isFlaggedFraud      int64\n",
       "dtype: object"
      ]
     },
     "execution_count": 17,
     "metadata": {},
     "output_type": "execute_result"
    }
   ],
   "source": [
    "df_10.dtypes"
   ]
  },
  {
   "cell_type": "code",
   "execution_count": 18,
   "id": "05c28ddb",
   "metadata": {
    "execution": {
     "iopub.execute_input": "2021-12-17T21:00:38.439272Z",
     "iopub.status.busy": "2021-12-17T21:00:38.438379Z",
     "iopub.status.idle": "2021-12-17T21:00:40.288845Z",
     "shell.execute_reply": "2021-12-17T21:00:40.289719Z",
     "shell.execute_reply.started": "2021-12-17T20:39:39.399314Z"
    },
    "papermill": {
     "duration": 1.902983,
     "end_time": "2021-12-17T21:00:40.290767",
     "exception": false,
     "start_time": "2021-12-17T21:00:38.387784",
     "status": "completed"
    },
    "tags": []
   },
   "outputs": [
    {
     "data": {
      "text/plain": [
       "160_2798503_0    2\n",
       "160_407035_0     2\n",
       "160_28085_0      2\n",
       "160_663784_0     2\n",
       "160_2701769_0    2\n",
       "                ..\n",
       "160_267558_0     1\n",
       "160_4028623_0    1\n",
       "160_3058832_0    1\n",
       "160_1795315_0    1\n",
       "160_4954439_0    1\n",
       "Name: nameOrig, Length: 636172, dtype: int64"
      ]
     },
     "execution_count": 18,
     "metadata": {},
     "output_type": "execute_result"
    }
   ],
   "source": [
    "df_10['nameOrig'].value_counts()"
   ]
  },
  {
   "cell_type": "markdown",
   "id": "7825dabd",
   "metadata": {
    "papermill": {
     "duration": 0.031362,
     "end_time": "2021-12-17T21:00:40.380541",
     "exception": false,
     "start_time": "2021-12-17T21:00:40.349179",
     "status": "completed"
    },
    "tags": []
   },
   "source": [
    "### LabelEncode object typed columns to get numeric data for them"
   ]
  },
  {
   "cell_type": "code",
   "execution_count": 19,
   "id": "aabb30f1",
   "metadata": {
    "execution": {
     "iopub.execute_input": "2021-12-17T21:00:40.450034Z",
     "iopub.status.busy": "2021-12-17T21:00:40.449325Z",
     "iopub.status.idle": "2021-12-17T21:00:48.018599Z",
     "shell.execute_reply": "2021-12-17T21:00:48.017947Z",
     "shell.execute_reply.started": "2021-12-17T20:39:40.481869Z"
    },
    "papermill": {
     "duration": 7.597651,
     "end_time": "2021-12-17T21:00:48.018765",
     "exception": false,
     "start_time": "2021-12-17T21:00:40.421114",
     "status": "completed"
    },
    "tags": []
   },
   "outputs": [],
   "source": [
    "le = LabelEncoder()\n",
    "df_10_le = df_10.copy()\n",
    "\n",
    "for i_col in df_10_le.columns:\n",
    "    if df_10_le[i_col].dtype == \"object\":\n",
    "        labels = df_10_le[i_col].astype(str).values\n",
    "        le.fit(labels)\n",
    "        df_10_le[i_col] = le.transform(df_10_le[i_col])"
   ]
  },
  {
   "cell_type": "code",
   "execution_count": 20,
   "id": "b38a2fa4",
   "metadata": {
    "execution": {
     "iopub.execute_input": "2021-12-17T21:00:48.107379Z",
     "iopub.status.busy": "2021-12-17T21:00:48.106652Z",
     "iopub.status.idle": "2021-12-17T21:00:48.113763Z",
     "shell.execute_reply": "2021-12-17T21:00:48.114263Z",
     "shell.execute_reply.started": "2021-12-17T20:39:44.99219Z"
    },
    "papermill": {
     "duration": 0.055511,
     "end_time": "2021-12-17T21:00:48.114407",
     "exception": false,
     "start_time": "2021-12-17T21:00:48.058896",
     "status": "completed"
    },
    "tags": []
   },
   "outputs": [
    {
     "data": {
      "text/html": [
       "<div>\n",
       "<style scoped>\n",
       "    .dataframe tbody tr th:only-of-type {\n",
       "        vertical-align: middle;\n",
       "    }\n",
       "\n",
       "    .dataframe tbody tr th {\n",
       "        vertical-align: top;\n",
       "    }\n",
       "\n",
       "    .dataframe thead th {\n",
       "        text-align: right;\n",
       "    }\n",
       "</style>\n",
       "<table border=\"1\" class=\"dataframe\">\n",
       "  <thead>\n",
       "    <tr style=\"text-align: right;\">\n",
       "      <th></th>\n",
       "      <th>step</th>\n",
       "      <th>type</th>\n",
       "      <th>amount</th>\n",
       "      <th>nameOrig</th>\n",
       "      <th>oldbalanceOrg</th>\n",
       "      <th>newbalanceOrig</th>\n",
       "      <th>nameDest</th>\n",
       "      <th>oldbalanceDest</th>\n",
       "      <th>newbalanceDest</th>\n",
       "      <th>isFraud</th>\n",
       "      <th>isFlaggedFraud</th>\n",
       "    </tr>\n",
       "  </thead>\n",
       "  <tbody>\n",
       "    <tr>\n",
       "      <th>4647954</th>\n",
       "      <td>182</td>\n",
       "      <td>1</td>\n",
       "      <td>3.144734e+04</td>\n",
       "      <td>119456</td>\n",
       "      <td>1.850099</td>\n",
       "      <td>0.0</td>\n",
       "      <td>330216</td>\n",
       "      <td>1.687454e+06</td>\n",
       "      <td>1.718858e+06</td>\n",
       "      <td>0</td>\n",
       "      <td>0</td>\n",
       "    </tr>\n",
       "    <tr>\n",
       "      <th>4363898</th>\n",
       "      <td>9</td>\n",
       "      <td>4</td>\n",
       "      <td>2.596976e+06</td>\n",
       "      <td>283741</td>\n",
       "      <td>7660.255851</td>\n",
       "      <td>0.0</td>\n",
       "      <td>448595</td>\n",
       "      <td>1.736982e+06</td>\n",
       "      <td>4.923373e+06</td>\n",
       "      <td>0</td>\n",
       "      <td>0</td>\n",
       "    </tr>\n",
       "    <tr>\n",
       "      <th>5501455</th>\n",
       "      <td>17</td>\n",
       "      <td>1</td>\n",
       "      <td>4.562243e+05</td>\n",
       "      <td>298368</td>\n",
       "      <td>0.632839</td>\n",
       "      <td>0.0</td>\n",
       "      <td>72386</td>\n",
       "      <td>2.172228e+06</td>\n",
       "      <td>2.628624e+06</td>\n",
       "      <td>0</td>\n",
       "      <td>0</td>\n",
       "    </tr>\n",
       "    <tr>\n",
       "      <th>1927590</th>\n",
       "      <td>323</td>\n",
       "      <td>1</td>\n",
       "      <td>2.694951e+05</td>\n",
       "      <td>382789</td>\n",
       "      <td>1.212568</td>\n",
       "      <td>0.0</td>\n",
       "      <td>129012</td>\n",
       "      <td>4.502429e+07</td>\n",
       "      <td>4.529381e+07</td>\n",
       "      <td>0</td>\n",
       "      <td>0</td>\n",
       "    </tr>\n",
       "    <tr>\n",
       "      <th>1318353</th>\n",
       "      <td>397</td>\n",
       "      <td>1</td>\n",
       "      <td>9.179606e+04</td>\n",
       "      <td>520318</td>\n",
       "      <td>0.553520</td>\n",
       "      <td>0.0</td>\n",
       "      <td>317684</td>\n",
       "      <td>2.126825e+06</td>\n",
       "      <td>2.218717e+06</td>\n",
       "      <td>0</td>\n",
       "      <td>0</td>\n",
       "    </tr>\n",
       "  </tbody>\n",
       "</table>\n",
       "</div>"
      ],
      "text/plain": [
       "         step  type        amount  nameOrig  oldbalanceOrg  newbalanceOrig  \\\n",
       "4647954   182     1  3.144734e+04    119456       1.850099             0.0   \n",
       "4363898     9     4  2.596976e+06    283741    7660.255851             0.0   \n",
       "5501455    17     1  4.562243e+05    298368       0.632839             0.0   \n",
       "1927590   323     1  2.694951e+05    382789       1.212568             0.0   \n",
       "1318353   397     1  9.179606e+04    520318       0.553520             0.0   \n",
       "\n",
       "         nameDest  oldbalanceDest  newbalanceDest  isFraud  isFlaggedFraud  \n",
       "4647954    330216    1.687454e+06    1.718858e+06        0               0  \n",
       "4363898    448595    1.736982e+06    4.923373e+06        0               0  \n",
       "5501455     72386    2.172228e+06    2.628624e+06        0               0  \n",
       "1927590    129012    4.502429e+07    4.529381e+07        0               0  \n",
       "1318353    317684    2.126825e+06    2.218717e+06        0               0  "
      ]
     },
     "execution_count": 20,
     "metadata": {},
     "output_type": "execute_result"
    }
   ],
   "source": [
    "df_10_le.head()"
   ]
  },
  {
   "cell_type": "markdown",
   "id": "e0375e1d",
   "metadata": {
    "papermill": {
     "duration": 0.024621,
     "end_time": "2021-12-17T21:00:48.163485",
     "exception": false,
     "start_time": "2021-12-17T21:00:48.138864",
     "status": "completed"
    },
    "tags": []
   },
   "source": [
    "## Import isolation forest"
   ]
  },
  {
   "cell_type": "code",
   "execution_count": 21,
   "id": "4850d896",
   "metadata": {
    "execution": {
     "iopub.execute_input": "2021-12-17T21:00:48.217942Z",
     "iopub.status.busy": "2021-12-17T21:00:48.217292Z",
     "iopub.status.idle": "2021-12-17T21:00:48.492740Z",
     "shell.execute_reply": "2021-12-17T21:00:48.493299Z",
     "shell.execute_reply.started": "2021-12-17T20:39:45.008949Z"
    },
    "papermill": {
     "duration": 0.305404,
     "end_time": "2021-12-17T21:00:48.493470",
     "exception": false,
     "start_time": "2021-12-17T21:00:48.188066",
     "status": "completed"
    },
    "tags": []
   },
   "outputs": [],
   "source": [
    "from sklearn.ensemble import IsolationForest"
   ]
  },
  {
   "cell_type": "code",
   "execution_count": 22,
   "id": "fb338b33",
   "metadata": {
    "execution": {
     "iopub.execute_input": "2021-12-17T21:00:48.575920Z",
     "iopub.status.busy": "2021-12-17T21:00:48.575222Z",
     "iopub.status.idle": "2021-12-17T21:04:24.874581Z",
     "shell.execute_reply": "2021-12-17T21:04:24.873954Z",
     "shell.execute_reply.started": "2021-12-17T20:39:45.019139Z"
    },
    "papermill": {
     "duration": 216.341993,
     "end_time": "2021-12-17T21:04:24.874717",
     "exception": false,
     "start_time": "2021-12-17T21:00:48.532724",
     "status": "completed"
    },
    "tags": []
   },
   "outputs": [
    {
     "name": "stdout",
     "output_type": "stream",
     "text": [
      "CPU times: user 3min 18s, sys: 17.8 s, total: 3min 36s\n",
      "Wall time: 3min 36s\n"
     ]
    },
    {
     "data": {
      "text/plain": [
       "IsolationForest(contamination=0.01, n_estimators=1000)"
      ]
     },
     "execution_count": 22,
     "metadata": {},
     "output_type": "execute_result"
    }
   ],
   "source": [
    "%%time\n",
    "model = IsolationForest(contamination=0.01, n_estimators=1000)\n",
    "model.fit(df_10_le)"
   ]
  },
  {
   "cell_type": "markdown",
   "id": "11babedc",
   "metadata": {
    "papermill": {
     "duration": 0.041081,
     "end_time": "2021-12-17T21:04:24.958114",
     "exception": false,
     "start_time": "2021-12-17T21:04:24.917033",
     "status": "completed"
    },
    "tags": []
   },
   "source": [
    "### Predict Outliers for current dataset"
   ]
  },
  {
   "cell_type": "code",
   "execution_count": 23,
   "id": "3e700bc0",
   "metadata": {
    "execution": {
     "iopub.execute_input": "2021-12-17T21:04:25.049114Z",
     "iopub.status.busy": "2021-12-17T21:04:25.048225Z",
     "iopub.status.idle": "2021-12-17T21:07:37.091103Z",
     "shell.execute_reply": "2021-12-17T21:07:37.091692Z",
     "shell.execute_reply.started": "2021-12-17T20:43:28.226175Z"
    },
    "papermill": {
     "duration": 192.089033,
     "end_time": "2021-12-17T21:07:37.091881",
     "exception": false,
     "start_time": "2021-12-17T21:04:25.002848",
     "status": "completed"
    },
    "tags": []
   },
   "outputs": [
    {
     "data": {
      "text/plain": [
       "(636262,)"
      ]
     },
     "execution_count": 23,
     "metadata": {},
     "output_type": "execute_result"
    }
   ],
   "source": [
    "a = pd.Series(model.predict(df_10_le))\n",
    "a.shape"
   ]
  },
  {
   "cell_type": "code",
   "execution_count": 24,
   "id": "f118a39a",
   "metadata": {
    "execution": {
     "iopub.execute_input": "2021-12-17T21:07:37.179182Z",
     "iopub.status.busy": "2021-12-17T21:07:37.178530Z",
     "iopub.status.idle": "2021-12-17T21:07:37.183834Z",
     "shell.execute_reply": "2021-12-17T21:07:37.184352Z",
     "shell.execute_reply.started": "2021-12-17T20:57:42.91582Z"
    },
    "papermill": {
     "duration": 0.050469,
     "end_time": "2021-12-17T21:07:37.184545",
     "exception": false,
     "start_time": "2021-12-17T21:07:37.134076",
     "status": "completed"
    },
    "tags": []
   },
   "outputs": [],
   "source": [
    "df_10.reset_index(inplace=True)"
   ]
  },
  {
   "cell_type": "code",
   "execution_count": 25,
   "id": "436c1a0d",
   "metadata": {
    "execution": {
     "iopub.execute_input": "2021-12-17T21:07:37.271909Z",
     "iopub.status.busy": "2021-12-17T21:07:37.269342Z",
     "iopub.status.idle": "2021-12-17T21:07:37.285059Z",
     "shell.execute_reply": "2021-12-17T21:07:37.285558Z",
     "shell.execute_reply.started": "2021-12-17T20:57:56.115963Z"
    },
    "papermill": {
     "duration": 0.060283,
     "end_time": "2021-12-17T21:07:37.285691",
     "exception": false,
     "start_time": "2021-12-17T21:07:37.225408",
     "status": "completed"
    },
    "tags": []
   },
   "outputs": [
    {
     "data": {
      "text/plain": [
       " 1    629899\n",
       "-1      6363\n",
       "Name: iForest, dtype: int64"
      ]
     },
     "execution_count": 25,
     "metadata": {},
     "output_type": "execute_result"
    }
   ],
   "source": [
    "df_10['iForest'] = a\n",
    "df_10['iForest'].value_counts()"
   ]
  },
  {
   "cell_type": "code",
   "execution_count": 26,
   "id": "6e57c4cc",
   "metadata": {
    "execution": {
     "iopub.execute_input": "2021-12-17T21:07:37.346399Z",
     "iopub.status.busy": "2021-12-17T21:07:37.345181Z",
     "iopub.status.idle": "2021-12-17T21:07:37.386815Z",
     "shell.execute_reply": "2021-12-17T21:07:37.387408Z",
     "shell.execute_reply.started": "2021-12-17T20:58:41.003726Z"
    },
    "papermill": {
     "duration": 0.074587,
     "end_time": "2021-12-17T21:07:37.387591",
     "exception": false,
     "start_time": "2021-12-17T21:07:37.313004",
     "status": "completed"
    },
    "tags": []
   },
   "outputs": [
    {
     "data": {
      "text/html": [
       "<div>\n",
       "<style scoped>\n",
       "    .dataframe tbody tr th:only-of-type {\n",
       "        vertical-align: middle;\n",
       "    }\n",
       "\n",
       "    .dataframe tbody tr th {\n",
       "        vertical-align: top;\n",
       "    }\n",
       "\n",
       "    .dataframe thead th {\n",
       "        text-align: right;\n",
       "    }\n",
       "</style>\n",
       "<table border=\"1\" class=\"dataframe\">\n",
       "  <thead>\n",
       "    <tr style=\"text-align: right;\">\n",
       "      <th></th>\n",
       "      <th>index</th>\n",
       "      <th>step</th>\n",
       "      <th>type</th>\n",
       "      <th>amount</th>\n",
       "      <th>nameOrig</th>\n",
       "      <th>oldbalanceOrg</th>\n",
       "      <th>newbalanceOrig</th>\n",
       "      <th>nameDest</th>\n",
       "      <th>oldbalanceDest</th>\n",
       "      <th>newbalanceDest</th>\n",
       "      <th>isFraud</th>\n",
       "      <th>isFlaggedFraud</th>\n",
       "      <th>iForest</th>\n",
       "    </tr>\n",
       "  </thead>\n",
       "  <tbody>\n",
       "    <tr>\n",
       "      <th>333</th>\n",
       "      <td>6360148</td>\n",
       "      <td>31</td>\n",
       "      <td>TRANSFER</td>\n",
       "      <td>100766.66</td>\n",
       "      <td>161_4303_0</td>\n",
       "      <td>100674.66</td>\n",
       "      <td>-92.0</td>\n",
       "      <td>161_4280_0</td>\n",
       "      <td>2.017093e+03</td>\n",
       "      <td>5.285831e+03</td>\n",
       "      <td>1</td>\n",
       "      <td>0</td>\n",
       "      <td>1</td>\n",
       "    </tr>\n",
       "    <tr>\n",
       "      <th>1024</th>\n",
       "      <td>6357503</td>\n",
       "      <td>307</td>\n",
       "      <td>CASH_OUT</td>\n",
       "      <td>377087.39</td>\n",
       "      <td>161_4600_0</td>\n",
       "      <td>377057.39</td>\n",
       "      <td>-30.0</td>\n",
       "      <td>161_4574_0</td>\n",
       "      <td>4.143203e+03</td>\n",
       "      <td>3.770396e+05</td>\n",
       "      <td>1</td>\n",
       "      <td>0</td>\n",
       "      <td>1</td>\n",
       "    </tr>\n",
       "    <tr>\n",
       "      <th>1519</th>\n",
       "      <td>6361852</td>\n",
       "      <td>575</td>\n",
       "      <td>TRANSFER</td>\n",
       "      <td>374169.28</td>\n",
       "      <td>161_7695_0</td>\n",
       "      <td>374177.28</td>\n",
       "      <td>8.0</td>\n",
       "      <td>161_7655_0</td>\n",
       "      <td>8.585441e+02</td>\n",
       "      <td>2.982623e+03</td>\n",
       "      <td>1</td>\n",
       "      <td>0</td>\n",
       "      <td>1</td>\n",
       "    </tr>\n",
       "    <tr>\n",
       "      <th>1548</th>\n",
       "      <td>6362605</td>\n",
       "      <td>672</td>\n",
       "      <td>CASH_OUT</td>\n",
       "      <td>234793.38</td>\n",
       "      <td>161_7412_0</td>\n",
       "      <td>234804.38</td>\n",
       "      <td>11.0</td>\n",
       "      <td>161_7373_0</td>\n",
       "      <td>3.928955e+06</td>\n",
       "      <td>4.168372e+06</td>\n",
       "      <td>1</td>\n",
       "      <td>0</td>\n",
       "      <td>1</td>\n",
       "    </tr>\n",
       "    <tr>\n",
       "      <th>2324</th>\n",
       "      <td>6357618</td>\n",
       "      <td>733</td>\n",
       "      <td>CASH_OUT</td>\n",
       "      <td>105905.18</td>\n",
       "      <td>161_8096_0</td>\n",
       "      <td>105830.18</td>\n",
       "      <td>-75.0</td>\n",
       "      <td>161_8053_0</td>\n",
       "      <td>3.511093e+05</td>\n",
       "      <td>4.560475e+05</td>\n",
       "      <td>1</td>\n",
       "      <td>0</td>\n",
       "      <td>1</td>\n",
       "    </tr>\n",
       "    <tr>\n",
       "      <th>...</th>\n",
       "      <td>...</td>\n",
       "      <td>...</td>\n",
       "      <td>...</td>\n",
       "      <td>...</td>\n",
       "      <td>...</td>\n",
       "      <td>...</td>\n",
       "      <td>...</td>\n",
       "      <td>...</td>\n",
       "      <td>...</td>\n",
       "      <td>...</td>\n",
       "      <td>...</td>\n",
       "      <td>...</td>\n",
       "      <td>...</td>\n",
       "    </tr>\n",
       "    <tr>\n",
       "      <th>635266</th>\n",
       "      <td>6358947</td>\n",
       "      <td>203</td>\n",
       "      <td>TRANSFER</td>\n",
       "      <td>431358.55</td>\n",
       "      <td>161_1910_0</td>\n",
       "      <td>431401.55</td>\n",
       "      <td>43.0</td>\n",
       "      <td>161_1898_0</td>\n",
       "      <td>1.392818e+03</td>\n",
       "      <td>2.444902e+03</td>\n",
       "      <td>1</td>\n",
       "      <td>0</td>\n",
       "      <td>1</td>\n",
       "    </tr>\n",
       "    <tr>\n",
       "      <th>635606</th>\n",
       "      <td>6355448</td>\n",
       "      <td>353</td>\n",
       "      <td>CASH_OUT</td>\n",
       "      <td>839017.91</td>\n",
       "      <td>161_3940_0</td>\n",
       "      <td>838965.91</td>\n",
       "      <td>-52.0</td>\n",
       "      <td>161_3917_0</td>\n",
       "      <td>3.670157e+05</td>\n",
       "      <td>1.206071e+06</td>\n",
       "      <td>1</td>\n",
       "      <td>0</td>\n",
       "      <td>1</td>\n",
       "    </tr>\n",
       "    <tr>\n",
       "      <th>635610</th>\n",
       "      <td>6358526</td>\n",
       "      <td>675</td>\n",
       "      <td>TRANSFER</td>\n",
       "      <td>224655.54</td>\n",
       "      <td>161_1070_0</td>\n",
       "      <td>224640.54</td>\n",
       "      <td>-15.0</td>\n",
       "      <td>161_1061_0</td>\n",
       "      <td>5.167896e+03</td>\n",
       "      <td>9.754197e+02</td>\n",
       "      <td>1</td>\n",
       "      <td>0</td>\n",
       "      <td>1</td>\n",
       "    </tr>\n",
       "    <tr>\n",
       "      <th>635862</th>\n",
       "      <td>6362538</td>\n",
       "      <td>10</td>\n",
       "      <td>CASH_OUT</td>\n",
       "      <td>2662733.59</td>\n",
       "      <td>161_117_0</td>\n",
       "      <td>2662832.59</td>\n",
       "      <td>99.0</td>\n",
       "      <td>161_116_0</td>\n",
       "      <td>1.224126e+04</td>\n",
       "      <td>2.934499e+06</td>\n",
       "      <td>1</td>\n",
       "      <td>0</td>\n",
       "      <td>1</td>\n",
       "    </tr>\n",
       "    <tr>\n",
       "      <th>635987</th>\n",
       "      <td>6361367</td>\n",
       "      <td>380</td>\n",
       "      <td>TRANSFER</td>\n",
       "      <td>6377401.20</td>\n",
       "      <td>161_6735_0</td>\n",
       "      <td>6377341.20</td>\n",
       "      <td>-60.0</td>\n",
       "      <td>161_6700_0</td>\n",
       "      <td>3.563977e+03</td>\n",
       "      <td>3.775934e+03</td>\n",
       "      <td>1</td>\n",
       "      <td>0</td>\n",
       "      <td>-1</td>\n",
       "    </tr>\n",
       "  </tbody>\n",
       "</table>\n",
       "<p>781 rows × 13 columns</p>\n",
       "</div>"
      ],
      "text/plain": [
       "          index  step      type      amount    nameOrig  oldbalanceOrg  \\\n",
       "333     6360148    31  TRANSFER   100766.66  161_4303_0      100674.66   \n",
       "1024    6357503   307  CASH_OUT   377087.39  161_4600_0      377057.39   \n",
       "1519    6361852   575  TRANSFER   374169.28  161_7695_0      374177.28   \n",
       "1548    6362605   672  CASH_OUT   234793.38  161_7412_0      234804.38   \n",
       "2324    6357618   733  CASH_OUT   105905.18  161_8096_0      105830.18   \n",
       "...         ...   ...       ...         ...         ...            ...   \n",
       "635266  6358947   203  TRANSFER   431358.55  161_1910_0      431401.55   \n",
       "635606  6355448   353  CASH_OUT   839017.91  161_3940_0      838965.91   \n",
       "635610  6358526   675  TRANSFER   224655.54  161_1070_0      224640.54   \n",
       "635862  6362538    10  CASH_OUT  2662733.59   161_117_0     2662832.59   \n",
       "635987  6361367   380  TRANSFER  6377401.20  161_6735_0     6377341.20   \n",
       "\n",
       "        newbalanceOrig    nameDest  oldbalanceDest  newbalanceDest  isFraud  \\\n",
       "333              -92.0  161_4280_0    2.017093e+03    5.285831e+03        1   \n",
       "1024             -30.0  161_4574_0    4.143203e+03    3.770396e+05        1   \n",
       "1519               8.0  161_7655_0    8.585441e+02    2.982623e+03        1   \n",
       "1548              11.0  161_7373_0    3.928955e+06    4.168372e+06        1   \n",
       "2324             -75.0  161_8053_0    3.511093e+05    4.560475e+05        1   \n",
       "...                ...         ...             ...             ...      ...   \n",
       "635266            43.0  161_1898_0    1.392818e+03    2.444902e+03        1   \n",
       "635606           -52.0  161_3917_0    3.670157e+05    1.206071e+06        1   \n",
       "635610           -15.0  161_1061_0    5.167896e+03    9.754197e+02        1   \n",
       "635862            99.0   161_116_0    1.224126e+04    2.934499e+06        1   \n",
       "635987           -60.0  161_6700_0    3.563977e+03    3.775934e+03        1   \n",
       "\n",
       "        isFlaggedFraud  iForest  \n",
       "333                  0        1  \n",
       "1024                 0        1  \n",
       "1519                 0        1  \n",
       "1548                 0        1  \n",
       "2324                 0        1  \n",
       "...                ...      ...  \n",
       "635266               0        1  \n",
       "635606               0        1  \n",
       "635610               0        1  \n",
       "635862               0        1  \n",
       "635987               0       -1  \n",
       "\n",
       "[781 rows x 13 columns]"
      ]
     },
     "execution_count": 26,
     "metadata": {},
     "output_type": "execute_result"
    }
   ],
   "source": [
    "df_10[df_10['isFraud']==1]"
   ]
  },
  {
   "cell_type": "code",
   "execution_count": null,
   "id": "aa83085e",
   "metadata": {
    "papermill": {
     "duration": 0.041488,
     "end_time": "2021-12-17T21:07:37.471170",
     "exception": false,
     "start_time": "2021-12-17T21:07:37.429682",
     "status": "completed"
    },
    "tags": []
   },
   "outputs": [],
   "source": []
  }
 ],
 "metadata": {
  "kernelspec": {
   "display_name": "Python 3",
   "language": "python",
   "name": "python3"
  },
  "language_info": {
   "codemirror_mode": {
    "name": "ipython",
    "version": 3
   },
   "file_extension": ".py",
   "mimetype": "text/x-python",
   "name": "python",
   "nbconvert_exporter": "python",
   "pygments_lexer": "ipython3",
   "version": "3.7.12"
  },
  "papermill": {
   "default_parameters": {},
   "duration": 464.892154,
   "end_time": "2021-12-17T21:07:39.535260",
   "environment_variables": {},
   "exception": null,
   "input_path": "__notebook__.ipynb",
   "output_path": "__notebook__.ipynb",
   "parameters": {},
   "start_time": "2021-12-17T20:59:54.643106",
   "version": "2.3.3"
  }
 },
 "nbformat": 4,
 "nbformat_minor": 5
}
