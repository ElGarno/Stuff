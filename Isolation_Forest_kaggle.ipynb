{
 "cells": [
  {
   "cell_type": "code",
   "execution_count": 1,
   "id": "e3805178",
   "metadata": {
    "_cell_guid": "b1076dfc-b9ad-4769-8c92-a6c4dae69d19",
    "_uuid": "8f2839f25d086af736a60e9eeb907d3b93b6e0e5",
    "execution": {
     "iopub.execute_input": "2021-12-17T18:18:04.881637Z",
     "iopub.status.busy": "2021-12-17T18:18:04.880620Z",
     "iopub.status.idle": "2021-12-17T18:18:04.896302Z",
     "shell.execute_reply": "2021-12-17T18:18:04.895278Z",
     "shell.execute_reply.started": "2021-12-17T17:00:19.940640Z"
    },
    "papermill": {
     "duration": 0.04602,
     "end_time": "2021-12-17T18:18:04.896545",
     "exception": false,
     "start_time": "2021-12-17T18:18:04.850525",
     "status": "completed"
    },
    "tags": []
   },
   "outputs": [
    {
     "name": "stdout",
     "output_type": "stream",
     "text": [
      "/kaggle/input/fraud-detection/synth_composite.csv\n"
     ]
    }
   ],
   "source": [
    "# This Python 3 environment comes with many helpful analytics libraries installed\n",
    "# It is defined by the kaggle/python Docker image: https://github.com/kaggle/docker-python\n",
    "# For example, here's several helpful packages to load\n",
    "\n",
    "import numpy as np # linear algebra\n",
    "import pandas as pd # data processing, CSV file I/O (e.g. pd.read_csv)\n",
    "\n",
    "# Input data files are available in the read-only \"../input/\" directory\n",
    "# For example, running this (by clicking run or pressing Shift+Enter) will list all files under the input directory\n",
    "\n",
    "import os\n",
    "for dirname, _, filenames in os.walk('/kaggle/input'):\n",
    "    for filename in filenames:\n",
    "        print(os.path.join(dirname, filename))\n",
    "\n",
    "# You can write up to 20GB to the current directory (/kaggle/working/) that gets preserved as output when you create a version using \"Save & Run All\" \n",
    "# You can also write temporary files to /kaggle/temp/, but they won't be saved outside of the current session\n"
   ]
  },
  {
   "cell_type": "markdown",
   "id": "06c6631a",
   "metadata": {
    "papermill": {
     "duration": 0.019773,
     "end_time": "2021-12-17T18:18:04.938257",
     "exception": false,
     "start_time": "2021-12-17T18:18:04.918484",
     "status": "completed"
    },
    "tags": []
   },
   "source": [
    "## Import Libraries"
   ]
  },
  {
   "cell_type": "code",
   "execution_count": 2,
   "id": "c3203102",
   "metadata": {
    "execution": {
     "iopub.execute_input": "2021-12-17T18:18:04.981845Z",
     "iopub.status.busy": "2021-12-17T18:18:04.981099Z",
     "iopub.status.idle": "2021-12-17T18:18:06.242177Z",
     "shell.execute_reply": "2021-12-17T18:18:06.241401Z",
     "shell.execute_reply.started": "2021-12-17T17:50:23.772171Z"
    },
    "papermill": {
     "duration": 1.284037,
     "end_time": "2021-12-17T18:18:06.242356",
     "exception": false,
     "start_time": "2021-12-17T18:18:04.958319",
     "status": "completed"
    },
    "tags": []
   },
   "outputs": [],
   "source": [
    "import matplotlib.pyplot as plt\n",
    "import seaborn as sns\n",
    "from sklearn.preprocessing import LabelEncoder\n",
    "\n",
    "sns.set_theme()\n",
    "sns.set_style(\"darkgrid\")"
   ]
  },
  {
   "cell_type": "markdown",
   "id": "bf057ead",
   "metadata": {
    "papermill": {
     "duration": 0.020658,
     "end_time": "2021-12-17T18:18:06.283988",
     "exception": false,
     "start_time": "2021-12-17T18:18:06.263330",
     "status": "completed"
    },
    "tags": []
   },
   "source": [
    "## Load dataset"
   ]
  },
  {
   "cell_type": "code",
   "execution_count": 3,
   "id": "6f21a494",
   "metadata": {
    "execution": {
     "iopub.execute_input": "2021-12-17T18:18:06.329256Z",
     "iopub.status.busy": "2021-12-17T18:18:06.328245Z",
     "iopub.status.idle": "2021-12-17T18:18:30.645008Z",
     "shell.execute_reply": "2021-12-17T18:18:30.644327Z",
     "shell.execute_reply.started": "2021-12-17T17:00:57.806288Z"
    },
    "papermill": {
     "duration": 24.340319,
     "end_time": "2021-12-17T18:18:30.645170",
     "exception": false,
     "start_time": "2021-12-17T18:18:06.304851",
     "status": "completed"
    },
    "tags": []
   },
   "outputs": [],
   "source": [
    "df = pd.read_csv('../input/fraud-detection/synth_composite.csv')"
   ]
  },
  {
   "cell_type": "markdown",
   "id": "b01db345",
   "metadata": {
    "papermill": {
     "duration": 0.020358,
     "end_time": "2021-12-17T18:18:30.686273",
     "exception": false,
     "start_time": "2021-12-17T18:18:30.665915",
     "status": "completed"
    },
    "tags": []
   },
   "source": [
    "### Show some stats"
   ]
  },
  {
   "cell_type": "code",
   "execution_count": 4,
   "id": "51a2eb3a",
   "metadata": {
    "execution": {
     "iopub.execute_input": "2021-12-17T18:18:30.737244Z",
     "iopub.status.busy": "2021-12-17T18:18:30.736522Z",
     "iopub.status.idle": "2021-12-17T18:18:30.757111Z",
     "shell.execute_reply": "2021-12-17T18:18:30.757607Z",
     "shell.execute_reply.started": "2021-12-17T17:09:06.453146Z"
    },
    "papermill": {
     "duration": 0.050243,
     "end_time": "2021-12-17T18:18:30.757797",
     "exception": false,
     "start_time": "2021-12-17T18:18:30.707554",
     "status": "completed"
    },
    "tags": []
   },
   "outputs": [
    {
     "data": {
      "text/html": [
       "<div>\n",
       "<style scoped>\n",
       "    .dataframe tbody tr th:only-of-type {\n",
       "        vertical-align: middle;\n",
       "    }\n",
       "\n",
       "    .dataframe tbody tr th {\n",
       "        vertical-align: top;\n",
       "    }\n",
       "\n",
       "    .dataframe thead th {\n",
       "        text-align: right;\n",
       "    }\n",
       "</style>\n",
       "<table border=\"1\" class=\"dataframe\">\n",
       "  <thead>\n",
       "    <tr style=\"text-align: right;\">\n",
       "      <th></th>\n",
       "      <th>step</th>\n",
       "      <th>type</th>\n",
       "      <th>amount</th>\n",
       "      <th>nameOrig</th>\n",
       "      <th>oldbalanceOrg</th>\n",
       "      <th>newbalanceOrig</th>\n",
       "      <th>nameDest</th>\n",
       "      <th>oldbalanceDest</th>\n",
       "      <th>newbalanceDest</th>\n",
       "      <th>isFraud</th>\n",
       "      <th>isFlaggedFraud</th>\n",
       "    </tr>\n",
       "  </thead>\n",
       "  <tbody>\n",
       "    <tr>\n",
       "      <th>0</th>\n",
       "      <td>211</td>\n",
       "      <td>CASH_OUT</td>\n",
       "      <td>184185.755277</td>\n",
       "      <td>160_2696646_0</td>\n",
       "      <td>203108.476051</td>\n",
       "      <td>18922.720773</td>\n",
       "      <td>160_901564_0</td>\n",
       "      <td>1.019994e+06</td>\n",
       "      <td>1.204127e+06</td>\n",
       "      <td>0</td>\n",
       "      <td>0</td>\n",
       "    </tr>\n",
       "    <tr>\n",
       "      <th>1</th>\n",
       "      <td>394</td>\n",
       "      <td>CASH_OUT</td>\n",
       "      <td>237093.196009</td>\n",
       "      <td>160_5585569_0</td>\n",
       "      <td>382707.464238</td>\n",
       "      <td>145614.268230</td>\n",
       "      <td>160_1586945_0</td>\n",
       "      <td>5.870893e+05</td>\n",
       "      <td>8.243203e+05</td>\n",
       "      <td>0</td>\n",
       "      <td>0</td>\n",
       "    </tr>\n",
       "    <tr>\n",
       "      <th>2</th>\n",
       "      <td>306</td>\n",
       "      <td>CASH_IN</td>\n",
       "      <td>163600.518794</td>\n",
       "      <td>160_4221372_0</td>\n",
       "      <td>3093.431169</td>\n",
       "      <td>0.000000</td>\n",
       "      <td>160_1701821_0</td>\n",
       "      <td>6.534538e+05</td>\n",
       "      <td>4.901219e+05</td>\n",
       "      <td>0</td>\n",
       "      <td>0</td>\n",
       "    </tr>\n",
       "    <tr>\n",
       "      <th>3</th>\n",
       "      <td>235</td>\n",
       "      <td>PAYMENT</td>\n",
       "      <td>7625.866018</td>\n",
       "      <td>160_3064357_0</td>\n",
       "      <td>74630.853812</td>\n",
       "      <td>67004.987793</td>\n",
       "      <td>160_1304279_0</td>\n",
       "      <td>1.666019e+01</td>\n",
       "      <td>1.362096e+01</td>\n",
       "      <td>0</td>\n",
       "      <td>0</td>\n",
       "    </tr>\n",
       "    <tr>\n",
       "      <th>4</th>\n",
       "      <td>235</td>\n",
       "      <td>PAYMENT</td>\n",
       "      <td>7866.992466</td>\n",
       "      <td>160_5544127_0</td>\n",
       "      <td>74632.326454</td>\n",
       "      <td>66765.333988</td>\n",
       "      <td>160_2370260_0</td>\n",
       "      <td>5.390545e+00</td>\n",
       "      <td>9.820910e+00</td>\n",
       "      <td>0</td>\n",
       "      <td>0</td>\n",
       "    </tr>\n",
       "    <tr>\n",
       "      <th>5</th>\n",
       "      <td>493</td>\n",
       "      <td>CASH_OUT</td>\n",
       "      <td>281403.795998</td>\n",
       "      <td>160_6037426_0</td>\n",
       "      <td>42235.923347</td>\n",
       "      <td>0.000000</td>\n",
       "      <td>160_2092767_0</td>\n",
       "      <td>5.880235e+05</td>\n",
       "      <td>8.693219e+05</td>\n",
       "      <td>0</td>\n",
       "      <td>0</td>\n",
       "    </tr>\n",
       "    <tr>\n",
       "      <th>6</th>\n",
       "      <td>18</td>\n",
       "      <td>PAYMENT</td>\n",
       "      <td>4355.986182</td>\n",
       "      <td>160_400626_0</td>\n",
       "      <td>56160.034248</td>\n",
       "      <td>51804.048066</td>\n",
       "      <td>160_175474_0</td>\n",
       "      <td>8.496485e+00</td>\n",
       "      <td>1.078249e+01</td>\n",
       "      <td>0</td>\n",
       "      <td>0</td>\n",
       "    </tr>\n",
       "    <tr>\n",
       "      <th>7</th>\n",
       "      <td>550</td>\n",
       "      <td>CASH_IN</td>\n",
       "      <td>102079.164541</td>\n",
       "      <td>160_6146482_0</td>\n",
       "      <td>15781.717821</td>\n",
       "      <td>0.000000</td>\n",
       "      <td>160_354507_0</td>\n",
       "      <td>4.064748e+06</td>\n",
       "      <td>3.962757e+06</td>\n",
       "      <td>0</td>\n",
       "      <td>0</td>\n",
       "    </tr>\n",
       "    <tr>\n",
       "      <th>8</th>\n",
       "      <td>284</td>\n",
       "      <td>CASH_OUT</td>\n",
       "      <td>144074.648278</td>\n",
       "      <td>160_3889478_0</td>\n",
       "      <td>197270.864524</td>\n",
       "      <td>53196.216246</td>\n",
       "      <td>160_1089660_0</td>\n",
       "      <td>1.097389e+06</td>\n",
       "      <td>1.241346e+06</td>\n",
       "      <td>0</td>\n",
       "      <td>0</td>\n",
       "    </tr>\n",
       "    <tr>\n",
       "      <th>9</th>\n",
       "      <td>132</td>\n",
       "      <td>CASH_OUT</td>\n",
       "      <td>142367.900524</td>\n",
       "      <td>160_1163767_0</td>\n",
       "      <td>0.185064</td>\n",
       "      <td>0.000000</td>\n",
       "      <td>160_29365_0</td>\n",
       "      <td>2.424877e+06</td>\n",
       "      <td>2.567106e+06</td>\n",
       "      <td>0</td>\n",
       "      <td>0</td>\n",
       "    </tr>\n",
       "  </tbody>\n",
       "</table>\n",
       "</div>"
      ],
      "text/plain": [
       "   step      type         amount       nameOrig  oldbalanceOrg  \\\n",
       "0   211  CASH_OUT  184185.755277  160_2696646_0  203108.476051   \n",
       "1   394  CASH_OUT  237093.196009  160_5585569_0  382707.464238   \n",
       "2   306   CASH_IN  163600.518794  160_4221372_0    3093.431169   \n",
       "3   235   PAYMENT    7625.866018  160_3064357_0   74630.853812   \n",
       "4   235   PAYMENT    7866.992466  160_5544127_0   74632.326454   \n",
       "5   493  CASH_OUT  281403.795998  160_6037426_0   42235.923347   \n",
       "6    18   PAYMENT    4355.986182   160_400626_0   56160.034248   \n",
       "7   550   CASH_IN  102079.164541  160_6146482_0   15781.717821   \n",
       "8   284  CASH_OUT  144074.648278  160_3889478_0  197270.864524   \n",
       "9   132  CASH_OUT  142367.900524  160_1163767_0       0.185064   \n",
       "\n",
       "   newbalanceOrig       nameDest  oldbalanceDest  newbalanceDest  isFraud  \\\n",
       "0    18922.720773   160_901564_0    1.019994e+06    1.204127e+06        0   \n",
       "1   145614.268230  160_1586945_0    5.870893e+05    8.243203e+05        0   \n",
       "2        0.000000  160_1701821_0    6.534538e+05    4.901219e+05        0   \n",
       "3    67004.987793  160_1304279_0    1.666019e+01    1.362096e+01        0   \n",
       "4    66765.333988  160_2370260_0    5.390545e+00    9.820910e+00        0   \n",
       "5        0.000000  160_2092767_0    5.880235e+05    8.693219e+05        0   \n",
       "6    51804.048066   160_175474_0    8.496485e+00    1.078249e+01        0   \n",
       "7        0.000000   160_354507_0    4.064748e+06    3.962757e+06        0   \n",
       "8    53196.216246  160_1089660_0    1.097389e+06    1.241346e+06        0   \n",
       "9        0.000000    160_29365_0    2.424877e+06    2.567106e+06        0   \n",
       "\n",
       "   isFlaggedFraud  \n",
       "0               0  \n",
       "1               0  \n",
       "2               0  \n",
       "3               0  \n",
       "4               0  \n",
       "5               0  \n",
       "6               0  \n",
       "7               0  \n",
       "8               0  \n",
       "9               0  "
      ]
     },
     "execution_count": 4,
     "metadata": {},
     "output_type": "execute_result"
    }
   ],
   "source": [
    "df.head(10)"
   ]
  },
  {
   "cell_type": "code",
   "execution_count": 5,
   "id": "8ef507ca",
   "metadata": {
    "execution": {
     "iopub.execute_input": "2021-12-17T18:18:30.803476Z",
     "iopub.status.busy": "2021-12-17T18:18:30.802848Z",
     "iopub.status.idle": "2021-12-17T18:18:30.807879Z",
     "shell.execute_reply": "2021-12-17T18:18:30.808451Z",
     "shell.execute_reply.started": "2021-12-17T17:09:38.068477Z"
    },
    "papermill": {
     "duration": 0.029424,
     "end_time": "2021-12-17T18:18:30.808626",
     "exception": false,
     "start_time": "2021-12-17T18:18:30.779202",
     "status": "completed"
    },
    "tags": []
   },
   "outputs": [
    {
     "data": {
      "text/plain": [
       "(6362620, 11)"
      ]
     },
     "execution_count": 5,
     "metadata": {},
     "output_type": "execute_result"
    }
   ],
   "source": [
    "df.shape"
   ]
  },
  {
   "cell_type": "code",
   "execution_count": 6,
   "id": "b500e30b",
   "metadata": {
    "execution": {
     "iopub.execute_input": "2021-12-17T18:18:30.855701Z",
     "iopub.status.busy": "2021-12-17T18:18:30.855055Z",
     "iopub.status.idle": "2021-12-17T18:18:30.899732Z",
     "shell.execute_reply": "2021-12-17T18:18:30.900298Z",
     "shell.execute_reply.started": "2021-12-17T17:23:51.455688Z"
    },
    "papermill": {
     "duration": 0.070439,
     "end_time": "2021-12-17T18:18:30.900474",
     "exception": false,
     "start_time": "2021-12-17T18:18:30.830035",
     "status": "completed"
    },
    "tags": []
   },
   "outputs": [
    {
     "data": {
      "text/plain": [
       "0    6354407\n",
       "1       8213\n",
       "Name: isFraud, dtype: int64"
      ]
     },
     "execution_count": 6,
     "metadata": {},
     "output_type": "execute_result"
    }
   ],
   "source": [
    "df['isFraud'].value_counts()"
   ]
  },
  {
   "cell_type": "code",
   "execution_count": 7,
   "id": "7b1d2c2e",
   "metadata": {
    "execution": {
     "iopub.execute_input": "2021-12-17T18:18:30.948202Z",
     "iopub.status.busy": "2021-12-17T18:18:30.947527Z",
     "iopub.status.idle": "2021-12-17T18:18:30.988684Z",
     "shell.execute_reply": "2021-12-17T18:18:30.988151Z",
     "shell.execute_reply.started": "2021-12-17T17:34:04.630915Z"
    },
    "papermill": {
     "duration": 0.065865,
     "end_time": "2021-12-17T18:18:30.988866",
     "exception": false,
     "start_time": "2021-12-17T18:18:30.923001",
     "status": "completed"
    },
    "tags": []
   },
   "outputs": [
    {
     "data": {
      "text/plain": [
       "0    6362606\n",
       "1         14\n",
       "Name: isFlaggedFraud, dtype: int64"
      ]
     },
     "execution_count": 7,
     "metadata": {},
     "output_type": "execute_result"
    }
   ],
   "source": [
    "df['isFlaggedFraud'].value_counts()"
   ]
  },
  {
   "cell_type": "code",
   "execution_count": 8,
   "id": "1ca7d47f",
   "metadata": {
    "execution": {
     "iopub.execute_input": "2021-12-17T18:18:31.045765Z",
     "iopub.status.busy": "2021-12-17T18:18:31.045051Z",
     "iopub.status.idle": "2021-12-17T18:18:31.088173Z",
     "shell.execute_reply": "2021-12-17T18:18:31.087488Z",
     "shell.execute_reply.started": "2021-12-17T17:23:05.010861Z"
    },
    "papermill": {
     "duration": 0.076698,
     "end_time": "2021-12-17T18:18:31.088327",
     "exception": false,
     "start_time": "2021-12-17T18:18:31.011629",
     "status": "completed"
    },
    "tags": []
   },
   "outputs": [
    {
     "data": {
      "text/html": [
       "<div>\n",
       "<style scoped>\n",
       "    .dataframe tbody tr th:only-of-type {\n",
       "        vertical-align: middle;\n",
       "    }\n",
       "\n",
       "    .dataframe tbody tr th {\n",
       "        vertical-align: top;\n",
       "    }\n",
       "\n",
       "    .dataframe thead th {\n",
       "        text-align: right;\n",
       "    }\n",
       "</style>\n",
       "<table border=\"1\" class=\"dataframe\">\n",
       "  <thead>\n",
       "    <tr style=\"text-align: right;\">\n",
       "      <th></th>\n",
       "      <th>step</th>\n",
       "      <th>type</th>\n",
       "      <th>amount</th>\n",
       "      <th>nameOrig</th>\n",
       "      <th>oldbalanceOrg</th>\n",
       "      <th>newbalanceOrig</th>\n",
       "      <th>nameDest</th>\n",
       "      <th>oldbalanceDest</th>\n",
       "      <th>newbalanceDest</th>\n",
       "      <th>isFraud</th>\n",
       "      <th>isFlaggedFraud</th>\n",
       "    </tr>\n",
       "  </thead>\n",
       "  <tbody>\n",
       "    <tr>\n",
       "      <th>6354407</th>\n",
       "      <td>741</td>\n",
       "      <td>CASH_OUT</td>\n",
       "      <td>2.00</td>\n",
       "      <td>161_8178_0</td>\n",
       "      <td>-71.00</td>\n",
       "      <td>-73.0</td>\n",
       "      <td>161_8134_0</td>\n",
       "      <td>2.700696e+05</td>\n",
       "      <td>2.702828e+05</td>\n",
       "      <td>1</td>\n",
       "      <td>0</td>\n",
       "    </tr>\n",
       "    <tr>\n",
       "      <th>6354408</th>\n",
       "      <td>212</td>\n",
       "      <td>CASH_OUT</td>\n",
       "      <td>362998.52</td>\n",
       "      <td>161_2386_0</td>\n",
       "      <td>363050.52</td>\n",
       "      <td>52.0</td>\n",
       "      <td>161_2374_0</td>\n",
       "      <td>2.159733e+06</td>\n",
       "      <td>2.523959e+06</td>\n",
       "      <td>1</td>\n",
       "      <td>0</td>\n",
       "    </tr>\n",
       "    <tr>\n",
       "      <th>6354409</th>\n",
       "      <td>568</td>\n",
       "      <td>CASH_OUT</td>\n",
       "      <td>66187.66</td>\n",
       "      <td>161_6282_0</td>\n",
       "      <td>66125.66</td>\n",
       "      <td>-62.0</td>\n",
       "      <td>161_6251_0</td>\n",
       "      <td>7.177089e+05</td>\n",
       "      <td>7.832872e+05</td>\n",
       "      <td>1</td>\n",
       "      <td>0</td>\n",
       "    </tr>\n",
       "    <tr>\n",
       "      <th>6354410</th>\n",
       "      <td>15</td>\n",
       "      <td>CASH_OUT</td>\n",
       "      <td>696771.08</td>\n",
       "      <td>161_168_0</td>\n",
       "      <td>696771.08</td>\n",
       "      <td>0.0</td>\n",
       "      <td>161_167_0</td>\n",
       "      <td>3.688858e+05</td>\n",
       "      <td>1.351356e+06</td>\n",
       "      <td>1</td>\n",
       "      <td>0</td>\n",
       "    </tr>\n",
       "    <tr>\n",
       "      <th>6354411</th>\n",
       "      <td>501</td>\n",
       "      <td>CASH_OUT</td>\n",
       "      <td>73332.47</td>\n",
       "      <td>161_5584_0</td>\n",
       "      <td>73285.47</td>\n",
       "      <td>-47.0</td>\n",
       "      <td>161_5556_0</td>\n",
       "      <td>1.253682e+05</td>\n",
       "      <td>1.923281e+05</td>\n",
       "      <td>1</td>\n",
       "      <td>0</td>\n",
       "    </tr>\n",
       "    <tr>\n",
       "      <th>...</th>\n",
       "      <td>...</td>\n",
       "      <td>...</td>\n",
       "      <td>...</td>\n",
       "      <td>...</td>\n",
       "      <td>...</td>\n",
       "      <td>...</td>\n",
       "      <td>...</td>\n",
       "      <td>...</td>\n",
       "      <td>...</td>\n",
       "      <td>...</td>\n",
       "      <td>...</td>\n",
       "    </tr>\n",
       "    <tr>\n",
       "      <th>6362615</th>\n",
       "      <td>483</td>\n",
       "      <td>CASH_OUT</td>\n",
       "      <td>22982.73</td>\n",
       "      <td>161_5384_0</td>\n",
       "      <td>22981.73</td>\n",
       "      <td>-1.0</td>\n",
       "      <td>161_5356_0</td>\n",
       "      <td>3.279893e+06</td>\n",
       "      <td>3.304007e+06</td>\n",
       "      <td>1</td>\n",
       "      <td>0</td>\n",
       "    </tr>\n",
       "    <tr>\n",
       "      <th>6362616</th>\n",
       "      <td>214</td>\n",
       "      <td>CASH_OUT</td>\n",
       "      <td>1368390.50</td>\n",
       "      <td>161_2420_0</td>\n",
       "      <td>1368453.50</td>\n",
       "      <td>63.0</td>\n",
       "      <td>161_2408_0</td>\n",
       "      <td>2.589394e+05</td>\n",
       "      <td>1.624944e+06</td>\n",
       "      <td>1</td>\n",
       "      <td>0</td>\n",
       "    </tr>\n",
       "    <tr>\n",
       "      <th>6362617</th>\n",
       "      <td>679</td>\n",
       "      <td>CASH_OUT</td>\n",
       "      <td>3150440.28</td>\n",
       "      <td>161_7476_0</td>\n",
       "      <td>3150454.28</td>\n",
       "      <td>14.0</td>\n",
       "      <td>161_7437_0</td>\n",
       "      <td>6.372507e+03</td>\n",
       "      <td>3.157667e+06</td>\n",
       "      <td>1</td>\n",
       "      <td>0</td>\n",
       "    </tr>\n",
       "    <tr>\n",
       "      <th>6362618</th>\n",
       "      <td>482</td>\n",
       "      <td>CASH_OUT</td>\n",
       "      <td>75655.33</td>\n",
       "      <td>161_5366_0</td>\n",
       "      <td>75647.33</td>\n",
       "      <td>-8.0</td>\n",
       "      <td>161_5338_0</td>\n",
       "      <td>8.529471e+05</td>\n",
       "      <td>9.285452e+05</td>\n",
       "      <td>1</td>\n",
       "      <td>0</td>\n",
       "    </tr>\n",
       "    <tr>\n",
       "      <th>6362619</th>\n",
       "      <td>685</td>\n",
       "      <td>CASH_OUT</td>\n",
       "      <td>4886421.05</td>\n",
       "      <td>161_7534_0</td>\n",
       "      <td>4886450.05</td>\n",
       "      <td>29.0</td>\n",
       "      <td>161_7495_0</td>\n",
       "      <td>3.186239e+03</td>\n",
       "      <td>4.886829e+06</td>\n",
       "      <td>1</td>\n",
       "      <td>0</td>\n",
       "    </tr>\n",
       "  </tbody>\n",
       "</table>\n",
       "<p>8213 rows × 11 columns</p>\n",
       "</div>"
      ],
      "text/plain": [
       "         step      type      amount    nameOrig  oldbalanceOrg  \\\n",
       "6354407   741  CASH_OUT        2.00  161_8178_0         -71.00   \n",
       "6354408   212  CASH_OUT   362998.52  161_2386_0      363050.52   \n",
       "6354409   568  CASH_OUT    66187.66  161_6282_0       66125.66   \n",
       "6354410    15  CASH_OUT   696771.08   161_168_0      696771.08   \n",
       "6354411   501  CASH_OUT    73332.47  161_5584_0       73285.47   \n",
       "...       ...       ...         ...         ...            ...   \n",
       "6362615   483  CASH_OUT    22982.73  161_5384_0       22981.73   \n",
       "6362616   214  CASH_OUT  1368390.50  161_2420_0     1368453.50   \n",
       "6362617   679  CASH_OUT  3150440.28  161_7476_0     3150454.28   \n",
       "6362618   482  CASH_OUT    75655.33  161_5366_0       75647.33   \n",
       "6362619   685  CASH_OUT  4886421.05  161_7534_0     4886450.05   \n",
       "\n",
       "         newbalanceOrig    nameDest  oldbalanceDest  newbalanceDest  isFraud  \\\n",
       "6354407           -73.0  161_8134_0    2.700696e+05    2.702828e+05        1   \n",
       "6354408            52.0  161_2374_0    2.159733e+06    2.523959e+06        1   \n",
       "6354409           -62.0  161_6251_0    7.177089e+05    7.832872e+05        1   \n",
       "6354410             0.0   161_167_0    3.688858e+05    1.351356e+06        1   \n",
       "6354411           -47.0  161_5556_0    1.253682e+05    1.923281e+05        1   \n",
       "...                 ...         ...             ...             ...      ...   \n",
       "6362615            -1.0  161_5356_0    3.279893e+06    3.304007e+06        1   \n",
       "6362616            63.0  161_2408_0    2.589394e+05    1.624944e+06        1   \n",
       "6362617            14.0  161_7437_0    6.372507e+03    3.157667e+06        1   \n",
       "6362618            -8.0  161_5338_0    8.529471e+05    9.285452e+05        1   \n",
       "6362619            29.0  161_7495_0    3.186239e+03    4.886829e+06        1   \n",
       "\n",
       "         isFlaggedFraud  \n",
       "6354407               0  \n",
       "6354408               0  \n",
       "6354409               0  \n",
       "6354410               0  \n",
       "6354411               0  \n",
       "...                 ...  \n",
       "6362615               0  \n",
       "6362616               0  \n",
       "6362617               0  \n",
       "6362618               0  \n",
       "6362619               0  \n",
       "\n",
       "[8213 rows x 11 columns]"
      ]
     },
     "execution_count": 8,
     "metadata": {},
     "output_type": "execute_result"
    }
   ],
   "source": [
    "df[df['isFraud']==1]"
   ]
  },
  {
   "cell_type": "code",
   "execution_count": 9,
   "id": "5feccfe1",
   "metadata": {
    "execution": {
     "iopub.execute_input": "2021-12-17T18:18:31.144105Z",
     "iopub.status.busy": "2021-12-17T18:18:31.143379Z",
     "iopub.status.idle": "2021-12-17T18:18:31.158520Z",
     "shell.execute_reply": "2021-12-17T18:18:31.157965Z",
     "shell.execute_reply.started": "2021-12-17T17:33:29.107201Z"
    },
    "papermill": {
     "duration": 0.047562,
     "end_time": "2021-12-17T18:18:31.158694",
     "exception": false,
     "start_time": "2021-12-17T18:18:31.111132",
     "status": "completed"
    },
    "tags": []
   },
   "outputs": [
    {
     "data": {
      "text/plain": [
       "8212"
      ]
     },
     "execution_count": 9,
     "metadata": {},
     "output_type": "execute_result"
    }
   ],
   "source": [
    "df[df['isFraud']==1].index[-1] - df[df['isFraud']==1].index[0]"
   ]
  },
  {
   "cell_type": "markdown",
   "id": "86b2c040",
   "metadata": {
    "papermill": {
     "duration": 0.023199,
     "end_time": "2021-12-17T18:18:31.204985",
     "exception": false,
     "start_time": "2021-12-17T18:18:31.181786",
     "status": "completed"
    },
    "tags": []
   },
   "source": [
    "--> The last rows in the df are labeled as fraud"
   ]
  },
  {
   "cell_type": "code",
   "execution_count": 10,
   "id": "5394c21b",
   "metadata": {
    "execution": {
     "iopub.execute_input": "2021-12-17T18:18:31.258723Z",
     "iopub.status.busy": "2021-12-17T18:18:31.258036Z",
     "iopub.status.idle": "2021-12-17T18:18:32.110606Z",
     "shell.execute_reply": "2021-12-17T18:18:32.110046Z",
     "shell.execute_reply.started": "2021-12-17T17:37:29.252746Z"
    },
    "papermill": {
     "duration": 0.882205,
     "end_time": "2021-12-17T18:18:32.110812",
     "exception": false,
     "start_time": "2021-12-17T18:18:31.228607",
     "status": "completed"
    },
    "tags": []
   },
   "outputs": [],
   "source": [
    "df_10 = df.sample(frac=0.1)"
   ]
  },
  {
   "cell_type": "code",
   "execution_count": 11,
   "id": "c4e8b210",
   "metadata": {
    "execution": {
     "iopub.execute_input": "2021-12-17T18:18:32.167838Z",
     "iopub.status.busy": "2021-12-17T18:18:32.167132Z",
     "iopub.status.idle": "2021-12-17T18:18:32.169622Z",
     "shell.execute_reply": "2021-12-17T18:18:32.170132Z",
     "shell.execute_reply.started": "2021-12-17T17:37:35.794648Z"
    },
    "papermill": {
     "duration": 0.036464,
     "end_time": "2021-12-17T18:18:32.170299",
     "exception": false,
     "start_time": "2021-12-17T18:18:32.133835",
     "status": "completed"
    },
    "tags": []
   },
   "outputs": [
    {
     "data": {
      "text/plain": [
       "0    635434\n",
       "1       828\n",
       "Name: isFraud, dtype: int64"
      ]
     },
     "execution_count": 11,
     "metadata": {},
     "output_type": "execute_result"
    }
   ],
   "source": [
    "df_10['isFraud'].value_counts()"
   ]
  },
  {
   "cell_type": "code",
   "execution_count": 12,
   "id": "702b2f59",
   "metadata": {
    "execution": {
     "iopub.execute_input": "2021-12-17T18:18:32.223553Z",
     "iopub.status.busy": "2021-12-17T18:18:32.222919Z",
     "iopub.status.idle": "2021-12-17T18:18:32.239485Z",
     "shell.execute_reply": "2021-12-17T18:18:32.239984Z",
     "shell.execute_reply.started": "2021-12-17T17:40:15.797283Z"
    },
    "papermill": {
     "duration": 0.044127,
     "end_time": "2021-12-17T18:18:32.240168",
     "exception": false,
     "start_time": "2021-12-17T18:18:32.196041",
     "status": "completed"
    },
    "tags": []
   },
   "outputs": [
    {
     "data": {
      "text/html": [
       "<div>\n",
       "<style scoped>\n",
       "    .dataframe tbody tr th:only-of-type {\n",
       "        vertical-align: middle;\n",
       "    }\n",
       "\n",
       "    .dataframe tbody tr th {\n",
       "        vertical-align: top;\n",
       "    }\n",
       "\n",
       "    .dataframe thead th {\n",
       "        text-align: right;\n",
       "    }\n",
       "</style>\n",
       "<table border=\"1\" class=\"dataframe\">\n",
       "  <thead>\n",
       "    <tr style=\"text-align: right;\">\n",
       "      <th></th>\n",
       "      <th>step</th>\n",
       "      <th>type</th>\n",
       "      <th>amount</th>\n",
       "      <th>nameOrig</th>\n",
       "      <th>oldbalanceOrg</th>\n",
       "      <th>newbalanceOrig</th>\n",
       "      <th>nameDest</th>\n",
       "      <th>oldbalanceDest</th>\n",
       "      <th>newbalanceDest</th>\n",
       "      <th>isFraud</th>\n",
       "      <th>isFlaggedFraud</th>\n",
       "    </tr>\n",
       "  </thead>\n",
       "  <tbody>\n",
       "    <tr>\n",
       "      <th>6159247</th>\n",
       "      <td>163</td>\n",
       "      <td>CASH_IN</td>\n",
       "      <td>3.355402e+05</td>\n",
       "      <td>160_1823699_0</td>\n",
       "      <td>2.555720e+06</td>\n",
       "      <td>2.220180e+06</td>\n",
       "      <td>160_293632_0</td>\n",
       "      <td>3.455275e+05</td>\n",
       "      <td>1.004733e+04</td>\n",
       "      <td>0</td>\n",
       "      <td>0</td>\n",
       "    </tr>\n",
       "    <tr>\n",
       "      <th>2499263</th>\n",
       "      <td>34</td>\n",
       "      <td>PAYMENT</td>\n",
       "      <td>1.548856e+04</td>\n",
       "      <td>160_620612_0</td>\n",
       "      <td>3.298798e+05</td>\n",
       "      <td>3.143913e+05</td>\n",
       "      <td>160_269426_0</td>\n",
       "      <td>5.908356e+00</td>\n",
       "      <td>5.252362e+00</td>\n",
       "      <td>0</td>\n",
       "      <td>0</td>\n",
       "    </tr>\n",
       "    <tr>\n",
       "      <th>5113248</th>\n",
       "      <td>34</td>\n",
       "      <td>PAYMENT</td>\n",
       "      <td>2.997790e+04</td>\n",
       "      <td>160_601783_0</td>\n",
       "      <td>2.547459e+02</td>\n",
       "      <td>0.000000e+00</td>\n",
       "      <td>160_261438_0</td>\n",
       "      <td>8.058128e+00</td>\n",
       "      <td>8.023804e+00</td>\n",
       "      <td>0</td>\n",
       "      <td>0</td>\n",
       "    </tr>\n",
       "    <tr>\n",
       "      <th>1215315</th>\n",
       "      <td>190</td>\n",
       "      <td>TRANSFER</td>\n",
       "      <td>1.550380e+06</td>\n",
       "      <td>160_2353736_0</td>\n",
       "      <td>5.505986e-01</td>\n",
       "      <td>0.000000e+00</td>\n",
       "      <td>160_113037_0</td>\n",
       "      <td>1.565588e+06</td>\n",
       "      <td>3.115953e+06</td>\n",
       "      <td>0</td>\n",
       "      <td>0</td>\n",
       "    </tr>\n",
       "    <tr>\n",
       "      <th>5515319</th>\n",
       "      <td>182</td>\n",
       "      <td>PAYMENT</td>\n",
       "      <td>2.584224e+04</td>\n",
       "      <td>160_5249758_0</td>\n",
       "      <td>1.470384e+00</td>\n",
       "      <td>0.000000e+00</td>\n",
       "      <td>160_2244475_0</td>\n",
       "      <td>7.548028e+00</td>\n",
       "      <td>5.383987e+00</td>\n",
       "      <td>0</td>\n",
       "      <td>0</td>\n",
       "    </tr>\n",
       "  </tbody>\n",
       "</table>\n",
       "</div>"
      ],
      "text/plain": [
       "         step      type        amount       nameOrig  oldbalanceOrg  \\\n",
       "6159247   163   CASH_IN  3.355402e+05  160_1823699_0   2.555720e+06   \n",
       "2499263    34   PAYMENT  1.548856e+04   160_620612_0   3.298798e+05   \n",
       "5113248    34   PAYMENT  2.997790e+04   160_601783_0   2.547459e+02   \n",
       "1215315   190  TRANSFER  1.550380e+06  160_2353736_0   5.505986e-01   \n",
       "5515319   182   PAYMENT  2.584224e+04  160_5249758_0   1.470384e+00   \n",
       "\n",
       "         newbalanceOrig       nameDest  oldbalanceDest  newbalanceDest  \\\n",
       "6159247    2.220180e+06   160_293632_0    3.455275e+05    1.004733e+04   \n",
       "2499263    3.143913e+05   160_269426_0    5.908356e+00    5.252362e+00   \n",
       "5113248    0.000000e+00   160_261438_0    8.058128e+00    8.023804e+00   \n",
       "1215315    0.000000e+00   160_113037_0    1.565588e+06    3.115953e+06   \n",
       "5515319    0.000000e+00  160_2244475_0    7.548028e+00    5.383987e+00   \n",
       "\n",
       "         isFraud  isFlaggedFraud  \n",
       "6159247        0               0  \n",
       "2499263        0               0  \n",
       "5113248        0               0  \n",
       "1215315        0               0  \n",
       "5515319        0               0  "
      ]
     },
     "execution_count": 12,
     "metadata": {},
     "output_type": "execute_result"
    }
   ],
   "source": [
    "df_10.head()"
   ]
  },
  {
   "cell_type": "code",
   "execution_count": 13,
   "id": "6cf81837",
   "metadata": {
    "execution": {
     "iopub.execute_input": "2021-12-17T18:18:32.396096Z",
     "iopub.status.busy": "2021-12-17T18:18:32.394989Z",
     "iopub.status.idle": "2021-12-17T18:18:32.403208Z",
     "shell.execute_reply": "2021-12-17T18:18:32.402138Z",
     "shell.execute_reply.started": "2021-12-17T17:41:30.851423Z"
    },
    "papermill": {
     "duration": 0.138349,
     "end_time": "2021-12-17T18:18:32.403440",
     "exception": false,
     "start_time": "2021-12-17T18:18:32.265091",
     "status": "completed"
    },
    "tags": []
   },
   "outputs": [
    {
     "data": {
      "text/plain": [
       "CASH_OUT    223712\n",
       "PAYMENT     215144\n",
       "CASH_IN     139804\n",
       "TRANSFER     53453\n",
       "DEBIT         4149\n",
       "Name: type, dtype: int64"
      ]
     },
     "execution_count": 13,
     "metadata": {},
     "output_type": "execute_result"
    }
   ],
   "source": [
    "df_10['type'].value_counts()"
   ]
  },
  {
   "cell_type": "code",
   "execution_count": 14,
   "id": "9eca9d73",
   "metadata": {
    "execution": {
     "iopub.execute_input": "2021-12-17T18:18:32.565222Z",
     "iopub.status.busy": "2021-12-17T18:18:32.564520Z",
     "iopub.status.idle": "2021-12-17T18:18:32.568825Z",
     "shell.execute_reply": "2021-12-17T18:18:32.568232Z",
     "shell.execute_reply.started": "2021-12-17T17:49:59.072254Z"
    },
    "papermill": {
     "duration": 0.137121,
     "end_time": "2021-12-17T18:18:32.568977",
     "exception": false,
     "start_time": "2021-12-17T18:18:32.431856",
     "status": "completed"
    },
    "tags": []
   },
   "outputs": [
    {
     "data": {
      "text/plain": [
       "Index(['CASH_OUT', 'PAYMENT', 'CASH_IN', 'TRANSFER', 'DEBIT'], dtype='object')"
      ]
     },
     "execution_count": 14,
     "metadata": {},
     "output_type": "execute_result"
    }
   ],
   "source": [
    "df_10['type'].value_counts().index"
   ]
  },
  {
   "cell_type": "code",
   "execution_count": 15,
   "id": "f14c6cb0",
   "metadata": {
    "execution": {
     "iopub.execute_input": "2021-12-17T18:18:32.830471Z",
     "iopub.status.busy": "2021-12-17T18:18:32.829433Z",
     "iopub.status.idle": "2021-12-17T18:18:33.086536Z",
     "shell.execute_reply": "2021-12-17T18:18:33.085903Z",
     "shell.execute_reply.started": "2021-12-17T17:52:30.367731Z"
    },
    "papermill": {
     "duration": 0.492997,
     "end_time": "2021-12-17T18:18:33.086697",
     "exception": false,
     "start_time": "2021-12-17T18:18:32.593700",
     "status": "completed"
    },
    "tags": []
   },
   "outputs": [
    {
     "data": {
      "text/plain": [
       "Text(0.5, 1.0, 'Type of transaction')"
      ]
     },
     "execution_count": 15,
     "metadata": {},
     "output_type": "execute_result"
    },
    {
     "data": {
      "image/png": "[encoded data removed]",
      "text/plain": [
       "<Figure size 720x432 with 1 Axes>"
      ]
     },
     "metadata": {},
     "output_type": "display_data"
    }
   ],
   "source": [
    "fig = plt.figure(figsize=(10,6))\n",
    "x = df_10['type'].value_counts().index\n",
    "y = df_10['type'].value_counts()\n",
    "plt.bar(x,y)\n",
    "plt.title('Type of transaction')"
   ]
  },
  {
   "cell_type": "code",
   "execution_count": 16,
   "id": "181c28a1",
   "metadata": {
    "execution": {
     "iopub.execute_input": "2021-12-17T18:18:33.143140Z",
     "iopub.status.busy": "2021-12-17T18:18:33.142448Z",
     "iopub.status.idle": "2021-12-17T18:18:33.506504Z",
     "shell.execute_reply": "2021-12-17T18:18:33.505854Z",
     "shell.execute_reply.started": "2021-12-17T18:02:31.560494Z"
    },
    "papermill": {
     "duration": 0.394108,
     "end_time": "2021-12-17T18:18:33.506691",
     "exception": false,
     "start_time": "2021-12-17T18:18:33.112583",
     "status": "completed"
    },
    "tags": []
   },
   "outputs": [
    {
     "data": {
      "text/plain": [
       "step              0\n",
       "type              0\n",
       "amount            0\n",
       "nameOrig          0\n",
       "oldbalanceOrg     0\n",
       "newbalanceOrig    0\n",
       "nameDest          0\n",
       "oldbalanceDest    0\n",
       "newbalanceDest    0\n",
       "isFraud           0\n",
       "isFlaggedFraud    0\n",
       "dtype: int64"
      ]
     },
     "execution_count": 16,
     "metadata": {},
     "output_type": "execute_result"
    }
   ],
   "source": [
    "df_10.isna().sum()"
   ]
  },
  {
   "cell_type": "code",
   "execution_count": 17,
   "id": "2382eae8",
   "metadata": {
    "execution": {
     "iopub.execute_input": "2021-12-17T18:18:33.565985Z",
     "iopub.status.busy": "2021-12-17T18:18:33.565277Z",
     "iopub.status.idle": "2021-12-17T18:18:33.568844Z",
     "shell.execute_reply": "2021-12-17T18:18:33.569291Z",
     "shell.execute_reply.started": "2021-12-17T18:02:57.268394Z"
    },
    "papermill": {
     "duration": 0.0365,
     "end_time": "2021-12-17T18:18:33.569460",
     "exception": false,
     "start_time": "2021-12-17T18:18:33.532960",
     "status": "completed"
    },
    "tags": []
   },
   "outputs": [
    {
     "data": {
      "text/plain": [
       "step                int64\n",
       "type               object\n",
       "amount            float64\n",
       "nameOrig           object\n",
       "oldbalanceOrg     float64\n",
       "newbalanceOrig    float64\n",
       "nameDest           object\n",
       "oldbalanceDest    float64\n",
       "newbalanceDest    float64\n",
       "isFraud             int64\n",
       "isFlaggedFraud      int64\n",
       "dtype: object"
      ]
     },
     "execution_count": 17,
     "metadata": {},
     "output_type": "execute_result"
    }
   ],
   "source": [
    "df_10.dtypes"
   ]
  },
  {
   "cell_type": "code",
   "execution_count": 18,
   "id": "b56e7ed4",
   "metadata": {
    "execution": {
     "iopub.execute_input": "2021-12-17T18:18:34.453076Z",
     "iopub.status.busy": "2021-12-17T18:18:34.452304Z",
     "iopub.status.idle": "2021-12-17T18:18:34.743734Z",
     "shell.execute_reply": "2021-12-17T18:18:34.743139Z",
     "shell.execute_reply.started": "2021-12-17T18:03:44.344175Z"
    },
    "papermill": {
     "duration": 1.147644,
     "end_time": "2021-12-17T18:18:34.743894",
     "exception": false,
     "start_time": "2021-12-17T18:18:33.596250",
     "status": "completed"
    },
    "tags": []
   },
   "outputs": [
    {
     "data": {
      "text/plain": [
       "160_37718_0      2\n",
       "160_1499490_0    2\n",
       "160_3581025_0    2\n",
       "160_2099735_0    2\n",
       "160_1525874_0    2\n",
       "                ..\n",
       "160_1039084_0    1\n",
       "160_3339036_0    1\n",
       "160_6079297_0    1\n",
       "160_105264_0     1\n",
       "160_1485645_0    1\n",
       "Name: nameOrig, Length: 636152, dtype: int64"
      ]
     },
     "execution_count": 18,
     "metadata": {},
     "output_type": "execute_result"
    }
   ],
   "source": [
    "df_10['nameOrig'].value_counts()"
   ]
  },
  {
   "cell_type": "markdown",
   "id": "edfd09e5",
   "metadata": {
    "papermill": {
     "duration": 0.026353,
     "end_time": "2021-12-17T18:18:34.797346",
     "exception": false,
     "start_time": "2021-12-17T18:18:34.770993",
     "status": "completed"
    },
    "tags": []
   },
   "source": [
    "### LabelEncode object typed columns to get numeric data for them"
   ]
  },
  {
   "cell_type": "code",
   "execution_count": 19,
   "id": "a34a06fa",
   "metadata": {
    "execution": {
     "iopub.execute_input": "2021-12-17T18:18:34.857603Z",
     "iopub.status.busy": "2021-12-17T18:18:34.856898Z",
     "iopub.status.idle": "2021-12-17T18:18:39.453997Z",
     "shell.execute_reply": "2021-12-17T18:18:39.454525Z",
     "shell.execute_reply.started": "2021-12-17T18:15:27.387909Z"
    },
    "papermill": {
     "duration": 4.630427,
     "end_time": "2021-12-17T18:18:39.454716",
     "exception": false,
     "start_time": "2021-12-17T18:18:34.824289",
     "status": "completed"
    },
    "tags": []
   },
   "outputs": [],
   "source": [
    "le = LabelEncoder()\n",
    "df_10_le = df_10.copy()\n",
    "\n",
    "for i_col in df_10_le.columns:\n",
    "    if df_10_le[i_col].dtype == \"object\":\n",
    "        labels = df_10_le[i_col].astype(str).values\n",
    "        le.fit(labels)\n",
    "        df_10_le[i_col] = le.transform(df_10_le[i_col])"
   ]
  },
  {
   "cell_type": "code",
   "execution_count": 20,
   "id": "d15c6f8f",
   "metadata": {
    "execution": {
     "iopub.execute_input": "2021-12-17T18:18:39.512991Z",
     "iopub.status.busy": "2021-12-17T18:18:39.511843Z",
     "iopub.status.idle": "2021-12-17T18:18:39.528112Z",
     "shell.execute_reply": "2021-12-17T18:18:39.528622Z",
     "shell.execute_reply.started": "2021-12-17T18:15:49.251726Z"
    },
    "papermill": {
     "duration": 0.04753,
     "end_time": "2021-12-17T18:18:39.528838",
     "exception": false,
     "start_time": "2021-12-17T18:18:39.481308",
     "status": "completed"
    },
    "tags": []
   },
   "outputs": [
    {
     "data": {
      "text/html": [
       "<div>\n",
       "<style scoped>\n",
       "    .dataframe tbody tr th:only-of-type {\n",
       "        vertical-align: middle;\n",
       "    }\n",
       "\n",
       "    .dataframe tbody tr th {\n",
       "        vertical-align: top;\n",
       "    }\n",
       "\n",
       "    .dataframe thead th {\n",
       "        text-align: right;\n",
       "    }\n",
       "</style>\n",
       "<table border=\"1\" class=\"dataframe\">\n",
       "  <thead>\n",
       "    <tr style=\"text-align: right;\">\n",
       "      <th></th>\n",
       "      <th>step</th>\n",
       "      <th>type</th>\n",
       "      <th>amount</th>\n",
       "      <th>nameOrig</th>\n",
       "      <th>oldbalanceOrg</th>\n",
       "      <th>newbalanceOrig</th>\n",
       "      <th>nameDest</th>\n",
       "      <th>oldbalanceDest</th>\n",
       "      <th>newbalanceDest</th>\n",
       "      <th>isFraud</th>\n",
       "      <th>isFlaggedFraud</th>\n",
       "    </tr>\n",
       "  </thead>\n",
       "  <tbody>\n",
       "    <tr>\n",
       "      <th>6159247</th>\n",
       "      <td>163</td>\n",
       "      <td>0</td>\n",
       "      <td>3.355402e+05</td>\n",
       "      <td>91633</td>\n",
       "      <td>2.555720e+06</td>\n",
       "      <td>2.220180e+06</td>\n",
       "      <td>288116</td>\n",
       "      <td>3.455275e+05</td>\n",
       "      <td>1.004733e+04</td>\n",
       "      <td>0</td>\n",
       "      <td>0</td>\n",
       "    </tr>\n",
       "    <tr>\n",
       "      <th>2499263</th>\n",
       "      <td>34</td>\n",
       "      <td>3</td>\n",
       "      <td>1.548856e+04</td>\n",
       "      <td>579328</td>\n",
       "      <td>3.298798e+05</td>\n",
       "      <td>3.143913e+05</td>\n",
       "      <td>278312</td>\n",
       "      <td>5.908356e+00</td>\n",
       "      <td>5.252362e+00</td>\n",
       "      <td>0</td>\n",
       "      <td>0</td>\n",
       "    </tr>\n",
       "    <tr>\n",
       "      <th>5113248</th>\n",
       "      <td>34</td>\n",
       "      <td>3</td>\n",
       "      <td>2.997790e+04</td>\n",
       "      <td>558789</td>\n",
       "      <td>2.547459e+02</td>\n",
       "      <td>0.000000e+00</td>\n",
       "      <td>267975</td>\n",
       "      <td>8.058128e+00</td>\n",
       "      <td>8.023804e+00</td>\n",
       "      <td>0</td>\n",
       "      <td>0</td>\n",
       "    </tr>\n",
       "    <tr>\n",
       "      <th>1215315</th>\n",
       "      <td>190</td>\n",
       "      <td>4</td>\n",
       "      <td>1.550380e+06</td>\n",
       "      <td>150949</td>\n",
       "      <td>5.505986e-01</td>\n",
       "      <td>0.000000e+00</td>\n",
       "      <td>26911</td>\n",
       "      <td>1.565588e+06</td>\n",
       "      <td>3.115953e+06</td>\n",
       "      <td>0</td>\n",
       "      <td>0</td>\n",
       "    </tr>\n",
       "    <tr>\n",
       "      <th>5515319</th>\n",
       "      <td>182</td>\n",
       "      <td>3</td>\n",
       "      <td>2.584224e+04</td>\n",
       "      <td>473369</td>\n",
       "      <td>1.470384e+00</td>\n",
       "      <td>0.000000e+00</td>\n",
       "      <td>218960</td>\n",
       "      <td>7.548028e+00</td>\n",
       "      <td>5.383987e+00</td>\n",
       "      <td>0</td>\n",
       "      <td>0</td>\n",
       "    </tr>\n",
       "  </tbody>\n",
       "</table>\n",
       "</div>"
      ],
      "text/plain": [
       "         step  type        amount  nameOrig  oldbalanceOrg  newbalanceOrig  \\\n",
       "6159247   163     0  3.355402e+05     91633   2.555720e+06    2.220180e+06   \n",
       "2499263    34     3  1.548856e+04    579328   3.298798e+05    3.143913e+05   \n",
       "5113248    34     3  2.997790e+04    558789   2.547459e+02    0.000000e+00   \n",
       "1215315   190     4  1.550380e+06    150949   5.505986e-01    0.000000e+00   \n",
       "5515319   182     3  2.584224e+04    473369   1.470384e+00    0.000000e+00   \n",
       "\n",
       "         nameDest  oldbalanceDest  newbalanceDest  isFraud  isFlaggedFraud  \n",
       "6159247    288116    3.455275e+05    1.004733e+04        0               0  \n",
       "2499263    278312    5.908356e+00    5.252362e+00        0               0  \n",
       "5113248    267975    8.058128e+00    8.023804e+00        0               0  \n",
       "1215315     26911    1.565588e+06    3.115953e+06        0               0  \n",
       "5515319    218960    7.548028e+00    5.383987e+00        0               0  "
      ]
     },
     "execution_count": 20,
     "metadata": {},
     "output_type": "execute_result"
    }
   ],
   "source": [
    "df_10_le.head()"
   ]
  },
  {
   "cell_type": "markdown",
   "id": "15da44b5",
   "metadata": {
    "papermill": {
     "duration": 0.027316,
     "end_time": "2021-12-17T18:18:39.583379",
     "exception": false,
     "start_time": "2021-12-17T18:18:39.556063",
     "status": "completed"
    },
    "tags": []
   },
   "source": [
    "## Import isolation forest"
   ]
  },
  {
   "cell_type": "code",
   "execution_count": 21,
   "id": "5f50a04d",
   "metadata": {
    "execution": {
     "iopub.execute_input": "2021-12-17T18:18:39.644181Z",
     "iopub.status.busy": "2021-12-17T18:18:39.643492Z",
     "iopub.status.idle": "2021-12-17T18:18:39.926133Z",
     "shell.execute_reply": "2021-12-17T18:18:39.925560Z"
    },
    "papermill": {
     "duration": 0.315151,
     "end_time": "2021-12-17T18:18:39.926297",
     "exception": false,
     "start_time": "2021-12-17T18:18:39.611146",
     "status": "completed"
    },
    "tags": []
   },
   "outputs": [],
   "source": [
    "from sklearn.ensemble import IsolationForest\n",
    "contamination = 0.01\n",
    "\n"
   ]
  }
 ],
 "metadata": {
  "kernelspec": {
   "display_name": "Python 3",
   "language": "python",
   "name": "python3"
  },
  "language_info": {
   "codemirror_mode": {
    "name": "ipython",
    "version": 3
   },
   "file_extension": ".py",
   "mimetype": "text/x-python",
   "name": "python",
   "nbconvert_exporter": "python",
   "pygments_lexer": "ipython3",
   "version": "3.7.12"
  },
  "papermill": {
   "default_parameters": {},
   "duration": 46.753819,
   "end_time": "2021-12-17T18:18:41.366565",
   "environment_variables": {},
   "exception": null,
   "input_path": "__notebook__.ipynb",
   "output_path": "__notebook__.ipynb",
   "parameters": {},
   "start_time": "2021-12-17T18:17:54.612746",
   "version": "2.3.3"
  }
 },
 "nbformat": 4,
 "nbformat_minor": 5
}
