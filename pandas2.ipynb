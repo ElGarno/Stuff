{
 "cells": [
  {
   "cell_type": "markdown",
   "metadata": {
    "deletable": false,
    "editable": false,
    "nbgrader": {
     "checksum": "5a8d839ee00398fa3bd3bc58ec642beb",
     "grade": false,
     "grade_id": "cell-a839e7b47494b4c3",
     "locked": true,
     "schema_version": 1,
     "solution": false
    }
   },
   "source": [
    "# Assignment 2\n",
    "For this assignment you'll be looking at 2017 data on immunizations from the CDC. Your datafile for this assignment is in [assets/NISPUF17.csv](assets/NISPUF17.csv). A data users guide for this, which you'll need to map the variables in the data to the questions being asked, is available at [assets/NIS-PUF17-DUG.pdf](assets/NIS-PUF17-DUG.pdf). **Note: you may have to go to your Jupyter tree (click on the Coursera image) and navigate to the assignment 2 assets folder to see this PDF file).**"
   ]
  },
  {
   "cell_type": "markdown",
   "metadata": {
    "deletable": false,
    "editable": false,
    "hideCode": false,
    "hidePrompt": false,
    "nbgrader": {
     "checksum": "aaa5e730f40ba21c1bc94f864bad4742",
     "grade": false,
     "grade_id": "cell-58fc2e5938733f6a",
     "locked": true,
     "schema_version": 1,
     "solution": false
    }
   },
   "source": [
    "## Question 1\n",
    "Write a function called `proportion_of_education` which returns the proportion of children in the dataset who had a mother with the education levels equal to less than high school (<12), high school (12), more than high school but not a college graduate (>12) and college degree.\n",
    "\n",
    "*This function should return a dictionary in the form of (use the correct numbers, do not round numbers):* \n",
    "```\n",
    "    {\"less than high school\":0.2,\n",
    "    \"high school\":0.4,\n",
    "    \"more than high school but not college\":0.2,\n",
    "    \"college\":0.2}\n",
    "```\n"
   ]
  },
  {
   "cell_type": "code",
   "execution_count": 7,
   "metadata": {},
   "outputs": [
    {
     "data": {
      "text/html": [
       "<div>\n",
       "<style scoped>\n",
       "    .dataframe tbody tr th:only-of-type {\n",
       "        vertical-align: middle;\n",
       "    }\n",
       "\n",
       "    .dataframe tbody tr th {\n",
       "        vertical-align: top;\n",
       "    }\n",
       "\n",
       "    .dataframe thead th {\n",
       "        text-align: right;\n",
       "    }\n",
       "</style>\n",
       "<table border=\"1\" class=\"dataframe\">\n",
       "  <thead>\n",
       "    <tr style=\"text-align: right;\">\n",
       "      <th></th>\n",
       "      <th>Name</th>\n",
       "      <th>location</th>\n",
       "      <th>age</th>\n",
       "      <th>weight</th>\n",
       "    </tr>\n",
       "  </thead>\n",
       "  <tbody>\n",
       "    <tr>\n",
       "      <th>Person1</th>\n",
       "      <td>Fabian</td>\n",
       "      <td>Lohr</td>\n",
       "      <td>34</td>\n",
       "      <td>88</td>\n",
       "    </tr>\n",
       "    <tr>\n",
       "      <th>Person2</th>\n",
       "      <td>Vivien</td>\n",
       "      <td>Lohr</td>\n",
       "      <td>28</td>\n",
       "      <td>68</td>\n",
       "    </tr>\n",
       "    <tr>\n",
       "      <th>Person3</th>\n",
       "      <td>Helena</td>\n",
       "      <td>Duesseldorf</td>\n",
       "      <td>38</td>\n",
       "      <td>69</td>\n",
       "    </tr>\n",
       "  </tbody>\n",
       "</table>\n",
       "</div>"
      ],
      "text/plain": [
       "           Name     location  age  weight\n",
       "Person1  Fabian         Lohr   34      88\n",
       "Person2  Vivien         Lohr   28      68\n",
       "Person3  Helena  Duesseldorf   38      69"
      ]
     },
     "execution_count": 7,
     "metadata": {},
     "output_type": "execute_result"
    }
   ],
   "source": [
    "import pandas as pd\n",
    "\n",
    "test_Series1 = pd.Series({\n",
    "    'Name': 'Fabian',\n",
    "    'location': 'Lohr',\n",
    "    'age': 34,\n",
    "    'weight': 88,\n",
    "})\n",
    "\n",
    "test_Series2 = pd.Series({\n",
    "    'Name': 'Vivien',\n",
    "    'location': 'Lohr',\n",
    "    'age': 28,\n",
    "    'weight': 68,\n",
    "})\n",
    "\n",
    "test_Series3 = pd.Series({\n",
    "    'Name': 'Helena',\n",
    "    'location': 'Duesseldorf',\n",
    "    'age': 38,\n",
    "    'weight': 69,\n",
    "})\n",
    "\n",
    "test_df = pd.DataFrame([test_Series1, test_Series2, test_Series3], index=['Person1','Person2','Person3'])\n",
    "test_df.head()"
   ]
  },
  {
   "cell_type": "code",
   "execution_count": 8,
   "metadata": {},
   "outputs": [
    {
     "name": "stdout",
     "output_type": "stream",
     "text": [
      "     Name     location  age  weight\n",
      "0  Fabian         Lohr   34      88\n",
      "1  Vivien         Lohr   28      68\n",
      "2  Helena  Duesseldorf   38      69\n",
      "Name             Helena\n",
      "location    Duesseldorf\n",
      "age                  38\n",
      "weight               69\n",
      "Name: 2, dtype: object\n",
      "Name             Helena\n",
      "location    Duesseldorf\n",
      "age                  38\n",
      "weight               69\n",
      "Name: 2, dtype: object\n"
     ]
    }
   ],
   "source": [
    "import pandas as pd\n",
    "\n",
    "test_Series1 = pd.Series({\n",
    "    'Name': 'Fabian',\n",
    "    'location': 'Lohr',\n",
    "    'age': 34,\n",
    "    'weight': 88,\n",
    "})\n",
    "\n",
    "test_Series2 = pd.Series({\n",
    "    'Name': 'Vivien',\n",
    "    'location': 'Lohr',\n",
    "    'age': 28,\n",
    "    'weight': 68,\n",
    "})\n",
    "\n",
    "test_Series3 = pd.Series({\n",
    "    'Name': 'Helena',\n",
    "    'location': 'Duesseldorf',\n",
    "    'age': 38,\n",
    "    'weight': 69,\n",
    "})\n",
    "\n",
    "test_df = pd.DataFrame([test_Series1, test_Series2, test_Series3])\n",
    "print(test_df.head())\n",
    "print(test_df.loc[2]) # working because index = 0..2\n",
    "print(test_df.iloc[2]) # should work also with custom index\n"
   ]
  },
  {
   "cell_type": "code",
   "execution_count": 9,
   "metadata": {},
   "outputs": [
    {
     "name": "stdout",
     "output_type": "stream",
     "text": [
      "           location  age  weight\n",
      "Name                            \n",
      "Fabian         Lohr   34      88\n",
      "Vivien         Lohr   28      68\n",
      "Helena  Duesseldorf   38      69\n",
      "location    Lohr\n",
      "age           34\n",
      "weight        88\n",
      "Name: Fabian, dtype: object\n",
      "location    Lohr\n",
      "age           34\n",
      "weight        88\n",
      "Name: Fabian, dtype: object\n"
     ]
    }
   ],
   "source": [
    "import pandas as pd\n",
    "\n",
    "test_Series1 = pd.Series({\n",
    "    'Name': 'Fabian',\n",
    "    'location': 'Lohr',\n",
    "    'age': 34,\n",
    "    'weight': 88,\n",
    "})\n",
    "\n",
    "test_Series2 = pd.Series({\n",
    "    'Name': 'Vivien',\n",
    "    'location': 'Lohr',\n",
    "    'age': 28,\n",
    "    'weight': 68,\n",
    "})\n",
    "\n",
    "test_Series3 = pd.Series({\n",
    "    'Name': 'Helena',\n",
    "    'location': 'Duesseldorf',\n",
    "    'age': 38,\n",
    "    'weight': 69,\n",
    "})\n",
    "\n",
    "test_df = pd.DataFrame([test_Series1, test_Series2, test_Series3])\n",
    "test_df.set_index('Name', inplace=True)\n",
    "print(test_df.head())\n",
    "#print(test_df.loc[0]) # error!\n",
    "print(test_df.loc['Fabian']) \n",
    "print(test_df.iloc[0]) "
   ]
  },
  {
   "cell_type": "code",
   "execution_count": 10,
   "metadata": {},
   "outputs": [
    {
     "data": {
      "text/html": [
       "<div>\n",
       "<style scoped>\n",
       "    .dataframe tbody tr th:only-of-type {\n",
       "        vertical-align: middle;\n",
       "    }\n",
       "\n",
       "    .dataframe tbody tr th {\n",
       "        vertical-align: top;\n",
       "    }\n",
       "\n",
       "    .dataframe thead th {\n",
       "        text-align: right;\n",
       "    }\n",
       "</style>\n",
       "<table border=\"1\" class=\"dataframe\">\n",
       "  <thead>\n",
       "    <tr style=\"text-align: right;\">\n",
       "      <th></th>\n",
       "      <th>index</th>\n",
       "      <th>Name</th>\n",
       "      <th>location</th>\n",
       "      <th>age</th>\n",
       "      <th>weight</th>\n",
       "    </tr>\n",
       "  </thead>\n",
       "  <tbody>\n",
       "    <tr>\n",
       "      <th>0</th>\n",
       "      <td>Person1</td>\n",
       "      <td>Fabian</td>\n",
       "      <td>Lohr</td>\n",
       "      <td>34</td>\n",
       "      <td>88</td>\n",
       "    </tr>\n",
       "    <tr>\n",
       "      <th>1</th>\n",
       "      <td>Person2</td>\n",
       "      <td>Vivien</td>\n",
       "      <td>Lohr</td>\n",
       "      <td>28</td>\n",
       "      <td>68</td>\n",
       "    </tr>\n",
       "    <tr>\n",
       "      <th>2</th>\n",
       "      <td>Person3</td>\n",
       "      <td>Helena</td>\n",
       "      <td>Duesseldorf</td>\n",
       "      <td>38</td>\n",
       "      <td>69</td>\n",
       "    </tr>\n",
       "  </tbody>\n",
       "</table>\n",
       "</div>"
      ],
      "text/plain": [
       "     index    Name     location  age  weight\n",
       "0  Person1  Fabian         Lohr   34      88\n",
       "1  Person2  Vivien         Lohr   28      68\n",
       "2  Person3  Helena  Duesseldorf   38      69"
      ]
     },
     "execution_count": 10,
     "metadata": {},
     "output_type": "execute_result"
    }
   ],
   "source": [
    "import pandas as pd\n",
    "\n",
    "test_Series1 = pd.Series({\n",
    "    'Name': 'Fabian',\n",
    "    'location': 'Lohr',\n",
    "    'age': 34,\n",
    "    'weight': 88,\n",
    "})\n",
    "\n",
    "test_Series2 = pd.Series({\n",
    "    'Name': 'Vivien',\n",
    "    'location': 'Lohr',\n",
    "    'age': 28,\n",
    "    'weight': 68,\n",
    "})\n",
    "\n",
    "test_Series3 = pd.Series({\n",
    "    'Name': 'Helena',\n",
    "    'location': 'Duesseldorf',\n",
    "    'age': 38,\n",
    "    'weight': 69,\n",
    "})\n",
    "\n",
    "test_df = pd.DataFrame([test_Series1, test_Series2, test_Series3], index=['Person1','Person2','Person3'])\n",
    "test_df.reset_index(inplace=True)\n",
    "test_df.head()"
   ]
  },
  {
   "cell_type": "code",
   "execution_count": 11,
   "metadata": {},
   "outputs": [
    {
     "name": "stdout",
     "output_type": "stream",
     "text": [
      "     Name     location  age  weight\n",
      "0  Fabian         Lohr   34      88\n",
      "1  Vivien         Lohr   28      68\n",
      "2  Helena  Duesseldorf   38      69\n",
      "     index    Name     location  age  weight\n",
      "0  Person1  Fabian         Lohr   34      88\n",
      "1  Person2  Vivien         Lohr   28      68\n",
      "2  Person3  Helena  Duesseldorf   38      69\n"
     ]
    }
   ],
   "source": [
    "import pandas as pd\n",
    "\n",
    "test_Series1 = pd.Series({\n",
    "    'Name': 'Fabian',\n",
    "    'location': 'Lohr',\n",
    "    'age': 34,\n",
    "    'weight': 88,\n",
    "})\n",
    "\n",
    "test_Series2 = pd.Series({\n",
    "    'Name': 'Vivien',\n",
    "    'location': 'Lohr',\n",
    "    'age': 28,\n",
    "    'weight': 68,\n",
    "})\n",
    "\n",
    "test_Series3 = pd.Series({\n",
    "    'Name': 'Helena',\n",
    "    'location': 'Duesseldorf',\n",
    "    'age': 38,\n",
    "    'weight': 69,\n",
    "})\n",
    "\n",
    "test_df = pd.DataFrame([test_Series1, test_Series2, test_Series3], index=['Person1','Person2','Person3'])\n",
    "test_df.reset_index(inplace=True)\n",
    "test_df.drop(columns=['index'])\n",
    "# call by value\n",
    "df2 = test_df.copy()\n",
    "df2.head()\n",
    "df2.drop(columns=['index'], inplace=True)\n",
    "print(df2.head())\n",
    "print(test_df.head())\n",
    "#test_df.head()"
   ]
  },
  {
   "cell_type": "code",
   "execution_count": 12,
   "metadata": {},
   "outputs": [
    {
     "name": "stdout",
     "output_type": "stream",
     "text": [
      "     Name     location  age  weight\n",
      "0  Fabian         Lohr   34      88\n",
      "1  Vivien         Lohr   28      68\n",
      "2  Helena  Duesseldorf   38      69\n",
      "     Name     location  age  weight\n",
      "0  Fabian         Lohr   34      88\n",
      "1  Vivien         Lohr   28      68\n",
      "2  Helena  Duesseldorf   38      69\n"
     ]
    }
   ],
   "source": [
    "import pandas as pd\n",
    "\n",
    "test_Series1 = pd.Series({\n",
    "    'Name': 'Fabian',\n",
    "    'location': 'Lohr',\n",
    "    'age': 34,\n",
    "    'weight': 88,\n",
    "})\n",
    "\n",
    "test_Series2 = pd.Series({\n",
    "    'Name': 'Vivien',\n",
    "    'location': 'Lohr',\n",
    "    'age': 28,\n",
    "    'weight': 68,\n",
    "})\n",
    "\n",
    "test_Series3 = pd.Series({\n",
    "    'Name': 'Helena',\n",
    "    'location': 'Duesseldorf',\n",
    "    'age': 38,\n",
    "    'weight': 69,\n",
    "})\n",
    "\n",
    "test_df = pd.DataFrame([test_Series1, test_Series2, test_Series3], index=['Person1','Person2','Person3'])\n",
    "test_df.reset_index(inplace=True)\n",
    "test_df.drop(columns=['index'])\n",
    "# call by reference\n",
    "df2 = test_df\n",
    "df2.head()\n",
    "df2.drop(columns=['index'], inplace=True)\n",
    "print(df2.head())\n",
    "print(test_df.head())"
   ]
  },
  {
   "cell_type": "code",
   "execution_count": 13,
   "metadata": {},
   "outputs": [
    {
     "name": "stdout",
     "output_type": "stream",
     "text": [
      "     Name     location  age  weight\n",
      "1  Vivien         Lohr   28      68\n",
      "2  Helena  Duesseldorf   38      69\n",
      "     index    Name     location  age  weight\n",
      "0  Person1  Fabian         Lohr   34      88\n",
      "1  Person2  Vivien         Lohr   28      68\n",
      "2  Person3  Helena  Duesseldorf   38      69\n"
     ]
    }
   ],
   "source": [
    "import pandas as pd\n",
    "\n",
    "test_Series1 = pd.Series({\n",
    "    'Name': 'Fabian',\n",
    "    'location': 'Lohr',\n",
    "    'age': 34,\n",
    "    'weight': 88,\n",
    "})\n",
    "\n",
    "test_Series2 = pd.Series({\n",
    "    'Name': 'Vivien',\n",
    "    'location': 'Lohr',\n",
    "    'age': 28,\n",
    "    'weight': 68,\n",
    "})\n",
    "\n",
    "test_Series3 = pd.Series({\n",
    "    'Name': 'Helena',\n",
    "    'location': 'Duesseldorf',\n",
    "    'age': 38,\n",
    "    'weight': 69,\n",
    "})\n",
    "\n",
    "test_df = pd.DataFrame([test_Series1, test_Series2, test_Series3], index=['Person1','Person2','Person3'])\n",
    "test_df.reset_index(inplace=True)\n",
    "test_df.drop(columns=['index'])\n",
    "# call by value\n",
    "df2 = test_df.copy()\n",
    "df2.head()\n",
    "df2.drop(columns=['index'], inplace=True)\n",
    "df2.drop([0], inplace=True)\n",
    "\n",
    "print(df2.head())\n",
    "print(test_df.head())"
   ]
  },
  {
   "cell_type": "code",
   "execution_count": 14,
   "metadata": {},
   "outputs": [
    {
     "name": "stdout",
     "output_type": "stream",
     "text": [
      "     Name     location  age  weight\n",
      "1  Vivien         Lohr   28      68\n",
      "2  Helena  Duesseldorf   38      69\n",
      "       index    Name     location  weight\n",
      "age                                      \n",
      "34   Person1  Fabian         Lohr      88\n",
      "28   Person2  Vivien         Lohr      68\n",
      "38   Person3  Helena  Duesseldorf      69\n",
      "1    28\n",
      "2    38\n",
      "Name: age, dtype: int64\n",
      "[34 28 38]\n",
      "int64\n"
     ]
    }
   ],
   "source": [
    "import pandas as pd\n",
    "\n",
    "test_Series1 = pd.Series({\n",
    "    'Name': 'Fabian',\n",
    "    'location': 'Lohr',\n",
    "    'age': 34,\n",
    "    'weight': 88,\n",
    "})\n",
    "\n",
    "test_Series2 = pd.Series({\n",
    "    'Name': 'Vivien',\n",
    "    'location': 'Lohr',\n",
    "    'age': 28,\n",
    "    'weight': 68,\n",
    "})\n",
    "\n",
    "test_Series3 = pd.Series({\n",
    "    'Name': 'Helena',\n",
    "    'location': 'Duesseldorf',\n",
    "    'age': 38,\n",
    "    'weight': 69,\n",
    "})\n",
    "\n",
    "test_df = pd.DataFrame([test_Series1, test_Series2, test_Series3], index=['Person1','Person2','Person3'])\n",
    "test_df.reset_index(inplace=True)\n",
    "test_df.drop(columns=['index'])\n",
    "# call by value\n",
    "df2 = test_df.copy()\n",
    "df2.head()\n",
    "df2.drop(columns=['index'], inplace=True)\n",
    "df2.drop([0], inplace=True)\n",
    "\n",
    "df1=test_df.copy()\n",
    "df1.set_index(['age'], inplace=True)\n",
    "\n",
    "print(df2.head())\n",
    "print(df1.head())\n",
    "print(df2['age'])\n",
    "print(df1.index.values)\n",
    "print(df2['age'].dtype)"
   ]
  },
  {
   "cell_type": "code",
   "execution_count": 15,
   "metadata": {},
   "outputs": [
    {
     "name": "stdout",
     "output_type": "stream",
     "text": [
      "     Name location   age  weight\n",
      "0  Fabian     Lohr  34.0      88\n",
      "1  Vivien     Lohr  28.0      68\n",
      "2    Mimi     Lohr   0.5       8\n",
      "float64\n",
      "0.5\n",
      "    age  weight\n",
      "0  34.0      88\n",
      "1  28.0      68\n",
      "2   0.5       8\n"
     ]
    }
   ],
   "source": [
    "import pandas as pd\n",
    "index = ['Fabian', 'Vivien', 'Mimi']\n",
    "df = pd.DataFrame({\n",
    "    'Name': ['Fabian', 'Vivien', 'Mimi'],\n",
    "    'location': ['Lohr', 'Lohr', 'Lohr'],\n",
    "    'age': [34, 28, 0.5],\n",
    "    'weight': [88, 68, 8]\n",
    "})\n",
    "print(df.head())\n",
    "print(df['age'].dtype)\n",
    "print(df.iloc[2,2])\n",
    "print(df[['age', 'weight']])"
   ]
  },
  {
   "cell_type": "code",
   "execution_count": 16,
   "metadata": {},
   "outputs": [
    {
     "name": "stdout",
     "output_type": "stream",
     "text": [
      "     Name location   age  weight\n",
      "0  Fabian     Lohr  34.0      88\n",
      "1  Vivien     Lohr  28.0      68\n",
      "2    Mimi     Lohr   0.5       8\n",
      "     Name location   age  weight\n",
      "1  Vivien     Lohr  28.0      68\n",
      "2    Mimi     Lohr   0.5       8\n",
      "0  Fabian     Lohr  34.0      88\n",
      "     Name location   age  weight\n",
      "0  Fabian     Lohr  34.0      88\n",
      "1  Vivien     Lohr  28.0      68\n",
      "2    Mimi     Lohr   0.5       8\n",
      "1  Vivien     Lohr  28.0      68\n",
      "2    Mimi     Lohr   0.5       8\n",
      "0  Fabian     Lohr  34.0      88\n"
     ]
    },
    {
     "data": {
      "text/html": [
       "<div>\n",
       "<style scoped>\n",
       "    .dataframe tbody tr th:only-of-type {\n",
       "        vertical-align: middle;\n",
       "    }\n",
       "\n",
       "    .dataframe tbody tr th {\n",
       "        vertical-align: top;\n",
       "    }\n",
       "\n",
       "    .dataframe thead th {\n",
       "        text-align: right;\n",
       "    }\n",
       "</style>\n",
       "<table border=\"1\" class=\"dataframe\">\n",
       "  <thead>\n",
       "    <tr style=\"text-align: right;\">\n",
       "      <th></th>\n",
       "      <th>age</th>\n",
       "      <th>weight</th>\n",
       "    </tr>\n",
       "  </thead>\n",
       "  <tbody>\n",
       "    <tr>\n",
       "      <th>0</th>\n",
       "      <td>34.0</td>\n",
       "      <td>88</td>\n",
       "    </tr>\n",
       "    <tr>\n",
       "      <th>0</th>\n",
       "      <td>34.0</td>\n",
       "      <td>88</td>\n",
       "    </tr>\n",
       "  </tbody>\n",
       "</table>\n",
       "</div>"
      ],
      "text/plain": [
       "    age  weight\n",
       "0  34.0      88\n",
       "0  34.0      88"
      ]
     },
     "execution_count": 16,
     "metadata": {},
     "output_type": "execute_result"
    }
   ],
   "source": [
    "import pandas as pd\n",
    "index = ['Fabian', 'Vivien', 'Mimi']\n",
    "df = pd.DataFrame({\n",
    "    'Name': ['Fabian', 'Vivien', 'Mimi'],\n",
    "    'location': ['Lohr', 'Lohr', 'Lohr'],\n",
    "    'age': [34, 28, 0.5],\n",
    "    'weight': [88, 68, 8]\n",
    "})\n",
    "print(df.head())\n",
    "df2 = df.reindex([1,2,0])\n",
    "print(df2.head())\n",
    "df3 = pd.concat(i for i in [df,df2])\n",
    "print(df3)\n",
    "df3.loc[0,['age', 'weight']]"
   ]
  },
  {
   "cell_type": "code",
   "execution_count": 17,
   "metadata": {
    "deletable": false,
    "nbgrader": {
     "checksum": "0ac58deb3f5ac988c643e903cbee7f3a",
     "grade": false,
     "grade_id": "cell-eea16d020eb52ae7",
     "locked": false,
     "schema_version": 1,
     "solution": true
    }
   },
   "outputs": [],
   "source": [
    "import pandas as pd\n",
    "\n",
    "def proportion_of_education():\n",
    "    # your code goes here\n",
    "    df = pd.read_csv(\"assets/NISPUF17.csv\")\n",
    "    #lths = df['EDUC1'] < 12\n",
    "    #hs = df['EDUC1'] == 12\n",
    "    #mths = (df['EDUC1'] > 12) & (df['EDUC1'] < 18)\n",
    "    props = df['EDUC1'].value_counts(normalize=True)\n",
    "    poe_dict = {\n",
    "        'less than high school': props[1],\n",
    "        'high school': props[2],\n",
    "        'more than high school but not college': props[3],\n",
    "        'college': props[4]\n",
    "    }\n",
    "    return poe_dict\n",
    "    "
   ]
  },
  {
   "cell_type": "code",
   "execution_count": 18,
   "metadata": {
    "deletable": false,
    "editable": false,
    "hideCode": false,
    "hidePrompt": false,
    "nbgrader": {
     "checksum": "ac5d91a24a7f72f66c25d242c3d24a50",
     "grade": true,
     "grade_id": "cell-c0eeef201366f51c",
     "locked": true,
     "points": 1,
     "schema_version": 1,
     "solution": false
    }
   },
   "outputs": [],
   "source": [
    "assert type(proportion_of_education())==type({}), \"You must return a dictionary.\"\n",
    "assert len(proportion_of_education()) == 4, \"You have not returned a dictionary with four items in it.\"\n",
    "assert \"less than high school\" in proportion_of_education().keys(), \"You have not returned a dictionary with the correct keys.\"\n",
    "assert \"high school\" in proportion_of_education().keys(), \"You have not returned a dictionary with the correct keys.\"\n",
    "assert \"more than high school but not college\" in proportion_of_education().keys(), \"You have not returned a dictionary with the correct keys.\"\n",
    "assert \"college\" in proportion_of_education().keys(), \"You have not returned a dictionary with the correct keys.\"\n"
   ]
  },
  {
   "cell_type": "markdown",
   "metadata": {
    "deletable": false,
    "editable": false,
    "nbgrader": {
     "checksum": "562b78b7b9b79580269be0a3bebf4b42",
     "grade": false,
     "grade_id": "cell-8fcbb64516283f52",
     "locked": true,
     "schema_version": 1,
     "solution": false
    }
   },
   "source": [
    "## Question 2\n",
    "\n",
    "Let's explore the relationship between being fed breastmilk as a child and getting a seasonal influenza vaccine from a healthcare provider. Return a tuple of the average number of influenza vaccines for those children we know received breastmilk as a child and those who know did not.\n",
    "\n",
    "*This function should return a tuple in the form (use the correct numbers:*\n",
    "```\n",
    "(2.5, 0.1)\n",
    "```"
   ]
  },
  {
   "cell_type": "code",
   "execution_count": 19,
   "metadata": {
    "deletable": false,
    "nbgrader": {
     "checksum": "a405d639063c4a6408365479f29c95c9",
     "grade": false,
     "grade_id": "cell-77f18c512324eabb",
     "locked": false,
     "schema_version": 1,
     "solution": true
    }
   },
   "outputs": [
    {
     "data": {
      "text/plain": [
       "(1.8799187420058687, 1.5963945918878317)"
      ]
     },
     "execution_count": 19,
     "metadata": {},
     "output_type": "execute_result"
    }
   ],
   "source": [
    "import pandas as pd\n",
    "\n",
    "def average_influenza_doses():\n",
    "    # YOUR CODE HERE\n",
    "    # child ever fed breast milk: CBF01 - (Yes, No, dont know, missing)\n",
    "    # P_NUMFLU - Variable for total number of seasonal influenza doses\n",
    "    \n",
    "    # open csv and load in df\n",
    "    df = pd.read_csv('assets/NISPUF17.csv')\n",
    "    # make a copy of df and delete any NaNs for the interested columns\n",
    "    df2 = df.copy()\n",
    "    # drop Nans\n",
    "    df2.dropna(how='any', axis=0, subset=['CBF_01', 'P_NUMFLU'], inplace=True)\n",
    "    # average dose for breastfed children\n",
    "    breastfed_avg_doses = df2.loc[df2['CBF_01']==1]['P_NUMFLU'].mean()\n",
    "    no_breastfed_avg_doses = df2.loc[df2['CBF_01']==2]['P_NUMFLU'].mean()\n",
    "    return(breastfed_avg_doses, no_breastfed_avg_doses)\n",
    "    \n",
    "average_influenza_doses()"
   ]
  },
  {
   "cell_type": "code",
   "execution_count": 20,
   "metadata": {
    "deletable": false,
    "editable": false,
    "nbgrader": {
     "checksum": "19be955e97fdf7162d43fbb7c2c40951",
     "grade": true,
     "grade_id": "cell-54a3ba6cff31caa7",
     "locked": true,
     "points": 1,
     "schema_version": 1,
     "solution": false
    }
   },
   "outputs": [],
   "source": [
    "assert len(average_influenza_doses())==2, \"Return two values in a tuple, the first for yes and the second for no.\"\n"
   ]
  },
  {
   "cell_type": "markdown",
   "metadata": {
    "deletable": false,
    "editable": false,
    "nbgrader": {
     "checksum": "e10e2163f5957a0c398ef4f0b76b4efe",
     "grade": false,
     "grade_id": "cell-f63377f3c97aa7c4",
     "locked": true,
     "schema_version": 1,
     "solution": false
    }
   },
   "source": [
    "## Question 3\n",
    "It would be interesting to see if there is any evidence of a link between vaccine effectiveness and sex of the child. Calculate the ratio of the number of children who contracted chickenpox but were vaccinated against it (at least one varicella dose) versus those who were vaccinated but did not contract chicken pox. Return results by sex. \n",
    "\n",
    "*This function should return a dictionary in the form of (use the correct numbers):* \n",
    "```\n",
    "    {\"male\":0.2,\n",
    "    \"female\":0.4}\n",
    "```\n",
    "\n",
    "Note: To aid in verification, the `chickenpox_by_sex()['female']` value the autograder is looking for starts with the digits `0.0077`."
   ]
  },
  {
   "cell_type": "code",
   "execution_count": 26,
   "metadata": {
    "deletable": false,
    "nbgrader": {
     "checksum": "b4d1b58acae002bc73eb0b19f95bc4af",
     "grade": false,
     "grade_id": "cell-a0a9e6fe67698006",
     "locked": false,
     "schema_version": 1,
     "solution": true
    }
   },
   "outputs": [
    {
     "name": "stdout",
     "output_type": "stream",
     "text": [
      "{'male': 0.009675583380762664, 'female': 0.0077918259335489565}\n"
     ]
    }
   ],
   "source": [
    "def chickenpox_by_sex():\n",
    "    # YOUR CODE HERE\n",
    "    # HAD_CPOX - if child had cpox or not\n",
    "    # P_NUMVRC - number varicella doses\n",
    "    # SEX - 1 Male, 2 Female\n",
    "    # open csv and load in df\n",
    "    df = pd.read_csv('assets/NISPUF17.csv')\n",
    "    females_df = df.loc[df['SEX']==2]\n",
    "    males_df = df.loc[df['SEX']==1]\n",
    "    \n",
    "    num_female_vac_no_cpox = len(females_df.loc[(females_df['P_NUMVRC']>=1) & (females_df['HAD_CPOX']==2)])\n",
    "    num_female_cpox = len(females_df.loc[(females_df['P_NUMVRC']>=1) & (females_df['HAD_CPOX']==1)])\n",
    "    num_male_vac_no_cpox = len(males_df.loc[(males_df['P_NUMVRC']>=1) & (males_df['HAD_CPOX']==2)])\n",
    "    num_male_cpox = len(males_df.loc[(males_df['P_NUMVRC']>=1) & (males_df['HAD_CPOX']==1)])\n",
    "    return {\n",
    "        'male' : (num_male_cpox/num_male_vac_no_cpox),\n",
    "        'female' : (num_female_cpox/num_female_vac_no_cpox),\n",
    "    }\n",
    "    \n",
    "print(chickenpox_by_sex())"
   ]
  },
  {
   "cell_type": "code",
   "execution_count": 27,
   "metadata": {
    "deletable": false,
    "editable": false,
    "nbgrader": {
     "checksum": "1b6a113a633c55699ae478a3a9ee9c33",
     "grade": true,
     "grade_id": "cell-c4f1714db100c865",
     "locked": true,
     "points": 1,
     "schema_version": 1,
     "solution": false
    }
   },
   "outputs": [],
   "source": [
    "assert len(chickenpox_by_sex())==2, \"Return a dictionary with two items, the first for males and the second for females.\"\n"
   ]
  },
  {
   "cell_type": "markdown",
   "metadata": {},
   "source": [
    "## Question 4\n",
    "A correlation is a statistical relationship between two variables. If we wanted to know if vaccines work, we might look at the correlation between the use of the vaccine and whether it results in prevention of the infection or disease [1]. In this question, you are to see if there is a correlation between having had the chicken pox and the number of chickenpox vaccine doses given (varicella).\n",
    "\n",
    "Some notes on interpreting the answer. The `had_chickenpox_column` is either `1` (for yes) or `2` (for no), and the `num_chickenpox_vaccine_column` is the number of doses a child has been given of the varicella vaccine. A positive correlation (e.g., `corr > 0`) means that an increase in `had_chickenpox_column` (which means more no’s) would also increase the values of `num_chickenpox_vaccine_column` (which means more doses of vaccine). If there is a negative correlation (e.g., `corr < 0`), it indicates that having had chickenpox is related to an increase in the number of vaccine doses.\n",
    "\n",
    "Also, `pval` is the probability that we observe a correlation between `had_chickenpox_column` and `num_chickenpox_vaccine_column` which is greater than or equal to a particular value occurred by chance. A small `pval` means that the observed correlation is highly unlikely to occur by chance. In this case, `pval` should be very small (will end in `e-18` indicating a very small number).\n",
    "\n",
    "[1] This isn’t really the full picture, since we are not looking at when the dose was given. It’s possible that children had chickenpox and then their parents went to get them the vaccine. Does this dataset have the data we would need to investigate the timing of the dose?"
   ]
  },
  {
   "cell_type": "code",
   "execution_count": 30,
   "metadata": {
    "deletable": false,
    "nbgrader": {
     "checksum": "3e645859949447913cd11d30eb33cb1e",
     "grade": false,
     "grade_id": "cell-8afff07f564cf79a",
     "locked": false,
     "schema_version": 1,
     "solution": true
    }
   },
   "outputs": [],
   "source": [
    "def corr_chickenpox():\n",
    "    import scipy.stats as stats\n",
    "    import numpy as np\n",
    "    import pandas as pd\n",
    "    \n",
    "    df1 = pd.read_csv('assets/NISPUF17.csv')\n",
    "    \n",
    "    # drop nas\n",
    "    df1.dropna(how='any', axis=0, subset=['P_NUMVRC', 'HAD_CPOX'], inplace=True)\n",
    "    #select df only where HAD_CPOX < 3\n",
    "    df1 = df1.loc[df1['HAD_CPOX']<3]\n",
    "    \n",
    "    \n",
    "    # this is just an example dataframe\n",
    "    df=pd.DataFrame({\"had_chickenpox_column\":df1['HAD_CPOX'],\n",
    "                   \"num_chickenpox_vaccine_column\":df1['P_NUMVRC'],\n",
    "                    })\n",
    "\n",
    "    # here is some stub code to actually run the correlation\n",
    "    corr, pval=stats.pearsonr(df[\"had_chickenpox_column\"],df[\"num_chickenpox_vaccine_column\"])\n",
    "    \n",
    "    # just return the correlation\n",
    "    return corr\n",
    "    "
   ]
  },
  {
   "cell_type": "code",
   "execution_count": 31,
   "metadata": {
    "deletable": false,
    "editable": false,
    "nbgrader": {
     "checksum": "ac50ccb747b99f6bbcc76da017e66528",
     "grade": true,
     "grade_id": "cell-73408733533a29a5",
     "locked": true,
     "points": 1,
     "schema_version": 1,
     "solution": false
    }
   },
   "outputs": [],
   "source": [
    "assert -1<=corr_chickenpox()<=1, \"You must return a float number between -1.0 and 1.0.\"\n"
   ]
  },
  {
   "cell_type": "code",
   "execution_count": null,
   "metadata": {},
   "outputs": [],
   "source": []
  }
 ],
 "metadata": {
  "anaconda-cloud": {},
  "coursera": {
   "schema_names": [
    "mooc_adswpy_1_v2_assignment2"
   ]
  },
  "hide_code_all_hidden": false,
  "kernelspec": {
   "display_name": "Python 3",
   "language": "python",
   "name": "python3"
  },
  "language_info": {
   "codemirror_mode": {
    "name": "ipython",
    "version": 3
   },
   "file_extension": ".py",
   "mimetype": "text/x-python",
   "name": "python",
   "nbconvert_exporter": "python",
   "pygments_lexer": "ipython3",
   "version": "3.7.3"
  }
 },
 "nbformat": 4,
 "nbformat_minor": 1
}
